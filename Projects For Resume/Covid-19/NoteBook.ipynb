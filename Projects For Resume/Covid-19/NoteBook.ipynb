{
 "cells": [
  {
   "cell_type": "markdown",
   "metadata": {},
   "source": [
    "# **Covid -19**"
   ]
  },
  {
   "cell_type": "markdown",
   "metadata": {},
   "source": [
    "## *1. Importing Libraries*"
   ]
  },
  {
   "cell_type": "code",
   "execution_count": 2,
   "metadata": {},
   "outputs": [],
   "source": [
    "import pandas as pd\n",
    "import numpy as np\n",
    "import matplotlib.pyplot as plt\n",
    "import seaborn as sns\n",
    "%matplotlib inline"
   ]
  },
  {
   "cell_type": "markdown",
   "metadata": {},
   "source": [
    "## *2. Reading the data.*"
   ]
  },
  {
   "cell_type": "code",
   "execution_count": 3,
   "metadata": {},
   "outputs": [],
   "source": [
    "file1 = pd.read_csv('./WHO-COVID-19-global-table-data.csv')"
   ]
  },
  {
   "cell_type": "code",
   "execution_count": 4,
   "metadata": {},
   "outputs": [
    {
     "data": {
      "text/html": [
       "<div>\n",
       "<style scoped>\n",
       "    .dataframe tbody tr th:only-of-type {\n",
       "        vertical-align: middle;\n",
       "    }\n",
       "\n",
       "    .dataframe tbody tr th {\n",
       "        vertical-align: top;\n",
       "    }\n",
       "\n",
       "    .dataframe thead th {\n",
       "        text-align: right;\n",
       "    }\n",
       "</style>\n",
       "<table border=\"1\" class=\"dataframe\">\n",
       "  <thead>\n",
       "    <tr style=\"text-align: right;\">\n",
       "      <th></th>\n",
       "      <th>Name</th>\n",
       "      <th>WHO Region</th>\n",
       "      <th>Cases - cumulative total</th>\n",
       "      <th>Cases - cumulative total per 100000 population</th>\n",
       "      <th>Cases - newly reported in last 7 days</th>\n",
       "      <th>Cases - newly reported in last 7 days per 100000 population</th>\n",
       "      <th>Cases - newly reported in last 24 hours</th>\n",
       "      <th>Deaths - cumulative total</th>\n",
       "      <th>Deaths - cumulative total per 100000 population</th>\n",
       "      <th>Deaths - newly reported in last 7 days</th>\n",
       "      <th>Deaths - newly reported in last 7 days per 100000 population</th>\n",
       "      <th>Deaths - newly reported in last 24 hours</th>\n",
       "    </tr>\n",
       "  </thead>\n",
       "  <tbody>\n",
       "    <tr>\n",
       "      <th>0</th>\n",
       "      <td>Kyrgyzstan</td>\n",
       "      <td>Europe</td>\n",
       "      <td>88953.0</td>\n",
       "      <td>1363.0</td>\n",
       "      <td>NaN</td>\n",
       "      <td>NaN</td>\n",
       "      <td>NaN</td>\n",
       "      <td>1024.0</td>\n",
       "      <td>16.0</td>\n",
       "      <td>NaN</td>\n",
       "      <td>NaN</td>\n",
       "      <td>NaN</td>\n",
       "    </tr>\n",
       "    <tr>\n",
       "      <th>1</th>\n",
       "      <td>Côte d'Ivoire</td>\n",
       "      <td>Africa</td>\n",
       "      <td>88425.0</td>\n",
       "      <td>335.0</td>\n",
       "      <td>NaN</td>\n",
       "      <td>NaN</td>\n",
       "      <td>NaN</td>\n",
       "      <td>835.0</td>\n",
       "      <td>3.0</td>\n",
       "      <td>NaN</td>\n",
       "      <td>NaN</td>\n",
       "      <td>NaN</td>\n",
       "    </tr>\n",
       "    <tr>\n",
       "      <th>2</th>\n",
       "      <td>Guadeloupe</td>\n",
       "      <td>NaN</td>\n",
       "      <td>203235.0</td>\n",
       "      <td>50793.0</td>\n",
       "      <td>NaN</td>\n",
       "      <td>NaN</td>\n",
       "      <td>NaN</td>\n",
       "      <td>1021.0</td>\n",
       "      <td>255.0</td>\n",
       "      <td>NaN</td>\n",
       "      <td>NaN</td>\n",
       "      <td>NaN</td>\n",
       "    </tr>\n",
       "    <tr>\n",
       "      <th>3</th>\n",
       "      <td>El Salvador</td>\n",
       "      <td>Americas</td>\n",
       "      <td>201865.0</td>\n",
       "      <td>3112.0</td>\n",
       "      <td>NaN</td>\n",
       "      <td>NaN</td>\n",
       "      <td>NaN</td>\n",
       "      <td>4230.0</td>\n",
       "      <td>65.0</td>\n",
       "      <td>NaN</td>\n",
       "      <td>NaN</td>\n",
       "      <td>NaN</td>\n",
       "    </tr>\n",
       "    <tr>\n",
       "      <th>4</th>\n",
       "      <td>Guernsey</td>\n",
       "      <td>NaN</td>\n",
       "      <td>35326.0</td>\n",
       "      <td>54796.0</td>\n",
       "      <td>NaN</td>\n",
       "      <td>NaN</td>\n",
       "      <td>NaN</td>\n",
       "      <td>67.0</td>\n",
       "      <td>104.0</td>\n",
       "      <td>NaN</td>\n",
       "      <td>NaN</td>\n",
       "      <td>NaN</td>\n",
       "    </tr>\n",
       "    <tr>\n",
       "      <th>...</th>\n",
       "      <td>...</td>\n",
       "      <td>...</td>\n",
       "      <td>...</td>\n",
       "      <td>...</td>\n",
       "      <td>...</td>\n",
       "      <td>...</td>\n",
       "      <td>...</td>\n",
       "      <td>...</td>\n",
       "      <td>...</td>\n",
       "      <td>...</td>\n",
       "      <td>...</td>\n",
       "      <td>...</td>\n",
       "    </tr>\n",
       "    <tr>\n",
       "      <th>236</th>\n",
       "      <td>Seychelles</td>\n",
       "      <td>Africa</td>\n",
       "      <td>51694.0</td>\n",
       "      <td>52563.0</td>\n",
       "      <td>8.0</td>\n",
       "      <td>8.0</td>\n",
       "      <td>8.0</td>\n",
       "      <td>172.0</td>\n",
       "      <td>175.0</td>\n",
       "      <td>NaN</td>\n",
       "      <td>NaN</td>\n",
       "      <td>NaN</td>\n",
       "    </tr>\n",
       "    <tr>\n",
       "      <th>237</th>\n",
       "      <td>Kiribati</td>\n",
       "      <td>Western Pacific</td>\n",
       "      <td>5085.0</td>\n",
       "      <td>4257.0</td>\n",
       "      <td>NaN</td>\n",
       "      <td>NaN</td>\n",
       "      <td>NaN</td>\n",
       "      <td>24.0</td>\n",
       "      <td>20.0</td>\n",
       "      <td>NaN</td>\n",
       "      <td>NaN</td>\n",
       "      <td>NaN</td>\n",
       "    </tr>\n",
       "    <tr>\n",
       "      <th>238</th>\n",
       "      <td>Saint Lucia</td>\n",
       "      <td>Americas</td>\n",
       "      <td>30252.0</td>\n",
       "      <td>16475.0</td>\n",
       "      <td>NaN</td>\n",
       "      <td>NaN</td>\n",
       "      <td>NaN</td>\n",
       "      <td>410.0</td>\n",
       "      <td>223.0</td>\n",
       "      <td>NaN</td>\n",
       "      <td>NaN</td>\n",
       "      <td>NaN</td>\n",
       "    </tr>\n",
       "    <tr>\n",
       "      <th>239</th>\n",
       "      <td>Malta</td>\n",
       "      <td>Europe</td>\n",
       "      <td>121437.0</td>\n",
       "      <td>23600.0</td>\n",
       "      <td>10.0</td>\n",
       "      <td>2.0</td>\n",
       "      <td>10.0</td>\n",
       "      <td>906.0</td>\n",
       "      <td>176.0</td>\n",
       "      <td>1.0</td>\n",
       "      <td>NaN</td>\n",
       "      <td>1.0</td>\n",
       "    </tr>\n",
       "    <tr>\n",
       "      <th>240</th>\n",
       "      <td>Honduras</td>\n",
       "      <td>Americas</td>\n",
       "      <td>472789.0</td>\n",
       "      <td>4773.0</td>\n",
       "      <td>NaN</td>\n",
       "      <td>NaN</td>\n",
       "      <td>NaN</td>\n",
       "      <td>11114.0</td>\n",
       "      <td>112.0</td>\n",
       "      <td>NaN</td>\n",
       "      <td>NaN</td>\n",
       "      <td>NaN</td>\n",
       "    </tr>\n",
       "  </tbody>\n",
       "</table>\n",
       "<p>241 rows × 12 columns</p>\n",
       "</div>"
      ],
      "text/plain": [
       "              Name       WHO Region  Cases - cumulative total  \\\n",
       "0       Kyrgyzstan           Europe                   88953.0   \n",
       "1    Côte d'Ivoire           Africa                   88425.0   \n",
       "2       Guadeloupe              NaN                  203235.0   \n",
       "3      El Salvador         Americas                  201865.0   \n",
       "4         Guernsey              NaN                   35326.0   \n",
       "..             ...              ...                       ...   \n",
       "236     Seychelles           Africa                   51694.0   \n",
       "237       Kiribati  Western Pacific                    5085.0   \n",
       "238    Saint Lucia         Americas                   30252.0   \n",
       "239          Malta           Europe                  121437.0   \n",
       "240       Honduras         Americas                  472789.0   \n",
       "\n",
       "     Cases - cumulative total per 100000 population  \\\n",
       "0                                            1363.0   \n",
       "1                                             335.0   \n",
       "2                                           50793.0   \n",
       "3                                            3112.0   \n",
       "4                                           54796.0   \n",
       "..                                              ...   \n",
       "236                                         52563.0   \n",
       "237                                          4257.0   \n",
       "238                                         16475.0   \n",
       "239                                         23600.0   \n",
       "240                                          4773.0   \n",
       "\n",
       "     Cases - newly reported in last 7 days  \\\n",
       "0                                      NaN   \n",
       "1                                      NaN   \n",
       "2                                      NaN   \n",
       "3                                      NaN   \n",
       "4                                      NaN   \n",
       "..                                     ...   \n",
       "236                                    8.0   \n",
       "237                                    NaN   \n",
       "238                                    NaN   \n",
       "239                                   10.0   \n",
       "240                                    NaN   \n",
       "\n",
       "     Cases - newly reported in last 7 days per 100000 population  \\\n",
       "0                                                  NaN             \n",
       "1                                                  NaN             \n",
       "2                                                  NaN             \n",
       "3                                                  NaN             \n",
       "4                                                  NaN             \n",
       "..                                                 ...             \n",
       "236                                                8.0             \n",
       "237                                                NaN             \n",
       "238                                                NaN             \n",
       "239                                                2.0             \n",
       "240                                                NaN             \n",
       "\n",
       "     Cases - newly reported in last 24 hours  Deaths - cumulative total  \\\n",
       "0                                        NaN                     1024.0   \n",
       "1                                        NaN                      835.0   \n",
       "2                                        NaN                     1021.0   \n",
       "3                                        NaN                     4230.0   \n",
       "4                                        NaN                       67.0   \n",
       "..                                       ...                        ...   \n",
       "236                                      8.0                      172.0   \n",
       "237                                      NaN                       24.0   \n",
       "238                                      NaN                      410.0   \n",
       "239                                     10.0                      906.0   \n",
       "240                                      NaN                    11114.0   \n",
       "\n",
       "     Deaths - cumulative total per 100000 population  \\\n",
       "0                                               16.0   \n",
       "1                                                3.0   \n",
       "2                                              255.0   \n",
       "3                                               65.0   \n",
       "4                                              104.0   \n",
       "..                                               ...   \n",
       "236                                            175.0   \n",
       "237                                             20.0   \n",
       "238                                            223.0   \n",
       "239                                            176.0   \n",
       "240                                            112.0   \n",
       "\n",
       "     Deaths - newly reported in last 7 days  \\\n",
       "0                                       NaN   \n",
       "1                                       NaN   \n",
       "2                                       NaN   \n",
       "3                                       NaN   \n",
       "4                                       NaN   \n",
       "..                                      ...   \n",
       "236                                     NaN   \n",
       "237                                     NaN   \n",
       "238                                     NaN   \n",
       "239                                     1.0   \n",
       "240                                     NaN   \n",
       "\n",
       "     Deaths - newly reported in last 7 days per 100000 population  \\\n",
       "0                                                  NaN              \n",
       "1                                                  NaN              \n",
       "2                                                  NaN              \n",
       "3                                                  NaN              \n",
       "4                                                  NaN              \n",
       "..                                                 ...              \n",
       "236                                                NaN              \n",
       "237                                                NaN              \n",
       "238                                                NaN              \n",
       "239                                                NaN              \n",
       "240                                                NaN              \n",
       "\n",
       "     Deaths - newly reported in last 24 hours  \n",
       "0                                         NaN  \n",
       "1                                         NaN  \n",
       "2                                         NaN  \n",
       "3                                         NaN  \n",
       "4                                         NaN  \n",
       "..                                        ...  \n",
       "236                                       NaN  \n",
       "237                                       NaN  \n",
       "238                                       NaN  \n",
       "239                                       1.0  \n",
       "240                                       NaN  \n",
       "\n",
       "[241 rows x 12 columns]"
      ]
     },
     "execution_count": 4,
     "metadata": {},
     "output_type": "execute_result"
    }
   ],
   "source": [
    "file1"
   ]
  },
  {
   "cell_type": "markdown",
   "metadata": {},
   "source": [
    "| **`Column Name`**                                     | **Description**                                                            |\n",
    "|---------------------------------------------------|------------------------------------------------------------------------|\n",
    "| `Name`                                            | Country or Region Name                                                 |\n",
    "| `WHO Region`                                      | World Health Organization Region                                        |\n",
    "| `Cases - cumulative total`                       | Total number of COVID-19 cases reported                                |\n",
    "| `Cases - cumulative total per 100000 population` | Total number of COVID-19 cases reported per 100,000 population         |\n",
    "| `Cases - newly reported in last 7 days`          | Number of new COVID-19 cases reported in the last 7 days               |\n",
    "| `Cases - newly reported in last 7 days per 100000 population` | Number of new COVID-19 cases reported in the last 7 days per 100,000 population |\n",
    "| `Cases - newly reported in last 24 hours`        | Number of new COVID-19 cases reported in the last 24 hours             |\n",
    "| `Deaths - cumulative total`                      | Total number of COVID-19 deaths reported                               |\n",
    "| `Deaths - cumulative total per 100000 population`| Total number of COVID-19 deaths reported per 100,000 population        |\n",
    "| `Deaths - newly reported in last 7 days`         | Number of new COVID-19 deaths reported in the last 7 days              |\n",
    "| `Deaths - newly reported in last 7 days per 100000 population` | Number of new COVID-19 deaths reported in the last 7 days per 100,000 population |\n",
    "| `Deaths - newly reported in last 24 hours`       | Number of new COVID-19 deaths reported in the last 24 hours            |\n"
   ]
  },
  {
   "cell_type": "markdown",
   "metadata": {},
   "source": [
    "## 3.Data Cleaning"
   ]
  },
  {
   "cell_type": "markdown",
   "metadata": {},
   "source": [
    "### 3.1 Duplicate Values"
   ]
  },
  {
   "cell_type": "code",
   "execution_count": 5,
   "metadata": {},
   "outputs": [
    {
     "data": {
      "text/plain": [
       "0"
      ]
     },
     "execution_count": 5,
     "metadata": {},
     "output_type": "execute_result"
    }
   ],
   "source": [
    "file1.duplicated().sum()"
   ]
  },
  {
   "cell_type": "markdown",
   "metadata": {},
   "source": [
    "### 3.2 Missing Values"
   ]
  },
  {
   "cell_type": "code",
   "execution_count": 6,
   "metadata": {},
   "outputs": [
    {
     "data": {
      "text/plain": [
       "Name                                                              0\n",
       "WHO Region                                                       19\n",
       "Cases - cumulative total                                          0\n",
       "Cases - cumulative total per 100000 population                    9\n",
       "Cases - newly reported in last 7 days                           168\n",
       "Cases - newly reported in last 7 days per 100000 population     211\n",
       "Cases - newly reported in last 24 hours                         168\n",
       "Deaths - cumulative total                                         0\n",
       "Deaths - cumulative total per 100000 population                  16\n",
       "Deaths - newly reported in last 7 days                          224\n",
       "Deaths - newly reported in last 7 days per 100000 population    241\n",
       "Deaths - newly reported in last 24 hours                        224\n",
       "dtype: int64"
      ]
     },
     "execution_count": 6,
     "metadata": {},
     "output_type": "execute_result"
    }
   ],
   "source": [
    "file1.isna().sum()"
   ]
  },
  {
   "cell_type": "code",
   "execution_count": 7,
   "metadata": {},
   "outputs": [
    {
     "data": {
      "text/plain": [
       "2                       Guadeloupe\n",
       "4                         Guernsey\n",
       "8                           Global\n",
       "11                        Holy See\n",
       "22                         Réunion\n",
       "50                   French Guiana\n",
       "52                Saint Barthélemy\n",
       "56                      Martinique\n",
       "57                   Liechtenstein\n",
       "61                     Isle of Man\n",
       "63                   Faroe Islands\n",
       "71                       Gibraltar\n",
       "108                         Jersey\n",
       "109                        Mayotte\n",
       "122     Saint Martin (French part)\n",
       "131                   Saint Helena\n",
       "217                       Pitcairn\n",
       "224      Saint Pierre and Miquelon\n",
       "226    Falkland Islands (Malvinas)\n",
       "Name: Name, dtype: object"
      ]
     },
     "execution_count": 7,
     "metadata": {},
     "output_type": "execute_result"
    }
   ],
   "source": [
    "# Let's consider the who region singly and all other columns as one.\n",
    "\n",
    "\n",
    "# Regions with no Who region\n",
    "file1[file1['WHO Region'].isna()]['Name']"
   ]
  },
  {
   "cell_type": "code",
   "execution_count": 9,
   "metadata": {},
   "outputs": [],
   "source": [
    "# Giving these regions \"Special Cases and Remote Territories.\"\n",
    "\n",
    "file1['WHO Region'].fillna('Special Cases and Remote Territories', inplace=True)"
   ]
  },
  {
   "cell_type": "code",
   "execution_count": 12,
   "metadata": {},
   "outputs": [],
   "source": [
    "# All othere columns can be filled with 0 as they nan values indicate zero.\n",
    "\n",
    "file1.iloc[:, 2:] = file1.iloc[:, 2:].fillna(0)"
   ]
  },
  {
   "cell_type": "code",
   "execution_count": 13,
   "metadata": {},
   "outputs": [
    {
     "data": {
      "text/plain": [
       "Name                                                            0\n",
       "WHO Region                                                      0\n",
       "Cases - cumulative total                                        0\n",
       "Cases - cumulative total per 100000 population                  0\n",
       "Cases - newly reported in last 7 days                           0\n",
       "Cases - newly reported in last 7 days per 100000 population     0\n",
       "Cases - newly reported in last 24 hours                         0\n",
       "Deaths - cumulative total                                       0\n",
       "Deaths - cumulative total per 100000 population                 0\n",
       "Deaths - newly reported in last 7 days                          0\n",
       "Deaths - newly reported in last 7 days per 100000 population    0\n",
       "Deaths - newly reported in last 24 hours                        0\n",
       "dtype: int64"
      ]
     },
     "execution_count": 13,
     "metadata": {},
     "output_type": "execute_result"
    }
   ],
   "source": [
    "file1.isna().sum()"
   ]
  },
  {
   "cell_type": "markdown",
   "metadata": {},
   "source": [
    "## EDA"
   ]
  },
  {
   "cell_type": "code",
   "execution_count": 16,
   "metadata": {},
   "outputs": [
    {
     "name": "stdout",
     "output_type": "stream",
     "text": [
      "241\n"
     ]
    }
   ],
   "source": [
    "# Number of countries in the data.\n",
    "print(file1['Name'].nunique())\n",
    "\n",
    "# Names of those countries.\n",
    "# print(file1['Name'].unique())\n"
   ]
  },
  {
   "cell_type": "code",
   "execution_count": 18,
   "metadata": {},
   "outputs": [
    {
     "name": "stdout",
     "output_type": "stream",
     "text": [
      "8\n",
      "['Europe' 'Africa' 'Special Cases and Remote Territories' 'Americas'\n",
      " 'Western Pacific' 'Eastern Mediterranean' 'Other' 'South-East Asia']\n"
     ]
    }
   ],
   "source": [
    "# Number of WHO regions\n",
    "print(file1['WHO Region'].nunique())\n",
    "\n",
    "# WHO regions\n",
    "print(file1['WHO Region'].unique())"
   ]
  },
  {
   "cell_type": "code",
   "execution_count": 32,
   "metadata": {},
   "outputs": [
    {
     "data": {
      "text/plain": [
       "WHO Region\n",
       "Africa                                    9040918.0\n",
       "Americas                                192835040.0\n",
       "Eastern Mediterranean                    23417911.0\n",
       "Europe                                  279151934.0\n",
       "Other                                         764.0\n",
       "South-East Asia                          61286952.0\n",
       "Special Cases and Remote Territories    776791466.0\n",
       "Western Pacific                         208437670.0\n",
       "Name: Cases - cumulative total, dtype: float64"
      ]
     },
     "execution_count": 32,
     "metadata": {},
     "output_type": "execute_result"
    }
   ],
   "source": [
    "# Total number of cases reported in WHO Region\n",
    "\n",
    "file1.groupby(['WHO Region'])['Cases - cumulative total'].sum()"
   ]
  },
  {
   "cell_type": "code",
   "execution_count": 33,
   "metadata": {},
   "outputs": [
    {
     "data": {
      "image/png": "[encoded data removed]",
      "text/plain": [
       "<Figure size 1200x600 with 1 Axes>"
      ]
     },
     "metadata": {},
     "output_type": "display_data"
    }
   ],
   "source": [
    "plt.figure(figsize=(12, 6))\n",
    "sns.barplot(x = 'Cases - cumulative total', data = file1, y = 'WHO Region', hue = 'WHO Region', palette='hls', estimator=sum)\n",
    "plt.show()"
   ]
  },
  {
   "cell_type": "code",
   "execution_count": 27,
   "metadata": {},
   "outputs": [
    {
     "data": {
      "text/plain": [
       "WHO Region\n",
       "Africa                                    149.0\n",
       "Americas                                 1763.0\n",
       "Eastern Mediterranean                       0.0\n",
       "Europe                                  16755.0\n",
       "Other                                       0.0\n",
       "South-East Asia                          2834.0\n",
       "Special Cases and Remote Territories    32524.0\n",
       "Western Pacific                         11023.0\n",
       "Name: Cases - newly reported in last 24 hours, dtype: float64"
      ]
     },
     "execution_count": 27,
     "metadata": {},
     "output_type": "execute_result"
    }
   ],
   "source": [
    "file1.groupby(['WHO Region'])['Cases - newly reported in last 24 hours'].sum()"
   ]
  },
  {
   "cell_type": "code",
   "execution_count": 30,
   "metadata": {},
   "outputs": [
    {
     "data": {
      "image/png": "[encoded data removed]",
      "text/plain": [
       "<Figure size 1200x600 with 1 Axes>"
      ]
     },
     "metadata": {},
     "output_type": "display_data"
    }
   ],
   "source": [
    "# Cases on each WHO Region on last 24 hours.\n",
    "\n",
    "plt.figure(figsize=(12, 6))\n",
    "sns.barplot(x = 'Cases - newly reported in last 24 hours', data = file1, y = 'WHO Region', hue = 'WHO Region', palette='hls', estimator=sum)\n",
    "plt.show()"
   ]
  },
  {
   "cell_type": "code",
   "execution_count": 29,
   "metadata": {},
   "outputs": [
    {
     "data": {
      "text/plain": [
       "WHO Region\n",
       "Africa                                     3.170213\n",
       "Americas                                  37.510638\n",
       "Eastern Mediterranean                      0.000000\n",
       "Europe                                   304.636364\n",
       "Other                                      0.000000\n",
       "South-East Asia                          257.636364\n",
       "Special Cases and Remote Territories    1711.789474\n",
       "Western Pacific                          324.205882\n",
       "Name: Cases - newly reported in last 24 hours, dtype: float64"
      ]
     },
     "execution_count": 29,
     "metadata": {},
     "output_type": "execute_result"
    }
   ],
   "source": [
    "file1.groupby(['WHO Region'])['Cases - newly reported in last 24 hours'].mean()"
   ]
  },
  {
   "cell_type": "code",
   "execution_count": 31,
   "metadata": {},
   "outputs": [
    {
     "data": {
      "image/png": "[encoded data removed]",
      "text/plain": [
       "<Figure size 1200x600 with 1 Axes>"
      ]
     },
     "metadata": {},
     "output_type": "display_data"
    }
   ],
   "source": [
    "# Mean cases on each WHO Region on last 24 hours.\n",
    "\n",
    "plt.figure(figsize=(12, 6))\n",
    "sns.barplot(x = 'Cases - newly reported in last 24 hours', data = file1, y = 'WHO Region', hue = 'WHO Region', palette='hls')\n",
    "plt.show()"
   ]
  }
 ],
 "metadata": {
  "kernelspec": {
   "display_name": "Python 3",
   "language": "python",
   "name": "python3"
  },
  "language_info": {
   "codemirror_mode": {
    "name": "ipython",
    "version": 3
   },
   "file_extension": ".py",
   "mimetype": "text/x-python",
   "name": "python",
   "nbconvert_exporter": "python",
   "pygments_lexer": "ipython3",
   "version": "3.10.13"
  }
 },
 "nbformat": 4,
 "nbformat_minor": 2
}
