{
 "cells": [
  {
   "cell_type": "code",
   "execution_count": 52,
   "outputs": [
    {
     "name": "stdout",
     "output_type": "stream",
     "text": [
      "-----------------------------------\n",
      "                Menu               \n",
      "101 : 5 Star       | 5 | 200\n",
      "102 : Milky Bar    | 10 | 0\n",
      "103 : Dairy Milk   | 20 | 0\n",
      "104 : Lays         | 10 | 50\n",
      "-----------------------------------\n",
      "\n",
      "\n",
      "                Bill               \n",
      "Name of the product       : 5 Star\n",
      "Price of the product      : 5\n",
      "Quantity of the product   : 100\n",
      "-----------------------------------\n",
      "Total Price               : 500\n"
     ]
    }
   ],
   "source": [
    "# The Complete project\n",
    "\n",
    "\n",
    "# importing the necessary json module to perform the json operations.\n",
    "import json\n",
    "import time\n",
    "\n",
    "# Reading the json file\n",
    "with open('./Inventory.json','r') as json_file1:\n",
    "    products = json.load(json_file1)\n",
    "\n",
    "\n",
    "# Printing the menu.\n",
    "print(\"-\"*35)\n",
    "print(\"Menu\".center(35, \" \"))\n",
    "for product in products.keys():\n",
    "    print(f\"{product} : {products[product]['Name'].ljust(12, ' ')} | {products[product]['Price']} | {products[product]['Qn']}\")\n",
    "print(\"-\"*35) \n",
    "print()\n",
    "\n",
    "\n",
    "# Taking the inputs from the user.\n",
    "\n",
    "name = input(\"Name : \")\n",
    "mail = input(\"Mail : \")\n",
    "phone_no = input(\"Phone no : \")\n",
    "pr_id = input(\"Enter the product id : \")\n",
    "pr_qn = int(input(\"Enter the product quantity : \"))\n",
    "\n",
    "\n",
    "\n",
    "# Making the customer_details global so that it can be accessed from everywhere.\n",
    "customer_details = ''\n",
    "\n",
    "\n",
    "\n",
    "\n",
    "print()\n",
    "print()\n",
    "# Checking whether the stock is available or not.\n",
    "if products[pr_id]['Qn'] == 0:\n",
    "    print(\"Sorry!\\n\"\n",
    "          \"No Stock Available.\")\n",
    "\n",
    "# Making sure that enough quantity of the required item is there.\n",
    "elif pr_qn <= products[pr_id]['Qn'] :\n",
    "    products[pr_id]['Qn'] -= pr_qn\n",
    "    \n",
    "    # Printing the Bill\n",
    "    print(\"Bill\".center(35, \" \"))\n",
    "    print(f\"Name of the product       : {products[pr_id]['Name']}\")\n",
    "    print(f\"Price of the product      : {products[pr_id]['Price']}\")\n",
    "    print(f\"Quantity of the product   : {pr_qn}\")\n",
    "\n",
    "\n",
    "    print(\"-\"*35)\n",
    "    print(f\"Total Price               : {pr_qn*products[pr_id]['Price']}\")\n",
    "    \n",
    "    customer_details = f\"{name},{mail},{phone_no},{pr_id},{products[pr_id]['Name']},{products[pr_id]['Price']},{pr_qn},{time.ctime()}\"\n",
    "\n",
    "# If the required quantity isn't available, asking the user whether they are willing to buy the current quantity in the inventory. \n",
    "else:\n",
    "    print(\"There isn't enough quantity\\n\"\n",
    "          f\"We have : {products[pr_id]['Qn']}\")\n",
    "    \n",
    "    \n",
    "    print(\"Do you wish to continue with this quantity.\")\n",
    "    cn = input(\"Enter 'Y' to continue And 'N' to Not : \").lower()\n",
    "    \n",
    "    if cn == 'y':\n",
    "        \n",
    "        # Printing the bill\n",
    "        print(\"Bill\".center(35, \" \"))\n",
    "        print(f\"Name of the product       : {products[pr_id]['Name']}\")\n",
    "        print(f\"Price of the product      : {products[pr_id]['Price']}\")\n",
    "        print(f\"Quantity of the product   : {products[pr_id]['Qn']}\")\n",
    "        \n",
    "        print(\"-\"*35)\n",
    "        print(f\"Total Price               : {products[pr_id]['Price'] * products[pr_id]['Qn']}\")\n",
    "\n",
    "\n",
    "        # Updating the inventory.\n",
    "        products[pr_id]['Qn'] = 0\n",
    "\n",
    "        # Customer details.\n",
    "        customer_details = f\"{name},{mail},{phone_no},{pr_id},{products[pr_id]['Name']},{products[pr_id]['Price']},{products[pr_id]['Qn']},{time.ctime()}\"\n",
    "\n",
    "\n",
    "    else:\n",
    "        print(\"Thank you!\\n\"\n",
    "              \"For Visiting.\")\n",
    "        \n",
    "    \n",
    "\n",
    "# Rewriting the json file.\n",
    "\n",
    "with open('./Inventory.json', 'w') as json_file2:\n",
    "    json.dump(products,json_file2,indent=6)\n",
    "    \n",
    "\n",
    "\n",
    "\n",
    "# Saving the details of the customers in the txt file.\n",
    "\n",
    "if customer_details != '':\n",
    "    with open('./sales.txt','a') as file:\n",
    "        file.write(customer_details+'\\n')\n"
   ],
   "metadata": {
    "collapsed": false,
    "ExecuteTime": {
     "end_time": "2023-10-18T16:56:05.586148200Z",
     "start_time": "2023-10-18T16:55:43.175858300Z"
    }
   },
   "id": "7c99dc4f824cef65"
  },
  {
   "cell_type": "code",
   "execution_count": 51,
   "outputs": [
    {
     "name": "stdout",
     "output_type": "stream",
     "text": [
      "{'101': {'Name': '5 Star', 'Price': 5, 'Qn': 200}, '102': {'Name': 'Milky Bar', 'Price': 10, 'Qn': 0}, '103': {'Name': 'Dairy Milk', 'Price': 20, 'Qn': 0}, '104': {'Name': 'Lays', 'Price': 10, 'Qn': 50}}\n"
     ]
    }
   ],
   "source": [
    "with open('./Inventory.json', 'r') as json_file3:\n",
    "    txt = json.load(json_file3)\n",
    "    \n",
    "    \n",
    "print(txt)\n",
    "\n",
    "\n",
    "with open('./sales.txt','r') as file1:\n",
    "    file1\n"
   ],
   "metadata": {
    "collapsed": false,
    "ExecuteTime": {
     "end_time": "2023-10-18T16:53:49.277918900Z",
     "start_time": "2023-10-18T16:53:49.250766500Z"
    }
   },
   "id": "a80f5e97b7c37283"
  },
  {
   "cell_type": "code",
   "execution_count": 40,
   "outputs": [
    {
     "data": {
      "text/plain": "200"
     },
     "execution_count": 40,
     "metadata": {},
     "output_type": "execute_result"
    }
   ],
   "source": [
    "products['101']['Qn']"
   ],
   "metadata": {
    "collapsed": false,
    "ExecuteTime": {
     "end_time": "2023-10-18T16:25:40.031543Z",
     "start_time": "2023-10-18T16:25:39.988251200Z"
    }
   },
   "id": "f56a258cee70416b"
  },
  {
   "cell_type": "code",
   "execution_count": 12,
   "outputs": [],
   "source": [
    "inventory = {\n",
    "    101 : {'Name':'5 Star', 'Price':5, 'Qn': 100},\n",
    "    102 : {'Name':'Milky Bar', 'Price':10, 'Qn':200},\n",
    "    103 : {'Name':'Dairy Milk', 'Price':20, 'Qn':100},\n",
    "    104 : {'Name':'Lays', 'Price':10, 'Qn':200}\n",
    "}"
   ],
   "metadata": {
    "collapsed": false,
    "ExecuteTime": {
     "start_time": "2023-10-16T17:35:38.955550900Z"
    }
   },
   "id": "initial_id"
  },
  {
   "cell_type": "code",
   "execution_count": 10,
   "outputs": [
    {
     "name": "stdout",
     "output_type": "stream",
     "text": [
      "-----------------------------------\n",
      "                Menu               \n",
      "101 : 5 Star       || 5 || 100\n",
      "102 : Milky Bar    || 10 || 200\n",
      "103 : Dairy Milk   || 20 || 100\n",
      "104 : Lays         || 10 || 200\n",
      "                Bill               \n",
      "Name of the product      : Milky Bar\n",
      "Price of the product     : 10\n",
      "Quantity of the product  : 56\n",
      "-----------------------------------\n",
      "Total Bill                : 560\n"
     ]
    }
   ],
   "source": [
    "# Printing the products of the inventory\n",
    "\n",
    "print(\"-\"*35)\n",
    "print(\"Menu\".center(35,' '))\n",
    "for product_id in inventory.keys():\n",
    "    print(f\"{product_id} : {inventory[product_id]['Name'].ljust(12, ' ')} || {inventory[product_id]['Price']} || {inventory[product_id]['Qn']}\")\n",
    "    \n",
    "    \n",
    "# Taking the inputs from the user.\n",
    "\n",
    "pr_id = input(\"Enter the product id : \")\n",
    "pr_qn = int(input(\"Enter the product quantity : \"))\n",
    "\n",
    "# Updating the inventory \n",
    "\n",
    "inventory[pr_id]['Qn'] -= pr_qn\n",
    "\n",
    "# Billing Section\n",
    "\n",
    "print(\"Bill\".center(35, ' '))\n",
    "print(f\"Name of the product      : {inventory[pr_id]['Name']}\")\n",
    "print(f\"Price of the product     : {inventory[pr_id]['Price']}\")\n",
    "print(f\"Quantity of the product  : {pr_qn}\")\n",
    "print(\"-\"*35)\n",
    "print(f\"Total Bill                : {pr_qn*inventory[pr_id]['Price']}\")\n"
   ],
   "metadata": {
    "collapsed": false,
    "ExecuteTime": {
     "start_time": "2023-10-16T17:35:11.717029500Z"
    }
   },
   "id": "27e137e3a098403c"
  },
  {
   "cell_type": "code",
   "execution_count": 13,
   "outputs": [
    {
     "name": "stdout",
     "output_type": "stream",
     "text": [
      "{101: {'Name': '5 Star', 'Price': 5, 'Qn': 100}, 102: {'Name': 'Milky Bar', 'Price': 10, 'Qn': 200}, 103: {'Name': 'Dairy Milk', 'Price': 20, 'Qn': 100}, 104: {'Name': 'Lays', 'Price': 10, 'Qn': 200}}\n"
     ]
    }
   ],
   "source": [
    "print(inventory)"
   ],
   "metadata": {
    "collapsed": false,
    "ExecuteTime": {
     "end_time": "2023-10-16T17:35:43.209596900Z",
     "start_time": "2023-10-16T17:35:43.179913500Z"
    }
   },
   "id": "8c2e8c5f554bf2b3"
  },
  {
   "cell_type": "code",
   "execution_count": 17,
   "outputs": [
    {
     "data": {
      "text/plain": "'{\"101\": {\"Name\": \"5 Star\", \"Price\": 5, \"Qn\": 100}, \"102\": {\"Name\": \"Milky Bar\", \"Price\": 10, \"Qn\": 200}, \"103\": {\"Name\": \"Dairy Milk\", \"Price\": 20, \"Qn\": 100}, \"104\": {\"Name\": \"Lays\", \"Price\": 10, \"Qn\": 200}}'"
     },
     "execution_count": 17,
     "metadata": {},
     "output_type": "execute_result"
    }
   ],
   "source": [
    "import json\n",
    "\n",
    "val = json.dumps(inventory)\n",
    "val"
   ],
   "metadata": {
    "collapsed": false,
    "ExecuteTime": {
     "end_time": "2023-10-16T17:42:25.360574100Z",
     "start_time": "2023-10-16T17:42:25.253544500Z"
    }
   },
   "id": "b713a39c9debdbca"
  },
  {
   "cell_type": "code",
   "execution_count": 19,
   "outputs": [
    {
     "data": {
      "text/plain": "{'101': {'Name': '5 Star', 'Price': 5, 'Qn': 100},\n '102': {'Name': 'Milky Bar', 'Price': 10, 'Qn': 200},\n '103': {'Name': 'Dairy Milk', 'Price': 20, 'Qn': 100},\n '104': {'Name': 'Lays', 'Price': 10, 'Qn': 200}}"
     },
     "execution_count": 19,
     "metadata": {},
     "output_type": "execute_result"
    }
   ],
   "source": [
    "val2 = json.loads(val)\n",
    "val2"
   ],
   "metadata": {
    "collapsed": false
   },
   "id": "b14f952d6dd46b77"
  },
  {
   "cell_type": "code",
   "execution_count": 26,
   "outputs": [],
   "source": [
    "with open('ntg.json','w') as json1:\n",
    "    json.dump(inventory,json1,indent=6)"
   ],
   "metadata": {
    "collapsed": false
   },
   "id": "44afee000586175a"
  },
  {
   "cell_type": "code",
   "execution_count": 28,
   "outputs": [
    {
     "data": {
      "text/plain": "{'101': {'Name': '5 Star', 'Price': 5, 'Qn': 100},\n '102': {'Name': 'Milky Bar', 'Price': 10, 'Qn': 200},\n '103': {'Name': 'Dairy Milk', 'Price': 20, 'Qn': 100},\n '104': {'Name': 'Lays', 'Price': 10, 'Qn': 200}}"
     },
     "execution_count": 28,
     "metadata": {},
     "output_type": "execute_result"
    }
   ],
   "source": [
    "with open('ntg.json','r') as json2:\n",
    "    txt = json.load(json2)\n",
    "    \n",
    "txt"
   ],
   "metadata": {
    "collapsed": false
   },
   "id": "bf75226909195951"
  }
 ],
 "metadata": {
  "kernelspec": {
   "display_name": "Python 3",
   "language": "python",
   "name": "python3"
  },
  "language_info": {
   "codemirror_mode": {
    "name": "ipython",
    "version": 2
   },
   "file_extension": ".py",
   "mimetype": "text/x-python",
   "name": "python",
   "nbconvert_exporter": "python",
   "pygments_lexer": "ipython2",
   "version": "2.7.6"
  }
 },
 "nbformat": 4,
 "nbformat_minor": 5
}
