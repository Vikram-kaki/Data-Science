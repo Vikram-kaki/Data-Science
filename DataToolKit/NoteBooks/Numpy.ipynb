{
 "cells": [
  {
   "cell_type": "code",
   "execution_count": null,
   "id": "initial_id",
   "metadata": {
    "collapsed": true
   },
   "outputs": [],
   "source": [
    "# Getting started with Numpy\n",
    "# \n",
    "# numpy is a general-purpose array-processing package. It provides a high-performance multidimensional array object, and tools for working with these arrays. It is the fundamental package for scientific computing with Python.\n",
    "# Besides its obvious scientific uses, Numpy can also be used as an efficient multi-dimensional container of generic data.\n",
    "# \n",
    "# \n",
    "# \n",
    "# If you do not have numpy installed in your system first you need to install it.\n",
    "# \n",
    "# !pip install numpy\n",
    "# \n",
    "# A list in Python is a linear data structure that can hold heterogeneous elements they do not require to be declared and are flexible to shrink and grow. On the other hand, an array is a data structure which can hold homogeneous elements, arrays are implemented in Python using the NumPy library. Arrays require less memory than list.\n",
    "# \n",
    "# The similarity between an array and a list is that the elements of both array and a list can be identified by its index value.\n",
    "# \n",
    "# \n",
    "# \n",
    "# Now let us convert a list into an array\n",
    "# \n",
    "# import numpy as np\n",
    "# \n",
    "# l=[2,3,4,5]\n",
    "# print(l)\n",
    "# print(type(l))\n",
    "# print()\n",
    "# arr=np.array(l)\n",
    "# print(arr)\n",
    "# print(type(arr))\n",
    "# Output:\n",
    "# \n",
    "# [2, 3, 4, 5]\n",
    "# <class 'list'>\n",
    "# \n",
    "# [2 3 4 5]\n",
    "# <class 'numpy.ndarray'>\n",
    "# So we have first printed the list and then converted the list to an array and displayed that as well\n",
    "# \n",
    "# \n",
    "# \n",
    "# \n",
    "# \n",
    "# numpy.ndarray.ndim() function return the number of dimensions of an array.\n",
    "# \n",
    "# Syntax : numpy.ndarray.ndim(arr)\n",
    "# \n",
    "# Parameters :\n",
    "# arr : [array_like] Input array. If it is not already an ndarray, a conversion is attempted.\n",
    "# \n",
    "# Return : [int] Return the number of dimensions in arr.\n",
    "# \n",
    "# a=np.array([1,2,3,4])\n",
    "# b=np.array([[1,2,3,4],[5,6,7,8]])\n",
    "# print(a.ndim)\n",
    "# print(b.ndim)\n",
    "# Output:\n",
    "# \n",
    "# 1\n",
    "# 2\n",
    "# So we can the dimension of array a is 1 dimension and the array b is 2 dimention\n",
    "# \n",
    "# \n",
    "# \n",
    "# \n",
    "# \n",
    "# Now we have few more functions such as np.array.shape, np.array.size and np.array.dtype\n",
    "# \n",
    "# shape will basically return us the total number of rows and columns of the array in a tuple format (number of rows, number of columns)\n",
    "# \n",
    "# size will tell us the total number of elements or values present in the array\n",
    "# \n",
    "# dtype will tell us the data type of values which the array is containing\n",
    "# \n",
    "# \n",
    "# \n",
    "# Let's see the implementation of all these\n",
    "# \n",
    "# b=np.array([[1,2,3,4],[5,6,7,8]])\n",
    "# print(b.shape)\n",
    "# print(b.size)\n",
    "# print(b.dtype)\n",
    "# \n",
    "# \n",
    "# Output:\n",
    "# \n",
    "# (2, 4)\n",
    "# 8\n",
    "# int32\n",
    "# So we have 2 rows and 4 columns in the array b\n",
    "# We have 8 elements present in the array\n",
    "# The data type of the elements present in the array is int\n",
    "# \n",
    "# \n",
    "# \n",
    "# \n",
    "# The numpy.zeros() function returns a new array of given shape and type, with zeros. Syntax:\n",
    "# \n",
    "# numpy.zeros(shape, dtype = None, order = 'C')\n",
    "# Parameters :\n",
    "# \n",
    "# \n",
    "# \n",
    "# shape : integer or sequence of integers\n",
    "# order  : C_contiguous or F_contiguous\n",
    "# C-contiguous order in memory(last index varies the fastest)\n",
    "# C order means that operating row-rise on the array will be slightly quicker\n",
    "# FORTRAN-contiguous order in memory (first index varies the fastest).\n",
    "# F order means that column-wise operations will be faster.\n",
    "# dtype : [optional, float(byDeafult)] Data type of returned array.\n",
    "# Returns :\n",
    "# \n",
    "# ndarray of zeros having given shape, order and datatype.\n",
    "# \n",
    "# # Python Program illustrating\n",
    "# # numpy.zeros method\n",
    "# \n",
    "# import numpy as geek\n",
    "# \n",
    "# b = geek.zeros(2, dtype = int)\n",
    "# print(\"Matrix b : \\n\", b)\n",
    "# \n",
    "# a = geek.zeros([2, 2], dtype = int)\n",
    "# print(\"\\nMatrix a : \\n\", a)\n",
    "# \n",
    "# c = geek.zeros([3, 3])\n",
    "# print(\"\\nMatrix c : \\n\", c)\n",
    "# \n",
    "# \n",
    "# Output :\n",
    "# \n",
    "# Matrix b :\n",
    "# [0 0]\n",
    "# \n",
    "# Matrix a :\n",
    "# [[0 0]\n",
    "#  [0 0]]\n",
    "# \n",
    "# Matrix c :\n",
    "# [[ 0.  0.  0.]\n",
    "#  [ 0.  0.  0.]\n",
    "# [ 0.  0.  0.]]\n",
    "# \n",
    "# \n",
    "# \n",
    "# \n",
    "# The numpy.ones() function returns a new array of given shape and type, with ones.\n",
    "# \n",
    "# \n",
    "# Syntax: numpy.ones(shape, dtype = None, order = 'C')\n",
    "# Parameters :\n",
    "# \n",
    "# shape : integer or sequence of integers\n",
    "# order  : C_contiguous or F_contiguous\n",
    "# C-contiguous order in memory(last index varies the fastest)\n",
    "# C order means that operating row-rise on the array will be slightly quicker\n",
    "# FORTRAN-contiguous order in memory (first index varies the fastest).\n",
    "# F order means that column-wise operations will be faster.\n",
    "# dtype : [optional, float(byDefault)] Data type of returned array.\n",
    "# Returns :\n",
    "# \n",
    "# \n",
    "# ndarray of ones having given shape, order and datatype.\n",
    "# \n",
    "# \n",
    "# \n",
    "# # Python Program illustrating\n",
    "# # numpy.ones method\n",
    "# \n",
    "# import numpy as geek\n",
    "# \n",
    "# b = geek.ones(2, dtype = int)\n",
    "# print(\"Matrix b : \\n\", b)\n",
    "# \n",
    "# a = geek.ones([2, 2], dtype = int)\n",
    "# print(\"\\nMatrix a : \\n\", a)\n",
    "# \n",
    "# c = geek.ones([3, 3])\n",
    "# print(\"\\nMatrix c : \\n\", c)\n",
    "# \n",
    "# \n",
    "# Output :\n",
    "# \n",
    "# \n",
    "# Matrix b :\n",
    "# [1 1]\n",
    "# \n",
    "# Matrix a :\n",
    "# [[1 1]\n",
    "#  [1 1]]\n",
    "# \n",
    "# Matrix c :\n",
    "# [[ 1.  1.  1.]\n",
    "#  [ 1.  1.  1.]\n",
    "# [ 1.  1.  1.]]"
   ]
  },
  {
   "cell_type": "code",
   "execution_count": null,
   "outputs": [],
   "source": [],
   "metadata": {
    "collapsed": false
   },
   "id": "839594f3aeefb87d"
  },
  {
   "cell_type": "code",
   "execution_count": 2,
   "outputs": [
    {
     "name": "stdout",
     "output_type": "stream",
     "text": [
      "[1 2 3 4]\n",
      "<class 'numpy.ndarray'>\n"
     ]
    }
   ],
   "source": [
    "import numpy as np\n",
    "\n",
    "# Creating numpy array using a list.\n",
    "\n",
    "lst = [1,2,3,4]\n",
    "\n",
    "narray = np.array(lst)\n",
    "print(narray)\n",
    "\n",
    "# Type of narray\n",
    "\n",
    "print(type(narray))"
   ],
   "metadata": {
    "collapsed": false,
    "ExecuteTime": {
     "end_time": "2023-10-22T06:11:44.466174500Z",
     "start_time": "2023-10-22T06:11:42.652627700Z"
    }
   },
   "id": "1aee86d95501c6b2"
  },
  {
   "cell_type": "code",
   "execution_count": 3,
   "outputs": [
    {
     "name": "stdout",
     "output_type": "stream",
     "text": [
      "[[4.67296746e-307 1.69121096e-306 1.86921822e-306 1.42413555e-306]\n",
      " [1.78019082e-306 1.37959740e-306 6.23057349e-307 1.42419530e-306]]\n"
     ]
    }
   ],
   "source": [
    "narray2 = np.ndarray([2,4])\n",
    "print(narray2)"
   ],
   "metadata": {
    "collapsed": false,
    "ExecuteTime": {
     "end_time": "2023-10-19T14:39:35.252446500Z",
     "start_time": "2023-10-19T14:39:35.236772Z"
    }
   },
   "id": "28a46a3712a82d0d"
  },
  {
   "cell_type": "code",
   "execution_count": 3,
   "outputs": [
    {
     "name": "stdout",
     "output_type": "stream",
     "text": [
      "[1 6]\n"
     ]
    }
   ],
   "source": [
    "narray3 = np.arange(1,10,step=5)\n",
    "print(narray3)"
   ],
   "metadata": {
    "collapsed": false,
    "ExecuteTime": {
     "end_time": "2023-10-22T06:11:48.916344300Z",
     "start_time": "2023-10-22T06:11:48.885077700Z"
    }
   },
   "id": "95d8c4450ca53ade"
  },
  {
   "cell_type": "code",
   "execution_count": 22,
   "outputs": [
    {
     "name": "stdout",
     "output_type": "stream",
     "text": [
      "[[1 2]\n",
      " [3 4]]\n",
      "2\n",
      "[1 2 3 4]\n",
      "1\n"
     ]
    }
   ],
   "source": [
    "array = narray.reshape(2,2)\n",
    "print(array)\n",
    "print(array.ndim)\n",
    "array2 = narray.reshape(4)\n",
    "print(array2)\n",
    "print(array2.ndim)"
   ],
   "metadata": {
    "collapsed": false,
    "ExecuteTime": {
     "end_time": "2023-10-19T14:51:03.458292700Z",
     "start_time": "2023-10-19T14:51:03.440574600Z"
    }
   },
   "id": "e8af5810efe72b2e"
  },
  {
   "cell_type": "code",
   "execution_count": 30,
   "outputs": [
    {
     "name": "stdout",
     "output_type": "stream",
     "text": [
      "(2, 2)\n",
      "4\n",
      "int32\n"
     ]
    }
   ],
   "source": [
    "# Shape of the array.\n",
    "print(array.shape)\n",
    "\n",
    "# Size of the array.\n",
    "print(array.size)\n",
    "\n",
    "# data type of the array.\n",
    "print(array.dtype)"
   ],
   "metadata": {
    "collapsed": false,
    "ExecuteTime": {
     "end_time": "2023-10-19T14:56:48.535156100Z",
     "start_time": "2023-10-19T14:56:48.531535600Z"
    }
   },
   "id": "ac0fe8c6110863a"
  },
  {
   "cell_type": "code",
   "execution_count": 32,
   "outputs": [
    {
     "data": {
      "text/plain": "array([[0., 0., 0., 0.],\n       [0., 0., 0., 0.]])"
     },
     "execution_count": 32,
     "metadata": {},
     "output_type": "execute_result"
    }
   ],
   "source": [
    "# Creating an array of zeros with given dimensions.\n",
    "\n",
    "array3 = np.zeros([2,4])\n",
    "array3"
   ],
   "metadata": {
    "collapsed": false,
    "ExecuteTime": {
     "end_time": "2023-10-19T14:59:06.961972400Z",
     "start_time": "2023-10-19T14:59:06.949859200Z"
    }
   },
   "id": "f036e33c62726250"
  },
  {
   "cell_type": "code",
   "execution_count": 33,
   "outputs": [
    {
     "data": {
      "text/plain": "array([[1., 1., 1.],\n       [1., 1., 1.],\n       [1., 1., 1.]])"
     },
     "execution_count": 33,
     "metadata": {},
     "output_type": "execute_result"
    }
   ],
   "source": [
    "# Creating an array of ones with given dimensions.\n",
    "\n",
    "array4 = np.ones([3,3])\n",
    "array4"
   ],
   "metadata": {
    "collapsed": false,
    "ExecuteTime": {
     "end_time": "2023-10-19T14:59:45.515470300Z",
     "start_time": "2023-10-19T14:59:45.497494100Z"
    }
   },
   "id": "480101ba7495b2dc"
  },
  {
   "cell_type": "code",
   "execution_count": 28,
   "outputs": [
    {
     "data": {
      "text/plain": "array([[0.05474675, 0.25690697, 0.57682444, 0.47130136, 0.565466  ,\n        0.77829046, 0.43338499],\n       [0.39728643, 0.00876391, 0.18902724, 0.36718333, 0.9704806 ,\n        0.56832122, 0.99342899],\n       [0.60139193, 0.54324913, 0.1966487 , 0.67534928, 0.97696805,\n        0.28927873, 0.15872989]])"
     },
     "execution_count": 28,
     "metadata": {},
     "output_type": "execute_result"
    }
   ],
   "source": [
    "# Creating an random array.\n",
    "\n",
    "array4 = np.random.random([3,7])\n",
    "array4"
   ],
   "metadata": {
    "collapsed": false,
    "ExecuteTime": {
     "end_time": "2023-10-22T06:23:39.014071400Z",
     "start_time": "2023-10-22T06:23:38.999087800Z"
    }
   },
   "id": "bd1cf537d453b26a"
  },
  {
   "cell_type": "code",
   "execution_count": 65,
   "outputs": [
    {
     "data": {
      "text/plain": "991"
     },
     "execution_count": 65,
     "metadata": {},
     "output_type": "execute_result"
    }
   ],
   "source": [
    "rnum = np.random.randint(989,1000)\n",
    "rnum"
   ],
   "metadata": {
    "collapsed": false,
    "ExecuteTime": {
     "end_time": "2023-10-19T15:05:40.747815200Z",
     "start_time": "2023-10-19T15:05:40.706745800Z"
    }
   },
   "id": "f84aa6e00aa45fa0"
  },
  {
   "cell_type": "code",
   "execution_count": 16,
   "outputs": [
    {
     "name": "stdout",
     "output_type": "stream",
     "text": [
      "[ 1  2  3  4  5  6  7  8  9 10 11 12 13 14 15 16 17 18 19 20 21 22 23 24\n",
      " 25 26 27 28 29 30 31 32 33 34 35 36 37 38 39 40 41 42 43 44 45 46 47 48\n",
      " 49 50 51 52 53 54 55 56 57 58 59 60 61 62 63 64 65 66 67 68 69 70 71 72\n",
      " 73 74 75 76 77 78 79 80 81 82 83 84 85 86 87 88 89 90 91 92 93 94 95 96\n",
      " 97 98 99]\n"
     ]
    }
   ],
   "source": [
    "array5 = np.arange(1,100)\n",
    "print(array5)"
   ],
   "metadata": {
    "collapsed": false,
    "ExecuteTime": {
     "end_time": "2023-10-22T06:15:55.062177600Z",
     "start_time": "2023-10-22T06:15:55.032294400Z"
    }
   },
   "id": "c2c7fd25db45829d"
  },
  {
   "cell_type": "code",
   "execution_count": 17,
   "outputs": [
    {
     "name": "stdout",
     "output_type": "stream",
     "text": [
      "[  1. 100.]\n"
     ]
    }
   ],
   "source": [
    "array6 = np.linspace(1,100,2)\n",
    "print(array6)"
   ],
   "metadata": {
    "collapsed": false,
    "ExecuteTime": {
     "end_time": "2023-10-22T06:18:57.437820300Z",
     "start_time": "2023-10-22T06:18:57.419640300Z"
    }
   },
   "id": "f328d6cb23f35c98"
  },
  {
   "cell_type": "code",
   "execution_count": 24,
   "outputs": [
    {
     "name": "stdout",
     "output_type": "stream",
     "text": [
      "[[  1.]\n",
      " [100.]]\n"
     ]
    }
   ],
   "source": [
    "array7 = array6.reshape([2,1])\n",
    "print(array7)"
   ],
   "metadata": {
    "collapsed": false,
    "ExecuteTime": {
     "end_time": "2023-10-22T06:20:38.354352400Z",
     "start_time": "2023-10-22T06:20:38.326863500Z"
    }
   },
   "id": "9608aa32ad2138a6"
  },
  {
   "cell_type": "code",
   "execution_count": 30,
   "outputs": [
    {
     "name": "stdout",
     "output_type": "stream",
     "text": [
      "[0.05474675 0.25690697 0.57682444 0.47130136 0.565466   0.77829046\n",
      " 0.43338499 0.39728643 0.00876391 0.18902724 0.36718333 0.9704806\n",
      " 0.56832122 0.99342899 0.60139193 0.54324913 0.1966487  0.67534928\n",
      " 0.97696805 0.28927873 0.15872989]\n",
      "Dim of the array8 : 1\n"
     ]
    }
   ],
   "source": [
    "# Using a flatten function, we can convert a dim array to 1dim array.\n",
    "\n",
    "array8 = array4.flatten()\n",
    "print(array8)\n",
    "print(f\"Dim of the array8 : {array8.ndim}\")"
   ],
   "metadata": {
    "collapsed": false,
    "ExecuteTime": {
     "end_time": "2023-10-22T06:24:14.424224200Z",
     "start_time": "2023-10-22T06:24:14.393233100Z"
    }
   },
   "id": "d83a01db129f12c2"
  },
  {
   "cell_type": "markdown",
   "source": [
    "#### Arithmetic operations on array.\n"
   ],
   "metadata": {
    "collapsed": false
   },
   "id": "21a31cb041a92abd"
  },
  {
   "cell_type": "code",
   "execution_count": 51,
   "outputs": [
    {
     "name": "stdout",
     "output_type": "stream",
     "text": [
      "Sum of array9 : 6.716507889528301\n",
      "Max of array9 : 0.9361454927974351\n",
      "Min of array9 : 0.5324271945281202\n",
      "Mean of array 9 : 0.7462786543920334\n",
      "Median of array9 : 0.7785723463411951\n",
      "Mode of array9 : ModeResult(mode=array([0.85324821, 0.6302599 , 0.62412832, 0.93614549, 0.53242719,\n",
      "       0.77857235, 0.86996947, 0.93321962, 0.55853734]), count=array([1., 1., 1., 1., 1., 1., 1., 1., 1.]))\n"
     ]
    }
   ],
   "source": [
    "from scipy import stats as st\n",
    "\n",
    "\n",
    "array9 = np.random.random([1,9])\n",
    "print(f\"Sum of array9 : {array9.sum()}\")\n",
    "print(f\"Max of array9 : {array9.max()}\")\n",
    "print(f\"Min of array9 : {array9.min()}\")\n",
    "print(f\"Mean of array 9 : {array9.mean()}\")\n",
    "print(f\"Median of array9 : {np.median(array9)}\")\n",
    "print(f\"Mode of array9 : {st.mode(array9)}\")"
   ],
   "metadata": {
    "collapsed": false,
    "ExecuteTime": {
     "end_time": "2023-10-22T06:38:32.564673500Z",
     "start_time": "2023-10-22T06:38:32.547769600Z"
    }
   },
   "id": "7b766ce846495d8f"
  },
  {
   "cell_type": "code",
   "execution_count": 52,
   "outputs": [
    {
     "name": "stdout",
     "output_type": "stream",
     "text": [
      "[[0.85324821 0.6302599  0.62412832 0.93614549 0.53242719 0.77857235\n",
      "  0.86996947 0.93321962 0.55853734]]\n",
      "[[1.85324821 1.6302599  1.62412832 1.93614549 1.53242719 1.77857235\n",
      "  1.86996947 1.93321962 1.55853734]]\n"
     ]
    }
   ],
   "source": [
    "# Adding a number to every element of the array.\n",
    "\n",
    "print(array9)\n",
    "array9 = array9 + 1\n",
    "print(array9)"
   ],
   "metadata": {
    "collapsed": false,
    "ExecuteTime": {
     "end_time": "2023-10-22T06:38:35.318176400Z",
     "start_time": "2023-10-22T06:38:35.312809600Z"
    }
   },
   "id": "72ade9094550771f"
  },
  {
   "cell_type": "code",
   "execution_count": 53,
   "outputs": [
    {
     "name": "stdout",
     "output_type": "stream",
     "text": [
      "[[-0.14675179 -0.3697401  -0.37587168 -0.06385451 -0.46757281 -0.22142765\n",
      "  -0.13003053 -0.06678038 -0.44146266]]\n"
     ]
    }
   ],
   "source": [
    "# Subtraction\n",
    "\n",
    "array9 = array9 - 2\n",
    "print(array9)"
   ],
   "metadata": {
    "collapsed": false,
    "ExecuteTime": {
     "end_time": "2023-10-22T06:38:37.935017500Z",
     "start_time": "2023-10-22T06:38:37.902804100Z"
    }
   },
   "id": "56b5f20b18f392e3"
  },
  {
   "cell_type": "code",
   "execution_count": 54,
   "outputs": [
    {
     "name": "stdout",
     "output_type": "stream",
     "text": [
      "[[1.46751793 3.69740104 3.75871679 0.63854507 4.67572805 2.21427654\n",
      "  1.30030528 0.6678038  4.41462662]]\n"
     ]
    }
   ],
   "source": [
    "# Multiplication\n",
    "\n",
    "array9 = array9 * -10\n",
    "print(array9)"
   ],
   "metadata": {
    "collapsed": false,
    "ExecuteTime": {
     "end_time": "2023-10-22T06:38:41.978492400Z",
     "start_time": "2023-10-22T06:38:41.962851900Z"
    }
   },
   "id": "15dc6da0e3984235"
  },
  {
   "cell_type": "code",
   "execution_count": 55,
   "outputs": [
    {
     "name": "stdout",
     "output_type": "stream",
     "text": [
      "[[0.14675179 0.3697401  0.37587168 0.06385451 0.46757281 0.22142765\n",
      "  0.13003053 0.06678038 0.44146266]]\n"
     ]
    }
   ],
   "source": [
    "# Division\n",
    "\n",
    "array9 = array9 / 10\n",
    "print(array9)"
   ],
   "metadata": {
    "collapsed": false,
    "ExecuteTime": {
     "end_time": "2023-10-22T06:38:46.188096200Z",
     "start_time": "2023-10-22T06:38:46.172826400Z"
    }
   },
   "id": "b44779b04ff04a67"
  },
  {
   "cell_type": "code",
   "execution_count": 56,
   "outputs": [
    {
     "name": "stdout",
     "output_type": "stream",
     "text": [
      "[[0.14675179 0.3697401  0.37587168 0.06385451 0.46757281 0.22142765\n",
      "  0.13003053 0.06678038 0.44146266]]\n"
     ]
    }
   ],
   "source": [
    "array9 %= 10\n",
    "print(array9)"
   ],
   "metadata": {
    "collapsed": false,
    "ExecuteTime": {
     "end_time": "2023-10-22T06:39:05.818966900Z",
     "start_time": "2023-10-22T06:39:05.790823Z"
    }
   },
   "id": "ce55df52db71ba0a"
  },
  {
   "cell_type": "code",
   "execution_count": 59,
   "outputs": [
    {
     "data": {
      "text/plain": "array([[0.48036191, 0.17284341, 0.64064328],\n       [0.80692038, 0.02836683, 0.503257  ],\n       [0.00257853, 0.83779346, 0.66533669]])"
     },
     "execution_count": 59,
     "metadata": {},
     "output_type": "execute_result"
    }
   ],
   "source": [
    "# Finding the max and min in row and coloumn wise.\n",
    "\n",
    "array10 = np.random.random([3,3])\n",
    "array10"
   ],
   "metadata": {
    "collapsed": false,
    "ExecuteTime": {
     "end_time": "2023-10-22T06:46:53.393362500Z",
     "start_time": "2023-10-22T06:46:53.365611Z"
    }
   },
   "id": "de524e0cf31f40b0"
  },
  {
   "cell_type": "code",
   "execution_count": 65,
   "outputs": [
    {
     "name": "stdout",
     "output_type": "stream",
     "text": [
      "[0.80692038 0.83779346 0.66533669]\n",
      "[0.64064328 0.80692038 0.83779346]\n",
      "[0.00257853 0.02836683 0.503257  ]\n",
      "[0.17284341 0.02836683 0.00257853]\n"
     ]
    }
   ],
   "source": [
    "print(array10.max(axis=0))\n",
    "print(array10.max(axis=1))\n",
    "print(array10.min(axis=0))\n",
    "print(array10.min(axis=1))"
   ],
   "metadata": {
    "collapsed": false,
    "ExecuteTime": {
     "end_time": "2023-10-22T07:55:55.093516200Z",
     "start_time": "2023-10-22T07:55:55.053300900Z"
    }
   },
   "id": "ebb8be6858629fd5"
  },
  {
   "cell_type": "code",
   "execution_count": 74,
   "outputs": [
    {
     "name": "stdout",
     "output_type": "stream",
     "text": [
      "[[0.35827681 0.71686724 0.30046451]\n",
      " [0.0212015  0.83143838 0.78478605]\n",
      " [0.65724487 0.98513542 0.48905028]]\n",
      "\n",
      "[[0.83213059 0.39839129 0.64700085]\n",
      " [0.40385057 0.95847887 0.2717144 ]\n",
      " [0.85074079 0.67603411 0.45475993]]\n",
      "\n",
      "ADD\n",
      "[[1.1904074  1.11525853 0.94746536]\n",
      " [0.42505207 1.78991725 1.05650046]\n",
      " [1.50798566 1.66116953 0.9438102 ]]\n",
      "\n",
      "[[1.1904074  1.11525853 0.94746536]\n",
      " [0.42505207 1.78991725 1.05650046]\n",
      " [1.50798566 1.66116953 0.9438102 ]]\n",
      "\n",
      "SUB\n",
      "[[-0.47385378  0.31847595 -0.34653634]\n",
      " [-0.38264907 -0.1270405   0.51307165]\n",
      " [-0.19349591  0.30910131  0.03429035]]\n",
      "\n",
      "[[-0.47385378  0.31847595 -0.34653634]\n",
      " [-0.38264907 -0.1270405   0.51307165]\n",
      " [-0.19349591  0.30910131  0.03429035]]\n",
      "\n",
      "MUL\n",
      "[[0.2981331  0.28559366 0.19440079]\n",
      " [0.00856224 0.79691612 0.21323767]\n",
      " [0.55914502 0.66598515 0.22240047]]\n",
      "\n",
      "[[0.2981331  0.28559366 0.19440079]\n",
      " [0.00856224 0.79691612 0.21323767]\n",
      " [0.55914502 0.66598515 0.22240047]]\n",
      "\n",
      "[[0.84325775 1.03296072 0.56322777]\n",
      " [1.02106878 1.33590476 0.59652042]\n",
      " [1.36081608 1.53668679 0.91531394]]\n",
      "\n",
      "[[0.84325775 1.03296072 0.56322777]\n",
      " [1.02106878 1.33590476 0.59652042]\n",
      " [1.36081608 1.53668679 0.91531394]]\n",
      "\n",
      "DIV\n",
      "[[0.43055359 1.79940491 0.46439585]\n",
      " [0.05249838 0.86745613 2.88827549]\n",
      " [0.77255597 1.45722739 1.07540319]]\n",
      "\n",
      "[[0.43055359 1.79940491 0.46439585]\n",
      " [0.05249838 0.86745613 2.88827549]\n",
      " [0.77255597 1.45722739 1.07540319]]\n"
     ]
    }
   ],
   "source": [
    "# Arithmetic operations on two arrays.\n",
    "\n",
    "from numpy import random\n",
    "\n",
    "array11 = random.random([3,3])\n",
    "array12 = random.random([3,3])\n",
    "\n",
    "print(array11)\n",
    "print()\n",
    "print(array12)\n",
    "\n",
    "# Addition\n",
    "print(\"\\nADD\")\n",
    "print(array11 + array12)\n",
    "print()\n",
    "print(np.add(array12,array11))\n",
    "\n",
    "# Subtraction\n",
    "print(\"\\nSUB\")\n",
    "print(array11 - array12)\n",
    "print()\n",
    "print(np.subtract(array11, array12))\n",
    "\n",
    "# Multiplication\n",
    "print(\"\\nMUL\")\n",
    "print(array11 * array12)\n",
    "print()\n",
    "print(np.multiply(array11, array12))\n",
    "print()\n",
    "print(np.dot(array11, array12))\n",
    "print()\n",
    "print(array11.dot(array12))\n",
    "\n",
    "# Division\n",
    "print('\\nDIV')\n",
    "print(array11 / array12)\n",
    "print()\n",
    "print(np.divide(array11, array12))"
   ],
   "metadata": {
    "collapsed": false,
    "ExecuteTime": {
     "end_time": "2023-10-22T08:09:05.793015900Z",
     "start_time": "2023-10-22T08:09:05.761226100Z"
    }
   },
   "id": "2fa44e90257963cd"
  },
  {
   "cell_type": "code",
   "execution_count": 86,
   "outputs": [
    {
     "name": "stdout",
     "output_type": "stream",
     "text": [
      "[0.42543957 0.94672414 0.88116207 0.39022197 0.34596072 0.89566033]\n"
     ]
    }
   ],
   "source": [
    "array13 = random.random(6)\n",
    "print(array13)"
   ],
   "metadata": {
    "collapsed": false,
    "ExecuteTime": {
     "end_time": "2023-10-22T08:17:42.238107700Z",
     "start_time": "2023-10-22T08:17:41.932575500Z"
    }
   },
   "id": "9f0f90411eeda977"
  },
  {
   "cell_type": "code",
   "execution_count": 111,
   "outputs": [
    {
     "name": "stdout",
     "output_type": "stream",
     "text": [
      "[0.34596072 0.89566033]\n"
     ]
    }
   ],
   "source": [
    "print(array13[4:])"
   ],
   "metadata": {
    "collapsed": false,
    "ExecuteTime": {
     "end_time": "2023-10-22T08:20:29.638383900Z",
     "start_time": "2023-10-22T08:20:29.611864Z"
    }
   },
   "id": "c66a1ac6780c0ec9"
  },
  {
   "cell_type": "code",
   "execution_count": 113,
   "outputs": [
    {
     "name": "stdout",
     "output_type": "stream",
     "text": [
      "[[0.01434894 0.05392328 0.87215668]\n",
      " [0.83452469 0.15117045 0.14552562]\n",
      " [0.63659627 0.87030225 0.53738147]]\n"
     ]
    }
   ],
   "source": [
    "array14 = random.random([3,3])\n",
    "print(array14)"
   ],
   "metadata": {
    "collapsed": false,
    "ExecuteTime": {
     "end_time": "2023-10-22T08:21:37.097076600Z",
     "start_time": "2023-10-22T08:21:37.080172100Z"
    }
   },
   "id": "39aba3e6469d0a1"
  },
  {
   "cell_type": "code",
   "execution_count": 123,
   "outputs": [
    {
     "name": "stdout",
     "output_type": "stream",
     "text": [
      "[[0.01434894 0.05392328 0.87215668]\n",
      " [0.83452469 0.15117045 0.14552562]\n",
      " [0.63659627 0.87030225 0.53738147]]\n",
      "\n",
      "[[0.15117045 0.14552562]\n",
      " [0.87030225 0.53738147]]\n"
     ]
    }
   ],
   "source": [
    "print(array14[:,:])\n",
    "print()\n",
    "print(array14[1:,1:])"
   ],
   "metadata": {
    "collapsed": false,
    "ExecuteTime": {
     "end_time": "2023-10-22T08:23:22.695608500Z",
     "start_time": "2023-10-22T08:23:22.678730300Z"
    }
   },
   "id": "8a6314e4187fd08b"
  },
  {
   "cell_type": "code",
   "execution_count": 148,
   "outputs": [
    {
     "name": "stdout",
     "output_type": "stream",
     "text": [
      "[[0.44919941 0.91480543 0.06066865 0.67175133 0.34007327]\n",
      " [0.63354329 0.75627066 0.73013284 0.27272706 0.06101374]\n",
      " [0.10801698 0.62347632 0.89936347 0.01669807 0.26265809]]\n",
      "\n",
      "[[0.06066865 0.34007327 0.44919941 0.67175133 0.91480543]\n",
      " [0.06101374 0.27272706 0.63354329 0.73013284 0.75627066]\n",
      " [0.01669807 0.10801698 0.26265809 0.62347632 0.89936347]]\n"
     ]
    }
   ],
   "source": [
    "# Array Sorting\n",
    "\n",
    "array15 = random.random([3,5])\n",
    "print(array15)\n",
    "\n",
    "\n",
    "array15.sort(axis=1, kind='quicksort')\n",
    "print()\n",
    "print(array15)"
   ],
   "metadata": {
    "collapsed": false,
    "ExecuteTime": {
     "end_time": "2023-10-22T13:12:13.684730100Z",
     "start_time": "2023-10-22T13:12:13.669518100Z"
    }
   },
   "id": "9255d1d93c65e5e0"
  },
  {
   "cell_type": "code",
   "execution_count": 165,
   "outputs": [
    {
     "name": "stdout",
     "output_type": "stream",
     "text": [
      "[[1 2 3 4]\n",
      " [5 6 7 8]]\n",
      "\n",
      "[[8 7 6 5]\n",
      " [4 3 2 1]]\n",
      "\n",
      "\n",
      "[[1 2 3 4]\n",
      " [5 6 7 8]\n",
      " [8 7 6 5]\n",
      " [4 3 2 1]]\n",
      "\n",
      "\n",
      "[[1 2 3 4 8 7 6 5]\n",
      " [5 6 7 8 4 3 2 1]]\n",
      "\n",
      "\n",
      "[[1 2 3 4]\n",
      " [5 6 7 8]\n",
      " [8 7 6 5]\n",
      " [4 3 2 1]]\n",
      "\n",
      "\n",
      "[[1 2 3 4 8 7 6 5]\n",
      " [5 6 7 8 4 3 2 1]]\n"
     ]
    }
   ],
   "source": [
    "# Merging of arrays\n",
    "\n",
    "array16 = np.arange(1,9).reshape(2,4)\n",
    "array17 = np.arange(8,0,-1).reshape(2,4)\n",
    "\n",
    "print(array16)\n",
    "print()\n",
    "print(array17)\n",
    "\n",
    "print()\n",
    "print()\n",
    "\n",
    "print(np.vstack((array16, array17)))\n",
    "\n",
    "print()\n",
    "print()\n",
    "\n",
    "print(np.hstack((array16, array17)))\n",
    "\n",
    "# Using concatenate() Function\n",
    "print()\n",
    "print()\n",
    "array18 = np.concatenate((array16, array17), axis=0)\n",
    "print(array18)\n",
    "print()\n",
    "print()\n",
    "array19 = np.concatenate((array16, array17), axis=1)\n",
    "print(array19)"
   ],
   "metadata": {
    "collapsed": false,
    "ExecuteTime": {
     "end_time": "2023-10-22T13:40:48.118278100Z",
     "start_time": "2023-10-22T13:40:48.102834300Z"
    }
   },
   "id": "7542942417da652"
  },
  {
   "cell_type": "code",
   "execution_count": 184,
   "outputs": [
    {
     "name": "stdout",
     "output_type": "stream",
     "text": [
      "[array([[1, 2, 3, 4],\n",
      "       [5, 6, 7, 8]]), array([[8, 7, 6, 5],\n",
      "       [4, 3, 2, 1]])]\n",
      "[array([[1, 2],\n",
      "       [5, 6],\n",
      "       [8, 7],\n",
      "       [4, 3]]), array([[3, 4],\n",
      "       [7, 8],\n",
      "       [6, 5],\n",
      "       [2, 1]])]\n",
      "\n",
      "\n",
      "\n",
      "\n",
      "[array([[1, 2, 3, 4, 8, 7, 6, 5]]), array([[5, 6, 7, 8, 4, 3, 2, 1]])]\n",
      "[array([[1, 2, 3, 4],\n",
      "       [5, 6, 7, 8]]), array([[8, 7, 6, 5],\n",
      "       [4, 3, 2, 1]])]\n"
     ]
    }
   ],
   "source": [
    "# Splitting of arrays\n",
    "\n",
    "\n",
    "print(np.vsplit(array18,2))\n",
    "print(np.hsplit(array18,2))\n",
    "\n",
    "print('\\n'*3)\n",
    "print(np.vsplit(array19,2))\n",
    "print(np.hsplit(array19,2))"
   ],
   "metadata": {
    "collapsed": false,
    "ExecuteTime": {
     "end_time": "2023-10-22T13:47:40.868618700Z",
     "start_time": "2023-10-22T13:47:40.832567200Z"
    }
   },
   "id": "ae2ac1674e79fece"
  },
  {
   "cell_type": "code",
   "execution_count": 191,
   "outputs": [
    {
     "name": "stdout",
     "output_type": "stream",
     "text": [
      "[ 1  2  3  4  5  6  7  8  9 10 11 12 13 14 15 16 17 18 19 20 21 22 23 24\n",
      " 25 26 27 28 29 30 31 32 33 34 35 36 37 38 39 40 41 42 43 44 45 46 47 48\n",
      " 49 50]\n",
      "50\n",
      "39\n",
      "50\n"
     ]
    }
   ],
   "source": [
    "# Accessing the elements of a numpy array\n",
    "\n",
    "# 1-D Array Using Index.\n",
    "\n",
    "array20 = np.arange(1,51)\n",
    "print(array20)\n",
    "\n",
    "print(array20[-1])\n",
    "print(array20[38])\n",
    "print(array20.size)\n",
    "\n",
    "\n",
    "\n",
    "\n",
    "\n"
   ],
   "metadata": {
    "collapsed": false,
    "ExecuteTime": {
     "end_time": "2023-10-22T15:41:35.547793800Z",
     "start_time": "2023-10-22T15:41:35.547793800Z"
    }
   },
   "id": "6f0a42c90796c639"
  },
  {
   "cell_type": "code",
   "execution_count": 206,
   "outputs": [
    {
     "name": "stdout",
     "output_type": "stream",
     "text": [
      "[[ 1  6 11 16]\n",
      " [21 26 31 36]\n",
      " [41 46 51 56]\n",
      " [61 66 71 76]\n",
      " [81 86 91 96]]\n",
      "31\n",
      "[[31]]\n",
      "31\n",
      "[[ 1  6 11 16]]\n"
     ]
    }
   ],
   "source": [
    "# 2-D Array Using Slicing.\n",
    "array21 = np.arange(1,100,5).reshape(5,4)\n",
    "print(array21)\n",
    "\n",
    "print(array21[1][2]) # We Can Basically Access the elements using the index also.\n",
    "\n",
    "print(array21[1:2,2:3]) # This is using slicing method, which basically returns the array.\n",
    "print(array21[1,2]) # This is basically the same as the indexing but with few updates.\n",
    "\n",
    "print(array21[:1,:])"
   ],
   "metadata": {
    "collapsed": false,
    "ExecuteTime": {
     "end_time": "2023-10-22T15:51:42.522917800Z",
     "start_time": "2023-10-22T15:51:42.507277500Z"
    }
   },
   "id": "371137b4066a7701"
  },
  {
   "cell_type": "code",
   "execution_count": 213,
   "outputs": [
    {
     "name": "stdout",
     "output_type": "stream",
     "text": [
      "[0.91164034 0.84726297 0.83935468 0.75875408 0.38516145 0.0570581\n",
      " 0.32881806]\n",
      "[0.91164034 0.84726297 0.83935468 0.75875408 0.38516145]\n",
      "5\n"
     ]
    }
   ],
   "source": [
    "array22 = random.random(7)\n",
    "print(array22)\n",
    "print(array22[array22 > 0.345])\n",
    "print(array22[array22 > 0.3345].size)\n",
    "\n",
    "\n"
   ],
   "metadata": {
    "collapsed": false,
    "ExecuteTime": {
     "end_time": "2023-10-22T16:13:07.894413900Z",
     "start_time": "2023-10-22T16:13:07.860383900Z"
    }
   },
   "id": "48e4780a2e91137d"
  },
  {
   "cell_type": "code",
   "execution_count": 215,
   "outputs": [
    {
     "name": "stdout",
     "output_type": "stream",
     "text": [
      "[  5  10  15  20  25  30  35  40  45  50  55  60  65  70  75  80  85  90\n",
      "  95 100 105 110 115 120 125 130 135 140 145 150 155 160 165 170 175 180\n",
      " 185 190 195 200 205 210 215 220 225 230 235 240 245 250 255 260 265 270\n",
      " 275 280 285 290 295 300 305 310 315 320 325 330 335 340 345 350 355 360\n",
      " 365 370 375 380 385 390 395]\n",
      "79\n"
     ]
    }
   ],
   "source": [
    "array23 = np.arange(1,400)\n",
    "\n",
    "print(array23[array23 % 5 == 0])\n",
    "print(array23[array23 % 5 == 0].size)"
   ],
   "metadata": {
    "collapsed": false,
    "ExecuteTime": {
     "end_time": "2023-10-22T16:15:07.941872300Z",
     "start_time": "2023-10-22T16:15:07.923584100Z"
    }
   },
   "id": "905f79a939f876aa"
  }
 ],
 "metadata": {
  "kernelspec": {
   "display_name": "Python 3",
   "language": "python",
   "name": "python3"
  },
  "language_info": {
   "codemirror_mode": {
    "name": "ipython",
    "version": 2
   },
   "file_extension": ".py",
   "mimetype": "text/x-python",
   "name": "python",
   "nbconvert_exporter": "python",
   "pygments_lexer": "ipython2",
   "version": "2.7.6"
  }
 },
 "nbformat": 4,
 "nbformat_minor": 5
}
