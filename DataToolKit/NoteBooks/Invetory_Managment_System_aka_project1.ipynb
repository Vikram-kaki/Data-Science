{
 "cells": [
  {
   "cell_type": "code",
   "execution_count": 154,
   "outputs": [],
   "source": [
    "# A program to read the files and write the files to manage the inventory of supermarket.\n",
    "\n",
    "\n",
    "# Creating the file Inventory.txt\n",
    "\n",
    "\n",
    "# Basic Code Before Starting the Main Code.\n",
    "\n",
    "\n",
    "with open('./Inventory.txt', 'w') as file:\n",
    "    pass\n",
    "\n",
    "# Creating a list of items to go into the inventory.\n",
    "\n",
    "li = [\"1,5 Star,5,100\", \"2,Dairy Milk,10,100\",\"3,Lays,10,200\",\"4,Milky Bar,20,80\"]\n",
    "\n",
    "# Entering these items into the txt file.\n",
    "\n",
    "with open('./Inventory.txt','w') as file2:\n",
    "    for l in range(len(li)-1):\n",
    "        file2.write(li[l]+\"\\n\")\n",
    "        \n",
    "    file2.write(li[-1])\n",
    "    \n",
    "    \n",
    "    "
   ],
   "metadata": {
    "collapsed": false,
    "ExecuteTime": {
     "end_time": "2023-10-16T15:48:47.814140Z",
     "start_time": "2023-10-16T15:48:47.797417300Z"
    }
   },
   "id": "c718eb3dd426ee54"
  },
  {
   "cell_type": "code",
   "execution_count": 159,
   "outputs": [
    {
     "name": "stdout",
     "output_type": "stream",
     "text": [
      "***********************************\n",
      "Name of the product         : Lays\n",
      "Price of the product        : 10\n",
      "Quantity of the product     : 80\n",
      "***********************************\n",
      "Total Bill                  : 800\n"
     ]
    }
   ],
   "source": [
    "# importing the necessary modules\n",
    "from os.path import exists\n",
    "from time import ctime\n",
    "# Main Code of the program.\n",
    "\n",
    "\n",
    "# Reading the elements of the file.\n",
    "\n",
    "with open('./Inventory.txt','r') as file3:\n",
    "    txt = file3.read()\n",
    "    \n",
    "    \n",
    "# Splitting the products\n",
    "products = txt.split('\\n')\n",
    "\n",
    "\n",
    "# Taking the input from the user.\n",
    "ur_name = input(\"Enter the name : \")\n",
    "ur_phone_no = input(\"Enter the phone no : \")\n",
    "ur_email = input(\"Enter the email : \")\n",
    "pr_id = input(\"Enter the product id : \")\n",
    "pr_qn = input(\"Enter the product quantity : \")\n",
    "\n",
    "\n",
    "# Making an empty string to make to possible access globally\n",
    "\n",
    "customer_details = ''\n",
    "\n",
    "# Making purchase.\n",
    "for my_index, product in enumerate(products):\n",
    "    bp = product.split(',') # Splitting the product, to get the values \n",
    "    if bp[0] == pr_id:\n",
    "        if int(pr_qn) <= int(bp[3]) and int(bp[3]) > 0: # Through this condition, we can check whether we have the enough quantity.\n",
    "            # Deducting the items from the inventory.\n",
    "            bp[3] = f\"{int(bp[3])-int(pr_qn)}\"\n",
    "            ap = ','.join(bp)\n",
    "            products[my_index] = ap\n",
    "            \n",
    "            # Printing the Bill\n",
    "            \n",
    "            print(\"*\"*35)\n",
    "            print(f\"Name of the product         : {bp[1]}\")\n",
    "            print(f\"Price of the product        : {bp[2]}\")\n",
    "            print(f\"Quantity of the product     : {pr_qn}\")\n",
    "            print(\"*\"*35)\n",
    "            print(f\"Total Bill                  : {int(pr_qn)*int(bp[2])}\")\n",
    "            customer_details = f\"{ur_name},{ur_phone_no},{ur_email},{bp[0]},{bp[1]},{pr_qn},{int(pr_qn)*int(bp[2])},{ctime()}\"\n",
    "\n",
    "\n",
    "        else:\n",
    "            print(f\"Not enough quantity is available\\nQuantity Available : {bp[-1]}\")\n",
    "            \n",
    "            # Asking the user whether they want to buy the available quantity or not.\n",
    "            \n",
    "            iu = input(\"Press Y to buy and N to not : \").lower()\n",
    "            \n",
    "            # if yes, making the bill and deducting the items.\n",
    "            \n",
    "            if iu == 'y':\n",
    "                print(\"*\"*35)\n",
    "                print(f\"Name of the product         : {bp[1]}\")\n",
    "                print(f\"Price of the product        : {bp[2]}\")\n",
    "                print(f\"Quantity of the product     : {bp[-1]}\")\n",
    "                print(\"*\"*35)\n",
    "                print(f\"Total Bill                  : {int(bp[-1])*int(bp[2])}\")\n",
    "                bp[-1] = '0'\n",
    "                ap = ','.join(bp)\n",
    "                products[my_index] = ap\n",
    "                customer_details = f\"{ur_name},{ur_phone_no},{ur_email},{bp[0]},{bp[1]},{bp[-1]},{int(bp[-1])*int(bp[2])}\"\n",
    "                \n",
    "            else:\n",
    "                print(\"Thank you!\")\n",
    "                \n",
    "        break\n",
    "                \n",
    "            \n",
    "    \n",
    "\n",
    "\n",
    "\n",
    "# Making sure that txt file doesn't end with \\n , which will arise errors in the upcoming program.\n",
    "# if products[-1][-1] == '\\n':\n",
    "#     products[-1] = products[-1][:-1]\n",
    "    \n",
    "\n",
    "# ReWriting the whole Inventory.txt to the updated list.\n",
    "with open('./Inventory.txt','w') as file4:\n",
    "    for i in range(len(products)-1):\n",
    "        file4.write(products[i]+'\\n')\n",
    "    file4.write(products[-1])\n",
    "\n",
    "\n",
    "if not exists('./Customers_data.txt') :\n",
    "    with open('./Customers_data.txt','w') as file5 :\n",
    "        file5.write(customer_details)\n",
    "\n",
    "else:\n",
    "    with open('./Customers_data.txt','a') as file5 :\n",
    "        file5.write('\\n'+customer_details)"
   ],
   "metadata": {
    "collapsed": false,
    "ExecuteTime": {
     "end_time": "2023-10-16T15:52:42.419179700Z",
     "start_time": "2023-10-16T15:52:06.073505400Z"
    }
   },
   "id": "2ac7e2110a80067b"
  },
  {
   "cell_type": "code",
   "execution_count": 157,
   "outputs": [],
   "source": [
    "from os.path import exists\n",
    "\n",
    "# Taking the details of the customer's and storing the details in another .txt file.\n",
    "\n",
    "ur_name = input(\"Enter the name : \")\n",
    "ur_phone_no = input(\"Enter the phone no : \")\n",
    "ur_email = input(\"Enter the email : \")\n",
    "\n",
    "customer_details = f\"{ur_name},{ur_phone_no},{ur_email}\"\n",
    "# Entering the details into the Customers_data.txt file.\n",
    "\n",
    "if not exists('./Customers_data.txt') :\n",
    "    with open('./Customers_data.txt','w') as file5 :\n",
    "        file5.write(customer_details)\n",
    "        \n",
    "else:\n",
    "    with open('./Customers_data.txt','a') as file5 :\n",
    "        file5.write('\\n'+customer_details)"
   ],
   "metadata": {
    "collapsed": false,
    "ExecuteTime": {
     "end_time": "2023-10-16T15:51:17.942041600Z",
     "start_time": "2023-10-16T15:50:53.328202600Z"
    }
   },
   "id": "e7e350131fddbd0"
  },
  {
   "cell_type": "code",
   "execution_count": 158,
   "outputs": [
    {
     "name": "stdout",
     "output_type": "stream",
     "text": [
      "Inventory data\n",
      "1,5 Star,5,100\n",
      "2,Dairy Milk,10,50\n",
      "3,Lays,10,200\n",
      "4,Milky Bar,20,80\n",
      "\n",
      "\n",
      "\n",
      "Customer's Data\n",
      "Vikram Kaki,9493491577,vikramkvk05@gmail.com,2,Dairy Milk,50,500,Mon Oct 16 21:19:27 2023\n",
      "Trimurthulu,9700104523,kakitrimurthulu@gmail.com\n"
     ]
    }
   ],
   "source": [
    "# To check whether the program rewrites the text or not.\n",
    "print(\"Inventory data\")\n",
    "with open('./Inventory.txt','r') as file5:\n",
    "    txt2 = file5.read()\n",
    "    \n",
    "    \n",
    "print(txt2)\n",
    "\n",
    "print('\\n\\n')\n",
    "print(\"Customer's Data\")\n",
    "with open('./Customers_data.txt','r') as file6:\n",
    "    txt3 = file6.read()\n",
    "    \n",
    "\n",
    "print(txt3)"
   ],
   "metadata": {
    "collapsed": false,
    "ExecuteTime": {
     "end_time": "2023-10-16T15:51:35.577555Z",
     "start_time": "2023-10-16T15:51:35.552657100Z"
    }
   },
   "id": "ce0fa0acba678aaa"
  },
  {
   "cell_type": "code",
   "execution_count": null,
   "outputs": [],
   "source": [
    "# Updating the elements, i.e., Adding the Quantity.\n",
    "\n",
    "# Taking the input from the user.\n",
    "ui = input(\"Enter the id of the product to update it's quantity : \")\n",
    "uq = input(\"Enter the quantity to be added : \")\n",
    "\n",
    "# Opening the file\n",
    "# with open('./Inventory.txt','r') as file6 :\n",
    "#     txt3 = \n"
   ],
   "metadata": {
    "collapsed": false
   },
   "id": "be6ff0b9100b5b53"
  }
 ],
 "metadata": {
  "kernelspec": {
   "display_name": "Python 3",
   "language": "python",
   "name": "python3"
  },
  "language_info": {
   "codemirror_mode": {
    "name": "ipython",
    "version": 2
   },
   "file_extension": ".py",
   "mimetype": "text/x-python",
   "name": "python",
   "nbconvert_exporter": "python",
   "pygments_lexer": "ipython2",
   "version": "2.7.6"
  }
 },
 "nbformat": 4,
 "nbformat_minor": 5
}
