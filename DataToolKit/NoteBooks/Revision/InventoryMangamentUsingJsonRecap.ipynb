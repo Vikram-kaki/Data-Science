{
 "cells": [
  {
   "cell_type": "code",
   "execution_count": 1,
   "id": "initial_id",
   "metadata": {
    "collapsed": true,
    "ExecuteTime": {
     "end_time": "2024-02-03T14:10:38.718529200Z",
     "start_time": "2024-02-03T14:10:38.695722100Z"
    }
   },
   "outputs": [],
   "source": [
    "### Importing the necessary the libraries.\n",
    "\n",
    "import json\n",
    "import os"
   ]
  },
  {
   "cell_type": "code",
   "execution_count": 2,
   "outputs": [],
   "source": [
    "### Declaring the Inventory.\n",
    "\n",
    "inventory = {\n",
    "    101 : {'Name':'Jet-Pack', 'Price': 10, 'Quantity': 30},\n",
    "    102 : {'Name': '5 Star', 'Price': 5, 'Quantity': 100},\n",
    "    103 : {'Name': 'Dairy Milk', 'Price': 10, 'Quantity': 50},\n",
    "    104 : {'Name': 'Lays', 'Price': 10, 'Quantity': 100},\n",
    "    105 : {'Name': 'MilkyBar', 'Price': 10, 'Quantity':100}\n",
    "}"
   ],
   "metadata": {
    "collapsed": false,
    "ExecuteTime": {
     "end_time": "2024-02-04T12:02:36.758291400Z",
     "start_time": "2024-02-04T12:02:36.741282700Z"
    }
   },
   "id": "79e57cfe110bc2a6"
  },
  {
   "cell_type": "code",
   "execution_count": 18,
   "outputs": [],
   "source": [
    "# Creating a json object using dumps method.\n",
    "\n",
    "json1 = json.dumps(inventory, indent=2)"
   ],
   "metadata": {
    "collapsed": false,
    "ExecuteTime": {
     "end_time": "2024-02-04T12:11:14.271721900Z",
     "start_time": "2024-02-04T12:11:14.224825800Z"
    }
   },
   "id": "f0b89bdcd63048ab"
  },
  {
   "cell_type": "code",
   "execution_count": 17,
   "outputs": [
    {
     "name": "stdout",
     "output_type": "stream",
     "text": [
      "{\n",
      "    \"101\": {\n",
      "        \"Name\": \"Jet-Pack\",\n",
      "        \"Price\": 10,\n",
      "        \"Quantity\": 30\n",
      "    },\n",
      "    \"102\": {\n",
      "        \"Name\": \"5 Star\",\n",
      "        \"Price\": 5,\n",
      "        \"Quantity\": 100\n",
      "    },\n",
      "    \"103\": {\n",
      "        \"Name\": \"Dairy Milk\",\n",
      "        \"Price\": 10,\n",
      "        \"Quantity\": 50\n",
      "    },\n",
      "    \"104\": {\n",
      "        \"Name\": \"Lays\",\n",
      "        \"Price\": 10,\n",
      "        \"Quantity\": 100\n",
      "    },\n",
      "    \"105\": {\n",
      "        \"Name\": \"MilkyBar\",\n",
      "        \"Price\": 10,\n",
      "        \"Quantity\": 100\n",
      "    }\n",
      "}\n"
     ]
    }
   ],
   "source": [
    "print(json1)"
   ],
   "metadata": {
    "collapsed": false,
    "ExecuteTime": {
     "end_time": "2024-02-04T12:11:06.707937400Z",
     "start_time": "2024-02-04T12:11:06.652916200Z"
    }
   },
   "id": "2140834ea0c71488"
  },
  {
   "cell_type": "code",
   "execution_count": 21,
   "outputs": [],
   "source": [
    "# Writing a .json file using the dump() method.\n",
    "\n",
    "with open('Inventory.json','w') as file1 : \n",
    "    json.dump(inventory, file1, indent=4)"
   ],
   "metadata": {
    "collapsed": false,
    "ExecuteTime": {
     "end_time": "2024-02-04T12:13:39.158475800Z",
     "start_time": "2024-02-04T12:13:39.127058400Z"
    }
   },
   "id": "7e9e3ac673c7c"
  },
  {
   "cell_type": "code",
   "execution_count": 27,
   "outputs": [],
   "source": [
    "val1 = json.loads(json1)"
   ],
   "metadata": {
    "collapsed": false,
    "ExecuteTime": {
     "end_time": "2024-02-04T12:15:26.461119600Z",
     "start_time": "2024-02-04T12:15:26.449759700Z"
    }
   },
   "id": "6ed21864db157dd3"
  },
  {
   "cell_type": "code",
   "execution_count": 25,
   "outputs": [],
   "source": [
    "with open('Inventory.json', 'r') as file2 :\n",
    "    val2 =  json.load(file2)"
   ],
   "metadata": {
    "collapsed": false,
    "ExecuteTime": {
     "end_time": "2024-02-04T12:15:08.880479200Z",
     "start_time": "2024-02-04T12:15:08.849210Z"
    }
   },
   "id": "aaaea8b5e0fb5528"
  },
  {
   "cell_type": "code",
   "execution_count": 26,
   "outputs": [
    {
     "data": {
      "text/plain": "{'101': {'Name': 'Jet-Pack', 'Price': 10, 'Quantity': 30},\n '102': {'Name': '5 Star', 'Price': 5, 'Quantity': 100},\n '103': {'Name': 'Dairy Milk', 'Price': 10, 'Quantity': 50},\n '104': {'Name': 'Lays', 'Price': 10, 'Quantity': 100},\n '105': {'Name': 'MilkyBar', 'Price': 10, 'Quantity': 100}}"
     },
     "execution_count": 26,
     "metadata": {},
     "output_type": "execute_result"
    }
   ],
   "source": [
    "val2"
   ],
   "metadata": {
    "collapsed": false,
    "ExecuteTime": {
     "end_time": "2024-02-04T12:15:13.630828100Z",
     "start_time": "2024-02-04T12:15:13.620977800Z"
    }
   },
   "id": "21040c5a06060290"
  },
  {
   "cell_type": "code",
   "execution_count": 32,
   "outputs": [
    {
     "name": "stdout",
     "output_type": "stream",
     "text": [
      "                       Bill                       \n",
      "Product ID : 102\n",
      "Product Name : 5 Star\n",
      "Price of the product : 5\n",
      "Total Price : 275\n"
     ]
    }
   ],
   "source": [
    "### Taking the inputs from the user.\n",
    "\n",
    "name = input(\"Enter you're name : \")\n",
    "mail = input(\"Enter you're mail id : \")\n",
    "contact_no = input(\"Enter you're contact Number : \")\n",
    "product_id = input(\"Enter the product id : \")\n",
    "quantity = int(input(\"Enter the Required quantity : \"))\n",
    "\n",
    "with open(\"Inventory.json\", 'r') as file3 : \n",
    "    val3 = json.load(file3)\n",
    "\n",
    "inventory_ids = val3.keys()\n",
    "\n",
    "\n",
    "# Checking the necessary Conditions\n",
    "\n",
    "\n",
    "if product_id not in inventory_ids :\n",
    "    print(\"Please Enter Correct Product ID \")\n",
    "else:\n",
    "    if val3[product_id]['Quantity'] < quantity :\n",
    "        print(\"In Sufficient Quantity \")\n",
    "    else:\n",
    "        # Printing the Bill.\n",
    "        print(\"Bill\".center(50))\n",
    "        print(f\"Product ID : {product_id}\")\n",
    "        print(f\"Product Name : {val3[product_id]['Name']}\")\n",
    "        print(f\"Price of the product : {val3[product_id]['Price']}\")\n",
    "        print(f\"Total Price : {val3[product_id]['Price'] * quantity}\")\n",
    "        \n",
    "        \n",
    "        # Updating the Inventory.\n",
    "        \n",
    "        val3[product_id]['Quantity'] -= quantity\n",
    "        \n",
    "        # Rewriting the Inventory.json file\n",
    "        \n",
    "        with open('Inventory.json', 'w') as file4 : \n",
    "            json.dump(val3, file4, indent=4)"
   ],
   "metadata": {
    "collapsed": false,
    "ExecuteTime": {
     "end_time": "2024-02-04T12:29:28.641403800Z",
     "start_time": "2024-02-04T12:29:23.004775Z"
    }
   },
   "id": "4e15ad8b5eab68fc"
  }
 ],
 "metadata": {
  "kernelspec": {
   "display_name": "Python 3",
   "language": "python",
   "name": "python3"
  },
  "language_info": {
   "codemirror_mode": {
    "name": "ipython",
    "version": 2
   },
   "file_extension": ".py",
   "mimetype": "text/x-python",
   "name": "python",
   "nbconvert_exporter": "python",
   "pygments_lexer": "ipython2",
   "version": "2.7.6"
  }
 },
 "nbformat": 4,
 "nbformat_minor": 5
}
