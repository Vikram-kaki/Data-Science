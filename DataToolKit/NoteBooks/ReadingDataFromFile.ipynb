{
 "cells": [
  {
   "cell_type": "markdown",
   "source": [
    "#### Text Reading from files in python."
   ],
   "metadata": {
    "collapsed": false
   },
   "id": "7d46bd9f7c82908f"
  },
  {
   "cell_type": "code",
   "execution_count": 8,
   "outputs": [
    {
     "name": "stdout",
     "output_type": "stream",
     "text": [
      "['Hi hello how are you ?']\n"
     ]
    }
   ],
   "source": [
    "file = open('../Text1.txt', 'r')\n",
    "\n",
    "print(file.readlines())    \n",
    "file.close()\n",
    "\n",
    "\n",
    "\n",
    "\n",
    "\n",
    "\n",
    "\n",
    "\n",
    "\n",
    "# Using with keyword.\n",
    "# with open('../Text1.txt', 'r') as my_text:\n",
    "#     for i in my_text:\n",
    "#         print(i)"
   ],
   "metadata": {
    "collapsed": false,
    "ExecuteTime": {
     "end_time": "2023-10-10T19:00:24.136490100Z",
     "start_time": "2023-10-10T19:00:24.093170200Z"
    }
   },
   "id": "2ebdef8ebc8537dd"
  },
  {
   "cell_type": "code",
   "execution_count": 26,
   "outputs": [
    {
     "data": {
      "text/plain": "'Brave is a free and open-source web browser developed by Brave Software, Inc. based on the Chromium web browser. Brave is a privacy-focused browser, which automatically blocks most advertisements and website trackers in its default settings. Users can turn on optional ads that reward them for their attention in the form of Basic Attention Tokens (BAT), which can be used as a cryptocurrency or to make payments to registered websites and content creators.[4][5]\\n\\nBrave Software\\'s headquarters are in San Francisco, California.[1]\\n\\nAs of July 2023, Brave reported more than 59.35 million monthly active users, 22.38 million daily active users and a network of more than 1.6 million content creators.[6]\\n\\nHistory\\nOn 28 May 2015, CEO Brendan Eich and CTO Brian Bondy founded Brave Software.[7] On 20 January 2016, Brave Software launched the first version of Brave with ad-blocking capabilities and announced plans for an ad platform that uses \"browser-side anonymous targeting\".[8]\\n\\nIn June 2018, Brave released a pay-to-surf test-version of the browser. This version of Brave came preloaded with approximately 250 ads and sent a detailed log of the user\\'s browsing activity to Brave for the short-term purpose of testing this functionality. Brave announced that expanded trials would follow.[9] Later that month, Brave added support for Tor in its desktop browser\\'s private-browsing mode.[10]\\n\\nUntil December 2018, Brave ran on a fork of Electron called Muon, which they marketed as a \"more secure fork\". Nevertheless, Brave developers moved to Chromium, citing a need to ease their maintenance burden.[11] Brave Software released the final Muon-based version with the intention that it would stop working and instructed users to update as its end-of-life approached.[12]\\n\\nIn December 2018, Brave partnered with HTC to make Brave Browser the default browser on the HTC Exodus 1.[13]\\n\\nIn June 2019, Brave started testing a new ad-blocking rule-matching algorithm implemented in Rust, replacing the previous C++ one. The uBlock Origin and Ghostery algorithms inspired the new logic, which Brave claims to be on average 69 times faster than the previous algorithm.[14]\\n\\nBrave launched its stable release, version 1.0, on 13 November 2019, while having 8.7 million monthly active users overall.[15] At the time, it had approximately 3 million active users on a daily basis. Brave 1.0, running on Android, iOS, Windows 10, macOS, or Linux, integrated \"almost all of Brave\\'s marquee features across all platforms\", according to Engadget.[16]\\n\\nIn November 2020, Brave reported having 20 million monthly users,[17] and in September 2021, it passed 36 million monthly active users.[18]\\n\\nIn March 2021, Brave built its search engine out of Tailcat, which it acquired earlier that year from Cliqz, a subsidiary of Hubert Burda Media based in Germany. Tailcat was designed to deliver search results without logging user activity or creating profiles.[19][20]\\n\\nIn April 2021, Brave became the first browser to be added to the Epic Games Store.[21][22]\\n\\nIn June 2021, the public beta for Brave Search, Brave Software\\'s search engine, was launched. It exited its beta phase in June 2022 along with an announcement that within its year-long beta testing period, Brave Search surpassed 2.5 billion total queries.'"
     },
     "execution_count": 26,
     "metadata": {},
     "output_type": "execute_result"
    }
   ],
   "source": [
    "file2 = open('../About_Brave.txt', 'r')\n",
    "txt = file2.read()\n",
    "file2.close()\n",
    "\n",
    "txt"
   ],
   "metadata": {
    "collapsed": false,
    "ExecuteTime": {
     "end_time": "2023-10-10T19:23:08.409800600Z",
     "start_time": "2023-10-10T19:23:08.351795700Z"
    }
   },
   "id": "600ecfa4a6e985ba"
  },
  {
   "cell_type": "code",
   "execution_count": 21,
   "outputs": [],
   "source": [
    "# Here we have to replace the special characters to make sure the data is taken rightly without any mistakes. Which will affect the whole program.\n",
    "# txt.replace(\"\\n\\n\",' ')"
   ],
   "metadata": {
    "collapsed": false,
    "ExecuteTime": {
     "end_time": "2023-10-10T19:21:18.468510Z",
     "start_time": "2023-10-10T19:21:18.441195Z"
    }
   },
   "id": "912db2a6f98d84f8"
  },
  {
   "cell_type": "code",
   "execution_count": 28,
   "outputs": [
    {
     "data": {
      "text/plain": "['Brave is a free and open-source web browser developed by Brave Software, Inc. based on the Chromium web browser. Brave is a privacy-focused browser, which automatically blocks most advertisements and website trackers in its default settings. Users can turn on optional ads that reward them for their attention in the form of Basic Attention Tokens (BAT), which can be used as a cryptocurrency or to make payments to registered websites and content creators.[4][5]',\n \"Brave Software's headquarters are in San Francisco, California.[1]\",\n 'As of July 2023, Brave reported more than 59.35 million monthly active users, 22.38 million daily active users and a network of more than 1.6 million content creators.[6]',\n 'History\\nOn 28 May 2015, CEO Brendan Eich and CTO Brian Bondy founded Brave Software.[7] On 20 January 2016, Brave Software launched the first version of Brave with ad-blocking capabilities and announced plans for an ad platform that uses \"browser-side anonymous targeting\".[8]',\n \"In June 2018, Brave released a pay-to-surf test-version of the browser. This version of Brave came preloaded with approximately 250 ads and sent a detailed log of the user's browsing activity to Brave for the short-term purpose of testing this functionality. Brave announced that expanded trials would follow.[9] Later that month, Brave added support for Tor in its desktop browser's private-browsing mode.[10]\",\n 'Until December 2018, Brave ran on a fork of Electron called Muon, which they marketed as a \"more secure fork\". Nevertheless, Brave developers moved to Chromium, citing a need to ease their maintenance burden.[11] Brave Software released the final Muon-based version with the intention that it would stop working and instructed users to update as its end-of-life approached.[12]',\n 'In December 2018, Brave partnered with HTC to make Brave Browser the default browser on the HTC Exodus 1.[13]',\n 'In June 2019, Brave started testing a new ad-blocking rule-matching algorithm implemented in Rust, replacing the previous C++ one. The uBlock Origin and Ghostery algorithms inspired the new logic, which Brave claims to be on average 69 times faster than the previous algorithm.[14]',\n 'Brave launched its stable release, version 1.0, on 13 November 2019, while having 8.7 million monthly active users overall.[15] At the time, it had approximately 3 million active users on a daily basis. Brave 1.0, running on Android, iOS, Windows 10, macOS, or Linux, integrated \"almost all of Brave\\'s marquee features across all platforms\", according to Engadget.[16]',\n 'In November 2020, Brave reported having 20 million monthly users,[17] and in September 2021, it passed 36 million monthly active users.[18]',\n 'In March 2021, Brave built its search engine out of Tailcat, which it acquired earlier that year from Cliqz, a subsidiary of Hubert Burda Media based in Germany. Tailcat was designed to deliver search results without logging user activity or creating profiles.[19][20]',\n 'In April 2021, Brave became the first browser to be added to the Epic Games Store.[21][22]',\n \"In June 2021, the public beta for Brave Search, Brave Software's search engine, was launched. It exited its beta phase in June 2022 along with an announcement that within its year-long beta testing period, Brave Search surpassed 2.5 billion total queries.\"]"
     },
     "execution_count": 28,
     "metadata": {},
     "output_type": "execute_result"
    }
   ],
   "source": [
    "# Text preprocessing in python.\n",
    "\n",
    "# Paragraphs\n",
    "txt2 = txt.split(\"\\n\\n\")\n",
    "txt2\n",
    "                 \n",
    "\n"
   ],
   "metadata": {
    "collapsed": false,
    "ExecuteTime": {
     "end_time": "2023-10-10T19:24:39.883742800Z",
     "start_time": "2023-10-10T19:24:39.792744500Z"
    }
   },
   "id": "efd309a58791cebb"
  },
  {
   "cell_type": "code",
   "execution_count": 40,
   "outputs": [
    {
     "data": {
      "text/plain": "['Brave is a free and open-source web browser developed by Brave Software, Inc',\n ' based on the Chromium web browser',\n ' Brave is a privacy-focused browser, which automatically blocks most advertisements and website trackers in its default settings',\n ' Users can turn on optional ads that reward them for their attention in the form of Basic Attention Tokens (BAT), which can be used as a cryptocurrency or to make payments to registered websites and content creators',\n \"[4][5]\\n\\nBrave Software's headquarters are in San Francisco, California\",\n '[1]\\n\\nAs of July 2023, Brave reported more than 59',\n '35 million monthly active users, 22',\n '38 million daily active users and a network of more than 1',\n '6 million content creators',\n '[6]\\n\\nHistory\\nOn 28 May 2015, CEO Brendan Eich and CTO Brian Bondy founded Brave Software',\n '[7] On 20 January 2016, Brave Software launched the first version of Brave with ad-blocking capabilities and announced plans for an ad platform that uses \"browser-side anonymous targeting\"',\n '[8]\\n\\nIn June 2018, Brave released a pay-to-surf test-version of the browser',\n \" This version of Brave came preloaded with approximately 250 ads and sent a detailed log of the user's browsing activity to Brave for the short-term purpose of testing this functionality\",\n ' Brave announced that expanded trials would follow',\n \"[9] Later that month, Brave added support for Tor in its desktop browser's private-browsing mode\",\n '[10]\\n\\nUntil December 2018, Brave ran on a fork of Electron called Muon, which they marketed as a \"more secure fork\"',\n ' Nevertheless, Brave developers moved to Chromium, citing a need to ease their maintenance burden',\n '[11] Brave Software released the final Muon-based version with the intention that it would stop working and instructed users to update as its end-of-life approached',\n '[12]\\n\\nIn December 2018, Brave partnered with HTC to make Brave Browser the default browser on the HTC Exodus 1',\n '[13]\\n\\nIn June 2019, Brave started testing a new ad-blocking rule-matching algorithm implemented in Rust, replacing the previous C++ one',\n ' The uBlock Origin and Ghostery algorithms inspired the new logic, which Brave claims to be on average 69 times faster than the previous algorithm',\n '[14]\\n\\nBrave launched its stable release, version 1',\n '0, on 13 November 2019, while having 8',\n '7 million monthly active users overall',\n '[15] At the time, it had approximately 3 million active users on a daily basis',\n ' Brave 1',\n '0, running on Android, iOS, Windows 10, macOS, or Linux, integrated \"almost all of Brave\\'s marquee features across all platforms\", according to Engadget',\n '[16]\\n\\nIn November 2020, Brave reported having 20 million monthly users,[17] and in September 2021, it passed 36 million monthly active users',\n '[18]\\n\\nIn March 2021, Brave built its search engine out of Tailcat, which it acquired earlier that year from Cliqz, a subsidiary of Hubert Burda Media based in Germany',\n ' Tailcat was designed to deliver search results without logging user activity or creating profiles',\n '[19][20]\\n\\nIn April 2021, Brave became the first browser to be added to the Epic Games Store',\n \"[21][22]\\n\\nIn June 2021, the public beta for Brave Search, Brave Software's search engine, was launched\",\n ' It exited its beta phase in June 2022 along with an announcement that within its year-long beta testing period, Brave Search surpassed 2',\n '5 billion total queries']"
     },
     "metadata": {},
     "output_type": "display_data"
    },
    {
     "data": {
      "text/plain": "34"
     },
     "execution_count": 40,
     "metadata": {},
     "output_type": "execute_result"
    }
   ],
   "source": [
    "# Lines\n",
    "\n",
    "txt3 = txt.split(\".\")\n",
    "\n",
    "var = txt3[:-1]\n",
    "display(var)\n",
    "len(txt3[:-1])"
   ],
   "metadata": {
    "collapsed": false,
    "ExecuteTime": {
     "end_time": "2023-10-10T19:32:26.586526600Z",
     "start_time": "2023-10-10T19:32:26.512471900Z"
    }
   },
   "id": "5879eec1432635c7"
  },
  {
   "cell_type": "code",
   "execution_count": 46,
   "outputs": [
    {
     "name": "stdout",
     "output_type": "stream",
     "text": [
      "['Brave', 'is', 'a', 'free', 'and', 'open-source', 'web', 'browser', 'developed', 'by', 'Brave', 'Software,', 'Inc.', 'based', 'on', 'the', 'Chromium', 'web', 'browser.', 'Brave', 'is', 'a', 'privacy-focused', 'browser,', 'which', 'automatically', 'blocks', 'most', 'advertisements', 'and', 'website', 'trackers', 'in', 'its', 'default', 'settings.', 'Users', 'can', 'turn', 'on', 'optional', 'ads', 'that', 'reward', 'them', 'for', 'their', 'attention', 'in', 'the', 'form', 'of', 'Basic', 'Attention', 'Tokens', '(BAT),', 'which', 'can', 'be', 'used', 'as', 'a', 'cryptocurrency', 'or', 'to', 'make', 'payments', 'to', 'registered', 'websites', 'and', 'content', 'creators.[4][5]\\n\\nBrave', \"Software's\", 'headquarters', 'are', 'in', 'San', 'Francisco,', 'California.[1]\\n\\nAs', 'of', 'July', '2023,', 'Brave', 'reported', 'more', 'than', '59.35', 'million', 'monthly', 'active', 'users,', '22.38', 'million', 'daily', 'active', 'users', 'and', 'a', 'network', 'of', 'more', 'than', '1.6', 'million', 'content', 'creators.[6]\\n\\nHistory\\nOn', '28', 'May', '2015,', 'CEO', 'Brendan', 'Eich', 'and', 'CTO', 'Brian', 'Bondy', 'founded', 'Brave', 'Software.[7]', 'On', '20', 'January', '2016,', 'Brave', 'Software', 'launched', 'the', 'first', 'version', 'of', 'Brave', 'with', 'ad-blocking', 'capabilities', 'and', 'announced', 'plans', 'for', 'an', 'ad', 'platform', 'that', 'uses', '\"browser-side', 'anonymous', 'targeting\".[8]\\n\\nIn', 'June', '2018,', 'Brave', 'released', 'a', 'pay-to-surf', 'test-version', 'of', 'the', 'browser.', 'This', 'version', 'of', 'Brave', 'came', 'preloaded', 'with', 'approximately', '250', 'ads', 'and', 'sent', 'a', 'detailed', 'log', 'of', 'the', \"user's\", 'browsing', 'activity', 'to', 'Brave', 'for', 'the', 'short-term', 'purpose', 'of', 'testing', 'this', 'functionality.', 'Brave', 'announced', 'that', 'expanded', 'trials', 'would', 'follow.[9]', 'Later', 'that', 'month,', 'Brave', 'added', 'support', 'for', 'Tor', 'in', 'its', 'desktop', \"browser's\", 'private-browsing', 'mode.[10]\\n\\nUntil', 'December', '2018,', 'Brave', 'ran', 'on', 'a', 'fork', 'of', 'Electron', 'called', 'Muon,', 'which', 'they', 'marketed', 'as', 'a', '\"more', 'secure', 'fork\".', 'Nevertheless,', 'Brave', 'developers', 'moved', 'to', 'Chromium,', 'citing', 'a', 'need', 'to', 'ease', 'their', 'maintenance', 'burden.[11]', 'Brave', 'Software', 'released', 'the', 'final', 'Muon-based', 'version', 'with', 'the', 'intention', 'that', 'it', 'would', 'stop', 'working', 'and', 'instructed', 'users', 'to', 'update', 'as', 'its', 'end-of-life', 'approached.[12]\\n\\nIn', 'December', '2018,', 'Brave', 'partnered', 'with', 'HTC', 'to', 'make', 'Brave', 'Browser', 'the', 'default', 'browser', 'on', 'the', 'HTC', 'Exodus', '1.[13]\\n\\nIn', 'June', '2019,', 'Brave', 'started', 'testing', 'a', 'new', 'ad-blocking', 'rule-matching', 'algorithm', 'implemented', 'in', 'Rust,', 'replacing', 'the', 'previous', 'C++', 'one.', 'The', 'uBlock', 'Origin', 'and', 'Ghostery', 'algorithms', 'inspired', 'the', 'new', 'logic,', 'which', 'Brave', 'claims', 'to', 'be', 'on', 'average', '69', 'times', 'faster', 'than', 'the', 'previous', 'algorithm.[14]\\n\\nBrave', 'launched', 'its', 'stable', 'release,', 'version', '1.0,', 'on', '13', 'November', '2019,', 'while', 'having', '8.7', 'million', 'monthly', 'active', 'users', 'overall.[15]', 'At', 'the', 'time,', 'it', 'had', 'approximately', '3', 'million', 'active', 'users', 'on', 'a', 'daily', 'basis.', 'Brave', '1.0,', 'running', 'on', 'Android,', 'iOS,', 'Windows', '10,', 'macOS,', 'or', 'Linux,', 'integrated', '\"almost', 'all', 'of', \"Brave's\", 'marquee', 'features', 'across', 'all', 'platforms\",', 'according', 'to', 'Engadget.[16]\\n\\nIn', 'November', '2020,', 'Brave', 'reported', 'having', '20', 'million', 'monthly', 'users,[17]', 'and', 'in', 'September', '2021,', 'it', 'passed', '36', 'million', 'monthly', 'active', 'users.[18]\\n\\nIn', 'March', '2021,', 'Brave', 'built', 'its', 'search', 'engine', 'out', 'of', 'Tailcat,', 'which', 'it', 'acquired', 'earlier', 'that', 'year', 'from', 'Cliqz,', 'a', 'subsidiary', 'of', 'Hubert', 'Burda', 'Media', 'based', 'in', 'Germany.', 'Tailcat', 'was', 'designed', 'to', 'deliver', 'search', 'results', 'without', 'logging', 'user', 'activity', 'or', 'creating', 'profiles.[19][20]\\n\\nIn', 'April', '2021,', 'Brave', 'became', 'the', 'first', 'browser', 'to', 'be', 'added', 'to', 'the', 'Epic', 'Games', 'Store.[21][22]\\n\\nIn', 'June', '2021,', 'the', 'public', 'beta', 'for', 'Brave', 'Search,', 'Brave', \"Software's\", 'search', 'engine,', 'was', 'launched.', 'It', 'exited', 'its', 'beta', 'phase', 'in', 'June', '2022', 'along', 'with', 'an', 'announcement', 'that', 'within', 'its', 'year-long', 'beta', 'testing', 'period,', 'Brave', 'Search', 'surpassed', '2.5', 'billion', 'total', 'queries.']\n"
     ]
    },
    {
     "data": {
      "text/plain": "497"
     },
     "execution_count": 46,
     "metadata": {},
     "output_type": "execute_result"
    }
   ],
   "source": [
    "# Words\n",
    "\n",
    "var2 = txt.split(\" \")\n",
    "print(var2)\n",
    "len(var2)"
   ],
   "metadata": {
    "collapsed": false,
    "ExecuteTime": {
     "end_time": "2023-10-10T19:34:32.738096700Z",
     "start_time": "2023-10-10T19:34:32.664379400Z"
    }
   },
   "id": "e964634958160577"
  },
  {
   "cell_type": "code",
   "execution_count": 59,
   "outputs": [
    {
     "data": {
      "text/plain": "\"Microsoft Windows is a group of several proprietary graphical operating system families developed and marketed by Microsoft. Each family caters to a certain sector of the computing industry. For example, Windows NT for consumers, Windows Server for servers, and Windows IoT for embedded systems. Defunct Windows families include Windows 9x, Windows Mobile, and Windows Phone.\\n\\nThe first version of Windows was released on November 20, 1985, as a graphical operating system shell for MS-DOS in response to the growing interest in graphical user interfaces (GUIs).[12]\\n\\nWindows is the most popular desktop operating system in the world, with a 70% market share as of March 2023, according to StatCounter.[13] However, Windows is not the most used operating system when including both mobile and desktop OSes, due to Android's massive growth.[14]\\n\\nAs of September 2022, the most recent version of Windows is Windows 11 for consumer PCs and tablets, Windows 11 Enterprise for corporations, and Windows Server 2022 for servers.\""
     },
     "execution_count": 59,
     "metadata": {},
     "output_type": "execute_result"
    }
   ],
   "source": [
    "# Example2 :\n",
    "\n",
    "file3 = open(\"../Text2.txt\",'r') \n",
    "txt4 = file3.read()\n",
    "file3.close()\n",
    "\n",
    "txt4"
   ],
   "metadata": {
    "collapsed": false,
    "ExecuteTime": {
     "end_time": "2023-10-12T15:52:31.633345700Z",
     "start_time": "2023-10-12T15:52:31.591385300Z"
    }
   },
   "id": "f050c55e6aedb09"
  },
  {
   "cell_type": "code",
   "execution_count": 60,
   "outputs": [
    {
     "data": {
      "text/plain": "4"
     },
     "execution_count": 60,
     "metadata": {},
     "output_type": "execute_result"
    }
   ],
   "source": [
    "# No of paragraphs.\n",
    "\n",
    "p = txt4.split(\"\\n\\n\")\n",
    "len(p)"
   ],
   "metadata": {
    "collapsed": false,
    "ExecuteTime": {
     "end_time": "2023-10-12T15:52:35.100917900Z",
     "start_time": "2023-10-12T15:52:35.092288200Z"
    }
   },
   "id": "e692aea15e9ab773"
  },
  {
   "cell_type": "code",
   "execution_count": 62,
   "outputs": [
    {
     "data": {
      "text/plain": "8"
     },
     "execution_count": 62,
     "metadata": {},
     "output_type": "execute_result"
    }
   ],
   "source": [
    "# No of sentences.\n",
    "s = txt4.split(\".\")\n",
    "no = s[:-1]\n",
    "len(no)"
   ],
   "metadata": {
    "collapsed": false,
    "ExecuteTime": {
     "end_time": "2023-10-12T15:52:42.825778800Z",
     "start_time": "2023-10-12T15:52:42.772525800Z"
    }
   },
   "id": "a2c095310597f7e8"
  },
  {
   "cell_type": "code",
   "execution_count": 63,
   "outputs": [
    {
     "data": {
      "text/plain": "158"
     },
     "execution_count": 63,
     "metadata": {},
     "output_type": "execute_result"
    }
   ],
   "source": [
    "# No of words : \n",
    "\n",
    "# txt5 = txt4.replace(\"\\n\\n\", \" \")\n",
    "# no = txt5.split(\" \")\n",
    "# print(len(no))\n",
    "\n",
    "no = txt4.split()\n",
    "len(no)"
   ],
   "metadata": {
    "collapsed": false,
    "ExecuteTime": {
     "end_time": "2023-10-12T15:52:44.964718Z",
     "start_time": "2023-10-12T15:52:44.915426400Z"
    }
   },
   "id": "b577cfa2f861d81e"
  },
  {
   "cell_type": "code",
   "execution_count": 82,
   "outputs": [
    {
     "data": {
      "text/plain": "\"Microsoft Windows is a group of several proprietary graphical operating system families developed and marketed by Microsoft. Each family caters to a certain sector of the computing industry. For example, Windows NT for consumers, Windows Server for servers, and Windows IoT for embedded systems. Defunct Windows families include Windows 9x, Windows Mobile, and Windows Phone.\\n\\nThe first version of Windows was released on November 20, 1985, as a graphical operating system shell for MS-DOS in response to the growing interest in graphical user interfaces (GUIs). \\n\\nWindows is the most popular desktop operating system in the world, with a 70% market share as of March 2023, according to StatCounter.  However, Windows is not the most used operating system when including both mobile and desktop OSes, due to Android's massive growth.[14]\\n\\nAs of September 2022, the most recent version of Windows is Windows 11 for consumer PCs and tablets, Windows 11 Enterprise for corporations, and Windows Server 2022 for servers.\""
     },
     "execution_count": 82,
     "metadata": {},
     "output_type": "execute_result"
    }
   ],
   "source": [
    "# Removing the square brackets with numbers.\n",
    "\n",
    "for i in range(14):\n",
    "    pattern = f\"[{i}]\"\n",
    "    if pattern in txt4:\n",
    "        txt4 = txt4.replace(pattern, \" \")\n",
    "\n",
    "txt4"
   ],
   "metadata": {
    "collapsed": false,
    "ExecuteTime": {
     "end_time": "2023-10-12T16:29:21.719413100Z",
     "start_time": "2023-10-12T16:29:21.675322300Z"
    }
   },
   "id": "5d728700d5eca1ea"
  },
  {
   "cell_type": "code",
   "execution_count": 70,
   "outputs": [],
   "source": [
    "file4 = open(\"../Text3.txt\",'w')\n",
    "st = 'hi i am vikram\\nNyc to meet you!'\n",
    "file4.write(st)\n",
    "file4.close()\n",
    "\n"
   ],
   "metadata": {
    "collapsed": false,
    "ExecuteTime": {
     "end_time": "2023-10-12T16:23:01.833628300Z",
     "start_time": "2023-10-12T16:23:01.801844800Z"
    }
   },
   "id": "7d687b661a2a19ec"
  },
  {
   "cell_type": "code",
   "execution_count": 71,
   "outputs": [
    {
     "name": "stdout",
     "output_type": "stream",
     "text": [
      "hi i am vikram\n",
      "Nyc to meet you!\n"
     ]
    }
   ],
   "source": [
    "file5 = open('../Text3.txt','r')\n",
    "txt5 = file5.read()\n",
    "file5.close()\n",
    "\n",
    "print(txt5)"
   ],
   "metadata": {
    "collapsed": false,
    "ExecuteTime": {
     "end_time": "2023-10-12T16:23:03.569411300Z",
     "start_time": "2023-10-12T16:23:03.548680100Z"
    }
   },
   "id": "d3e79f3a6d60342a"
  },
  {
   "cell_type": "code",
   "execution_count": 83,
   "outputs": [],
   "source": [
    "file6 = open(\"../Text3.txt\", 'a')\n",
    "file6.write(\"\\nHow ae you doing\")\n",
    "file6.close()\n"
   ],
   "metadata": {
    "collapsed": false,
    "ExecuteTime": {
     "end_time": "2023-10-13T14:23:20.953598300Z",
     "start_time": "2023-10-13T14:23:20.937648400Z"
    }
   },
   "id": "9ede5fb8ad028b8b"
  },
  {
   "cell_type": "code",
   "execution_count": 75,
   "outputs": [
    {
     "name": "stdout",
     "output_type": "stream",
     "text": [
      "hi i am vikram\n",
      "Nyc to meet you!\n",
      "How ae you doing\n"
     ]
    }
   ],
   "source": [
    "with open('../Text3.txt') as file7:\n",
    "    txt6 = file7.read()\n",
    "    \n",
    "    \n",
    "print(txt6)"
   ],
   "metadata": {
    "collapsed": false,
    "ExecuteTime": {
     "end_time": "2023-10-12T16:25:52.024530200Z",
     "start_time": "2023-10-12T16:25:52.009602400Z"
    }
   },
   "id": "e8020cf6da2bd459"
  },
  {
   "cell_type": "code",
   "execution_count": 79,
   "outputs": [],
   "source": [
    "with open('../Text3.txt','w+') as file8:\n",
    "    file8.write(\"After Rewriting.\")\n",
    "    \n",
    "    "
   ],
   "metadata": {
    "collapsed": false,
    "ExecuteTime": {
     "end_time": "2023-10-12T16:27:51.108288100Z",
     "start_time": "2023-10-12T16:27:51.076765300Z"
    }
   },
   "id": "dd585c7c755c686"
  },
  {
   "cell_type": "code",
   "execution_count": 80,
   "outputs": [
    {
     "name": "stdout",
     "output_type": "stream",
     "text": [
      "After Rewriting.\n"
     ]
    }
   ],
   "source": [
    "with open('../Text3.txt','r') as file9:\n",
    "    txt7 = file9.read()\n",
    "    \n",
    "    \n",
    "print(txt7)"
   ],
   "metadata": {
    "collapsed": false,
    "ExecuteTime": {
     "end_time": "2023-10-12T16:28:33.269496800Z",
     "start_time": "2023-10-12T16:28:33.233197800Z"
    }
   },
   "id": "21fa4415e3c1384"
  },
  {
   "cell_type": "code",
   "execution_count": 89,
   "outputs": [],
   "source": [
    "with open('../Text4.txt','w+') as file10:\n",
    "    sentences = ['hi hello how are you ?\\n', 'I hope you are doing well\\n', 'I am doing great here.\\n']\n",
    "    file10.writelines(sentences)\n",
    "    \n",
    "\n"
   ],
   "metadata": {
    "collapsed": false,
    "ExecuteTime": {
     "end_time": "2023-10-14T08:04:17.794394300Z",
     "start_time": "2023-10-14T08:04:17.787384900Z"
    }
   },
   "id": "884e7fc154cacd3"
  },
  {
   "cell_type": "code",
   "execution_count": 97,
   "outputs": [],
   "source": [
    "with open('../Text4.txt', 'a') as file11:\n",
    "    it = input(\"Enter the text : \")\n",
    "    file11.write(it+'.\\n')\n",
    "    \n",
    "    \n",
    "\n"
   ],
   "metadata": {
    "collapsed": false,
    "ExecuteTime": {
     "end_time": "2023-10-14T08:12:35.125356100Z",
     "start_time": "2023-10-14T08:12:29.868485900Z"
    }
   },
   "id": "14c540e5d7de0a03"
  },
  {
   "cell_type": "code",
   "execution_count": 99,
   "outputs": [
    {
     "name": "stdout",
     "output_type": "stream",
     "text": [
      "hi hello, how are you?\n",
      "I hope you are doing well,\n",
      "I am doing great here.\n",
      "How's the weather there?\n",
      "HI.\n",
      "fa.\n",
      "Anything else.\n",
      "What's up dude.\n"
     ]
    }
   ],
   "source": [
    "with open('../Text4.txt', 'r') as file12:\n",
    "    txt8 = file12.read()\n",
    "\n",
    "print(txt8)"
   ],
   "metadata": {
    "collapsed": false,
    "ExecuteTime": {
     "end_time": "2023-10-14T08:12:53.275492Z",
     "start_time": "2023-10-14T08:12:53.228904500Z"
    }
   },
   "id": "3f80b9454fe29238"
  }
 ],
 "metadata": {
  "kernelspec": {
   "display_name": "Python 3",
   "language": "python",
   "name": "python3"
  },
  "language_info": {
   "codemirror_mode": {
    "name": "ipython",
    "version": 2
   },
   "file_extension": ".py",
   "mimetype": "text/x-python",
   "name": "python",
   "nbconvert_exporter": "python",
   "pygments_lexer": "ipython2",
   "version": "2.7.6"
  }
 },
 "nbformat": 4,
 "nbformat_minor": 5
}
