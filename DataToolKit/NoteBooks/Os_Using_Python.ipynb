{
 "cells": [
  {
   "cell_type": "markdown",
   "source": [
    "#### Os Using Python\n"
   ],
   "metadata": {
    "collapsed": false
   },
   "id": "a4affc5d9f9f9a2b"
  },
  {
   "cell_type": "code",
   "execution_count": 2,
   "outputs": [],
   "source": [
    "import os"
   ],
   "metadata": {
    "collapsed": false,
    "ExecuteTime": {
     "end_time": "2023-10-23T07:37:17.674492300Z",
     "start_time": "2023-10-23T07:37:17.664404100Z"
    }
   },
   "id": "7780a2bfc41649ca"
  },
  {
   "cell_type": "code",
   "execution_count": 7,
   "outputs": [
    {
     "data": {
      "text/plain": "'C:\\\\Users\\\\Asus\\\\Desktop\\\\DataScieneLearning\\\\DataToolKit\\\\NoteBooks'"
     },
     "execution_count": 7,
     "metadata": {},
     "output_type": "execute_result"
    }
   ],
   "source": [
    "os.getcwd()"
   ],
   "metadata": {
    "collapsed": false,
    "ExecuteTime": {
     "end_time": "2023-10-23T07:37:55.262997200Z",
     "start_time": "2023-10-23T07:37:55.242827200Z"
    }
   },
   "id": "5202551d27b01fe6"
  },
  {
   "cell_type": "code",
   "execution_count": 10,
   "outputs": [
    {
     "data": {
      "text/plain": "4"
     },
     "execution_count": 10,
     "metadata": {},
     "output_type": "execute_result"
    }
   ],
   "source": [
    "os.cpu_count()"
   ],
   "metadata": {
    "collapsed": false,
    "ExecuteTime": {
     "end_time": "2023-10-23T07:38:23.351454700Z",
     "start_time": "2023-10-23T07:38:23.338498100Z"
    }
   },
   "id": "3c570044f54ab8e6"
  },
  {
   "cell_type": "code",
   "execution_count": 17,
   "outputs": [
    {
     "name": "stdout",
     "output_type": "stream",
     "text": [
      " Volume in drive C has no label.\n",
      " Volume Serial Number is 7255-52C7\n",
      "\n",
      " Directory of C:\\Users\\Asus\\Desktop\\DataScieneLearning\\DataToolKit\\NoteBooks\n",
      "\n",
      "23-10-23  13:12    <DIR>          .\n",
      "23-10-23  13:12    <DIR>          ..\n",
      "18-10-23  22:09    <DIR>          .ipynb_checkpoints\n",
      "18-10-23  23:00    <DIR>          Files\n",
      "18-10-23  22:39            12,833 Inventory_Management_System_Using_Json.ipynb\n",
      "16-10-23  21:23             9,515 Invetory_Managment_System_aka_project1.ipynb\n",
      "22-10-23  21:45            36,127 Numpy.ipynb\n",
      "23-10-23  13:12             2,265 Os_Using_Python.ipynb\n",
      "14-10-23  13:43            29,965 ReadingDataFromFile.ipynb\n",
      "               5 File(s)         90,705 bytes\n",
      "               4 Dir(s)  90,575,294,464 bytes free\n"
     ]
    }
   ],
   "source": [
    "ls"
   ],
   "metadata": {
    "collapsed": false,
    "ExecuteTime": {
     "end_time": "2023-10-23T07:42:58.783860200Z",
     "start_time": "2023-10-23T07:42:58.672921300Z"
    }
   },
   "id": "d35b6b4a13c10b93"
  },
  {
   "cell_type": "code",
   "execution_count": 18,
   "outputs": [],
   "source": [
    "os.chdir('./Files')"
   ],
   "metadata": {
    "collapsed": false,
    "ExecuteTime": {
     "end_time": "2023-10-23T07:43:51.271089100Z",
     "start_time": "2023-10-23T07:43:51.235902800Z"
    }
   },
   "id": "6594516be9bb1ec7"
  },
  {
   "cell_type": "code",
   "execution_count": 19,
   "outputs": [
    {
     "data": {
      "text/plain": "'C:\\\\Users\\\\Asus\\\\Desktop\\\\DataScieneLearning\\\\DataToolKit\\\\NoteBooks\\\\Files'"
     },
     "execution_count": 19,
     "metadata": {},
     "output_type": "execute_result"
    }
   ],
   "source": [
    "os.getcwd()"
   ],
   "metadata": {
    "collapsed": false,
    "ExecuteTime": {
     "end_time": "2023-10-23T07:44:04.932311600Z",
     "start_time": "2023-10-23T07:44:04.911457100Z"
    }
   },
   "id": "f265d54a8724ed3a"
  },
  {
   "cell_type": "code",
   "execution_count": 21,
   "outputs": [
    {
     "name": "stdout",
     "output_type": "stream",
     "text": [
      " Volume in drive C has no label.\n",
      " Volume Serial Number is 7255-52C7\n",
      "\n",
      " Directory of C:\\Users\\Asus\\Desktop\\DataScieneLearning\\DataToolKit\\NoteBooks\\Files\n",
      "\n",
      "18-10-23  23:00    <DIR>          .\n",
      "18-10-23  23:00    <DIR>          ..\n",
      "16-10-23  21:22               178 Customers_data.txt\n",
      "18-10-23  22:26               426 Inventory.json\n",
      "16-10-23  21:22                68 Inventory.txt\n",
      "18-10-23  22:26                88 sales.txt\n",
      "               4 File(s)            760 bytes\n",
      "               2 Dir(s)  90,575,167,488 bytes free\n"
     ]
    }
   ],
   "source": [
    "ls"
   ],
   "metadata": {
    "collapsed": false,
    "ExecuteTime": {
     "end_time": "2023-10-23T07:44:26.958226100Z",
     "start_time": "2023-10-23T07:44:26.917567800Z"
    }
   },
   "id": "a519247d3df70d8d"
  },
  {
   "cell_type": "code",
   "execution_count": 25,
   "outputs": [],
   "source": [
    "os.chdir('../')"
   ],
   "metadata": {
    "collapsed": false,
    "ExecuteTime": {
     "end_time": "2023-10-23T07:45:33.198403Z",
     "start_time": "2023-10-23T07:45:33.188354Z"
    }
   },
   "id": "688f6962d2a75d47"
  },
  {
   "cell_type": "code",
   "execution_count": 26,
   "outputs": [
    {
     "data": {
      "text/plain": "'C:\\\\Users\\\\Asus\\\\Desktop\\\\DataScieneLearning\\\\DataToolKit\\\\NoteBooks'"
     },
     "execution_count": 26,
     "metadata": {},
     "output_type": "execute_result"
    }
   ],
   "source": [
    "os.getcwd()"
   ],
   "metadata": {
    "collapsed": false,
    "ExecuteTime": {
     "end_time": "2023-10-23T07:45:51.036848500Z",
     "start_time": "2023-10-23T07:45:51.027281300Z"
    }
   },
   "id": "b5e5112b7fd74cc5"
  },
  {
   "cell_type": "code",
   "execution_count": 28,
   "outputs": [],
   "source": [
    "os.chdir('./Files')"
   ],
   "metadata": {
    "collapsed": false,
    "ExecuteTime": {
     "end_time": "2023-10-23T07:47:06.561543300Z",
     "start_time": "2023-10-23T07:47:06.550295200Z"
    }
   },
   "id": "1bc34a6f180a3fae"
  },
  {
   "cell_type": "code",
   "execution_count": 29,
   "outputs": [
    {
     "name": "stdout",
     "output_type": "stream",
     "text": [
      " Volume in drive C has no label.\n",
      " Volume Serial Number is 7255-52C7\n",
      "\n",
      " Directory of C:\\Users\\Asus\\Desktop\\DataScieneLearning\\DataToolKit\\NoteBooks\\Files\n",
      "\n",
      "18-10-23  23:00    <DIR>          .\n",
      "18-10-23  23:00    <DIR>          ..\n",
      "16-10-23  21:22               178 Customers_data.txt\n",
      "18-10-23  22:26               426 Inventory.json\n",
      "16-10-23  21:22                68 Inventory.txt\n",
      "18-10-23  22:26                88 sales.txt\n",
      "               4 File(s)            760 bytes\n",
      "               2 Dir(s)  90,572,546,048 bytes free\n"
     ]
    }
   ],
   "source": [
    "ls"
   ],
   "metadata": {
    "collapsed": false,
    "ExecuteTime": {
     "end_time": "2023-10-23T07:47:16.984332800Z",
     "start_time": "2023-10-23T07:47:16.905122600Z"
    }
   },
   "id": "ef98ed55eeef253e"
  },
  {
   "cell_type": "code",
   "execution_count": 42,
   "outputs": [],
   "source": [
    "os.chdir('../')"
   ],
   "metadata": {
    "collapsed": false,
    "ExecuteTime": {
     "end_time": "2023-10-23T07:52:08.219021200Z",
     "start_time": "2023-10-23T07:52:08.204880100Z"
    }
   },
   "id": "ef1fb885747681fd"
  },
  {
   "cell_type": "code",
   "execution_count": 66,
   "outputs": [],
   "source": [
    "os.mkdir('Testing')"
   ],
   "metadata": {
    "collapsed": false,
    "ExecuteTime": {
     "end_time": "2023-10-23T08:13:29.258234400Z",
     "start_time": "2023-10-23T08:13:29.227075600Z"
    }
   },
   "id": "614849617348822e"
  },
  {
   "cell_type": "code",
   "execution_count": 63,
   "outputs": [],
   "source": [
    "os.rmdir('./Testing')"
   ],
   "metadata": {
    "collapsed": false,
    "ExecuteTime": {
     "end_time": "2023-10-23T08:13:02.588610800Z",
     "start_time": "2023-10-23T08:13:02.553703700Z"
    }
   },
   "id": "c96153f9f0aead54"
  },
  {
   "cell_type": "code",
   "execution_count": 59,
   "outputs": [],
   "source": [
    "import shutil\n",
    "shutil.rmtree(r'./Testing')"
   ],
   "metadata": {
    "collapsed": false,
    "ExecuteTime": {
     "end_time": "2023-10-23T07:58:37.106222700Z",
     "start_time": "2023-10-23T07:58:37.088448100Z"
    }
   },
   "id": "8b48b7b51f21ae60"
  },
  {
   "cell_type": "code",
   "execution_count": 67,
   "outputs": [
    {
     "name": "stdout",
     "output_type": "stream",
     "text": [
      " Volume in drive C has no label.\n",
      " Volume Serial Number is 7255-52C7\n",
      "\n",
      " Directory of C:\\Users\\Asus\\Desktop\\DataScieneLearning\\DataToolKit\\NoteBooks\n",
      "\n",
      "23-10-23  13:43    <DIR>          .\n",
      "23-10-23  13:43    <DIR>          ..\n",
      "18-10-23  22:09    <DIR>          .ipynb_checkpoints\n",
      "18-10-23  23:00    <DIR>          Files\n",
      "18-10-23  22:39            12,833 Inventory_Management_System_Using_Json.ipynb\n",
      "16-10-23  21:23             9,515 Invetory_Managment_System_aka_project1.ipynb\n",
      "22-10-23  21:45            36,127 Numpy.ipynb\n",
      "23-10-23  13:43            10,934 Os_Using_Python.ipynb\n",
      "14-10-23  13:43            29,965 ReadingDataFromFile.ipynb\n",
      "23-10-23  13:43    <DIR>          Testing\n",
      "               5 File(s)         99,374 bytes\n",
      "               5 Dir(s)  90,549,387,264 bytes free\n"
     ]
    }
   ],
   "source": [
    "ls"
   ],
   "metadata": {
    "collapsed": false,
    "ExecuteTime": {
     "end_time": "2023-10-23T08:13:32.574230300Z",
     "start_time": "2023-10-23T08:13:32.526352900Z"
    }
   },
   "id": "f69e9113d6889fc8"
  },
  {
   "cell_type": "code",
   "execution_count": 68,
   "outputs": [],
   "source": [
    "os.chdir('./Testing')"
   ],
   "metadata": {
    "collapsed": false,
    "ExecuteTime": {
     "end_time": "2023-10-23T08:13:51.203788400Z",
     "start_time": "2023-10-23T08:13:51.192093Z"
    }
   },
   "id": "265df2e24e9d85da"
  },
  {
   "cell_type": "code",
   "execution_count": 70,
   "outputs": [],
   "source": [
    "os.mkdir('Nothing')"
   ],
   "metadata": {
    "collapsed": false,
    "ExecuteTime": {
     "end_time": "2023-10-23T08:14:21.122845400Z",
     "start_time": "2023-10-23T08:14:21.087619600Z"
    }
   },
   "id": "6c008fa72b8cdd65"
  },
  {
   "cell_type": "code",
   "execution_count": 71,
   "outputs": [
    {
     "data": {
      "text/plain": "'C:\\\\Users\\\\Asus\\\\Desktop\\\\DataScieneLearning\\\\DataToolKit\\\\NoteBooks\\\\Testing'"
     },
     "execution_count": 71,
     "metadata": {},
     "output_type": "execute_result"
    }
   ],
   "source": [
    "os.getcwd()"
   ],
   "metadata": {
    "collapsed": false,
    "ExecuteTime": {
     "end_time": "2023-10-23T08:14:31.088708200Z",
     "start_time": "2023-10-23T08:14:31.046840800Z"
    }
   },
   "id": "a835de33ca39b4eb"
  },
  {
   "cell_type": "code",
   "execution_count": 75,
   "outputs": [
    {
     "name": "stdout",
     "output_type": "stream",
     "text": [
      "1\n",
      "['Nothing']\n"
     ]
    }
   ],
   "source": [
    "print(len(os.listdir()))\n",
    "print(os.listdir())"
   ],
   "metadata": {
    "collapsed": false,
    "ExecuteTime": {
     "end_time": "2023-10-23T08:15:38.051652800Z",
     "start_time": "2023-10-23T08:15:38.010713700Z"
    }
   },
   "id": "2000b74ca19cbd47"
  },
  {
   "cell_type": "code",
   "execution_count": 54,
   "outputs": [],
   "source": [
    "os.makedirs('./Testing/Testing/Testing/Testing/Testing')"
   ],
   "metadata": {
    "collapsed": false,
    "ExecuteTime": {
     "end_time": "2023-10-23T07:55:59.816809Z",
     "start_time": "2023-10-23T07:55:59.800069200Z"
    }
   },
   "id": "a9db985f6216ca69"
  },
  {
   "cell_type": "code",
   "execution_count": 80,
   "outputs": [
    {
     "data": {
      "text/plain": "'C:\\\\Users\\\\Asus\\\\Desktop\\\\DataScieneLearning\\\\DataToolKit\\\\NoteBooks'"
     },
     "execution_count": 80,
     "metadata": {},
     "output_type": "execute_result"
    }
   ],
   "source": [
    "os.getcwd()"
   ],
   "metadata": {
    "collapsed": false,
    "ExecuteTime": {
     "end_time": "2023-10-23T10:39:39.111382200Z",
     "start_time": "2023-10-23T10:39:39.098254500Z"
    }
   },
   "id": "22550415bfd211ef"
  },
  {
   "cell_type": "code",
   "execution_count": 77,
   "outputs": [],
   "source": [
    "os.chdir('../')"
   ],
   "metadata": {
    "collapsed": false,
    "ExecuteTime": {
     "end_time": "2023-10-23T10:38:28.508711100Z",
     "start_time": "2023-10-23T10:38:28.508711100Z"
    }
   },
   "id": "b69ae920b6e3d8fa"
  },
  {
   "cell_type": "code",
   "execution_count": 83,
   "outputs": [],
   "source": [
    "os.chdir('./Testing')"
   ],
   "metadata": {
    "collapsed": false,
    "ExecuteTime": {
     "end_time": "2023-10-23T10:40:26.682953Z",
     "start_time": "2023-10-23T10:40:26.677736600Z"
    }
   },
   "id": "9b1d441c9594421d"
  },
  {
   "cell_type": "code",
   "execution_count": 84,
   "outputs": [],
   "source": [
    "os.rmdir('./Nothing')"
   ],
   "metadata": {
    "collapsed": false,
    "ExecuteTime": {
     "end_time": "2023-10-23T10:40:48.977143100Z",
     "start_time": "2023-10-23T10:40:48.977143100Z"
    }
   },
   "id": "8cdb264bd267d0ad"
  },
  {
   "cell_type": "code",
   "execution_count": 85,
   "outputs": [],
   "source": [
    "os.chdir('../')"
   ],
   "metadata": {
    "collapsed": false,
    "ExecuteTime": {
     "end_time": "2023-10-23T10:41:04.106058800Z",
     "start_time": "2023-10-23T10:41:04.106058800Z"
    }
   },
   "id": "bed169bb0dfda107"
  },
  {
   "cell_type": "code",
   "execution_count": 86,
   "outputs": [],
   "source": [
    "os.rmdir('./Testing')"
   ],
   "metadata": {
    "collapsed": false,
    "ExecuteTime": {
     "end_time": "2023-10-23T10:41:13.365304Z",
     "start_time": "2023-10-23T10:41:13.365304Z"
    }
   },
   "id": "c5b70e6995367e6e"
  },
  {
   "cell_type": "code",
   "execution_count": 89,
   "outputs": [],
   "source": [
    "name = 'Vikram'\n",
    "\n",
    "os.mkdir(name)\n",
    "for i in range(100):\n",
    "    os.mkdir(f\"{name}/{name} {i}\")"
   ],
   "metadata": {
    "collapsed": false,
    "ExecuteTime": {
     "end_time": "2023-10-23T11:00:25.337557300Z",
     "start_time": "2023-10-23T11:00:25.262090100Z"
    }
   },
   "id": "24beb64d7009e46"
  },
  {
   "cell_type": "code",
   "execution_count": 88,
   "outputs": [],
   "source": [
    "master = 'Vikram'\n",
    "os.mkdir(master)\n",
    "\n",
    "n = 10\n",
    "m = 10\n",
    "\n",
    "for i in range(n):\n",
    "    os.mkdir(f\"{master}/{master} {i+1}\")\n",
    "    for j in range(m):\n",
    "        os.mkdir(f\"{master}/{master} {i+1}/{master} {j+1}\")"
   ],
   "metadata": {
    "collapsed": false,
    "ExecuteTime": {
     "end_time": "2023-10-23T10:59:43.002674900Z",
     "start_time": "2023-10-23T10:59:42.919652400Z"
    }
   },
   "id": "5db8e3b9684933e6"
  },
  {
   "cell_type": "code",
   "execution_count": 90,
   "outputs": [
    {
     "data": {
      "text/plain": "'C:\\\\Users\\\\Asus\\\\Desktop\\\\DataScieneLearning\\\\DataToolKit\\\\NoteBooks'"
     },
     "execution_count": 90,
     "metadata": {},
     "output_type": "execute_result"
    }
   ],
   "source": [
    "os.getcwd()"
   ],
   "metadata": {
    "collapsed": false,
    "ExecuteTime": {
     "end_time": "2023-10-23T11:08:50.164092Z",
     "start_time": "2023-10-23T11:08:50.147952500Z"
    }
   },
   "id": "4bafa3e56b715cd8"
  },
  {
   "cell_type": "code",
   "execution_count": 97,
   "outputs": [
    {
     "name": "stdout",
     "output_type": "stream",
     "text": [
      "['Customers_data.txt', 'Inventory.json', 'Inventory.txt', 'sales.txt']\n",
      "\n",
      "\n",
      "\n",
      "Customers_data.txt\n",
      "Vikram Kaki,9493491577,vikramkvk05@gmail.com,2,Dairy Milk,50,500,Mon Oct 16 21:19:27 2023\n",
      "Trimurthulu,9700104523,kakitrimurthulu@gmail.com,3,Lays,80,800,Mon Oct 16 21:22:42 2023\n",
      "\n",
      "Inventory.json\n",
      "{\n",
      "      \"101\": {\n",
      "            \"Name\": \"5 Star\",\n",
      "            \"Price\": 5,\n",
      "            \"Qn\": 100\n",
      "      },\n",
      "      \"102\": {\n",
      "            \"Name\": \"Milky Bar\",\n",
      "            \"Price\": 10,\n",
      "            \"Qn\": 0\n",
      "      },\n",
      "      \"103\": {\n",
      "            \"Name\": \"Dairy Milk\",\n",
      "            \"Price\": 20,\n",
      "            \"Qn\": 0\n",
      "      },\n",
      "      \"104\": {\n",
      "            \"Name\": \"Lays\",\n",
      "            \"Price\": 10,\n",
      "            \"Qn\": 50\n",
      "      }\n",
      "}\n",
      "\n",
      "Inventory.txt\n",
      "1,5 Star,5,100\n",
      "2,Dairy Milk,10,50\n",
      "3,Lays,10,120\n",
      "4,Milky Bar,20,80\n",
      "\n",
      "sales.txt\n",
      "Vikram Kaki,vikramkvk05@gmail.com,9493491577,101,5 Star,5,100,Wed Oct 18 22:26:05 2023\n",
      "\n"
     ]
    }
   ],
   "source": [
    "files = os.listdir('./Files')\n",
    "print(files)\n",
    "print('\\n\\n')\n",
    "for i in files:\n",
    "    print(i)\n",
    "    with open(f\"Files/{i}\") as file:\n",
    "        txt = file.read()\n",
    "        print(txt)\n",
    "        print()"
   ],
   "metadata": {
    "collapsed": false,
    "ExecuteTime": {
     "end_time": "2023-10-23T11:12:03.170245800Z",
     "start_time": "2023-10-23T11:12:03.162840Z"
    }
   },
   "id": "223be6f5638bfb80"
  }
 ],
 "metadata": {
  "kernelspec": {
   "display_name": "Python 3",
   "language": "python",
   "name": "python3"
  },
  "language_info": {
   "codemirror_mode": {
    "name": "ipython",
    "version": 2
   },
   "file_extension": ".py",
   "mimetype": "text/x-python",
   "name": "python",
   "nbconvert_exporter": "python",
   "pygments_lexer": "ipython2",
   "version": "2.7.6"
  }
 },
 "nbformat": 4,
 "nbformat_minor": 5
}
