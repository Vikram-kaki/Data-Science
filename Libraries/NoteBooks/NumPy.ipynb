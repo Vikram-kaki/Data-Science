{
 "cells": [
  {
   "cell_type": "markdown",
   "source": [
    "# Installing Numpy."
   ],
   "metadata": {
    "collapsed": false
   },
   "id": "a6214b43fdf5a9f0"
  },
  {
   "cell_type": "code",
   "execution_count": 2,
   "outputs": [
    {
     "name": "stdout",
     "output_type": "stream",
     "text": [
      "Requirement already satisfied: numpy in c:\\users\\asus\\anaconda3\\lib\\site-packages (1.24.3)\n"
     ]
    }
   ],
   "source": [
    "import numpy as np\n",
    "# !pip install numpy ## Command to install the numpy module if not present. "
   ],
   "metadata": {
    "collapsed": false,
    "ExecuteTime": {
     "end_time": "2023-11-13T09:21:29.038038800Z",
     "start_time": "2023-11-13T09:21:08.616079100Z"
    }
   },
   "id": "d3a401f5c7494f6a"
  },
  {
   "cell_type": "markdown",
   "source": [
    "# Creating A Numpy Array."
   ],
   "metadata": {
    "collapsed": false
   },
   "id": "231cf82a9a54bfbb"
  },
  {
   "cell_type": "code",
   "execution_count": 15,
   "outputs": [
    {
     "name": "stdout",
     "output_type": "stream",
     "text": [
      "[1, 2, 3, 4, 5]\n",
      "\n",
      "[1 2 3 4 5]\n",
      "\n",
      "\n",
      "<class 'list'>\n",
      "\n",
      "<class 'numpy.ndarray'>\n"
     ]
    }
   ],
   "source": [
    "lst = [1,2,3,4,5]\n",
    "print(lst)\n",
    "print()\n",
    "array = np.array(lst)\n",
    "print(array)\n",
    "print()\n",
    "print()\n",
    "print(type(lst))\n",
    "print()\n",
    "print(type(array))"
   ],
   "metadata": {
    "collapsed": false,
    "ExecuteTime": {
     "end_time": "2023-10-23T11:44:34.573639200Z",
     "start_time": "2023-10-23T11:44:34.532281200Z"
    }
   },
   "id": "6a2c5d3d370659a3"
  },
  {
   "cell_type": "markdown",
   "source": [
    "# 'arange' function() in NumPy"
   ],
   "metadata": {
    "collapsed": false
   },
   "id": "5349616e9556fd4d"
  },
  {
   "cell_type": "code",
   "execution_count": 16,
   "outputs": [
    {
     "name": "stdout",
     "output_type": "stream",
     "text": [
      "[ 1  3  5  7  9 11 13 15 17 19 21 23 25 27 29 31 33 35 37 39 41 43 45 47\n",
      " 49 51 53 55 57 59 61 63 65 67 69 71 73 75 77 79 81 83 85 87 89 91 93 95\n",
      " 97 99]\n"
     ]
    }
   ],
   "source": [
    "# arange behaves like a normal range() function in python, but here it creates a numpy array instead of a list.\n",
    "\n",
    "\n",
    "array2 = np.arange(1,101,2)\n",
    "print(array2)"
   ],
   "metadata": {
    "collapsed": false,
    "ExecuteTime": {
     "end_time": "2023-10-23T11:46:38.293146Z",
     "start_time": "2023-10-23T11:46:38.290233300Z"
    }
   },
   "id": "679f7ba56a1f534f"
  },
  {
   "cell_type": "markdown",
   "source": [
    "# Multi-Dimensional Arrays in NumPy"
   ],
   "metadata": {
    "collapsed": false
   },
   "id": "303f13e8b27099b2"
  },
  {
   "cell_type": "code",
   "execution_count": 30,
   "outputs": [
    {
     "name": "stdout",
     "output_type": "stream",
     "text": [
      "[[ 1  2  3  4]\n",
      " [ 5  6  7  8]\n",
      " [ 9 10 11 12]]\n",
      "2\n",
      "12\n",
      "3\n",
      "4\n",
      "int32\n",
      "float64\n",
      "<U6\n",
      "(3, 4)\n"
     ]
    }
   ],
   "source": [
    "array3 = np.array([\n",
    "    [1,2,3,4],\n",
    "    [5,6,7,8],\n",
    "    [9,10,11,12]\n",
    "])\n",
    "print(array3)\n",
    "print(array3.ndim) # This gives the dimension of the array.\n",
    "\n",
    "# ------------------------------------------------------------------\n",
    "# Functions to find the size of the array along with the no of rows and columns.\n",
    "\n",
    "print(array3.size) # Gives the no of elements in an array.\n",
    "print(np.size(array3, 0)) # Gives the no of rows.\n",
    "print(np.size(array3, 1)) # Gives the no of columns.\n",
    "\n",
    "# -------------------------------------------------------------------\n",
    "print(array3.dtype) # Gives the data type of the array elements.\n",
    "\n",
    "array4 = np.array([\n",
    "    [1.,2.,3.],\n",
    "    [4.,5.,6.],\n",
    "    [7.,8.,9.]\n",
    "])\n",
    "\n",
    "print(array4.dtype) # Uses the float data type.\n",
    "\n",
    "\n",
    "# array5 = np.array(['Vikram', 'Kaki'])\n",
    "# print(array5.dtype)\n",
    "\n",
    "# --------------------------------------------------------------------\n",
    "print(array3.shape) # Gives the shape of the array.\n",
    "\n",
    "# We can also create an n-dimensional array using the ndarray() function, which will create the array with random values.\n",
    "# array3 = np.ndarray([5,2])\n",
    "# print(array3)"
   ],
   "metadata": {
    "collapsed": false,
    "ExecuteTime": {
     "end_time": "2023-10-23T14:57:36.267802900Z",
     "start_time": "2023-10-23T14:57:36.260143100Z"
    }
   },
   "id": "32febe01efbb42e5"
  },
  {
   "cell_type": "markdown",
   "source": [
    "# Functions to create the arrays with same values such as 0's and 1's."
   ],
   "metadata": {
    "collapsed": false
   },
   "id": "240d660b7f4b80e3"
  },
  {
   "cell_type": "code",
   "execution_count": 37,
   "outputs": [
    {
     "name": "stdout",
     "output_type": "stream",
     "text": [
      "\n",
      "[[0. 0. 0. 0.]\n",
      " [0. 0. 0. 0.]\n",
      " [0. 0. 0. 0.]]\n",
      "Array5 D-Type : float64\n",
      "\n",
      "\n",
      "[[1 1 1 1]\n",
      " [1 1 1 1]\n",
      " [1 1 1 1]]\n",
      "Array6 D-Type : int64\n"
     ]
    }
   ],
   "source": [
    "# zeros() function\n",
    "print()\n",
    "array5 = np.zeros([3,4], dtype=float) # Creates an array of given size with zeros.\n",
    "print(array5)\n",
    "print(f\"Array5 D-Type : {array5.dtype}\")\n",
    "print()\n",
    "# ones() function\n",
    "\n",
    "print()\n",
    "array6 = np.ones([3,4], dtype='int64') # Creates an array of given size with ones.\n",
    "print(array6)\n",
    "print(f\"Array6 D-Type : {array6.dtype}\")\n",
    "print()"
   ],
   "metadata": {
    "collapsed": false,
    "ExecuteTime": {
     "end_time": "2023-10-23T15:02:00.151086500Z",
     "start_time": "2023-10-23T15:02:00.131592100Z"
    }
   },
   "id": "5c0cad7307057c16"
  },
  {
   "cell_type": "markdown",
   "source": [
    "# Eye Function"
   ],
   "metadata": {
    "collapsed": false
   },
   "id": "68709c45e2d27be8"
  },
  {
   "cell_type": "code",
   "execution_count": 53,
   "outputs": [
    {
     "name": "stdout",
     "output_type": "stream",
     "text": [
      "[[1. 0. 0.]\n",
      " [0. 1. 0.]\n",
      " [0. 0. 1.]]\n"
     ]
    }
   ],
   "source": [
    "array7 = np.eye(3,3) # This creates an array of given size with 1's on diagonal elements and 0's on other elements.\n",
    "print(array7)"
   ],
   "metadata": {
    "collapsed": false,
    "ExecuteTime": {
     "end_time": "2023-10-23T15:07:43.241855400Z",
     "start_time": "2023-10-23T15:07:43.230347200Z"
    }
   },
   "id": "195efccf64d56548"
  },
  {
   "cell_type": "markdown",
   "source": [
    "# Empty Function"
   ],
   "metadata": {
    "collapsed": false
   },
   "id": "9d0ab879409f33b2"
  },
  {
   "cell_type": "code",
   "execution_count": 66,
   "outputs": [
    {
     "name": "stdout",
     "output_type": "stream",
     "text": [
      "[[0. 0. 0. 0. 0. 0.]\n",
      " [0. 0. 0. 0. 0. 0.]\n",
      " [0. 0. 0. 0. 0. 0.]\n",
      " [0. 0. 0. 0. 0. 0.]\n",
      " [0. 0. 0. 0. 0. 0.]\n",
      " [0. 0. 0. 0. 0. 0.]]\n"
     ]
    }
   ],
   "source": [
    "array8 = np.empty((6,6)) # Gives an uninitialized array\n",
    "print(array8)"
   ],
   "metadata": {
    "collapsed": false,
    "ExecuteTime": {
     "end_time": "2023-10-23T15:09:46.060492900Z",
     "start_time": "2023-10-23T15:09:46.046151800Z"
    }
   },
   "id": "afef71241397f5b8"
  },
  {
   "cell_type": "markdown",
   "source": [
    "# Random Functions."
   ],
   "metadata": {
    "collapsed": false
   },
   "id": "2c1ba5e9f1393435"
  },
  {
   "cell_type": "code",
   "execution_count": 179,
   "outputs": [
    {
     "name": "stdout",
     "output_type": "stream",
     "text": [
      "[[0.53100088 0.43410163 0.623096  ]\n",
      " [0.53490497 0.50649901 0.16781129]\n",
      " [0.2632676  0.0100306  0.16038096]]\n",
      "\n",
      "\n",
      "[[71 89 89 48]\n",
      " [20 87 49 68]\n",
      " [85 66 83 26]\n",
      " [33 45 21 52]]\n",
      "\n",
      "\n",
      "[[-1.2485604  -0.96143358 -0.55258817]\n",
      " [-0.54193818  0.83121045  1.55297545]\n",
      " [ 1.54544575  0.95664922 -0.7963433 ]]\n"
     ]
    }
   ],
   "source": [
    "# np.random.rand() Function.\n",
    "array9 = np.random.rand(3,3) # Returns an array of give size with random values.\n",
    "print(array9,end='\\n\\n\\n')\n",
    "\n",
    "\n",
    "\n",
    "# -------------------------------------------------------------\n",
    "\n",
    "# np.random.randint() Function.\n",
    "num1 = np.random.randint(9,100,size=[4,4]) # Returns a random number array between given numbers. If only one number is given, then the first number will be automatically taken as 0.\n",
    "print(num1, end='\\n\\n\\n')\n",
    "\n",
    "\n",
    "\n",
    "# ---------------------------------------------------------------\n",
    "\n",
    "# np.random.randn() Function\n",
    "array10 = np.random.randn(3,3) # Return an array with random values that follow normal distribution of given size.\n",
    "print(array10)"
   ],
   "metadata": {
    "collapsed": false,
    "ExecuteTime": {
     "end_time": "2023-10-23T15:25:39.267302500Z",
     "start_time": "2023-10-23T15:25:39.259424400Z"
    }
   },
   "id": "8778a3d7cb2003ad"
  },
  {
   "cell_type": "markdown",
   "source": [
    "# Reshape Function"
   ],
   "metadata": {
    "collapsed": false
   },
   "id": "50f138bad1f7dbd2"
  },
  {
   "cell_type": "code",
   "execution_count": 185,
   "outputs": [
    {
     "name": "stdout",
     "output_type": "stream",
     "text": [
      "Array Before reshaping.\n",
      "[[ 1  6 24 27]\n",
      " [19 17 14 44]\n",
      " [36 20  2  8]\n",
      " [46 30 10 21]]\n",
      "\n",
      "Array After Reshaping.\n",
      "[[ 1  6 24 27 19 17 14 44]\n",
      " [36 20  2  8 46 30 10 21]]\n",
      "[[ 1  6]\n",
      " [24 27]\n",
      " [19 17]\n",
      " [14 44]\n",
      " [36 20]\n",
      " [ 2  8]\n",
      " [46 30]\n",
      " [10 21]]\n"
     ]
    }
   ],
   "source": [
    "array11 = np.random.randint(low=1, high=50, size=[4,4])\n",
    "print(\"Array Before reshaping.\")\n",
    "print(array11)\n",
    "\n",
    "print()\n",
    "print(\"Array After Reshaping.\")\n",
    "array12 = array11.reshape(2,8)\n",
    "print(array12)\n",
    "array13 = array11.reshape([8,2])\n",
    "print(array13)"
   ],
   "metadata": {
    "collapsed": false,
    "ExecuteTime": {
     "end_time": "2023-10-23T15:31:20.298238100Z",
     "start_time": "2023-10-23T15:31:20.277990500Z"
    }
   },
   "id": "66cf73fd12525ab2"
  },
  {
   "cell_type": "markdown",
   "source": [
    "# Linspace Function"
   ],
   "metadata": {
    "collapsed": false
   },
   "id": "4144edbfc785ed85"
  },
  {
   "cell_type": "code",
   "execution_count": 196,
   "outputs": [
    {
     "name": "stdout",
     "output_type": "stream",
     "text": [
      "[  1.           8.61538462  16.23076923  23.84615385  31.46153846\n",
      "  39.07692308  46.69230769  54.30769231  61.92307692  69.53846154\n",
      "  77.15384615  84.76923077  92.38461538 100.        ]\n"
     ]
    }
   ],
   "source": [
    "array14 = np.linspace(1,100,14) # Returns an array of given size between the given numbers only 1-d array.\n",
    "print(array14)"
   ],
   "metadata": {
    "collapsed": false,
    "ExecuteTime": {
     "end_time": "2023-10-23T15:35:25.442581400Z",
     "start_time": "2023-10-23T15:35:25.437374800Z"
    }
   },
   "id": "89bc6f81570b2366"
  },
  {
   "cell_type": "markdown",
   "source": [
    "# Flatten Function."
   ],
   "metadata": {
    "collapsed": false
   },
   "id": "636a18dada530666"
  },
  {
   "cell_type": "code",
   "execution_count": 213,
   "outputs": [
    {
     "name": "stdout",
     "output_type": "stream",
     "text": [
      "[[1. 0. 0. 0.]\n",
      " [0. 1. 0. 0.]\n",
      " [0. 0. 1. 0.]\n",
      " [0. 0. 0. 1.]]\n",
      "[1. 0. 0. 0. 0. 1. 0. 0. 0. 0. 1. 0. 0. 0. 0. 1.]\n"
     ]
    }
   ],
   "source": [
    "array15 = np.eye(4,4)  # Returns the flatten array .i.e., 1-d array copy of the given array.\n",
    "print(array15)\n",
    "print(array15.flatten(\"K\"))"
   ],
   "metadata": {
    "collapsed": false,
    "ExecuteTime": {
     "end_time": "2023-10-23T15:40:09.295499Z",
     "start_time": "2023-10-23T15:40:09.257266700Z"
    }
   },
   "id": "c17227f01edd1d1b"
  },
  {
   "cell_type": "markdown",
   "source": [
    "# LogSpace Function"
   ],
   "metadata": {
    "collapsed": false
   },
   "id": "4c3fb3a87ee656d"
  },
  {
   "cell_type": "code",
   "execution_count": 240,
   "outputs": [
    {
     "name": "stdout",
     "output_type": "stream",
     "text": [
      "[ 2.  4.  8. 16. 32.]\n"
     ]
    }
   ],
   "source": [
    "array16 = np.logspace(1,5,5,base=2)\n",
    "print(array16)"
   ],
   "metadata": {
    "collapsed": false,
    "ExecuteTime": {
     "end_time": "2023-10-23T15:48:45.283511Z",
     "start_time": "2023-10-23T15:48:45.240457100Z"
    }
   },
   "id": "88767280f59a143f"
  },
  {
   "cell_type": "markdown",
   "source": [
    "# Copy Function"
   ],
   "metadata": {
    "collapsed": false
   },
   "id": "e8b8f6514bd22d06"
  },
  {
   "cell_type": "code",
   "execution_count": 242,
   "outputs": [
    {
     "name": "stdout",
     "output_type": "stream",
     "text": [
      "[ 2.  4.  8. 16. 32.] 2329219633808\n",
      "[ 2.  4.  8. 16. 32.] 2329215662288\n"
     ]
    }
   ],
   "source": [
    "array17 = np.copy(array16)\n",
    "print(array17, id(array17))\n",
    "print(array16, id(array16))"
   ],
   "metadata": {
    "collapsed": false,
    "ExecuteTime": {
     "end_time": "2023-10-23T15:53:30.670468200Z",
     "start_time": "2023-10-23T15:53:30.633496600Z"
    }
   },
   "id": "dae5f8de62035a94"
  },
  {
   "cell_type": "markdown",
   "source": [
    "# Mathematical Functions."
   ],
   "metadata": {
    "collapsed": false
   },
   "id": "18b5cd117b5e4a4"
  },
  {
   "cell_type": "code",
   "execution_count": 256,
   "outputs": [
    {
     "name": "stdout",
     "output_type": "stream",
     "text": [
      "Array18        : \n",
      "[[29  4 82]\n",
      " [96 13 47]\n",
      " [44 52 17]]\n",
      "******************************\n",
      "Max of array18 : 96\n",
      "Min of array18 : 4\n",
      "Sum of array18 : 384\n",
      "******************************\n",
      "******************************\n",
      "Along the rows and columns.\n",
      "Max element in every column of array18 : [96 52 82]\n",
      "Max element in every row of array18 : [82 96 52]\n",
      "Min element in every column of array18 : [29  4 17]\n",
      "Min element in every row of array18 : [ 4 13 17]\n",
      "Sum of elements in every column of array18 : [169  69 146]\n",
      "Sum of elements in every row of array18 : [115 156 113]\n"
     ]
    }
   ],
   "source": [
    "# Max, Min and Sum functions for arrays.\n",
    "\n",
    "\n",
    "array18 = np.random.randint(1,100,[3,3])\n",
    "print(f\"Array18        : \\n{array18}\")\n",
    "print('*'*30)\n",
    "print(f\"Max of array18 : {array18.max()}\")\n",
    "print(f\"Min of array18 : {array18.min()}\")\n",
    "print(f\"Sum of array18 : {array18.sum()}\")\n",
    "print('*'*30)\n",
    "print('*'*30)\n",
    "print(\"Along the rows and columns.\")\n",
    "print(f\"Max element in every column of array18 : {array18.max(axis=0)}\")\n",
    "print(f\"Max element in every row of array18 : {array18.max(axis = 1)}\")\n",
    "print(f\"Min element in every column of array18 : {array18.min(axis=0)}\")\n",
    "print(f\"Min element in every row of array18 : {array18.min(axis = 1)}\")\n",
    "print(f\"Sum of elements in every column of array18 : {array18.sum(axis=0)}\")\n",
    "print(f\"Sum of elements in every row of array18 : {array18.sum(axis = 1)}\")"
   ],
   "metadata": {
    "collapsed": false,
    "ExecuteTime": {
     "end_time": "2023-10-24T11:36:56.116524500Z",
     "start_time": "2023-10-24T11:36:56.054965300Z"
    }
   },
   "id": "a175d1af15043837"
  },
  {
   "cell_type": "markdown",
   "source": [
    "# Seed Function\n",
    "\n",
    "\n",
    "#### Gives a pseudo random numbers.\n",
    "#### Based on the seed's value the random values will be determined. If a same seed value is used we will get the same random numbers."
   ],
   "metadata": {
    "collapsed": false
   },
   "id": "866fa9b505d98b9c"
  },
  {
   "cell_type": "code",
   "execution_count": 3,
   "outputs": [
    {
     "name": "stdout",
     "output_type": "stream",
     "text": [
      "[[79 62 17]\n",
      " [74  9 63]\n",
      " [28 31 81]]\n",
      "[[ 8 77]\n",
      " [16 54]]\n",
      "[[ 1.07016333  0.50065426  0.78967626]\n",
      " [-0.76902721 -0.18222224 -0.23966088]\n",
      " [-1.0915832   3.28631026  0.07453116]]\n"
     ]
    }
   ],
   "source": [
    "np.random.seed(seed=5)\n",
    "\n",
    "array19 = np.random.randint(1,100,[3,3])\n",
    "print(array19)\n",
    "\n",
    "array20 = np.random.randint(1,100,[2,2])\n",
    "print(array20)\n",
    "\n",
    "array21 = np.random.randn(3,3)\n",
    "print(array21)"
   ],
   "metadata": {
    "collapsed": false,
    "ExecuteTime": {
     "end_time": "2023-11-13T09:22:11.965554700Z",
     "start_time": "2023-11-13T09:22:11.942748700Z"
    }
   },
   "id": "f43fd112e7286f19"
  },
  {
   "cell_type": "markdown",
   "source": [
    "# Sorting Function"
   ],
   "metadata": {
    "collapsed": false
   },
   "id": "17820a9f4168c2b9"
  },
  {
   "cell_type": "code",
   "execution_count": 289,
   "outputs": [
    {
     "name": "stdout",
     "output_type": "stream",
     "text": [
      "Array Before Sorting.\n",
      "[[35 31 78]\n",
      " [98 36 30]\n",
      " [ 2 83 21]]\n",
      "------------------------------\n",
      "Array After Sorting.\n",
      "[[31 35 78]\n",
      " [30 36 98]\n",
      " [ 2 21 83]]\n",
      "------------------------------\n",
      "Array after sorting along the columns.\n",
      "[[ 2 31 21]\n",
      " [35 36 30]\n",
      " [98 83 78]]\n",
      "------------------------------\n",
      "------------------------------\n",
      "[[ 2 21 30]\n",
      " [31 35 36]\n",
      " [78 83 98]]\n"
     ]
    }
   ],
   "source": [
    "array22 = np.random.randint(1,100,[3,3])\n",
    "print(\"Array Before Sorting.\")\n",
    "print(array22)\n",
    "print(\"-\"*30)\n",
    "print(\"Array After Sorting.\")\n",
    "# array22.sort() # Axis is default value is set to -1. Which basically performs the same as the axis = 1\n",
    "print(np.sort(array22, axis = 1))\n",
    "print(\"-\"*30)\n",
    "print(\"Array after sorting along the columns.\")\n",
    "# array22.sort(axis=0)\n",
    "print(np.sort(array22, axis = 0))\n",
    "\n",
    "\n",
    "print(\"-\"*30)\n",
    "print(\"-\"*30)\n",
    "# To make the whole array sorted, we can use flatten() function, sort and reshape.\n",
    "dims = array22.shape # Storing the dimension's values.\n",
    "# array22 = array22.flatten()\n",
    "# array22.sort(kind='mergesort')\n",
    "# array22 = array22.reshape(dims)\n",
    "\n",
    "array22 = np.reshape(np.sort(array22.flatten()),dims)\n",
    "print(array22)"
   ],
   "metadata": {
    "collapsed": false,
    "ExecuteTime": {
     "end_time": "2023-10-24T12:09:44.714887600Z",
     "start_time": "2023-10-24T12:09:44.680150Z"
    }
   },
   "id": "98b11ef03636d166"
  },
  {
   "cell_type": "markdown",
   "source": [
    "# Mathematical Operations."
   ],
   "metadata": {
    "collapsed": false
   },
   "id": "d41b03e0510839a2"
  },
  {
   "cell_type": "code",
   "execution_count": 302,
   "outputs": [
    {
     "name": "stdout",
     "output_type": "stream",
     "text": [
      "[[31 94 79]\n",
      " [15 99  9]\n",
      " [58 82 41]]\n"
     ]
    }
   ],
   "source": [
    "array23 = np.random.randint(1,100,[3,3])\n",
    "print(array23)"
   ],
   "metadata": {
    "collapsed": false,
    "ExecuteTime": {
     "end_time": "2023-10-24T12:20:59.893328400Z",
     "start_time": "2023-10-24T12:20:59.845454500Z"
    }
   },
   "id": "ff69d504183f6889"
  },
  {
   "cell_type": "markdown",
   "source": [
    "### Addition"
   ],
   "metadata": {
    "collapsed": false
   },
   "id": "65350f7456cc5e82"
  },
  {
   "cell_type": "code",
   "execution_count": 304,
   "outputs": [
    {
     "name": "stdout",
     "output_type": "stream",
     "text": [
      "[[31 94 79]\n",
      " [15 99  9]\n",
      " [58 82 41]]\n",
      "------------------------------\n",
      "[[ 32  95  80]\n",
      " [ 16 100  10]\n",
      " [ 59  83  42]]\n",
      "------------------------------\n",
      "------------------------------\n",
      "[[ 32  95  80]\n",
      " [ 16 100  10]\n",
      " [ 59  83  42]]\n"
     ]
    }
   ],
   "source": [
    "print(array23)\n",
    "print(\"-\"*30)\n",
    "print(array23+1)\n",
    "print(\"-\"*30)\n",
    "print(\"-\"*30)\n",
    "print(np.add(array23,1))"
   ],
   "metadata": {
    "collapsed": false,
    "ExecuteTime": {
     "end_time": "2023-10-24T12:21:12.608585900Z",
     "start_time": "2023-10-24T12:21:12.567732900Z"
    }
   },
   "id": "7f2c3ccda8d1b7ea"
  },
  {
   "cell_type": "markdown",
   "source": [
    "### Subtraction"
   ],
   "metadata": {
    "collapsed": false
   },
   "id": "a215698a787d9bfa"
  },
  {
   "cell_type": "code",
   "execution_count": 305,
   "outputs": [
    {
     "name": "stdout",
     "output_type": "stream",
     "text": [
      "[[31 94 79]\n",
      " [15 99  9]\n",
      " [58 82 41]]\n",
      "------------------------------\n",
      "[[30 93 78]\n",
      " [14 98  8]\n",
      " [57 81 40]]\n",
      "------------------------------\n",
      "------------------------------\n",
      "[[30 93 78]\n",
      " [14 98  8]\n",
      " [57 81 40]]\n"
     ]
    }
   ],
   "source": [
    "print(array23)\n",
    "print(\"-\"*30)\n",
    "print(array23 - 1)\n",
    "print(\"-\"*30)\n",
    "print(\"-\"*30)\n",
    "print(np.subtract(array23,1))"
   ],
   "metadata": {
    "collapsed": false,
    "ExecuteTime": {
     "end_time": "2023-10-24T12:21:16.836480Z",
     "start_time": "2023-10-24T12:21:16.797133100Z"
    }
   },
   "id": "8575b3535bb6304e"
  },
  {
   "cell_type": "markdown",
   "source": [
    "### Multiplication"
   ],
   "metadata": {
    "collapsed": false
   },
   "id": "d2dd93919ffe4eae"
  },
  {
   "cell_type": "code",
   "execution_count": 306,
   "outputs": [
    {
     "name": "stdout",
     "output_type": "stream",
     "text": [
      "[[31 94 79]\n",
      " [15 99  9]\n",
      " [58 82 41]]\n",
      "------------------------------\n",
      "[[ 62 188 158]\n",
      " [ 30 198  18]\n",
      " [116 164  82]]\n",
      "------------------------------\n",
      "------------------------------\n",
      "[[ 62 188 158]\n",
      " [ 30 198  18]\n",
      " [116 164  82]]\n"
     ]
    }
   ],
   "source": [
    "print(array23)\n",
    "print(\"-\"*30)\n",
    "print(array23 * 2)\n",
    "print(\"-\"*30)\n",
    "print(\"-\"*30)\n",
    "print(np.multiply(array23,2))"
   ],
   "metadata": {
    "collapsed": false,
    "ExecuteTime": {
     "end_time": "2023-10-24T12:21:24.788473100Z",
     "start_time": "2023-10-24T12:21:24.770707900Z"
    }
   },
   "id": "4898329f821bede8"
  },
  {
   "cell_type": "markdown",
   "source": [
    "### Division"
   ],
   "metadata": {
    "collapsed": false
   },
   "id": "dc3269b1f6824ff0"
  },
  {
   "cell_type": "code",
   "execution_count": 308,
   "outputs": [
    {
     "name": "stdout",
     "output_type": "stream",
     "text": [
      "[[31 94 79]\n",
      " [15 99  9]\n",
      " [58 82 41]]\n",
      "------------------------------\n",
      "[[15.5 47.  39.5]\n",
      " [ 7.5 49.5  4.5]\n",
      " [29.  41.  20.5]]\n",
      "------------------------------\n",
      "------------------------------\n",
      "[[15.5 47.  39.5]\n",
      " [ 7.5 49.5  4.5]\n",
      " [29.  41.  20.5]]\n"
     ]
    }
   ],
   "source": [
    "print(array23)\n",
    "print(\"-\"*30)\n",
    "print(array23 / 2)\n",
    "print(\"-\"*30)\n",
    "print(\"-\"*30)\n",
    "print(np.divide(array23,2))"
   ],
   "metadata": {
    "collapsed": false,
    "ExecuteTime": {
     "end_time": "2023-10-24T12:21:48.112466800Z",
     "start_time": "2023-10-24T12:21:48.070817400Z"
    }
   },
   "id": "5ab0c84378ff5aeb"
  },
  {
   "cell_type": "markdown",
   "source": [
    "### Matrix Multiplication"
   ],
   "metadata": {
    "collapsed": false
   },
   "id": "c4be21d91e7ef8e9"
  },
  {
   "cell_type": "code",
   "execution_count": 331,
   "outputs": [
    {
     "name": "stdout",
     "output_type": "stream",
     "text": [
      "[[31 94 79]\n",
      " [15 99  9]\n",
      " [58 82 41]]\n",
      "------------------------------\n",
      "[[ 1  7 27]\n",
      " [ 5 82 13]\n",
      " [96 64 99]]\n",
      "------------------------------\n",
      "[[62 95 92 76]\n",
      " [63 52  3 97]\n",
      " [20  8 77 67]]\n"
     ]
    }
   ],
   "source": [
    "# Creating two arrays.\n",
    "array24 = np.random.randint(1,100,[3,3])\n",
    "array25 = np.random.randint(1,100,[3,4])\n",
    "print(array23)\n",
    "print(\"-\"*30)\n",
    "print(array24)\n",
    "print(\"-\"*30)\n",
    "print(array25)"
   ],
   "metadata": {
    "collapsed": false,
    "ExecuteTime": {
     "end_time": "2023-10-24T14:06:48.610702Z",
     "start_time": "2023-10-24T14:06:48.580886200Z"
    }
   },
   "id": "5141a962bae9f073"
  },
  {
   "cell_type": "markdown",
   "source": [
    "##### Normal Matrix Multiplication"
   ],
   "metadata": {
    "collapsed": false
   },
   "id": "91a55b249db457e"
  },
  {
   "cell_type": "code",
   "execution_count": 332,
   "outputs": [
    {
     "name": "stdout",
     "output_type": "stream",
     "text": [
      "[[  31  658 2133]\n",
      " [  75 8118  117]\n",
      " [5568 5248 4059]]\n"
     ]
    }
   ],
   "source": [
    "print(array23 * array24) # Multiplies the corresponding elements."
   ],
   "metadata": {
    "collapsed": false,
    "ExecuteTime": {
     "end_time": "2023-10-24T14:06:53.658771700Z",
     "start_time": "2023-10-24T14:06:53.598202400Z"
    }
   },
   "id": "7172c251550bdac9"
  },
  {
   "cell_type": "markdown",
   "source": [
    "##### Dot Matrix Multiplication"
   ],
   "metadata": {
    "collapsed": false
   },
   "id": "2b344cd611358693"
  },
  {
   "cell_type": "code",
   "execution_count": 333,
   "outputs": [
    {
     "name": "stdout",
     "output_type": "stream",
     "text": [
      "[[ 8085 12981  9880]\n",
      " [ 1374  8799  2583]\n",
      " [ 4404  9754  6691]]\n",
      "[[ 8085 12981  9880]\n",
      " [ 1374  8799  2583]\n",
      " [ 4404  9754  6691]]\n",
      "------------------------------\n",
      "------------------------------\n",
      "[[ 1043   675  2192  2564]\n",
      " [ 5736  4843  1707  9205]\n",
      " [11964 13240 16647 20137]]\n",
      "[[ 1043   675  2192  2564]\n",
      " [ 5736  4843  1707  9205]\n",
      " [11964 13240 16647 20137]]\n"
     ]
    }
   ],
   "source": [
    "print(array23.dot(array24))\n",
    "print(array23 @ array24)\n",
    "print(\"-\"*30)\n",
    "print(\"-\"*30)\n",
    "print(array24.dot(array25))\n",
    "print(array24 @ array25)"
   ],
   "metadata": {
    "collapsed": false,
    "ExecuteTime": {
     "end_time": "2023-10-24T14:06:55.679623500Z",
     "start_time": "2023-10-24T14:06:55.642264700Z"
    }
   },
   "id": "7f2460601e137a30"
  },
  {
   "cell_type": "markdown",
   "source": [
    "### Power Function\n"
   ],
   "metadata": {
    "collapsed": false
   },
   "id": "94b5b44831ece482"
  },
  {
   "cell_type": "code",
   "execution_count": 337,
   "outputs": [
    {
     "name": "stdout",
     "output_type": "stream",
     "text": [
      "[[   1   49  729]\n",
      " [  25 6724  169]\n",
      " [9216 4096 9801]]\n"
     ]
    }
   ],
   "source": [
    "print(array24 ** 2)"
   ],
   "metadata": {
    "collapsed": false,
    "ExecuteTime": {
     "end_time": "2023-10-24T14:08:38.875753800Z",
     "start_time": "2023-10-24T14:08:38.853055900Z"
    }
   },
   "id": "d765e1b34eed13c7"
  },
  {
   "cell_type": "markdown",
   "source": [
    "# Percentile Function"
   ],
   "metadata": {
    "collapsed": false
   },
   "id": "35cd6cfd6dbaa185"
  },
  {
   "cell_type": "code",
   "execution_count": 345,
   "outputs": [
    {
     "name": "stdout",
     "output_type": "stream",
     "text": [
      "[27. 82. 99.]\n",
      "[96. 82. 99.]\n"
     ]
    }
   ],
   "source": [
    "print(np.percentile(array24, 100, axis=1))\n",
    "print(np.percentile(array24, 100, axis=0))"
   ],
   "metadata": {
    "collapsed": false,
    "ExecuteTime": {
     "end_time": "2023-10-24T14:22:09.323643300Z",
     "start_time": "2023-10-24T14:22:09.276226500Z"
    }
   },
   "id": "a69e0ef34cdf3e8a"
  },
  {
   "cell_type": "markdown",
   "source": [
    "# Mean, Std and Variance."
   ],
   "metadata": {
    "collapsed": false
   },
   "id": "f5e219c50c81b6df"
  },
  {
   "cell_type": "code",
   "execution_count": 349,
   "outputs": [
    {
     "name": "stdout",
     "output_type": "stream",
     "text": [
      "[[75 71 49 56]\n",
      " [52 98 40  1]]\n"
     ]
    }
   ],
   "source": [
    "array26 = np.random.randint(1,100,[2,4])\n",
    "print(array26)"
   ],
   "metadata": {
    "collapsed": false,
    "ExecuteTime": {
     "end_time": "2023-10-24T14:25:00.182168800Z",
     "start_time": "2023-10-24T14:25:00.142315900Z"
    }
   },
   "id": "4bd55dfa20739ee9"
  },
  {
   "cell_type": "markdown",
   "source": [
    "### Mean"
   ],
   "metadata": {
    "collapsed": false
   },
   "id": "45b66999931f1f78"
  },
  {
   "cell_type": "code",
   "execution_count": 352,
   "outputs": [
    {
     "name": "stdout",
     "output_type": "stream",
     "text": [
      "[[75 71 49 56]\n",
      " [52 98 40  1]]\n",
      "Mean of the array26 : 55.25\n",
      "Mean among the rows : [62.75 47.75]\n",
      "Mean among the columns : [63.5 84.5 44.5 28.5]\n"
     ]
    }
   ],
   "source": [
    "print(array26)\n",
    "print(f\"Mean of the array26 : {array26.mean()}\")\n",
    "print(f\"Mean among the rows : {array26.mean(axis=1)}\")\n",
    "print(f\"Mean among the columns : {array26.mean(axis=0)}\")"
   ],
   "metadata": {
    "collapsed": false,
    "ExecuteTime": {
     "end_time": "2023-10-24T14:28:08.979686600Z",
     "start_time": "2023-10-24T14:28:08.917800600Z"
    }
   },
   "id": "eef9ae90841fc7c"
  },
  {
   "cell_type": "markdown",
   "source": [
    "# Std"
   ],
   "metadata": {
    "collapsed": false
   },
   "id": "dd582044702b273d"
  },
  {
   "cell_type": "code",
   "execution_count": 353,
   "outputs": [
    {
     "name": "stdout",
     "output_type": "stream",
     "text": [
      "[[75 71 49 56]\n",
      " [52 98 40  1]]\n",
      "Std of the array26 : 26.672785756272255\n",
      "Std among the rows : [10.63896142 34.6003974 ]\n",
      "Std among the columns : [11.5 13.5  4.5 27.5]\n"
     ]
    }
   ],
   "source": [
    "print(array26)\n",
    "print(f\"Std of the array26 : {array26.std()}\")\n",
    "print(f\"Std among the rows : {array26.std(axis=1)}\")\n",
    "print(f\"Std among the columns : {array26.std(axis=0)}\")"
   ],
   "metadata": {
    "collapsed": false,
    "ExecuteTime": {
     "end_time": "2023-10-24T14:29:52.379895700Z",
     "start_time": "2023-10-24T14:29:52.347828300Z"
    }
   },
   "id": "90819f8eee54e840"
  },
  {
   "cell_type": "markdown",
   "source": [
    "# Variance"
   ],
   "metadata": {
    "collapsed": false
   },
   "id": "718682667b337834"
  },
  {
   "cell_type": "code",
   "execution_count": 354,
   "outputs": [
    {
     "name": "stdout",
     "output_type": "stream",
     "text": [
      "[[75 71 49 56]\n",
      " [52 98 40  1]]\n",
      "Variance of the array26 : 711.4375\n",
      "Variance among the rows : [ 113.1875 1197.1875]\n",
      "Variance among the columns : [132.25 182.25  20.25 756.25]\n"
     ]
    }
   ],
   "source": [
    "print(array26)\n",
    "print(f\"Variance of the array26 : {array26.var()}\")\n",
    "print(f\"Variance among the rows : {array26.var(axis=1)}\")\n",
    "print(f\"Variance among the columns : {array26.var(axis=0)}\")"
   ],
   "metadata": {
    "collapsed": false,
    "ExecuteTime": {
     "end_time": "2023-10-24T14:31:30.337929700Z",
     "start_time": "2023-10-24T14:31:30.288446400Z"
    }
   },
   "id": "1d73e754ca0398f3"
  },
  {
   "cell_type": "markdown",
   "source": [
    "# Filtering in arrays."
   ],
   "metadata": {
    "collapsed": false
   },
   "id": "ce8c9e705d5b3371"
  },
  {
   "cell_type": "code",
   "execution_count": 366,
   "outputs": [
    {
     "name": "stdout",
     "output_type": "stream",
     "text": [
      "[  1.  12.  23.  34.  45.  56.  67.  78.  89. 100.]\n",
      "[False False False False False  True  True  True  True  True]\n",
      "[ 56.  67.  78.  89. 100.]\n",
      "[ 45.  45.  45.  45.  45.  56.  67.  78.  89. 100.]\n"
     ]
    }
   ],
   "source": [
    "array27 = np.linspace(1,100,10)\n",
    "print(array27)\n",
    "print(array27 > 45)\n",
    "print(array27[array27 > 45])\n",
    "\n",
    "\n",
    "# We can even replace the values.\n",
    "array27[array27 < 45] = 45\n",
    "print(array27)"
   ],
   "metadata": {
    "collapsed": false,
    "ExecuteTime": {
     "end_time": "2023-10-24T14:40:44.442800300Z",
     "start_time": "2023-10-24T14:40:44.302215600Z"
    }
   },
   "id": "db80309fe4ebe374"
  },
  {
   "cell_type": "markdown",
   "source": [
    "# Transpose of Arrays [ 2-d are greater dimension arrays only]"
   ],
   "metadata": {
    "collapsed": false
   },
   "id": "5a81dee94d844aea"
  },
  {
   "cell_type": "code",
   "execution_count": 389,
   "outputs": [
    {
     "name": "stdout",
     "output_type": "stream",
     "text": [
      "[[  8.          11.75787594  17.28095582  25.39841683  37.32892927]\n",
      " [ 54.8636149   80.63494719 118.51196317 174.18112002 256.        ]]\n",
      "******************************\n",
      "Transpose of array28\n",
      "[[  8.          54.8636149 ]\n",
      " [ 11.75787594  80.63494719]\n",
      " [ 17.28095582 118.51196317]\n",
      " [ 25.39841683 174.18112002]\n",
      " [ 37.32892927 256.        ]]\n",
      "[[  8.          54.8636149 ]\n",
      " [ 11.75787594  80.63494719]\n",
      " [ 17.28095582 118.51196317]\n",
      " [ 25.39841683 174.18112002]\n",
      " [ 37.32892927 256.        ]]\n"
     ]
    }
   ],
   "source": [
    "array28 = np.logspace(3,8,10,base=2).reshape([2,5])\n",
    "print(array28)\n",
    "\n",
    "print(\"*\"*30)\n",
    "print(\"Transpose of array28\")\n",
    "print(array28.T)\n",
    "# print(array28.transpose()) Same as the above but as a function not as member"
   ],
   "metadata": {
    "collapsed": false,
    "ExecuteTime": {
     "end_time": "2023-10-24T15:48:55.947287200Z",
     "start_time": "2023-10-24T15:48:55.906371600Z"
    }
   },
   "id": "7bf2725e3707c5e0"
  },
  {
   "cell_type": "markdown",
   "source": [
    "# Inverse"
   ],
   "metadata": {
    "collapsed": false
   },
   "id": "44774ab864bfc8f6"
  },
  {
   "cell_type": "code",
   "execution_count": 385,
   "outputs": [
    {
     "name": "stdout",
     "output_type": "stream",
     "text": [
      "[[ 1.  4.]\n",
      " [ 7. 10.]]\n",
      "Inverse.\n",
      "[[-0.55555556  0.22222222]\n",
      " [ 0.38888889 -0.05555556]]\n",
      "[[1. 0.]\n",
      " [0. 1.]]\n"
     ]
    }
   ],
   "source": [
    "# Inverse of the matrix\n",
    "array29 = np.linspace(1,10,4).reshape([2,2])\n",
    "print(array29)\n",
    "print(\"Inverse.\")\n",
    "print(np.linalg.inv(array29))\n",
    "\n",
    "print(array29 @ np.linalg.inv(array29))"
   ],
   "metadata": {
    "collapsed": false,
    "ExecuteTime": {
     "end_time": "2023-10-24T14:52:12.694712800Z",
     "start_time": "2023-10-24T14:52:12.659766900Z"
    }
   },
   "id": "3bf5d6eabc61d8fd"
  },
  {
   "cell_type": "markdown",
   "source": [
    "# Where Function"
   ],
   "metadata": {
    "collapsed": false
   },
   "id": "3359514af23916f7"
  },
  {
   "cell_type": "code",
   "execution_count": 399,
   "outputs": [
    {
     "name": "stdout",
     "output_type": "stream",
     "text": [
      "[35 48 59  2 19 54  2 86 62 81 18 54 74]\n",
      "['35' 'Even' '59' 'Even' '19' 'Even' 'Even' 'Even' 'Even' '81' 'Even'\n",
      " 'Even' 'Even']\n"
     ]
    }
   ],
   "source": [
    "array30 = np.random.randint(1,100,13)\n",
    "print(array30)\n",
    "print(np.where(array30 % 2 == 0, 'Even',array30))"
   ],
   "metadata": {
    "collapsed": false,
    "ExecuteTime": {
     "end_time": "2023-10-24T15:56:39.136707800Z",
     "start_time": "2023-10-24T15:56:39.096798200Z"
    }
   },
   "id": "24f61fccb836abeb"
  },
  {
   "cell_type": "markdown",
   "source": [
    "# Merging Arrays."
   ],
   "metadata": {
    "collapsed": false
   },
   "id": "80176688dd9a9c0d"
  },
  {
   "cell_type": "code",
   "execution_count": 403,
   "outputs": [
    {
     "name": "stdout",
     "output_type": "stream",
     "text": [
      "[[82 56  4 30]\n",
      " [21 43 10 65]]\n",
      "[[73  2 86 91]\n",
      " [83 65 62 65]]\n"
     ]
    }
   ],
   "source": [
    "array31 = np.random.randint(1,100,[2,4])\n",
    "array32 = np.random.randint(1,100,[2,4])\n",
    "print(array31)\n",
    "print(array32)"
   ],
   "metadata": {
    "collapsed": false,
    "ExecuteTime": {
     "end_time": "2023-10-24T16:23:16.980091300Z",
     "start_time": "2023-10-24T16:23:16.928337700Z"
    }
   },
   "id": "d1c665a5fb7ea89c"
  },
  {
   "cell_type": "markdown",
   "source": [
    "### Using concatenate() Function"
   ],
   "metadata": {
    "collapsed": false
   },
   "id": "f396726f79a9b1db"
  },
  {
   "cell_type": "code",
   "execution_count": 404,
   "outputs": [
    {
     "name": "stdout",
     "output_type": "stream",
     "text": [
      "[[82 56  4 30 73  2 86 91]\n",
      " [21 43 10 65 83 65 62 65]]\n",
      "[[82 56  4 30]\n",
      " [21 43 10 65]\n",
      " [73  2 86 91]\n",
      " [83 65 62 65]]\n"
     ]
    }
   ],
   "source": [
    "print(np.concatenate([array31, array32],axis=1)) # Concatenates the array's row wise.\n",
    "print(np.concatenate([array31, array32],axis=0)) # Concatenates the array's column wise"
   ],
   "metadata": {
    "collapsed": false,
    "ExecuteTime": {
     "end_time": "2023-10-24T16:23:28.266889600Z",
     "start_time": "2023-10-24T16:23:28.213403600Z"
    }
   },
   "id": "5280314831564465"
  },
  {
   "cell_type": "markdown",
   "source": [
    "### Using vstack() Function."
   ],
   "metadata": {
    "collapsed": false
   },
   "id": "3c96faa4807f4091"
  },
  {
   "cell_type": "code",
   "execution_count": 408,
   "outputs": [
    {
     "name": "stdout",
     "output_type": "stream",
     "text": [
      "[[82 56  4 30]\n",
      " [21 43 10 65]\n",
      " [73  2 86 91]\n",
      " [83 65 62 65]]\n"
     ]
    }
   ],
   "source": [
    "print(np.vstack([array31,array32])) # Adds the array's column wise."
   ],
   "metadata": {
    "collapsed": false,
    "ExecuteTime": {
     "end_time": "2023-10-24T16:25:39.275234800Z",
     "start_time": "2023-10-24T16:25:39.246506300Z"
    }
   },
   "id": "669f0d2b5224fb77"
  },
  {
   "cell_type": "markdown",
   "source": [
    "### Using hstack() Function."
   ],
   "metadata": {
    "collapsed": false
   },
   "id": "3fd68c6f8fbaf10"
  },
  {
   "cell_type": "code",
   "execution_count": 407,
   "outputs": [
    {
     "name": "stdout",
     "output_type": "stream",
     "text": [
      "[[82 56  4 30 73  2 86 91]\n",
      " [21 43 10 65 83 65 62 65]]\n"
     ]
    }
   ],
   "source": [
    "print(np.hstack((array31, array32))) # Adds the array's rows wise"
   ],
   "metadata": {
    "collapsed": false,
    "ExecuteTime": {
     "end_time": "2023-10-24T16:25:36.420944900Z",
     "start_time": "2023-10-24T16:25:36.376074800Z"
    }
   },
   "id": "e598161f46189c07"
  },
  {
   "cell_type": "markdown",
   "source": [
    "# Splitting The Arrays."
   ],
   "metadata": {
    "collapsed": false
   },
   "id": "679218834b5ff62c"
  },
  {
   "cell_type": "code",
   "execution_count": 426,
   "outputs": [
    {
     "name": "stdout",
     "output_type": "stream",
     "text": [
      "[[ 1  2  3  4]\n",
      " [ 5  6  7  8]\n",
      " [ 9 10 11 12]\n",
      " [13 14 15 16]]\n",
      "\n",
      "[array([[1, 2, 3, 4],\n",
      "       [5, 6, 7, 8]]), array([[ 9, 10, 11, 12],\n",
      "       [13, 14, 15, 16]])]\n",
      "[array([[ 1,  2],\n",
      "       [ 5,  6],\n",
      "       [ 9, 10],\n",
      "       [13, 14]]), array([[ 3,  4],\n",
      "       [ 7,  8],\n",
      "       [11, 12],\n",
      "       [15, 16]])]\n",
      "[array([[1, 2, 3, 4],\n",
      "       [5, 6, 7, 8]]), array([[ 9, 10, 11, 12],\n",
      "       [13, 14, 15, 16]])]\n",
      "[array([[ 1,  2],\n",
      "       [ 5,  6],\n",
      "       [ 9, 10],\n",
      "       [13, 14]]), array([[ 3,  4],\n",
      "       [ 7,  8],\n",
      "       [11, 12],\n",
      "       [15, 16]])]\n"
     ]
    }
   ],
   "source": [
    "array33 = np.arange(1,17).reshape(4,4)\n",
    "print(array33)\n",
    "print()\n",
    "print(np.split(array33,2, axis=0))\n",
    "print(np.split(array33,2, axis=1))\n",
    "\n",
    "\n",
    "\n",
    "print(np.vsplit(array33,2))\n",
    "print(np.hsplit(array33,2))"
   ],
   "metadata": {
    "collapsed": false,
    "ExecuteTime": {
     "end_time": "2023-10-24T16:31:44.897697400Z",
     "start_time": "2023-10-24T16:31:44.861176Z"
    }
   },
   "id": "3e458a4cc626bb6d"
  },
  {
   "cell_type": "markdown",
   "source": [
    "# Turning pics into numpy arrays."
   ],
   "metadata": {
    "collapsed": false
   },
   "id": "9e5557e4042a9a48"
  },
  {
   "cell_type": "code",
   "execution_count": 427,
   "outputs": [],
   "source": [
    "from matplotlib.image import imread"
   ],
   "metadata": {
    "collapsed": false,
    "ExecuteTime": {
     "end_time": "2023-10-25T14:52:04.611113500Z",
     "start_time": "2023-10-25T14:51:58.740380200Z"
    }
   },
   "id": "2154cb34465e0f19"
  },
  {
   "cell_type": "code",
   "execution_count": 3,
   "outputs": [],
   "source": [
    "import os"
   ],
   "metadata": {
    "collapsed": false,
    "ExecuteTime": {
     "end_time": "2023-11-16T17:42:50.630110Z",
     "start_time": "2023-11-16T17:42:50.576027400Z"
    }
   },
   "id": "56af97d413bb0ad8"
  },
  {
   "cell_type": "code",
   "execution_count": 429,
   "outputs": [
    {
     "data": {
      "text/plain": "'C:\\\\Users\\\\Asus\\\\Desktop\\\\DataScieneLearning\\\\Libraries\\\\NoteBooks'"
     },
     "execution_count": 429,
     "metadata": {},
     "output_type": "execute_result"
    }
   ],
   "source": [
    "os.getcwd()"
   ],
   "metadata": {
    "collapsed": false,
    "ExecuteTime": {
     "end_time": "2023-10-25T14:52:28.488336400Z",
     "start_time": "2023-10-25T14:52:28.376998200Z"
    }
   },
   "id": "76a22f0fe61c1338"
  },
  {
   "cell_type": "code",
   "execution_count": 430,
   "outputs": [],
   "source": [
    "os.chdir('../')"
   ],
   "metadata": {
    "collapsed": false,
    "ExecuteTime": {
     "end_time": "2023-10-25T14:53:38.589032900Z",
     "start_time": "2023-10-25T14:53:38.541495800Z"
    }
   },
   "id": "e586024482d3ed4c"
  },
  {
   "cell_type": "code",
   "execution_count": 431,
   "outputs": [
    {
     "data": {
      "text/plain": "'C:\\\\Users\\\\Asus\\\\Desktop\\\\DataScieneLearning\\\\Libraries'"
     },
     "execution_count": 431,
     "metadata": {},
     "output_type": "execute_result"
    }
   ],
   "source": [
    "os.getcwd()"
   ],
   "metadata": {
    "collapsed": false,
    "ExecuteTime": {
     "end_time": "2023-10-25T14:53:44.344758900Z",
     "start_time": "2023-10-25T14:53:44.303930400Z"
    }
   },
   "id": "fee5c383682e936f"
  },
  {
   "cell_type": "code",
   "execution_count": 5,
   "outputs": [],
   "source": [
    "os.chdir('C:\\\\Users\\\\Asus\\\\OneDrive\\\\Pictures')"
   ],
   "metadata": {
    "collapsed": false,
    "ExecuteTime": {
     "end_time": "2023-11-16T17:43:03.441833700Z",
     "start_time": "2023-11-16T17:43:03.414747400Z"
    }
   },
   "id": "390c9192bc865d86"
  },
  {
   "cell_type": "code",
   "execution_count": 4,
   "outputs": [
    {
     "data": {
      "text/plain": "'C:\\\\Users\\\\Asus\\\\Desktop\\\\DataScieneLearning\\\\Libraries\\\\NoteBooks'"
     },
     "execution_count": 4,
     "metadata": {},
     "output_type": "execute_result"
    }
   ],
   "source": [
    "os.getcwd()"
   ],
   "metadata": {
    "collapsed": false,
    "ExecuteTime": {
     "end_time": "2023-11-16T17:42:53.274736700Z",
     "start_time": "2023-11-16T17:42:53.197143300Z"
    }
   },
   "id": "867e92465f54ec1"
  },
  {
   "cell_type": "code",
   "execution_count": 8,
   "outputs": [
    {
     "name": "stdout",
     "output_type": "stream",
     "text": [
      "(885, 741, 4)\n",
      "1.0\n",
      "0.0\n",
      "0.013405425\n"
     ]
    }
   ],
   "source": [
    "from matplotlib.image import imread as ir\n",
    "# ! P1.PNG\n",
    "image1 = ir('P1.PNG')\n",
    "print(image1.shape)\n",
    "print(image1.max())\n",
    "print(image1.min())\n",
    "print(image1.var())"
   ],
   "metadata": {
    "collapsed": false,
    "ExecuteTime": {
     "end_time": "2023-11-16T17:43:27.476615600Z",
     "start_time": "2023-11-16T17:43:27.313182100Z"
    }
   },
   "id": "7990da0f45c15d49"
  }
 ],
 "metadata": {
  "kernelspec": {
   "display_name": "Python 3",
   "language": "python",
   "name": "python3"
  },
  "language_info": {
   "codemirror_mode": {
    "name": "ipython",
    "version": 2
   },
   "file_extension": ".py",
   "mimetype": "text/x-python",
   "name": "python",
   "nbconvert_exporter": "python",
   "pygments_lexer": "ipython2",
   "version": "2.7.6"
  }
 },
 "nbformat": 4,
 "nbformat_minor": 5
}
