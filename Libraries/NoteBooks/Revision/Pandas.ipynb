{
 "cells": [
  {
   "cell_type": "code",
   "execution_count": 5,
   "id": "initial_id",
   "metadata": {
    "collapsed": true,
    "ExecuteTime": {
     "end_time": "2024-02-04T13:36:18.167387600Z",
     "start_time": "2024-02-04T13:36:18.127669100Z"
    }
   },
   "outputs": [],
   "source": [
    "import numpy as np\n",
    "import pandas as pd"
   ]
  },
  {
   "cell_type": "code",
   "execution_count": 3,
   "outputs": [
    {
     "name": "stdout",
     "output_type": "stream",
     "text": [
      "0    1\n",
      "1    2\n",
      "2    3\n",
      "3    4\n",
      "dtype: int64\n"
     ]
    }
   ],
   "source": [
    "s1 = pd.Series([1,2,3,4])\n",
    "print(s1)"
   ],
   "metadata": {
    "collapsed": false,
    "ExecuteTime": {
     "end_time": "2024-02-04T13:35:38.748426400Z",
     "start_time": "2024-02-04T13:35:38.719782200Z"
    }
   },
   "id": "a2544ce70527ff08"
  },
  {
   "cell_type": "code",
   "execution_count": 6,
   "outputs": [],
   "source": [
    "s1.index = np.arange(1,5)"
   ],
   "metadata": {
    "collapsed": false,
    "ExecuteTime": {
     "end_time": "2024-02-04T13:36:23.749790300Z",
     "start_time": "2024-02-04T13:36:23.742916500Z"
    }
   },
   "id": "adf35b883778257f"
  },
  {
   "cell_type": "code",
   "execution_count": 7,
   "outputs": [
    {
     "name": "stdout",
     "output_type": "stream",
     "text": [
      "1    1\n",
      "2    2\n",
      "3    3\n",
      "4    4\n",
      "dtype: int64\n"
     ]
    }
   ],
   "source": [
    "print(s1)"
   ],
   "metadata": {
    "collapsed": false,
    "ExecuteTime": {
     "end_time": "2024-02-04T13:36:28.882099700Z",
     "start_time": "2024-02-04T13:36:28.852160Z"
    }
   },
   "id": "c8b8d2e6a1983e2e"
  },
  {
   "cell_type": "code",
   "execution_count": 14,
   "outputs": [
    {
     "name": "stdout",
     "output_type": "stream",
     "text": [
      "0     76\n",
      "1     46\n",
      "2     84\n",
      "3     81\n",
      "4     58\n",
      "5     56\n",
      "6      9\n",
      "7     46\n",
      "8     41\n",
      "9     80\n",
      "10    48\n",
      "11    78\n",
      "12    12\n",
      "13    95\n",
      "14    29\n",
      "15    59\n",
      "16    76\n",
      "17    72\n",
      "18    45\n",
      "19    96\n",
      "20    21\n",
      "21    35\n",
      "22    81\n",
      "23    11\n",
      "24    71\n",
      "dtype: int32\n"
     ]
    }
   ],
   "source": [
    "s2 = pd.Series(np.random.randint(1,100,25))\n",
    "print(s2)"
   ],
   "metadata": {
    "collapsed": false,
    "ExecuteTime": {
     "end_time": "2024-02-04T13:38:27.750596Z",
     "start_time": "2024-02-04T13:38:27.714149200Z"
    }
   },
   "id": "4b3bcb301cc77431"
  },
  {
   "cell_type": "code",
   "execution_count": 15,
   "outputs": [
    {
     "data": {
      "text/plain": "max      96.00\nmin       9.00\ncount    25.00\nmean     56.24\ndtype: float64"
     },
     "execution_count": 15,
     "metadata": {},
     "output_type": "execute_result"
    }
   ],
   "source": [
    "s2.aggregate(['max', 'min', 'count', 'mean'])"
   ],
   "metadata": {
    "collapsed": false,
    "ExecuteTime": {
     "end_time": "2024-02-04T13:39:27.049664400Z",
     "start_time": "2024-02-04T13:39:26.997949300Z"
    }
   },
   "id": "877999062f89af72"
  },
  {
   "cell_type": "code",
   "execution_count": 16,
   "outputs": [
    {
     "data": {
      "text/plain": "76    2\n81    2\n46    2\n95    1\n11    1\n35    1\n21    1\n96    1\n45    1\n72    1\n59    1\n29    1\n12    1\n78    1\n48    1\n80    1\n41    1\n9     1\n56    1\n58    1\n84    1\n71    1\nName: count, dtype: int64"
     },
     "execution_count": 16,
     "metadata": {},
     "output_type": "execute_result"
    }
   ],
   "source": [
    "s2.value_counts()"
   ],
   "metadata": {
    "collapsed": false,
    "ExecuteTime": {
     "end_time": "2024-02-04T14:55:29.603912800Z",
     "start_time": "2024-02-04T14:55:29.387208900Z"
    }
   },
   "id": "c52a09d50488269b"
  },
  {
   "cell_type": "code",
   "execution_count": 21,
   "outputs": [],
   "source": [
    "df1 = pd.DataFrame(np.random.randint(1,100,10), columns=['Random Numbers'], index=np.arange(1,11))"
   ],
   "metadata": {
    "collapsed": false,
    "ExecuteTime": {
     "end_time": "2024-02-04T14:57:31.795259300Z",
     "start_time": "2024-02-04T14:57:31.783016500Z"
    }
   },
   "id": "cb26084fc5911f17"
  },
  {
   "cell_type": "code",
   "execution_count": 22,
   "outputs": [
    {
     "name": "stdout",
     "output_type": "stream",
     "text": [
      "    Random Numbers\n",
      "1               29\n",
      "2               52\n",
      "3               53\n",
      "4               71\n",
      "5               87\n",
      "6               58\n",
      "7               78\n",
      "8               96\n",
      "9               41\n",
      "10              77\n"
     ]
    }
   ],
   "source": [
    "print(df1)"
   ],
   "metadata": {
    "collapsed": false,
    "ExecuteTime": {
     "end_time": "2024-02-04T14:57:33.742998400Z",
     "start_time": "2024-02-04T14:57:33.724126Z"
    }
   },
   "id": "6a9caba8ec9febf"
  },
  {
   "cell_type": "code",
   "execution_count": 23,
   "outputs": [],
   "source": [
    "df2 = pd.DataFrame([['Vikram', 21], ['Anil', 30], ['Jaya Lakshmi', 55], ['Trimurthulu', 65]], columns=['Name', 'Age'], index=np.arange(1,5))"
   ],
   "metadata": {
    "collapsed": false,
    "ExecuteTime": {
     "end_time": "2024-02-04T14:58:46.823863700Z",
     "start_time": "2024-02-04T14:58:46.776460Z"
    }
   },
   "id": "9bc10c692483016c"
  },
  {
   "cell_type": "code",
   "execution_count": 24,
   "outputs": [
    {
     "name": "stdout",
     "output_type": "stream",
     "text": [
      "           Name  Age\n",
      "1        Vikram   21\n",
      "2          Anil   30\n",
      "3  Jaya Lakshmi   55\n",
      "4   Trimurthulu   65\n"
     ]
    }
   ],
   "source": [
    "print(df2)"
   ],
   "metadata": {
    "collapsed": false,
    "ExecuteTime": {
     "end_time": "2024-02-04T14:58:52.471488700Z",
     "start_time": "2024-02-04T14:58:52.437827200Z"
    }
   },
   "id": "b673fa2a7efc8562"
  },
  {
   "cell_type": "code",
   "execution_count": 33,
   "outputs": [
    {
     "data": {
      "text/plain": "1    21\n2    30\n3    55\n4    65\nName: Age, dtype: int64"
     },
     "execution_count": 33,
     "metadata": {},
     "output_type": "execute_result"
    }
   ],
   "source": [
    "df2.loc[0:4,'Age']"
   ],
   "metadata": {
    "collapsed": false,
    "ExecuteTime": {
     "end_time": "2024-02-04T15:00:35.555326Z",
     "start_time": "2024-02-04T15:00:35.526999Z"
    }
   },
   "id": "6761afd5495e062f"
  },
  {
   "cell_type": "code",
   "execution_count": 38,
   "outputs": [
    {
     "data": {
      "text/plain": "   Name  Age\n2  Anil   30",
      "text/html": "<div>\n<style scoped>\n    .dataframe tbody tr th:only-of-type {\n        vertical-align: middle;\n    }\n\n    .dataframe tbody tr th {\n        vertical-align: top;\n    }\n\n    .dataframe thead th {\n        text-align: right;\n    }\n</style>\n<table border=\"1\" class=\"dataframe\">\n  <thead>\n    <tr style=\"text-align: right;\">\n      <th></th>\n      <th>Name</th>\n      <th>Age</th>\n    </tr>\n  </thead>\n  <tbody>\n    <tr>\n      <th>2</th>\n      <td>Anil</td>\n      <td>30</td>\n    </tr>\n  </tbody>\n</table>\n</div>"
     },
     "execution_count": 38,
     "metadata": {},
     "output_type": "execute_result"
    }
   ],
   "source": [
    "df2.loc[df2.Age == 30]"
   ],
   "metadata": {
    "collapsed": false,
    "ExecuteTime": {
     "end_time": "2024-02-04T15:02:12.439539600Z",
     "start_time": "2024-02-04T15:02:12.373876800Z"
    }
   },
   "id": "ccaa1873d942cfdf"
  },
  {
   "cell_type": "code",
   "execution_count": 41,
   "outputs": [
    {
     "data": {
      "text/plain": "           Name  Age\n2          Anil   30\n3  Jaya Lakshmi   55\n4   Trimurthulu   65",
      "text/html": "<div>\n<style scoped>\n    .dataframe tbody tr th:only-of-type {\n        vertical-align: middle;\n    }\n\n    .dataframe tbody tr th {\n        vertical-align: top;\n    }\n\n    .dataframe thead th {\n        text-align: right;\n    }\n</style>\n<table border=\"1\" class=\"dataframe\">\n  <thead>\n    <tr style=\"text-align: right;\">\n      <th></th>\n      <th>Name</th>\n      <th>Age</th>\n    </tr>\n  </thead>\n  <tbody>\n    <tr>\n      <th>2</th>\n      <td>Anil</td>\n      <td>30</td>\n    </tr>\n    <tr>\n      <th>3</th>\n      <td>Jaya Lakshmi</td>\n      <td>55</td>\n    </tr>\n    <tr>\n      <th>4</th>\n      <td>Trimurthulu</td>\n      <td>65</td>\n    </tr>\n  </tbody>\n</table>\n</div>"
     },
     "execution_count": 41,
     "metadata": {},
     "output_type": "execute_result"
    }
   ],
   "source": [
    "df2.loc[df2.Age > 25, 'Name':]"
   ],
   "metadata": {
    "collapsed": false,
    "ExecuteTime": {
     "end_time": "2024-02-04T16:36:31.361316600Z",
     "start_time": "2024-02-04T16:36:31.301838600Z"
    }
   },
   "id": "3523978c0f3995f7"
  },
  {
   "cell_type": "code",
   "execution_count": 46,
   "outputs": [
    {
     "data": {
      "text/plain": "   Age\n1   21\n2   30\n3   55\n4   65",
      "text/html": "<div>\n<style scoped>\n    .dataframe tbody tr th:only-of-type {\n        vertical-align: middle;\n    }\n\n    .dataframe tbody tr th {\n        vertical-align: top;\n    }\n\n    .dataframe thead th {\n        text-align: right;\n    }\n</style>\n<table border=\"1\" class=\"dataframe\">\n  <thead>\n    <tr style=\"text-align: right;\">\n      <th></th>\n      <th>Age</th>\n    </tr>\n  </thead>\n  <tbody>\n    <tr>\n      <th>1</th>\n      <td>21</td>\n    </tr>\n    <tr>\n      <th>2</th>\n      <td>30</td>\n    </tr>\n    <tr>\n      <th>3</th>\n      <td>55</td>\n    </tr>\n    <tr>\n      <th>4</th>\n      <td>65</td>\n    </tr>\n  </tbody>\n</table>\n</div>"
     },
     "execution_count": 46,
     "metadata": {},
     "output_type": "execute_result"
    }
   ],
   "source": [
    "df2.iloc[0:4,1:]"
   ],
   "metadata": {
    "collapsed": false,
    "ExecuteTime": {
     "end_time": "2024-02-04T16:37:05.444605700Z",
     "start_time": "2024-02-04T16:37:05.375153400Z"
    }
   },
   "id": "b3e07b6b1f093869"
  },
  {
   "cell_type": "code",
   "execution_count": 47,
   "outputs": [],
   "source": [
    "df2['Sex'] = ['Male', 'Male', 'Female', 'Male']"
   ],
   "metadata": {
    "collapsed": false,
    "ExecuteTime": {
     "end_time": "2024-02-04T16:37:56.804960800Z",
     "start_time": "2024-02-04T16:37:56.766619200Z"
    }
   },
   "id": "29ffc2a9fa04f03a"
  },
  {
   "cell_type": "code",
   "execution_count": 48,
   "outputs": [
    {
     "data": {
      "text/plain": "           Name  Age     Sex\n1        Vikram   21    Male\n2          Anil   30    Male\n3  Jaya Lakshmi   55  Female\n4   Trimurthulu   65    Male",
      "text/html": "<div>\n<style scoped>\n    .dataframe tbody tr th:only-of-type {\n        vertical-align: middle;\n    }\n\n    .dataframe tbody tr th {\n        vertical-align: top;\n    }\n\n    .dataframe thead th {\n        text-align: right;\n    }\n</style>\n<table border=\"1\" class=\"dataframe\">\n  <thead>\n    <tr style=\"text-align: right;\">\n      <th></th>\n      <th>Name</th>\n      <th>Age</th>\n      <th>Sex</th>\n    </tr>\n  </thead>\n  <tbody>\n    <tr>\n      <th>1</th>\n      <td>Vikram</td>\n      <td>21</td>\n      <td>Male</td>\n    </tr>\n    <tr>\n      <th>2</th>\n      <td>Anil</td>\n      <td>30</td>\n      <td>Male</td>\n    </tr>\n    <tr>\n      <th>3</th>\n      <td>Jaya Lakshmi</td>\n      <td>55</td>\n      <td>Female</td>\n    </tr>\n    <tr>\n      <th>4</th>\n      <td>Trimurthulu</td>\n      <td>65</td>\n      <td>Male</td>\n    </tr>\n  </tbody>\n</table>\n</div>"
     },
     "execution_count": 48,
     "metadata": {},
     "output_type": "execute_result"
    }
   ],
   "source": [
    "df2"
   ],
   "metadata": {
    "collapsed": false,
    "ExecuteTime": {
     "end_time": "2024-02-04T16:38:00.062901700Z",
     "start_time": "2024-02-04T16:37:59.996197Z"
    }
   },
   "id": "c5d85f1f5d2cf92c"
  },
  {
   "cell_type": "code",
   "execution_count": 49,
   "outputs": [],
   "source": [
    "del df2['Sex']"
   ],
   "metadata": {
    "collapsed": false,
    "ExecuteTime": {
     "end_time": "2024-02-04T16:38:12.040944300Z",
     "start_time": "2024-02-04T16:38:11.994034400Z"
    }
   },
   "id": "3bc06055d3c49847"
  },
  {
   "cell_type": "code",
   "execution_count": 50,
   "outputs": [
    {
     "name": "stdout",
     "output_type": "stream",
     "text": [
      "           Name  Age\n",
      "1        Vikram   21\n",
      "2          Anil   30\n",
      "3  Jaya Lakshmi   55\n",
      "4   Trimurthulu   65\n"
     ]
    }
   ],
   "source": [
    "print(df2)"
   ],
   "metadata": {
    "collapsed": false,
    "ExecuteTime": {
     "end_time": "2024-02-04T16:38:15.856007300Z",
     "start_time": "2024-02-04T16:38:15.806220Z"
    }
   },
   "id": "d9333a2a8155f30b"
  },
  {
   "cell_type": "code",
   "execution_count": 93,
   "outputs": [],
   "source": [
    "df2.loc[5] = ['Chandana', 22]"
   ],
   "metadata": {
    "collapsed": false,
    "ExecuteTime": {
     "end_time": "2024-02-04T16:49:24.433154900Z",
     "start_time": "2024-02-04T16:49:24.386253600Z"
    }
   },
   "id": "2c7d374bf6f1c2f6"
  },
  {
   "cell_type": "code",
   "execution_count": 53,
   "outputs": [
    {
     "name": "stdout",
     "output_type": "stream",
     "text": [
      "           Name Age\n",
      "1        Vikram  21\n",
      "2          Anil  30\n",
      "3  Jaya Lakshmi  55\n",
      "4   Trimurthulu  65\n",
      "5      Chandana  22\n"
     ]
    }
   ],
   "source": [
    "print(df2)"
   ],
   "metadata": {
    "collapsed": false,
    "ExecuteTime": {
     "end_time": "2024-02-04T16:39:34.113158500Z",
     "start_time": "2024-02-04T16:39:34.002089900Z"
    }
   },
   "id": "11c054303396fb18"
  },
  {
   "cell_type": "code",
   "execution_count": 62,
   "outputs": [
    {
     "data": {
      "text/plain": "     Name\n1  Vikram\n2    Anil",
      "text/html": "<div>\n<style scoped>\n    .dataframe tbody tr th:only-of-type {\n        vertical-align: middle;\n    }\n\n    .dataframe tbody tr th {\n        vertical-align: top;\n    }\n\n    .dataframe thead th {\n        text-align: right;\n    }\n</style>\n<table border=\"1\" class=\"dataframe\">\n  <thead>\n    <tr style=\"text-align: right;\">\n      <th></th>\n      <th>Name</th>\n    </tr>\n  </thead>\n  <tbody>\n    <tr>\n      <th>1</th>\n      <td>Vikram</td>\n    </tr>\n    <tr>\n      <th>2</th>\n      <td>Anil</td>\n    </tr>\n  </tbody>\n</table>\n</div>"
     },
     "execution_count": 62,
     "metadata": {},
     "output_type": "execute_result"
    }
   ],
   "source": [
    "df2.drop(index=[3,4,5], columns=['Age'])"
   ],
   "metadata": {
    "collapsed": false,
    "ExecuteTime": {
     "end_time": "2024-02-04T16:40:30.247660200Z",
     "start_time": "2024-02-04T16:40:30.163877900Z"
    }
   },
   "id": "c814a115f4cbc931"
  },
  {
   "cell_type": "code",
   "execution_count": 78,
   "outputs": [
    {
     "data": {
      "text/plain": "           Name Age\n1        Vikram  21\n2          Anil  30\n3  Jaya Lakshmi  55\n4   Trimurthulu  65\n5      Chandana  22",
      "text/html": "<div>\n<style scoped>\n    .dataframe tbody tr th:only-of-type {\n        vertical-align: middle;\n    }\n\n    .dataframe tbody tr th {\n        vertical-align: top;\n    }\n\n    .dataframe thead th {\n        text-align: right;\n    }\n</style>\n<table border=\"1\" class=\"dataframe\">\n  <thead>\n    <tr style=\"text-align: right;\">\n      <th></th>\n      <th>Name</th>\n      <th>Age</th>\n    </tr>\n  </thead>\n  <tbody>\n    <tr>\n      <th>1</th>\n      <td>Vikram</td>\n      <td>21</td>\n    </tr>\n    <tr>\n      <th>2</th>\n      <td>Anil</td>\n      <td>30</td>\n    </tr>\n    <tr>\n      <th>3</th>\n      <td>Jaya Lakshmi</td>\n      <td>55</td>\n    </tr>\n    <tr>\n      <th>4</th>\n      <td>Trimurthulu</td>\n      <td>65</td>\n    </tr>\n    <tr>\n      <th>5</th>\n      <td>Chandana</td>\n      <td>22</td>\n    </tr>\n  </tbody>\n</table>\n</div>"
     },
     "execution_count": 78,
     "metadata": {},
     "output_type": "execute_result"
    }
   ],
   "source": [
    "df2"
   ],
   "metadata": {
    "collapsed": false,
    "ExecuteTime": {
     "end_time": "2024-02-04T16:45:49.583317700Z",
     "start_time": "2024-02-04T16:45:49.583317700Z"
    }
   },
   "id": "3aa8c4a57efbb379"
  },
  {
   "cell_type": "code",
   "execution_count": 94,
   "outputs": [
    {
     "name": "stdout",
     "output_type": "stream",
     "text": [
      "<class 'pandas.core.frame.DataFrame'>\n",
      "Index: 5 entries, 1 to 5\n",
      "Data columns (total 2 columns):\n",
      " #   Column  Non-Null Count  Dtype \n",
      "---  ------  --------------  ----- \n",
      " 0   Name    5 non-null      object\n",
      " 1   Age     5 non-null      object\n",
      "dtypes: object(2)\n",
      "memory usage: 292.0+ bytes\n"
     ]
    }
   ],
   "source": [
    "df2.info()"
   ],
   "metadata": {
    "collapsed": false,
    "ExecuteTime": {
     "end_time": "2024-02-04T16:49:30.423049100Z",
     "start_time": "2024-02-04T16:49:30.391783700Z"
    }
   },
   "id": "4f9527bea51678a0"
  },
  {
   "cell_type": "code",
   "execution_count": 65,
   "outputs": [
    {
     "data": {
      "text/plain": "          Name  Age\ncount        5    5\nunique       5    5\ntop     Vikram   21\nfreq         1    1",
      "text/html": "<div>\n<style scoped>\n    .dataframe tbody tr th:only-of-type {\n        vertical-align: middle;\n    }\n\n    .dataframe tbody tr th {\n        vertical-align: top;\n    }\n\n    .dataframe thead th {\n        text-align: right;\n    }\n</style>\n<table border=\"1\" class=\"dataframe\">\n  <thead>\n    <tr style=\"text-align: right;\">\n      <th></th>\n      <th>Name</th>\n      <th>Age</th>\n    </tr>\n  </thead>\n  <tbody>\n    <tr>\n      <th>count</th>\n      <td>5</td>\n      <td>5</td>\n    </tr>\n    <tr>\n      <th>unique</th>\n      <td>5</td>\n      <td>5</td>\n    </tr>\n    <tr>\n      <th>top</th>\n      <td>Vikram</td>\n      <td>21</td>\n    </tr>\n    <tr>\n      <th>freq</th>\n      <td>1</td>\n      <td>1</td>\n    </tr>\n  </tbody>\n</table>\n</div>"
     },
     "execution_count": 65,
     "metadata": {},
     "output_type": "execute_result"
    }
   ],
   "source": [
    "df2.describe(percentiles=[.25, .5, .95])"
   ],
   "metadata": {
    "collapsed": false,
    "ExecuteTime": {
     "end_time": "2024-02-04T16:42:18.151142Z",
     "start_time": "2024-02-04T16:42:18.051566300Z"
    }
   },
   "id": "9afea7e426d41ccb"
  },
  {
   "cell_type": "code",
   "execution_count": 95,
   "outputs": [
    {
     "data": {
      "text/plain": "           Name Age\n1        Vikram  21\n2          Anil  30\n3  Jaya Lakshmi  55\n4   Trimurthulu  65\n5      Chandana  22",
      "text/html": "<div>\n<style scoped>\n    .dataframe tbody tr th:only-of-type {\n        vertical-align: middle;\n    }\n\n    .dataframe tbody tr th {\n        vertical-align: top;\n    }\n\n    .dataframe thead th {\n        text-align: right;\n    }\n</style>\n<table border=\"1\" class=\"dataframe\">\n  <thead>\n    <tr style=\"text-align: right;\">\n      <th></th>\n      <th>Name</th>\n      <th>Age</th>\n    </tr>\n  </thead>\n  <tbody>\n    <tr>\n      <th>1</th>\n      <td>Vikram</td>\n      <td>21</td>\n    </tr>\n    <tr>\n      <th>2</th>\n      <td>Anil</td>\n      <td>30</td>\n    </tr>\n    <tr>\n      <th>3</th>\n      <td>Jaya Lakshmi</td>\n      <td>55</td>\n    </tr>\n    <tr>\n      <th>4</th>\n      <td>Trimurthulu</td>\n      <td>65</td>\n    </tr>\n    <tr>\n      <th>5</th>\n      <td>Chandana</td>\n      <td>22</td>\n    </tr>\n  </tbody>\n</table>\n</div>"
     },
     "execution_count": 95,
     "metadata": {},
     "output_type": "execute_result"
    }
   ],
   "source": [
    "df2.head()"
   ],
   "metadata": {
    "collapsed": false,
    "ExecuteTime": {
     "end_time": "2024-02-04T16:49:40.792248300Z",
     "start_time": "2024-02-04T16:49:40.742468300Z"
    }
   },
   "id": "385afe42f3e2a9f0"
  },
  {
   "cell_type": "code",
   "execution_count": 67,
   "outputs": [
    {
     "data": {
      "text/plain": "           Name Age\n1        Vikram  21\n2          Anil  30\n3  Jaya Lakshmi  55\n4   Trimurthulu  65\n5      Chandana  22",
      "text/html": "<div>\n<style scoped>\n    .dataframe tbody tr th:only-of-type {\n        vertical-align: middle;\n    }\n\n    .dataframe tbody tr th {\n        vertical-align: top;\n    }\n\n    .dataframe thead th {\n        text-align: right;\n    }\n</style>\n<table border=\"1\" class=\"dataframe\">\n  <thead>\n    <tr style=\"text-align: right;\">\n      <th></th>\n      <th>Name</th>\n      <th>Age</th>\n    </tr>\n  </thead>\n  <tbody>\n    <tr>\n      <th>1</th>\n      <td>Vikram</td>\n      <td>21</td>\n    </tr>\n    <tr>\n      <th>2</th>\n      <td>Anil</td>\n      <td>30</td>\n    </tr>\n    <tr>\n      <th>3</th>\n      <td>Jaya Lakshmi</td>\n      <td>55</td>\n    </tr>\n    <tr>\n      <th>4</th>\n      <td>Trimurthulu</td>\n      <td>65</td>\n    </tr>\n    <tr>\n      <th>5</th>\n      <td>Chandana</td>\n      <td>22</td>\n    </tr>\n  </tbody>\n</table>\n</div>"
     },
     "execution_count": 67,
     "metadata": {},
     "output_type": "execute_result"
    }
   ],
   "source": [
    "df2.tail()"
   ],
   "metadata": {
    "collapsed": false,
    "ExecuteTime": {
     "end_time": "2024-02-04T16:42:34.642269600Z",
     "start_time": "2024-02-04T16:42:34.540001800Z"
    }
   },
   "id": "27fa2f2792050a74"
  },
  {
   "cell_type": "code",
   "execution_count": 103,
   "outputs": [
    {
     "data": {
      "text/plain": "max       65.000000\nmin       21.000000\ncount      5.000000\nmean      38.600000\nstd       20.156885\nvar      406.300000\nName: Age, dtype: float64"
     },
     "execution_count": 103,
     "metadata": {},
     "output_type": "execute_result"
    }
   ],
   "source": [
    "df2['Age'].agg(['max', 'min', 'count', 'mean', 'std', 'var',])"
   ],
   "metadata": {
    "collapsed": false,
    "ExecuteTime": {
     "end_time": "2024-02-04T16:50:53.298850100Z",
     "start_time": "2024-02-04T16:50:53.258423400Z"
    }
   },
   "id": "1495ad70f977bec2"
  },
  {
   "cell_type": "code",
   "execution_count": 97,
   "outputs": [
    {
     "data": {
      "text/plain": "65"
     },
     "execution_count": 97,
     "metadata": {},
     "output_type": "execute_result"
    }
   ],
   "source": [
    "max(df2.Age)"
   ],
   "metadata": {
    "collapsed": false,
    "ExecuteTime": {
     "end_time": "2024-02-04T16:49:47.884684700Z",
     "start_time": "2024-02-04T16:49:47.870478400Z"
    }
   },
   "id": "4503c25876853f80"
  },
  {
   "cell_type": "code",
   "execution_count": 104,
   "outputs": [],
   "source": [
    "df8 = pd.DataFrame(\n",
    "    {\n",
    "        'Name':['Vikram','Ganesh','Shannu','Teja','Harsha','Bharghav'],\n",
    "        'Sex':['M','M','M','M','F','F'],\n",
    "        'Age':[21,20,20,21,20,21],\n",
    "        'City':['Pkl','Pkl','Bmvr','Bmvr','Bmvr','Bmvr'],\n",
    "        'Job':[4,8,8,3,2,18]\n",
    "    },index=range(1,7)\n",
    ")"
   ],
   "metadata": {
    "collapsed": false,
    "ExecuteTime": {
     "end_time": "2024-02-04T17:26:24.174285600Z",
     "start_time": "2024-02-04T17:26:24.141068400Z"
    }
   },
   "id": "1dff66960d7c66a2"
  },
  {
   "cell_type": "code",
   "execution_count": 111,
   "outputs": [
    {
     "data": {
      "text/plain": "        Name Sex  Age  Job\nCity                      \nBmvr    Teja   M   21   18\nPkl   Vikram   M   21    8",
      "text/html": "<div>\n<style scoped>\n    .dataframe tbody tr th:only-of-type {\n        vertical-align: middle;\n    }\n\n    .dataframe tbody tr th {\n        vertical-align: top;\n    }\n\n    .dataframe thead th {\n        text-align: right;\n    }\n</style>\n<table border=\"1\" class=\"dataframe\">\n  <thead>\n    <tr style=\"text-align: right;\">\n      <th></th>\n      <th>Name</th>\n      <th>Sex</th>\n      <th>Age</th>\n      <th>Job</th>\n    </tr>\n    <tr>\n      <th>City</th>\n      <th></th>\n      <th></th>\n      <th></th>\n      <th></th>\n    </tr>\n  </thead>\n  <tbody>\n    <tr>\n      <th>Bmvr</th>\n      <td>Teja</td>\n      <td>M</td>\n      <td>21</td>\n      <td>18</td>\n    </tr>\n    <tr>\n      <th>Pkl</th>\n      <td>Vikram</td>\n      <td>M</td>\n      <td>21</td>\n      <td>8</td>\n    </tr>\n  </tbody>\n</table>\n</div>"
     },
     "execution_count": 111,
     "metadata": {},
     "output_type": "execute_result"
    }
   ],
   "source": [
    "df8.groupby('City').max()"
   ],
   "metadata": {
    "collapsed": false,
    "ExecuteTime": {
     "end_time": "2024-02-04T17:28:31.064473300Z",
     "start_time": "2024-02-04T17:28:31.001553Z"
    }
   },
   "id": "53c2fbab1d7cce63"
  },
  {
   "cell_type": "code",
   "execution_count": 112,
   "outputs": [],
   "source": [
    "file2 = pd.read_csv('https://raw.githubusercontent.com/AshishJangra27/In-One-Go/main/Pandas/Football.csv')\n"
   ],
   "metadata": {
    "collapsed": false,
    "ExecuteTime": {
     "end_time": "2024-02-04T17:29:34.902339300Z",
     "start_time": "2024-02-04T17:29:34.214277200Z"
    }
   },
   "id": "67032c00c71ea129"
  },
  {
   "cell_type": "code",
   "execution_count": 136,
   "outputs": [
    {
     "data": {
      "text/plain": "          Country      League   Club       Player Names  Matches_Played  \\\n0           Spain     La Liga  (BET)    Juanmi Callejon              19   \n1           Spain     La Liga  (BAR)  Antoine Griezmann              36   \n2           Spain     La Liga  (ATL)        Luis Suarez              34   \n3           Spain     La Liga  (CAR)       Ruben Castro              32   \n4           Spain     La Liga  (VAL)      Kevin Gameiro              21   \n..            ...         ...    ...                ...             ...   \n655   Netherlands  Eredivisie  (UTR)        Gyrano Kerk              24   \n656   Netherlands  Eredivisie  (AJA)      Quincy Promes              18   \n657   Netherlands  Eredivisie  (PSV)    Denzel Dumfries              25   \n658   Netherlands  Eredivisie    ( )    Cyriel Dessers               26   \n659   Netherlands  Eredivisie  (PSV)         Cody Gakpo              14   \n\n     Substitution   Mins  Goals     xG  xG Per Avg Match  Shots  OnTarget  \\\n0               16  1849     11   6.62              0.34     48        20   \n1                0  3129     16  11.86              0.36     88        41   \n2                1  2940     28  23.21              0.75    120        57   \n3                3  2842     13  14.06              0.47    117        42   \n4               10  1745     13  10.65              0.58     50        23   \n..             ...   ...    ...    ...               ...    ...       ...   \n655              0  2155     10   7.49              0.33     50        18   \n656              2  1573     12   9.77              0.59     56        30   \n657              0  2363      7   5.72              0.23     45        14   \n658              0  2461     15  14.51              0.56     84        43   \n659             11  1557      7   4.43              0.27     38        15   \n\n     Shots Per Avg Match  On Target Per Avg Match  Year  \n0                   2.47                     1.03  2016  \n1                   2.67                     1.24  2016  \n2                   3.88                     1.84  2016  \n3                   3.91                     1.40  2016  \n4                   2.72                     1.25  2016  \n..                   ...                      ...   ...  \n655                 2.20                     0.79  2020  \n656                 3.38                     1.81  2020  \n657                 1.81                     0.56  2020  \n658                 3.24                     1.66  2020  \n659                 2.32                     0.92  2020  \n\n[660 rows x 15 columns]",
      "text/html": "<div>\n<style scoped>\n    .dataframe tbody tr th:only-of-type {\n        vertical-align: middle;\n    }\n\n    .dataframe tbody tr th {\n        vertical-align: top;\n    }\n\n    .dataframe thead th {\n        text-align: right;\n    }\n</style>\n<table border=\"1\" class=\"dataframe\">\n  <thead>\n    <tr style=\"text-align: right;\">\n      <th></th>\n      <th>Country</th>\n      <th>League</th>\n      <th>Club</th>\n      <th>Player Names</th>\n      <th>Matches_Played</th>\n      <th>Substitution</th>\n      <th>Mins</th>\n      <th>Goals</th>\n      <th>xG</th>\n      <th>xG Per Avg Match</th>\n      <th>Shots</th>\n      <th>OnTarget</th>\n      <th>Shots Per Avg Match</th>\n      <th>On Target Per Avg Match</th>\n      <th>Year</th>\n    </tr>\n  </thead>\n  <tbody>\n    <tr>\n      <th>0</th>\n      <td>Spain</td>\n      <td>La Liga</td>\n      <td>(BET)</td>\n      <td>Juanmi Callejon</td>\n      <td>19</td>\n      <td>16</td>\n      <td>1849</td>\n      <td>11</td>\n      <td>6.62</td>\n      <td>0.34</td>\n      <td>48</td>\n      <td>20</td>\n      <td>2.47</td>\n      <td>1.03</td>\n      <td>2016</td>\n    </tr>\n    <tr>\n      <th>1</th>\n      <td>Spain</td>\n      <td>La Liga</td>\n      <td>(BAR)</td>\n      <td>Antoine Griezmann</td>\n      <td>36</td>\n      <td>0</td>\n      <td>3129</td>\n      <td>16</td>\n      <td>11.86</td>\n      <td>0.36</td>\n      <td>88</td>\n      <td>41</td>\n      <td>2.67</td>\n      <td>1.24</td>\n      <td>2016</td>\n    </tr>\n    <tr>\n      <th>2</th>\n      <td>Spain</td>\n      <td>La Liga</td>\n      <td>(ATL)</td>\n      <td>Luis Suarez</td>\n      <td>34</td>\n      <td>1</td>\n      <td>2940</td>\n      <td>28</td>\n      <td>23.21</td>\n      <td>0.75</td>\n      <td>120</td>\n      <td>57</td>\n      <td>3.88</td>\n      <td>1.84</td>\n      <td>2016</td>\n    </tr>\n    <tr>\n      <th>3</th>\n      <td>Spain</td>\n      <td>La Liga</td>\n      <td>(CAR)</td>\n      <td>Ruben Castro</td>\n      <td>32</td>\n      <td>3</td>\n      <td>2842</td>\n      <td>13</td>\n      <td>14.06</td>\n      <td>0.47</td>\n      <td>117</td>\n      <td>42</td>\n      <td>3.91</td>\n      <td>1.40</td>\n      <td>2016</td>\n    </tr>\n    <tr>\n      <th>4</th>\n      <td>Spain</td>\n      <td>La Liga</td>\n      <td>(VAL)</td>\n      <td>Kevin Gameiro</td>\n      <td>21</td>\n      <td>10</td>\n      <td>1745</td>\n      <td>13</td>\n      <td>10.65</td>\n      <td>0.58</td>\n      <td>50</td>\n      <td>23</td>\n      <td>2.72</td>\n      <td>1.25</td>\n      <td>2016</td>\n    </tr>\n    <tr>\n      <th>...</th>\n      <td>...</td>\n      <td>...</td>\n      <td>...</td>\n      <td>...</td>\n      <td>...</td>\n      <td>...</td>\n      <td>...</td>\n      <td>...</td>\n      <td>...</td>\n      <td>...</td>\n      <td>...</td>\n      <td>...</td>\n      <td>...</td>\n      <td>...</td>\n      <td>...</td>\n    </tr>\n    <tr>\n      <th>655</th>\n      <td>Netherlands</td>\n      <td>Eredivisie</td>\n      <td>(UTR)</td>\n      <td>Gyrano Kerk</td>\n      <td>24</td>\n      <td>0</td>\n      <td>2155</td>\n      <td>10</td>\n      <td>7.49</td>\n      <td>0.33</td>\n      <td>50</td>\n      <td>18</td>\n      <td>2.20</td>\n      <td>0.79</td>\n      <td>2020</td>\n    </tr>\n    <tr>\n      <th>656</th>\n      <td>Netherlands</td>\n      <td>Eredivisie</td>\n      <td>(AJA)</td>\n      <td>Quincy Promes</td>\n      <td>18</td>\n      <td>2</td>\n      <td>1573</td>\n      <td>12</td>\n      <td>9.77</td>\n      <td>0.59</td>\n      <td>56</td>\n      <td>30</td>\n      <td>3.38</td>\n      <td>1.81</td>\n      <td>2020</td>\n    </tr>\n    <tr>\n      <th>657</th>\n      <td>Netherlands</td>\n      <td>Eredivisie</td>\n      <td>(PSV)</td>\n      <td>Denzel Dumfries</td>\n      <td>25</td>\n      <td>0</td>\n      <td>2363</td>\n      <td>7</td>\n      <td>5.72</td>\n      <td>0.23</td>\n      <td>45</td>\n      <td>14</td>\n      <td>1.81</td>\n      <td>0.56</td>\n      <td>2020</td>\n    </tr>\n    <tr>\n      <th>658</th>\n      <td>Netherlands</td>\n      <td>Eredivisie</td>\n      <td>( )</td>\n      <td>Cyriel Dessers</td>\n      <td>26</td>\n      <td>0</td>\n      <td>2461</td>\n      <td>15</td>\n      <td>14.51</td>\n      <td>0.56</td>\n      <td>84</td>\n      <td>43</td>\n      <td>3.24</td>\n      <td>1.66</td>\n      <td>2020</td>\n    </tr>\n    <tr>\n      <th>659</th>\n      <td>Netherlands</td>\n      <td>Eredivisie</td>\n      <td>(PSV)</td>\n      <td>Cody Gakpo</td>\n      <td>14</td>\n      <td>11</td>\n      <td>1557</td>\n      <td>7</td>\n      <td>4.43</td>\n      <td>0.27</td>\n      <td>38</td>\n      <td>15</td>\n      <td>2.32</td>\n      <td>0.92</td>\n      <td>2020</td>\n    </tr>\n  </tbody>\n</table>\n<p>660 rows × 15 columns</p>\n</div>"
     },
     "execution_count": 136,
     "metadata": {},
     "output_type": "execute_result"
    }
   ],
   "source": [
    "file2"
   ],
   "metadata": {
    "collapsed": false,
    "ExecuteTime": {
     "end_time": "2024-02-04T17:36:09.379935800Z",
     "start_time": "2024-02-04T17:36:09.224813300Z"
    }
   },
   "id": "ea6a57ee6221fe84"
  },
  {
   "cell_type": "code",
   "execution_count": 117,
   "outputs": [
    {
     "data": {
      "text/plain": "Country                     0\nLeague                      0\nClub                       34\nPlayer Names                0\nMatches_Played              0\nSubstitution                0\nMins                        0\nGoals                       0\nxG                          0\nxG Per Avg Match            0\nShots                       0\nOnTarget                    0\nShots Per Avg Match         0\nOn Target Per Avg Match     0\nYear                        0\ndtype: int64"
     },
     "execution_count": 117,
     "metadata": {},
     "output_type": "execute_result"
    }
   ],
   "source": [
    "file2.isna().sum()"
   ],
   "metadata": {
    "collapsed": false,
    "ExecuteTime": {
     "end_time": "2024-02-04T17:30:11.218417900Z",
     "start_time": "2024-02-04T17:30:11.163633600Z"
    }
   },
   "id": "cbee5755a03fa55b"
  },
  {
   "cell_type": "code",
   "execution_count": 129,
   "outputs": [],
   "source": [
    "file2['Club'].fillna(\"( )\", inplace=True)"
   ],
   "metadata": {
    "collapsed": false,
    "ExecuteTime": {
     "end_time": "2024-02-04T17:34:48.756889800Z",
     "start_time": "2024-02-04T17:34:48.709967600Z"
    }
   },
   "id": "299ab4e53459e498"
  },
  {
   "cell_type": "code",
   "execution_count": 130,
   "outputs": [
    {
     "name": "stdout",
     "output_type": "stream",
     "text": [
      "<class 'pandas.core.frame.DataFrame'>\n",
      "RangeIndex: 660 entries, 0 to 659\n",
      "Data columns (total 15 columns):\n",
      " #   Column                   Non-Null Count  Dtype  \n",
      "---  ------                   --------------  -----  \n",
      " 0   Country                  660 non-null    object \n",
      " 1   League                   660 non-null    object \n",
      " 2   Club                     660 non-null    object \n",
      " 3   Player Names             660 non-null    object \n",
      " 4   Matches_Played           660 non-null    int64  \n",
      " 5   Substitution             660 non-null    int64  \n",
      " 6   Mins                     660 non-null    int64  \n",
      " 7   Goals                    660 non-null    int64  \n",
      " 8   xG                       660 non-null    float64\n",
      " 9   xG Per Avg Match         660 non-null    float64\n",
      " 10  Shots                    660 non-null    int64  \n",
      " 11  OnTarget                 660 non-null    int64  \n",
      " 12  Shots Per Avg Match      660 non-null    float64\n",
      " 13  On Target Per Avg Match  660 non-null    float64\n",
      " 14  Year                     660 non-null    int64  \n",
      "dtypes: float64(4), int64(7), object(4)\n",
      "memory usage: 77.5+ KB\n"
     ]
    }
   ],
   "source": [
    "file2.info()"
   ],
   "metadata": {
    "collapsed": false,
    "ExecuteTime": {
     "end_time": "2024-02-04T17:34:51.932235600Z",
     "start_time": "2024-02-04T17:34:51.827329700Z"
    }
   },
   "id": "a579b0f8abfe96df"
  },
  {
   "cell_type": "code",
   "execution_count": 120,
   "outputs": [
    {
     "name": "stdout",
     "output_type": "stream",
     "text": [
      "<class 'pandas.core.frame.DataFrame'>\n",
      "RangeIndex: 660 entries, 0 to 659\n",
      "Data columns (total 15 columns):\n",
      " #   Column                   Non-Null Count  Dtype  \n",
      "---  ------                   --------------  -----  \n",
      " 0   Country                  660 non-null    object \n",
      " 1   League                   660 non-null    object \n",
      " 2   Club                     626 non-null    object \n",
      " 3   Player Names             660 non-null    object \n",
      " 4   Matches_Played           660 non-null    int64  \n",
      " 5   Substitution             660 non-null    int64  \n",
      " 6   Mins                     660 non-null    int64  \n",
      " 7   Goals                    660 non-null    int64  \n",
      " 8   xG                       660 non-null    float64\n",
      " 9   xG Per Avg Match         660 non-null    float64\n",
      " 10  Shots                    660 non-null    int64  \n",
      " 11  OnTarget                 660 non-null    int64  \n",
      " 12  Shots Per Avg Match      660 non-null    float64\n",
      " 13  On Target Per Avg Match  660 non-null    float64\n",
      " 14  Year                     660 non-null    int64  \n",
      "dtypes: float64(4), int64(7), object(4)\n",
      "memory usage: 77.5+ KB\n"
     ]
    }
   ],
   "source": [
    "file2.info()"
   ],
   "metadata": {
    "collapsed": false,
    "ExecuteTime": {
     "end_time": "2024-02-04T17:31:25.199135100Z",
     "start_time": "2024-02-04T17:31:25.149976700Z"
    }
   },
   "id": "f27701e26c5df1a"
  }
 ],
 "metadata": {
  "kernelspec": {
   "display_name": "Python 3",
   "language": "python",
   "name": "python3"
  },
  "language_info": {
   "codemirror_mode": {
    "name": "ipython",
    "version": 2
   },
   "file_extension": ".py",
   "mimetype": "text/x-python",
   "name": "python",
   "nbconvert_exporter": "python",
   "pygments_lexer": "ipython2",
   "version": "2.7.6"
  }
 },
 "nbformat": 4,
 "nbformat_minor": 5
}
