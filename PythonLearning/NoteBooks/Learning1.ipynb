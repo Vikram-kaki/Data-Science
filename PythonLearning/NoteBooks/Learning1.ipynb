{
 "cells": [
  {
   "cell_type": "markdown",
   "source": [
    "###### Print statements in python"
   ],
   "metadata": {
    "collapsed": false
   }
  },
  {
   "cell_type": "code",
   "execution_count": 46,
   "outputs": [
    {
     "name": "stdout",
     "output_type": "stream",
     "text": [
      "Hello world\n",
      "Hello world\n",
      "Helloworld\n",
      "\n",
      "Hi there\n",
      "Hi|there\n",
      "Hi hello how are you ? I am doing great, how about you ?\n",
      "\n",
      "Hi i am, Vikram***"
     ]
    }
   ],
   "source": [
    "\"\"\"\n",
    "    Different ways to print in python\n",
    "\"\"\"\n",
    "\n",
    "print(\"Hello world\")\n",
    "print(\"Hello\",\"world\")\n",
    "# ',' is used to print multiple arguments, which are default separated by a space.\n",
    "print(\"Hello\"+\"world\")\n",
    "# '+' is used to concatenate strings. Here there is no space between the two strings.\n",
    "print() # print a blank line\n",
    "\n",
    "# Using the sep parameter and end parameter\n",
    "print(\"Hi\",\"there\",sep=\" \")\n",
    "print(\"Hi\",\"there\",sep=\"|\")\n",
    "# sep parameter is used to specify what to print between the arguments.\n",
    "print(\"Hi hello how are you ?\", end=\" \")\n",
    "# end parameter is used to specify what to print at the end of the print statement.\n",
    "# Here we use a space as the end parameter, so the next print statement will be printed in the same line.\n",
    "print(\"I am doing great, how about you ?\")\n",
    "print()\n",
    "# Using both the sep and end parameters\n",
    "print(\"Hi i am\",\"Vikram\",sep=', ', end='***')"
   ],
   "metadata": {
    "collapsed": false,
    "ExecuteTime": {
     "end_time": "2023-09-18T11:53:09.542949Z",
     "start_time": "2023-09-18T11:53:09.329181800Z"
    }
   }
  },
  {
   "cell_type": "markdown",
   "source": [
    "##### Variables in python\n"
   ],
   "metadata": {
    "collapsed": false
   }
  },
  {
   "cell_type": "code",
   "execution_count": 47,
   "outputs": [
    {
     "name": "stdout",
     "output_type": "stream",
     "text": [
      "21\n",
      "Vikram\n",
      "61.85\n",
      "My name is Vikram and i am 21 years old and i weigh 61.85 kgs\n",
      "<class 'int'>\n",
      "<class 'float'>\n",
      "<class 'str'>\n",
      "<class 'bool'>\n",
      "<class 'list'>\n",
      "<class 'tuple'>\n",
      "<class 'dict'>\n",
      "<class 'set'>\n",
      "<class 'complex'>\n",
      "<class 'NoneType'>\n",
      "\n",
      "\n",
      "10\n",
      "10.5\n",
      "Hello\n",
      "True\n",
      "[1, 2, 3, 4, 5]\n",
      "(1, 2, 3, 4, 5)\n",
      "{'name': 'Vikram', 'age': 21, 'weight': 61.85}\n",
      "{1, 2, 3, 4, 5}\n",
      "Vikram\n"
     ]
    }
   ],
   "source": [
    "\"\"\"\n",
    "    Variables in python\n",
    "\"\"\"\n",
    "\n",
    "# Variables are used to store values in python\n",
    "# Variables are created when a value is assigned to it\n",
    "# Variables can be of any type\n",
    "# Variables can be reassigned to any other value of any type\n",
    "# Variables can be reassigned to any other type of value\n",
    "# Variables are references of memory locations.\n",
    "\n",
    "\n",
    "# Examples of variables\n",
    "\n",
    "age = 21\n",
    "name = \"Vikram\"\n",
    "weight = 61.85\n",
    "\n",
    "print(age)\n",
    "print(name)\n",
    "print(weight)\n",
    "\n",
    "\n",
    "#using variables in print statements. The variables are replaced by their values when the print statement is executed. The variables are not inside the quotes.\n",
    "print(\"My name is\",name,\"and i am\",age,\"years old and i weigh\",weight,\"kgs\")\n",
    "# print(\"My name is\",name,\"and i am\",age,\"years old and i weigh\",weight,\"kgs\",sep=\" \")\n",
    "# print(\"My name is\",name,\"and i am\",age,\"years old and i weigh\",weight,\"kgs\",sep=\"|\")\n",
    "# print(\"My name is\",name,\"and i am\",age,\"years old and i weigh\",weight,\"kgs\",sep=\"|\",end=\"***\")\n",
    "\n",
    "# Types of variables with examples\n",
    "# Integer\n",
    "a = 10\n",
    "print(type(a))\n",
    "\n",
    "# Float\n",
    "b = 10.5\n",
    "print(type(b))\n",
    "\n",
    "# String\n",
    "c = \"Hello\"\n",
    "print(type(c))\n",
    "\n",
    "# Boolean\n",
    "d = True\n",
    "print(type(d))\n",
    "\n",
    "# List\n",
    "e = [1,2,3,4,5]\n",
    "print(type(e))\n",
    "# Tuple\n",
    "f = (1,2,3,4,5)\n",
    "print(type(f))\n",
    "\n",
    "# Dictionary\n",
    "g = {\"name\":\"Vikram\",\"age\":21,\"weight\":61.85}\n",
    "print(type(g))\n",
    "\n",
    "# Set\n",
    "h = {1,2,3,4,5}\n",
    "print(type(h))\n",
    "\n",
    "# Complex\n",
    "i = 10+5j\n",
    "print(type(i))\n",
    "\n",
    "# None\n",
    "j = None\n",
    "print(type(j))\n",
    "\n",
    "# q: Nearest star to our solar system, besides the sun ?\n",
    "# a: Proxima Centauri\n",
    "\n",
    "print(end=\"\\n\\n\")\n",
    "print(a,b,c,d,e,f,g,h,sep=\"\\n\")\n",
    "\n",
    "\n",
    "# differences between the data types\n",
    "# 1. Integer and Float\n",
    "# 2. List and Tuple\n",
    "# 3. Dictionary and Set\n",
    "\n",
    "# 1. Integer and Float\n",
    "# Integer is a whole number, whereas float is a decimal number\n",
    "# Integer is used to store whole numbers, whereas float is used to store decimal numbers\n",
    "# Integer is used to store values like age, weight, height, etc\n",
    "\n",
    "# 2. List and Tuple\n",
    "# List is mutable, whereas tuple is immutable\n",
    "# List is used to store values which can be changed, whereas tuple is used to store values which cannot be changed\n",
    "# List is used to store values like names, marks, etc.\n",
    "# List or tuple they store heterogeneous data types. i.e. they can store different data types in the same list or tuple.\n",
    "\n",
    "# 3. Dictionary and Set\n",
    "# Dictionary is mutable, whereas set is immutable\n",
    "# Dictionary is used to store key value pairs, whereas set is used to store values\n",
    "# Dictionary is used to store values like name, age, weight, etc\n",
    "# set contains only unique values\n",
    "\n",
    "# q: are string mutable or immutable ? With an example.\n",
    "# a: String is immutable. Once a string is created, it cannot be changed. We can only create a new string.\n",
    "# Example:\n",
    "name = \"Vikram\"\n",
    "print(name)\n",
    "# name[-1] = 's'\n",
    "# This will give an error, because we cannot change the string. We can only create a new string.\n",
    "\n"
   ],
   "metadata": {
    "collapsed": false,
    "ExecuteTime": {
     "end_time": "2023-09-18T11:53:09.543950100Z",
     "start_time": "2023-09-18T11:53:09.376907300Z"
    }
   }
  },
  {
   "cell_type": "markdown",
   "source": [
    "##### Input from user in python\n"
   ],
   "metadata": {
    "collapsed": false
   }
  },
  {
   "cell_type": "code",
   "execution_count": 48,
   "outputs": [
    {
     "name": "stdout",
     "output_type": "stream",
     "text": [
      "<class 'str'> <class 'str'>\n",
      "Hi i am  and i am  year old and i am currently pursuing \n",
      "\n",
      "<class 'str'>\n"
     ]
    },
    {
     "ename": "ValueError",
     "evalue": "invalid literal for int() with base 10: ''",
     "output_type": "error",
     "traceback": [
      "\u001B[1;31m---------------------------------------------------------------------------\u001B[0m",
      "\u001B[1;31mValueError\u001B[0m                                Traceback (most recent call last)",
      "Input \u001B[1;32mIn [48]\u001B[0m, in \u001B[0;36m<cell line: 32>\u001B[1;34m()\u001B[0m\n\u001B[0;32m     30\u001B[0m date \u001B[38;5;241m=\u001B[39m \u001B[38;5;28minput\u001B[39m(\u001B[38;5;124m\"\u001B[39m\u001B[38;5;124mEnter the date: \u001B[39m\u001B[38;5;124m\"\u001B[39m)\n\u001B[0;32m     31\u001B[0m \u001B[38;5;28mprint\u001B[39m(\u001B[38;5;28mtype\u001B[39m(date))\n\u001B[1;32m---> 32\u001B[0m date \u001B[38;5;241m=\u001B[39m \u001B[38;5;28;43mint\u001B[39;49m\u001B[43m(\u001B[49m\u001B[43mdate\u001B[49m\u001B[43m)\u001B[49m \u001B[38;5;66;03m# Here we are converting the string to an integer\u001B[39;00m\n\u001B[0;32m     33\u001B[0m \u001B[38;5;28mprint\u001B[39m(\u001B[38;5;28mtype\u001B[39m(date))\n\u001B[0;32m     35\u001B[0m \u001B[38;5;66;03m# Explict typecasting using input\u001B[39;00m\n\u001B[0;32m     36\u001B[0m \n\u001B[0;32m     37\u001B[0m \u001B[38;5;66;03m# Example of explicit typecasting\u001B[39;00m\n",
      "\u001B[1;31mValueError\u001B[0m: invalid literal for int() with base 10: ''"
     ]
    }
   ],
   "source": [
    "\"\"\"\n",
    "    Input from user in python\n",
    "\"\"\"\n",
    "\n",
    "\n",
    "# Input from user is taken using the input() function\n",
    "# The input() function takes a string as an argument, which is displayed to the user\n",
    "# The input() function returns a string, which is stored in a variable\n",
    "# The input() function waits for the user to enter a value and press enter\n",
    "# Everything we get from input() function is a string, so we have to typecast it to the required data type.\n",
    "\n",
    "# Example of input() function\n",
    "\n",
    "\n",
    "name = input(\"Enter your name: \") # The input() function takes a string as an argument, which is displayed to the user\n",
    "age = input(\"Enter your age: \")\n",
    "print(type(name),type(age))\n",
    "qualification = input(\"Current Qualification: \")\n",
    "\n",
    "print(\"Hi i am \"+name+\" and i am \"+age+\" year old and i am currently pursuing \"+qualification)\n",
    "\n",
    "\n",
    "example = input() # Here we aren't prompting anything in the input function. The function won't display anything to the user.\n",
    "print(example)\n",
    "\n",
    "# Typecasting the input() function\n",
    "# Typecasting is the process of converting one data type to another data type\n",
    "\n",
    "# Example of typecasting\n",
    "date = input(\"Enter the date: \")\n",
    "print(type(date))\n",
    "date = int(date) # Here we are converting the string to an integer\n",
    "print(type(date))\n",
    "\n",
    "# Explict typecasting using input\n",
    "\n",
    "# Example of explicit typecasting\n",
    "date = int(input(\"Enter the date: \"))\n",
    "print(type(date))\n"
   ],
   "metadata": {
    "collapsed": false,
    "ExecuteTime": {
     "end_time": "2023-09-18T11:53:20.960251900Z",
     "start_time": "2023-09-18T11:53:09.449290100Z"
    }
   }
  },
  {
   "cell_type": "markdown",
   "source": [
    "##### Type Conversion in python\n"
   ],
   "metadata": {
    "collapsed": false
   }
  },
  {
   "cell_type": "code",
   "execution_count": null,
   "outputs": [],
   "source": [
    "\"\"\"\n",
    "    Type Conversion in python\n",
    "\"\"\"\n",
    "\n",
    "# Type conversion is the process of converting one data type to another data type\n",
    "# There are two types of type conversion\n",
    "# 1. Implicit type conversion\n",
    "# 2. Explicit type conversion\n",
    "\n",
    "# 1. Implicit type conversion\n",
    "# Implicit type conversion is the process of converting one data type to another data type automatically by the interpreter\n",
    "\n",
    "# Example of implicit type conversion\n",
    "a = 10\n",
    "print(type(a))\n",
    "b = 10.5\n",
    "print(type(b))\n",
    "c = a+b\n",
    "print(type(c))\n",
    "print(c)\n",
    "\n",
    "# Here the integer a is converted to a float automatically by the interpreter, because we are adding an integer and a float.\n",
    "\n",
    "# 2. Explicit type conversion\n",
    "# Explicit type conversion is the process of converting one data type to another data type manually by the programmer\n",
    "\n",
    "# Example of explicit type conversion\n",
    "a = 10\n",
    "print(type(a))\n",
    "b = 10.5\n",
    "print(type(b))\n",
    "c = a+int(b)\n",
    "print(type(c))\n",
    "print(c)\n",
    "\n",
    "# Here we are converting the float b to an integer manually by the programmer, using the int() function.\n",
    "\n",
    "z = '1001'\n",
    "\n",
    "print(int(z,2))\n",
    "print(int(z,8))\n",
    "print(int(z, 16))"
   ],
   "metadata": {
    "collapsed": false
   }
  },
  {
   "cell_type": "markdown",
   "source": [
    "##### Programs in python."
   ],
   "metadata": {
    "collapsed": false
   }
  },
  {
   "cell_type": "code",
   "execution_count": null,
   "outputs": [],
   "source": [
    "# A program to find the given number is even or odd.\n",
    "\n",
    "num = int(input(\"Enter the number :\"))\n",
    "\n",
    "if num % 2 == 0:\n",
    "    print(\"Even\")\n",
    "else:\n",
    "    print(\"Odd\")\n",
    "\n"
   ],
   "metadata": {
    "collapsed": false
   }
  },
  {
   "cell_type": "markdown",
   "source": [],
   "metadata": {
    "collapsed": false
   }
  },
  {
   "cell_type": "code",
   "execution_count": null,
   "outputs": [],
   "source": [
    "# A program to find the given number is positive or negative or zero.\n",
    "\n",
    "num = int(input(\"Enter the number:\"))\n",
    "\n",
    "if num > 0:\n",
    "    print(\"+ve\")\n",
    "elif num == 0:\n",
    "    print(\"ZERO\")\n",
    "else:\n",
    "    print(\"-ve\")\n",
    "\n"
   ],
   "metadata": {
    "collapsed": false
   }
  },
  {
   "cell_type": "code",
   "execution_count": null,
   "outputs": [],
   "source": [
    "# A program to find the given number is +ve even odd or -ve even odd or zero\n",
    "\n",
    "# This is implemented using nested if else statements and try except blocks, to ensure the program doesn't crash if the user enters an any data type other than integer.\n",
    "num = input(\"Enter the number : \")\n",
    "\n",
    "try:\n",
    "    num = int(num)\n",
    "    if num == 0:\n",
    "        print(\"Zero\")\n",
    "    elif num % 2 == 0:\n",
    "        if num > 0:\n",
    "            print(\"+ve Even\")\n",
    "        else:\n",
    "            print(\"-ve Even\")\n",
    "    else:\n",
    "        if num > 0:\n",
    "            print(\"+ve Odd\")\n",
    "        else:\n",
    "            print(\"-ve Odd\")\n",
    "\n",
    "except ValueError:\n",
    "    print(\"Data Entered isn't of type of integer\")\n",
    "finally:\n",
    "    print(\"Program finished.\")"
   ],
   "metadata": {
    "collapsed": false
   }
  },
  {
   "cell_type": "code",
   "execution_count": null,
   "outputs": [],
   "source": [
    "# A program to find the largest number between two numbers.\n",
    "\n",
    "a = float(input(\"Enter first number : \"))\n",
    "b = float(input(\"Enter second number : \"))\n",
    "\n",
    "if a == b:\n",
    "    print(\"same\")\n",
    "elif a > b:\n",
    "    print('A is larger then B')\n",
    "else:\n",
    "    print('B is larger then A')\n",
    "\n"
   ],
   "metadata": {
    "collapsed": false
   }
  },
  {
   "cell_type": "code",
   "execution_count": null,
   "outputs": [],
   "source": [
    "# A program to take multiple integers from the user in the same line and storing the values in a list.\n",
    "\n",
    "\n",
    "my_list = list(map(int, input().strip().split()))\n",
    "print(\"List : \"+my_list)\n",
    "\n",
    "# q: how to print a string and a list side by side in print function\n",
    "# a: use the sep parameter in print function"
   ],
   "metadata": {
    "collapsed": false
   }
  }
 ],
 "metadata": {
  "kernelspec": {
   "display_name": "Python 3 (ipykernel)",
   "language": "python",
   "name": "python3"
  },
  "language_info": {
   "codemirror_mode": {
    "name": "ipython",
    "version": 3
   },
   "file_extension": ".py",
   "mimetype": "text/x-python",
   "name": "python",
   "nbconvert_exporter": "python",
   "pygments_lexer": "ipython3",
   "version": "3.8.13"
  }
 },
 "nbformat": 4,
 "nbformat_minor": 1
}
