{
 "cells": [
  {
   "cell_type": "code",
   "execution_count": 22,
   "id": "initial_id",
   "metadata": {
    "collapsed": true,
    "ExecuteTime": {
     "end_time": "2024-01-05T05:46:52.077253100Z",
     "start_time": "2024-01-05T05:46:52.055336500Z"
    }
   },
   "outputs": [
    {
     "name": "stdout",
     "output_type": "stream",
     "text": [
      "integer division or modulo by zero\n",
      "The Program End\n"
     ]
    }
   ],
   "source": [
    "try:\n",
    "    i = 8 // 0\n",
    "    print(i)\n",
    "except IndentationError as ie:\n",
    "    print(\"Indention Error\")\n",
    "except ZeroDivisionError as ze:\n",
    "    print(ze)\n",
    "except SyntaxError as se:\n",
    "    print(se)\n",
    "except Exception as e:\n",
    "    print(e)\n",
    "else:\n",
    "    print(\"Try blocked is finished\")\n",
    "finally:\n",
    "    print(\"The Program End\")"
   ]
  },
  {
   "cell_type": "code",
   "execution_count": 3,
   "outputs": [
    {
     "name": "stdout",
     "output_type": "stream",
     "text": [
      "7\n",
      "Successfully executed\n",
      "Program Finished\n"
     ]
    }
   ],
   "source": [
    "try :\n",
    "    print(7//1)\n",
    "except ZeroDivisionError as ze :\n",
    "    print(ze)\n",
    "else:\n",
    "    print(\"Successfully executed\")\n",
    "finally:\n",
    "    print(\"Program Finished\")\n",
    "    "
   ],
   "metadata": {
    "collapsed": false,
    "ExecuteTime": {
     "end_time": "2024-02-02T11:26:20.448665500Z",
     "start_time": "2024-02-02T11:26:20.440898700Z"
    }
   },
   "id": "ca43d0f6231ddea8"
  }
 ],
 "metadata": {
  "kernelspec": {
   "display_name": "Python 3",
   "language": "python",
   "name": "python3"
  },
  "language_info": {
   "codemirror_mode": {
    "name": "ipython",
    "version": 2
   },
   "file_extension": ".py",
   "mimetype": "text/x-python",
   "name": "python",
   "nbconvert_exporter": "python",
   "pygments_lexer": "ipython2",
   "version": "2.7.6"
  }
 },
 "nbformat": 4,
 "nbformat_minor": 5
}
