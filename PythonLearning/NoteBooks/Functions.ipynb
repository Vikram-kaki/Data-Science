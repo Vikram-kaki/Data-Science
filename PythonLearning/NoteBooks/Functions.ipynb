{
 "cells": [
  {
   "cell_type": "markdown",
   "source": [
    "#### Functions ####"
   ],
   "metadata": {
    "collapsed": false
   }
  },
  {
   "cell_type": "raw",
   "source": [
    "Notes\n",
    "\n",
    "\n",
    "\n",
    "Python Functions is a block of statements that return the specific task.\n",
    "\n",
    "The idea is to put some commonly or repeatedly done tasks together and make a function so that instead of writing the same code again and again for different inputs, we can do the function calls to reuse code contained in it over and over again.\n",
    "\n",
    "\n",
    "\n",
    "Syntax: Python Functions\n",
    "\n",
    "Lightbox\n",
    "\n",
    "\n",
    "Creating a Python Function\n",
    "We can create a  Python function using the def keyword.\n",
    "\n",
    "\n",
    "\n",
    "\n",
    "# A simple Python function\n",
    "\n",
    "def fun():\n",
    "  print(\"Welcome to GFG\")\n",
    "\n",
    "\n",
    "\n",
    "\n",
    "Calling a  Python Function\n",
    "After creating a function we can call it by using the name of the function followed by parenthesis containing parameters of that particular function.\n",
    "\n",
    "\n",
    "# A simple Python function\n",
    "def fun():\n",
    "    print(\"Welcome to GFG\")\n",
    "\n",
    "\n",
    "# Driver code to call a function\n",
    "fun()\n",
    "\n",
    "Output\n",
    "Welcome to GFG"
   ],
   "metadata": {
    "collapsed": false
   }
  },
  {
   "cell_type": "code",
   "execution_count": 1,
   "outputs": [
    {
     "name": "stdout",
     "output_type": "stream",
     "text": [
      "Even\n"
     ]
    }
   ],
   "source": [
    "\n",
    "\n",
    "# A function that takes no parameter.\n",
    "\n",
    "# A function that takes the input from the user and prints whether the given number is ever or odd\n",
    "\n",
    "\n",
    "def even_odd():\n",
    "    num = int(input(\"Enter the number : \"))\n",
    "\n",
    "    if num % 2 == 0:\n",
    "        print(\"Even\")\n",
    "    else:\n",
    "        print(\"Odd\")\n",
    "\n",
    "even_odd()"
   ],
   "metadata": {
    "collapsed": false,
    "ExecuteTime": {
     "end_time": "2024-01-04T16:14:49.418169800Z",
     "start_time": "2024-01-04T16:14:45.883397900Z"
    }
   }
  },
  {
   "cell_type": "code",
   "execution_count": 3,
   "outputs": [
    {
     "name": "stdout",
     "output_type": "stream",
     "text": [
      "-ve\n",
      "+ve\n"
     ]
    }
   ],
   "source": [
    "# A Function that takes a parameter, but doesn't return anything.\n",
    "\n",
    "# A Function that takes a parameter and print's whether the given number is +ve or -ve.\n",
    "\n",
    "def p_o_n(num):\n",
    "    if num < 0:\n",
    "        print(\"-ve\")\n",
    "    else:\n",
    "        print(\"+ve\")\n",
    "\n",
    "p_o_n(-98)\n",
    "p_o_n(78)"
   ],
   "metadata": {
    "collapsed": false,
    "ExecuteTime": {
     "end_time": "2023-09-26T13:09:28.243295Z",
     "start_time": "2023-09-26T13:09:28.180798400Z"
    }
   }
  },
  {
   "cell_type": "code",
   "execution_count": 4,
   "outputs": [
    {
     "name": "stdout",
     "output_type": "stream",
     "text": [
      "25\n",
      "100\n"
     ]
    }
   ],
   "source": [
    "# A Function that takes a parameter as an input and return an object\n",
    "\n",
    "# A Function that takes a parameter and returns the square of the given number.\n",
    "\n",
    "def square(num):\n",
    "    return num**2\n",
    "\n",
    "\n",
    "print(square(5))\n",
    "print(square(10))"
   ],
   "metadata": {
    "collapsed": false,
    "ExecuteTime": {
     "end_time": "2023-09-26T13:10:43.031827800Z",
     "start_time": "2023-09-26T13:10:43.026622400Z"
    }
   }
  },
  {
   "cell_type": "code",
   "execution_count": 6,
   "outputs": [
    {
     "name": "stdout",
     "output_type": "stream",
     "text": [
      "False\n"
     ]
    }
   ],
   "source": [
    "# A Function that takes no parameter but returns an object\n",
    "\n",
    "# A Function that takes the input from the user and returns the boolean value True if the given number is prime else False.\n",
    "import math\n",
    "\n",
    "def is_prime():\n",
    "    num = int(input(\"Enter the number : \"))\n",
    "    for i in range(2,int(math.sqrt(num))+1):\n",
    "        if num % i == 0:\n",
    "            return False\n",
    "    return True\n",
    "\n",
    "\n",
    "print(is_prime())"
   ],
   "metadata": {
    "collapsed": false,
    "ExecuteTime": {
     "end_time": "2023-09-26T13:14:39.258349500Z",
     "start_time": "2023-09-26T13:14:34.217463700Z"
    }
   }
  },
  {
   "cell_type": "code",
   "execution_count": 8,
   "outputs": [
    {
     "name": "stdout",
     "output_type": "stream",
     "text": [
      "11\n",
      "5\n"
     ]
    }
   ],
   "source": [
    "# default arguments in python functions\n",
    "\n",
    "# A Function that takes two parameters and returns the sum of the given numbers while one number as a default argument.\n",
    "\n",
    "def add(a,b=0):\n",
    "    return a+b\n",
    "\n",
    "print(add(5,6))\n",
    "print(add(5))"
   ],
   "metadata": {
    "collapsed": false,
    "ExecuteTime": {
     "end_time": "2023-09-26T13:18:15.669063500Z",
     "start_time": "2023-09-26T13:18:15.594016300Z"
    }
   }
  },
  {
   "cell_type": "code",
   "execution_count": 9,
   "outputs": [
    {
     "name": "stdout",
     "output_type": "stream",
     "text": [
      "1 2 3\n",
      "1 2 3\n",
      "1 2 3\n"
     ]
    }
   ],
   "source": [
    "# keyword arguments\n",
    "\n",
    "# A Function to demonstrate the use of keyword arguments.\n",
    "\n",
    "def fun(a,b,c):\n",
    "    print(a,b,c)\n",
    "\n",
    "fun(a=1,b=2,c=3)\n",
    "fun(c=3,b=2,a=1)\n",
    "fun(1,c=3,b=2)"
   ],
   "metadata": {
    "collapsed": false,
    "ExecuteTime": {
     "end_time": "2023-09-26T13:22:13.360252700Z",
     "start_time": "2023-09-26T13:22:13.229251800Z"
    }
   }
  },
  {
   "cell_type": "code",
   "execution_count": 12,
   "outputs": [
    {
     "name": "stdout",
     "output_type": "stream",
     "text": [
      "45\n",
      "{'a': 1, 'b': 2, 'c': 3, 'd': 4}\n"
     ]
    }
   ],
   "source": [
    "# Functions to demonstrate the use of *args and **kwargs\n",
    "\n",
    "# *args usage.\n",
    "def add(*nums):\n",
    "    sum_value = 0\n",
    "    for i in nums:\n",
    "        sum_value += i\n",
    "\n",
    "    return sum_value\n",
    "\n",
    "\n",
    "print(add(1,2,3,4,5,6,7,8,9))\n",
    "\n",
    "\n",
    "# **kwargs usage.\n",
    "\n",
    "def fun(**kwargs):\n",
    "    print(kwargs)\n",
    "\n",
    "fun(a=1,b=2,c=3,d=4)\n"
   ],
   "metadata": {
    "collapsed": false,
    "ExecuteTime": {
     "end_time": "2023-09-26T13:26:04.469088800Z",
     "start_time": "2023-09-26T13:26:04.315294100Z"
    }
   }
  },
  {
   "cell_type": "code",
   "execution_count": 13,
   "outputs": [
    {
     "name": "stdout",
     "output_type": "stream",
     "text": [
      "Hi, I am Vikram\n",
      "This is a docstring\n"
     ]
    }
   ],
   "source": [
    "# Docstring in Python Functions\n",
    "\n",
    "def fun():\n",
    "    \"\"\"This is a docstring\"\"\"\n",
    "    print(\"Hi, I am Vikram\")\n",
    "\n",
    "\n",
    "fun()\n",
    "print(fun.__doc__)\n"
   ],
   "metadata": {
    "collapsed": false,
    "ExecuteTime": {
     "end_time": "2023-09-26T13:27:37.577461500Z",
     "start_time": "2023-09-26T13:27:37.440268300Z"
    }
   }
  },
  {
   "cell_type": "code",
   "execution_count": 2,
   "outputs": [],
   "source": [
    "import datetime"
   ],
   "metadata": {
    "collapsed": false,
    "ExecuteTime": {
     "end_time": "2024-01-04T16:15:53.841124700Z",
     "start_time": "2024-01-04T16:15:53.809330100Z"
    }
   }
  },
  {
   "cell_type": "code",
   "execution_count": 67,
   "outputs": [
    {
     "name": "stdout",
     "output_type": "stream",
     "text": [
      "2024-01-04 21:51:36.650645\n"
     ]
    }
   ],
   "source": [
    "print(datetime.datetime.now())"
   ],
   "metadata": {
    "collapsed": false,
    "ExecuteTime": {
     "end_time": "2024-01-04T16:21:36.669600800Z",
     "start_time": "2024-01-04T16:21:36.659900100Z"
    }
   }
  },
  {
   "cell_type": "code",
   "execution_count": 35,
   "outputs": [
    {
     "name": "stdout",
     "output_type": "stream",
     "text": [
      "2024-01-04 21:48:19.344833\n"
     ]
    }
   ],
   "source": [
    "print(datetime.datetime(2024,1,4,21,48,19,344833))"
   ],
   "metadata": {
    "collapsed": false,
    "ExecuteTime": {
     "end_time": "2024-01-04T16:19:33.041385800Z",
     "start_time": "2024-01-04T16:19:33.025726400Z"
    }
   }
  },
  {
   "cell_type": "code",
   "execution_count": 112,
   "outputs": [
    {
     "name": "stdout",
     "output_type": "stream",
     "text": [
      "0:04:19.867402\n"
     ]
    }
   ],
   "source": [
    "print(datetime.datetime.now()-datetime.datetime(2024,1,4,21,48,19,344833))"
   ],
   "metadata": {
    "collapsed": false,
    "ExecuteTime": {
     "end_time": "2024-01-04T16:22:39.351068200Z",
     "start_time": "2024-01-04T16:22:39.212235600Z"
    }
   }
  },
  {
   "cell_type": "code",
   "execution_count": 113,
   "outputs": [],
   "source": [
    "from collections import defaultdict"
   ],
   "metadata": {
    "collapsed": false,
    "ExecuteTime": {
     "end_time": "2024-01-04T16:25:23.701431100Z",
     "start_time": "2024-01-04T16:25:23.670168600Z"
    }
   }
  },
  {
   "cell_type": "code",
   "execution_count": 129,
   "outputs": [],
   "source": [
    "dt1 = defaultdict(int)"
   ],
   "metadata": {
    "collapsed": false,
    "ExecuteTime": {
     "end_time": "2024-01-04T16:27:09.508127300Z",
     "start_time": "2024-01-04T16:27:09.492165Z"
    }
   }
  },
  {
   "cell_type": "code",
   "execution_count": 133,
   "outputs": [
    {
     "name": "stdout",
     "output_type": "stream",
     "text": [
      "0\n",
      "0\n",
      "0\n",
      "0\n",
      "0\n",
      "0\n",
      "0\n",
      "0\n",
      "0\n",
      "0\n",
      "defaultdict(<class 'int'>, {8: 0, 0: 0, 1: 0, 2: 0, 3: 0, 4: 0, 5: 0, 6: 0, 7: 0, 9: 0})\n"
     ]
    }
   ],
   "source": [
    "for i in range(10):\n",
    "    print(dt1[i])\n",
    "    \n",
    "    \n",
    "print(dt1)"
   ],
   "metadata": {
    "collapsed": false,
    "ExecuteTime": {
     "end_time": "2024-01-04T16:27:49.442592200Z",
     "start_time": "2024-01-04T16:27:49.404927400Z"
    }
   }
  },
  {
   "cell_type": "code",
   "execution_count": 141,
   "outputs": [
    {
     "name": "stdout",
     "output_type": "stream",
     "text": [
      "('a', 1)\n",
      "('b', 2)\n",
      "('c', 3)\n",
      "('d', 4)\n",
      "('e', 5)\n",
      "('f', 6)\n",
      "('g', 7)\n",
      "('h', 8)\n",
      "('i', 9)\n",
      "('j', 10)\n",
      "('k', 11)\n",
      "('l', 12)\n",
      "('m', 13)\n",
      "('n', 14)\n",
      "('o', 15)\n",
      "('p', 16)\n",
      "('q', 17)\n",
      "('r', 18)\n",
      "('s', 19)\n",
      "('t', 20)\n",
      "('u', 21)\n",
      "('v', 22)\n",
      "('w', 23)\n",
      "('x', 24)\n",
      "('y', 25)\n",
      "('z', 26)\n"
     ]
    }
   ],
   "source": [
    "# Zip Function\n",
    "\n",
    "lst1 = [chr(i) for i in range(97, 123)]\n",
    "lst2 = [i for i in range(1, 27)]\n",
    "\n",
    "for i in zip(lst1, lst2):\n",
    "    print(i)"
   ],
   "metadata": {
    "collapsed": false,
    "ExecuteTime": {
     "end_time": "2024-01-04T16:55:27.830638Z",
     "start_time": "2024-01-04T16:55:27.801622Z"
    }
   }
  },
  {
   "cell_type": "code",
   "execution_count": 148,
   "outputs": [
    {
     "name": "stdout",
     "output_type": "stream",
     "text": [
      "(1, 4, 7)\n",
      "(2, 5, 8)\n",
      "(3, 6, 9)\n",
      "[[1, 4, 7], [2, 5, 8], [3, 6, 9]]\n",
      "[1, 2, 3]\n",
      "[4, 5, 6]\n",
      "[7, 8, 9]\n"
     ]
    }
   ],
   "source": [
    "matrix = [[1, 2, 3], [4, 5, 6], [7, 8, 9]]\n",
    "\n",
    "for i in zip(*matrix):\n",
    "    print(i)\n",
    "\n",
    "lst3 = [list(row) for row in zip(*matrix)]\n",
    "print(lst3)\n",
    "\n",
    "for i in matrix:\n",
    "    print(i)"
   ],
   "metadata": {
    "collapsed": false,
    "ExecuteTime": {
     "end_time": "2024-01-04T17:03:21.383786700Z",
     "start_time": "2024-01-04T17:03:21.345055200Z"
    }
   }
  },
  {
   "cell_type": "code",
   "execution_count": 150,
   "outputs": [
    {
     "name": "stdout",
     "output_type": "stream",
     "text": [
      "[1, 3, 5, 7, 9]\n"
     ]
    }
   ],
   "source": [
    "# Filter Function\n",
    "\n",
    "def is_odd(n):\n",
    "    return n % 2 != 0\n",
    "\n",
    "lst4 = list(range(10))\n",
    "\n",
    "print(list(filter(is_odd, lst4)))"
   ],
   "metadata": {
    "collapsed": false,
    "ExecuteTime": {
     "end_time": "2024-01-04T17:09:18.518413Z",
     "start_time": "2024-01-04T17:09:18.487957900Z"
    }
   }
  },
  {
   "cell_type": "code",
   "execution_count": 153,
   "outputs": [
    {
     "name": "stdout",
     "output_type": "stream",
     "text": [
      "[0, 2, 4, 6, 8]\n"
     ]
    }
   ],
   "source": [
    "# Lambda Function\n",
    "\n",
    "even = lambda x : x % 2 == 0\n",
    "\n",
    "print(list(filter(even, lst4)))"
   ],
   "metadata": {
    "collapsed": false,
    "ExecuteTime": {
     "end_time": "2024-01-04T17:12:47.606093500Z",
     "start_time": "2024-01-04T17:12:47.589936Z"
    }
   }
  },
  {
   "cell_type": "code",
   "execution_count": 159,
   "outputs": [
    {
     "name": "stdout",
     "output_type": "stream",
     "text": [
      "[0, 1, 4, 9, 16, 25, 36, 49, 64, 81]\n"
     ]
    }
   ],
   "source": [
    "# Map Function\n",
    "\n",
    "\n",
    "def sqr(n):\n",
    "    return n**2\n",
    "\n",
    "print(list(map(sqr, lst4)))"
   ],
   "metadata": {
    "collapsed": false,
    "ExecuteTime": {
     "end_time": "2024-01-04T17:16:27.774576300Z",
     "start_time": "2024-01-04T17:16:27.684813500Z"
    }
   }
  },
  {
   "cell_type": "code",
   "execution_count": 161,
   "outputs": [],
   "source": [
    "values = list(map(str, input().split()))"
   ],
   "metadata": {
    "collapsed": false,
    "ExecuteTime": {
     "end_time": "2024-01-04T17:23:01.962265500Z",
     "start_time": "2024-01-04T17:22:55.186614400Z"
    }
   }
  },
  {
   "cell_type": "code",
   "execution_count": 162,
   "outputs": [
    {
     "name": "stdout",
     "output_type": "stream",
     "text": [
      "['HI', 'hello', 'how', 'are', 'you', '?']\n"
     ]
    }
   ],
   "source": [
    "print(values)"
   ],
   "metadata": {
    "collapsed": false,
    "ExecuteTime": {
     "end_time": "2024-01-04T17:23:07.525342900Z",
     "start_time": "2024-01-04T17:23:07.509699200Z"
    }
   }
  },
  {
   "cell_type": "code",
   "execution_count": null,
   "outputs": [],
   "source": [
    "from collections import Counter\n",
    "\n",
    "\n",
    "stri = 'Hi hello how are you ?'\n",
    "\n",
    "c = Counter(stri)\n"
   ],
   "metadata": {
    "collapsed": false
   }
  },
  {
   "cell_type": "code",
   "execution_count": 165,
   "outputs": [
    {
     "data": {
      "text/plain": "3"
     },
     "execution_count": 165,
     "metadata": {},
     "output_type": "execute_result"
    }
   ],
   "source": [
    "v = int(float('3.14'))\n",
    "v"
   ],
   "metadata": {
    "collapsed": false,
    "ExecuteTime": {
     "end_time": "2024-01-05T04:34:23.541216400Z",
     "start_time": "2024-01-05T04:34:23.472037300Z"
    }
   }
  }
 ],
 "metadata": {
  "kernelspec": {
   "display_name": "Python 3",
   "language": "python",
   "name": "python3"
  },
  "language_info": {
   "codemirror_mode": {
    "name": "ipython",
    "version": 2
   },
   "file_extension": ".py",
   "mimetype": "text/x-python",
   "name": "python",
   "nbconvert_exporter": "python",
   "pygments_lexer": "ipython2",
   "version": "2.7.6"
  }
 },
 "nbformat": 4,
 "nbformat_minor": 0
}
