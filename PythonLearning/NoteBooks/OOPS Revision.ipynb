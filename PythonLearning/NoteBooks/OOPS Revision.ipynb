{
 "cells": [
  {
   "cell_type": "code",
   "execution_count": 2,
   "id": "initial_id",
   "metadata": {
    "collapsed": true,
    "ExecuteTime": {
     "end_time": "2024-01-04T10:15:16.179156100Z",
     "start_time": "2024-01-04T10:15:16.133613800Z"
    }
   },
   "outputs": [
    {
     "name": "stdout",
     "output_type": "stream",
     "text": [
      "Vikram\n"
     ]
    }
   ],
   "source": [
    "class Animal:\n",
    "    def __init__(self, name, type, legs, sex):\n",
    "        self.type = type\n",
    "        self.legs = legs\n",
    "        self.sex = sex\n",
    "        self.name = name\n",
    "        \n",
    "    def get_name(self):\n",
    "        return self.name\n",
    "    \n",
    "    \n",
    "    \n",
    "    \n",
    "    \n",
    "\n",
    "animal = Animal('Vikram', 'Human', 2, 'Male')\n",
    "print(animal.get_name())"
   ]
  },
  {
   "cell_type": "markdown",
   "source": [
    "#### Encapsulation"
   ],
   "metadata": {
    "collapsed": false
   },
   "id": "476212ef936eb7a8"
  },
  {
   "cell_type": "code",
   "execution_count": 6,
   "outputs": [
    {
     "name": "stdout",
     "output_type": "stream",
     "text": [
      "Show the ID\n",
      "Welcome to the movie Animal\n"
     ]
    }
   ],
   "source": [
    "class Human:\n",
    "    def __init__(self, name, age, sex, education):\n",
    "        self.__age = age\n",
    "        self.__name = name\n",
    "        self.__education = education\n",
    "        self.__sex = sex\n",
    "        \n",
    "        \n",
    "    def __isadult(self):\n",
    "        return self.__age > 18\n",
    "    \n",
    "    \n",
    "    def watch_movie(self, movie_name, rating):\n",
    "        if rating.lower() == 'a':\n",
    "            if self.__isadult():\n",
    "                print(\"Show the ID\")\n",
    "                print(\"Welcome to the movie \"+movie_name)\n",
    "            else:\n",
    "                print(\"Welcome to the movie \"+movie_name)\n",
    "                \n",
    "                \n",
    "                \n",
    "\n",
    "\n",
    "human = Human('Vikram', 21, 'Male', 'B.Tech')\n",
    "human.watch_movie('Animal', 'A')\n",
    "# human.__isadult() Not Possible"
   ],
   "metadata": {
    "collapsed": false,
    "ExecuteTime": {
     "end_time": "2024-01-04T10:23:52.796057Z",
     "start_time": "2024-01-04T10:23:52.759647200Z"
    }
   },
   "id": "10f31e60f8269da5"
  },
  {
   "cell_type": "markdown",
   "source": [
    "#### Class Methods and Static Methods"
   ],
   "metadata": {
    "collapsed": false
   },
   "id": "9b935ca4dafd24c7"
  },
  {
   "cell_type": "code",
   "execution_count": 23,
   "outputs": [
    {
     "name": "stdout",
     "output_type": "stream",
     "text": [
      "S.R.K.R Engineering College\n",
      "\n",
      "        ---------------------S.R.K.R Engineering College----------------------\n",
      "        Department Name : Information Technology\n",
      "        No of sections  : 5\n",
      "        No of students  : 400\n",
      "        \n",
      "\n",
      "        ----------------------Vishnu Engineering College----------------------\n",
      "        Department Name : Information Technology\n",
      "        No of sections  : 5\n",
      "        No of students  : 400\n",
      "        \n"
     ]
    }
   ],
   "source": [
    "class Department:\n",
    "    college_name = 'S.R.K.R Engineering College'\n",
    "    def __init__(self, dept_name, no_of_students, no_of_sections):\n",
    "        self.__dept_name = dept_name\n",
    "        self.no_of_students = no_of_students\n",
    "        self.no_of_sections = no_of_sections\n",
    "        \n",
    "    def get_details(self):\n",
    "        print(self.college_name.center(70,'*'))\n",
    "        print(f\"Department Name : {self.__dept_name}\")\n",
    "        print(f\"No of sections  : {self.no_of_sections}\")\n",
    "        print(f\"No of students  : {self.no_of_students}\")\n",
    "        \n",
    "    def __str__(self):\n",
    "        return f\"\"\"\n",
    "        {self.college_name.center(70, '-')}\n",
    "        Department Name : {self.__dept_name}\n",
    "        No of sections  : {self.no_of_sections}\n",
    "        No of students  : {self.no_of_students}\n",
    "        \"\"\"\n",
    "    \n",
    "    @classmethod\n",
    "    def change_college_name(cls, name):\n",
    "        cls.college_name = name\n",
    "        \n",
    "    @staticmethod\n",
    "    def is_adult(age):\n",
    "        return age > 18\n",
    "    \n",
    "    \n",
    "\n",
    "\n",
    "\n",
    "it = Department('Information Technology', 400, 5)\n",
    "print(it.college_name)\n",
    "print(it)\n",
    "Department.change_college_name('Vishnu Engineering College')\n",
    "print(it)"
   ],
   "metadata": {
    "collapsed": false,
    "ExecuteTime": {
     "end_time": "2024-01-04T11:05:54.321420200Z",
     "start_time": "2024-01-04T11:05:54.284166500Z"
    }
   },
   "id": "882ad746b3b1f1bd"
  },
  {
   "cell_type": "markdown",
   "source": [
    "### Inheritance"
   ],
   "metadata": {
    "collapsed": false
   },
   "id": "efee50928a6f7ebf"
  },
  {
   "cell_type": "code",
   "execution_count": 15,
   "outputs": [
    {
     "name": "stdout",
     "output_type": "stream",
     "text": [
      "Ranber moves with 2 legs\n",
      "Ranber is speaking in it's own language\n",
      "Moving with it's 4 legs\n",
      "Bow Bow Bow\n",
      "Hybrid\n"
     ]
    }
   ],
   "source": [
    "# Inheritance in python.\n",
    "\n",
    "\n",
    "# A basic example of inheritance in python.\n",
    "\n",
    "class Animal:\n",
    "    def __init__(self, name, no_of_legs, size):\n",
    "        self._name = name\n",
    "        self._no_of_legs = no_of_legs\n",
    "        self._size = size\n",
    "\n",
    "    def make_sound(self):\n",
    "        print(f\"{self._name} is speaking in it's own language\")\n",
    "\n",
    "    def move(self):\n",
    "        print(f\"{self._name} moves with {self._no_of_legs} legs\")\n",
    "\n",
    "\n",
    "class Dog(Animal):\n",
    "    def __init__(self, name, size, bread):\n",
    "        super().__init__(name, 4, size)\n",
    "        self.__bread = bread\n",
    "\n",
    "    def make_sound(self):\n",
    "        print(\"Bow Bow Bow\")\n",
    "\n",
    "    def move(self):\n",
    "        print(f\"Moving with it's {self._no_of_legs} legs\")\n",
    "\n",
    "    def get_bread(self):\n",
    "        return self.__bread\n",
    "\n",
    "\n",
    "class Human(Animal):\n",
    "\n",
    "    def __init__(self, name, size, race, sex):\n",
    "        super().__init__(name,2,size)\n",
    "        self.__race = race\n",
    "        self.__sex = sex\n",
    "\n",
    "    def get_race(self):\n",
    "        return self.__race\n",
    "\n",
    "    def get_sex(self):\n",
    "        return self.__sex\n",
    "\n",
    "\n",
    "\n",
    "\n",
    "\n",
    "\n",
    "\n",
    "\n",
    "\n",
    "\n",
    "\n",
    "\n",
    "animal = Animal('Ranber', 2, 'Big')\n",
    "animal.move()\n",
    "animal.make_sound()\n",
    "# \n",
    "# # noinspection PyRedeclaration\n",
    "candy = Dog('Candy','Small', 'Hybrid')\n",
    "candy.move()\n",
    "candy.make_sound()\n",
    "print(candy.get_bread())\n",
    "# \n",
    "# print(\"__\"*90)\n",
    "# vikram = Human('Vikram', 'Medium', 'Asian', 'Male')\n",
    "# vikram.move()\n",
    "# vikram.make_sound()\n",
    "# print(vikram.get_sex())\n",
    "# print(vikram.get_race())"
   ],
   "metadata": {
    "collapsed": false,
    "ExecuteTime": {
     "end_time": "2024-01-04T10:41:57.975297100Z",
     "start_time": "2024-01-04T10:41:57.911556Z"
    }
   },
   "id": "3fda97ecedd4e9b6"
  },
  {
   "cell_type": "markdown",
   "source": [
    "#### Abstract Class in Python"
   ],
   "metadata": {
    "collapsed": false
   },
   "id": "f9c3b255f2c93a72"
  },
  {
   "cell_type": "code",
   "execution_count": 21,
   "outputs": [
    {
     "data": {
      "text/plain": "6.0"
     },
     "execution_count": 21,
     "metadata": {},
     "output_type": "execute_result"
    }
   ],
   "source": [
    "from abc import ABC, abstractmethod\n",
    "\n",
    "\n",
    "class Polygon(ABC):\n",
    "    def __init__(self, no_of_sides):\n",
    "        self.__no_of_sides = no_of_sides\n",
    "        \n",
    "    @abstractmethod\n",
    "    def area(self, *bh):\n",
    "        pass\n",
    "    \n",
    "\n",
    "class Triangle(Polygon):\n",
    "    def __init__(self):\n",
    "        super().__init__(3)\n",
    "    \n",
    "    def area(self, *bh):\n",
    "        \"\"\"\n",
    "        :param bh: breadth and height of the triangle \n",
    "        :return: area of the triangle\n",
    "        \"\"\"\n",
    "        return (1/2)*bh[0]*bh[1]\n",
    "    \n",
    "    \n",
    "\n",
    "\n",
    "triangle = Triangle()\n",
    "triangle.area(3,4)"
   ],
   "metadata": {
    "collapsed": false,
    "ExecuteTime": {
     "end_time": "2024-01-04T10:57:55.924212700Z",
     "start_time": "2024-01-04T10:57:55.886686300Z"
    }
   },
   "id": "f23c15882311ac74"
  },
  {
   "cell_type": "code",
   "execution_count": null,
   "outputs": [],
   "source": [],
   "metadata": {
    "collapsed": false
   },
   "id": "38dfbe35126ebd58"
  }
 ],
 "metadata": {
  "kernelspec": {
   "display_name": "Python 3",
   "language": "python",
   "name": "python3"
  },
  "language_info": {
   "codemirror_mode": {
    "name": "ipython",
    "version": 2
   },
   "file_extension": ".py",
   "mimetype": "text/x-python",
   "name": "python",
   "nbconvert_exporter": "python",
   "pygments_lexer": "ipython2",
   "version": "2.7.6"
  }
 },
 "nbformat": 4,
 "nbformat_minor": 5
}
