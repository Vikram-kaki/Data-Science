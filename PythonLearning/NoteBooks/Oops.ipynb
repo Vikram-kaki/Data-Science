{
 "cells": [
  {
   "cell_type": "code",
   "execution_count": 1,
   "metadata": {
    "collapsed": true,
    "ExecuteTime": {
     "end_time": "2023-10-03T14:28:18.729654300Z",
     "start_time": "2023-10-03T14:28:18.657660200Z"
    }
   },
   "outputs": [
    {
     "name": "stdout",
     "output_type": "stream",
     "text": [
      "Candy is moving\n"
     ]
    }
   ],
   "source": [
    "# OOPS in python.\n",
    "# oops is a programming paradigm based on the concept of objects.\n",
    "# objects are data structures that contain data in the form of attributes and code in the form of methods.\n",
    "# objects are instances of classes.\n",
    "# classes are blueprints of objects.\n",
    "# classes are user defined data types.\n",
    "# classes are created using the keyword class.\n",
    "# classes can contain methods(functions) and attributes(variables).\n",
    "# objects are created using the keyword new.\n",
    "# objects are created using the constructor of the class.\n",
    "# constructor is a special method that is automatically called when an object is created.\n",
    "# constructor is used to initialize the attributes of an object.\n",
    "# constructor is defined using the keyword def.\n",
    "# constructor is always named as __init__.\n",
    "# self is a special keyword that is used to refer to the current object.\n",
    "# self is the first parameter of any method in a class.\n",
    "# self is used to access the attributes and methods of the class in python.\n",
    "\n",
    "\n",
    "# Example of oops in python.\n",
    "\n",
    "\n",
    "class Animal:\n",
    "    def __init__(self, name, no_of_legs, size):\n",
    "        self.name = name\n",
    "        self.no_of_legs = no_of_legs\n",
    "        self.size = size\n",
    "\n",
    "    def move(self):\n",
    "        print(f\"{self.name} is moving\")\n",
    "\n",
    "\n",
    "candy = Animal(\"Candy\",4,'Small')\n",
    "candy.move()\n"
   ]
  },
  {
   "cell_type": "markdown",
   "source": [
    "#### Python oops concepts"
   ],
   "metadata": {
    "collapsed": false
   }
  },
  {
   "cell_type": "code",
   "execution_count": 9,
   "outputs": [],
   "source": [
    "# Encapsulation in python.\n",
    "# Encapsulation is the process of binding the data and the code that manipulates the data together.\n",
    "# Encapsulation is used to hide the data and the code that manipulates the data from outside world.\n",
    "# Encapsulation is used to achieve data hiding.\n",
    "# Encapsulation is achieved by using access modifiers.\n",
    "# Access modifiers are keywords that are used to restrict the access to the attributes and methods of a class.\n",
    "# Access modifiers are public, private and protected.\n",
    "\n",
    "\n",
    "# Example of encapsulation in python.\n",
    "\n",
    "\n",
    "class Animal:\n",
    "    name = 'Animal'\n",
    "    def __init__(self, name, no_of_legs, size):\n",
    "        self.__name = name\n",
    "        self.__no_of_legs = no_of_legs\n",
    "        self.__size = size\n",
    "\n",
    "    def __move(self):\n",
    "        print(f\"{self.__name} is moving\")\n",
    "\n",
    "    def get_size(self):\n",
    "        self.__move()\n",
    "        return self.__size\n",
    "\n",
    "    def set_size(self, size):\n",
    "        self.__size = size\n",
    "\n",
    "\n",
    "candy = Animal(\"Candy\",4,'Small') \n",
    "# candy.isGood = True\n",
    "# print(candy.isGood)\n",
    "# Animal.name\n",
    "\n",
    "# To get the encapsulation in python, we use __ before the class members to make them private and non-accessible from outside the class.\n",
    "\n",
    "# _ UnderScore is used to make user understand that the given class member should be treated as private member.\n",
    "# Even though it doesn't prevent the user from accessing the members.\n",
    "\n"
   ],
   "metadata": {
    "collapsed": false,
    "ExecuteTime": {
     "end_time": "2024-01-04T09:59:37.269600300Z",
     "start_time": "2024-01-04T09:59:37.216359500Z"
    }
   }
  },
  {
   "cell_type": "code",
   "execution_count": 12,
   "outputs": [
    {
     "name": "stdout",
     "output_type": "stream",
     "text": [
      "Hello world\n",
      "Hi There VikramMova!\n",
      "Hello world\n",
      "Using Decorator\n",
      "Hello world\n",
      "Hello world!, From inner function\n"
     ]
    }
   ],
   "source": [
    "# Decorators in python.\n",
    "\n",
    "\n",
    "# Example 1:\n",
    "\n",
    "\n",
    "def fun1():\n",
    "    print(\"Hello world\")\n",
    "\n",
    "\n",
    "def fun2(name):\n",
    "    print(f\"Hi There {name}Mova!\")\n",
    "    fun1()\n",
    "\n",
    "def fun3(fun):\n",
    "    print(\"Using Decorator\")\n",
    "    fun()\n",
    "\n",
    "fun1()\n",
    "fun2(\"Vikram\")\n",
    "\n",
    "fun3(fun1)\n",
    "\n",
    "\n",
    "\n",
    "# Example 2:\n",
    "\n",
    "def greet(f):\n",
    "    f()\n",
    "\n",
    "    \n",
    "    \n",
    "def fun4():\n",
    "    def fun5():\n",
    "        print(\"Hello world!, From inner function\")\n",
    "    return fun5\n",
    "\n",
    "def fun6():\n",
    "    greet(fun4())\n",
    "    \n",
    "fun6()"
   ],
   "metadata": {
    "collapsed": false,
    "ExecuteTime": {
     "end_time": "2023-10-07T05:40:02.930606Z",
     "start_time": "2023-10-07T05:40:02.850031700Z"
    }
   }
  },
  {
   "cell_type": "code",
   "execution_count": 8,
   "outputs": [
    {
     "name": "stdout",
     "output_type": "stream",
     "text": [
      "KAKI's Family\n",
      "**********************************************************************\n",
      "Trimurthulu\n",
      "Jaya Lakshmi\n",
      "Anil Kiran\n",
      "Vikram\n",
      "------------------------------\n",
      "KAKI's Family\n",
      "**********************************************************************\n",
      "Trimurthulu\n",
      "Jaya Lakshmi\n",
      "Anil Kiran\n",
      "Vikram\n",
      "Chandhna Priya\n",
      "------------------------------\n",
      "Kaki\n",
      "True\n"
     ]
    }
   ],
   "source": [
    "class Family:\n",
    "    family_name = 'KAKI'\n",
    "    def __init__(self, head_of_family):\n",
    "        self.__head = head_of_family\n",
    "        self.__family_members = [self.__head]\n",
    "        self.__no_of_members = 0 if self.__head is None else 1\n",
    "    \n",
    "    \n",
    "    def add_members(self,*members):\n",
    "        for i in members:\n",
    "            self.__family_members.append(i)\n",
    "    def remove_members(self,*members):\n",
    "        for i in members:\n",
    "            self.__family_members.remove(i)\n",
    "            \n",
    "    \n",
    "    def show_members(self):\n",
    "        print(f\"{self.family_name}'s Family\")\n",
    "        print(\"*\"*70)\n",
    "        for i in self.__family_members:\n",
    "            print(i,sep=\"\")\n",
    "        \n",
    "        print(\"-\"*30)\n",
    "    \n",
    "    @classmethod\n",
    "    def change_family_name(cls,f_name):\n",
    "        cls.family_name = f_name\n",
    "    @staticmethod\n",
    "    def is_an_adult(person_age):\n",
    "        return person_age > 18\n",
    "\n",
    "k = Family('Trimurthulu')\n",
    "k.add_members('Jaya Lakshmi', 'Anil Kiran', 'Vikram')\n",
    "k.show_members()\n",
    "k.add_members('Chandhna Priya')\n",
    "k.show_members()\n",
    "\n",
    "Family.change_family_name(\"Kaki\")\n",
    "\n",
    "print(Family.family_name)\n",
    "print(Family.is_an_adult(20))\n",
    "\n",
    "    \n",
    "    \n",
    "    "
   ],
   "metadata": {
    "collapsed": false,
    "ExecuteTime": {
     "end_time": "2024-01-04T09:55:27.524853100Z",
     "start_time": "2024-01-04T09:55:27.496446200Z"
    }
   }
  },
  {
   "cell_type": "code",
   "execution_count": 50,
   "outputs": [
    {
     "name": "stdout",
     "output_type": "stream",
     "text": [
      "Ranber moves with 2 legs\n",
      "Ranber is speaking in it's own language\n",
      "Moving with it's 4 legs\n",
      "Bow Bow Bow\n",
      "Hybrid\n",
      "____________________________________________________________________________________________________________________________________________________________________________________\n",
      "Vikram moves with 2 legs\n",
      "Vikram is speaking in it's own language\n",
      "Male\n",
      "Asian\n"
     ]
    }
   ],
   "source": [
    "# Inheritance in python.\n",
    "\n",
    "\n",
    "# A basic example of inheritance in python.\n",
    "\n",
    "class Animal:\n",
    "    def __init__(self, name, no_of_legs, size):\n",
    "        self._name = name\n",
    "        self._no_of_legs = no_of_legs\n",
    "        self._size = size\n",
    "    \n",
    "    def make_sound(self):\n",
    "        print(f\"{self._name} is speaking in it's own language\")\n",
    "        \n",
    "    def move(self):\n",
    "        print(f\"{self._name} moves with {self._no_of_legs} legs\")\n",
    "        \n",
    "        \n",
    "class Dog(Animal):\n",
    "    def __init__(self, name, size, bread):\n",
    "        super().__init__(name, 4, size)\n",
    "        self.__bread = bread\n",
    "        \n",
    "    def make_sound(self):\n",
    "        print(\"Bow Bow Bow\")\n",
    "        \n",
    "    def move(self):\n",
    "        print(f\"Moving with it's {self._no_of_legs} legs\")\n",
    "        \n",
    "    def get_bread(self):\n",
    "        return self.__bread\n",
    "        \n",
    "\n",
    "class Human(Animal):\n",
    "    \n",
    "    def __init__(self, name, size, race, sex):\n",
    "        super().__init__(name,2,size)\n",
    "        self.__race = race\n",
    "        self.__sex = sex\n",
    "        \n",
    "    def get_race(self):\n",
    "        return self.__race\n",
    "    \n",
    "    def get_sex(self):\n",
    "        return self.__sex\n",
    "         \n",
    "        \n",
    "        \n",
    "        \n",
    "        \n",
    "        \n",
    "        \n",
    "        \n",
    "        \n",
    "        \n",
    "        \n",
    "        \n",
    "animal = Animal('Ranber', 2, 'Big')\n",
    "animal.move()\n",
    "animal.make_sound()\n",
    "\n",
    "# noinspection PyRedeclaration\n",
    "candy = Dog('Candy','Small', 'Hybrid')\n",
    "candy.move()\n",
    "candy.make_sound()\n",
    "print(candy.get_bread())\n",
    "\n",
    "print(\"__\"*90)\n",
    "vikram = Human('Vikram', 'Medium', 'Asian', 'Male')\n",
    "vikram.move()\n",
    "vikram.make_sound()\n",
    "print(vikram.get_sex())\n",
    "print(vikram.get_race())"
   ],
   "metadata": {
    "collapsed": false,
    "ExecuteTime": {
     "end_time": "2023-10-07T10:09:15.669727500Z",
     "start_time": "2023-10-07T10:09:15.620299600Z"
    }
   }
  },
  {
   "cell_type": "code",
   "execution_count": 64,
   "outputs": [
    {
     "name": "stdout",
     "output_type": "stream",
     "text": [
      "**************************************************\n",
      "Name : Vikram\n",
      "Age : 21\n",
      "DOB : 05-10-2002\n",
      "University : S.R.K.R Engineering College\n",
      "Stream : B.Tech (Computer Science And Business Systems)\n",
      "Year : 4\n",
      "**************************************************\n"
     ]
    }
   ],
   "source": [
    "# Example 2 of inheritence\n",
    "\n",
    "\n",
    "class Person:\n",
    "    def __init__(self, name, age, dob):\n",
    "        self.__name = name\n",
    "        self.__age = age\n",
    "        self.__dob = dob\n",
    "        \n",
    "    def get_name(self):\n",
    "        return self.__name\n",
    "    def get_age(self):\n",
    "        return self.__age\n",
    "    def get_dob(self):\n",
    "        return self.__dob\n",
    "    \n",
    "    \n",
    "    def __str__(self):\n",
    "        return (f\"{self.__name} is {self.__age} years old!\"\n",
    "                f\"dob : {self.__dob}\")\n",
    "    \n",
    "\n",
    "class Student(Person):\n",
    "    def __init__(self, name, age, dob, university, Qualification,stream, year):\n",
    "        super().__init__(name, age, dob)\n",
    "        self.Qualification = Qualification\n",
    "        self.university = university\n",
    "        self.stream = stream\n",
    "        self.year = year\n",
    "    def __str__(self):\n",
    "        return f'''{'*'*50}\n",
    "Name : {self.get_name()}\n",
    "Age : {self.get_age()}\n",
    "DOB : {self.get_dob()}\n",
    "University : {self.university}\n",
    "Stream : {self.stream}\n",
    "Year : {self.year}\n",
    "{'*'*50}'''\n",
    "    \n",
    "\n",
    "class Eng_Student(Student):\n",
    "    def __init__(self, name, age, dob, university, stream, year):\n",
    "        super().__init__(name, age, dob, university, 'B.Tech', stream, year)\n",
    "\n",
    "\n",
    "# e = Eng_Student('')\n",
    "  \n",
    "\n",
    "# person = Person('Vikram', 21, '05-10-2002')\n",
    "# print(person)\n",
    "# \n",
    "# \n",
    "vikram = Eng_Student('Vikram', 21, '05-10-2002', 'S.R.K.R Engineering College', 'B.Tech (Computer Science And Business Systems)', 4)\n",
    "\n",
    "print(vikram.__str__())\n",
    "# \n",
    "# \n",
    "# print(vikram)\n",
    "\n"
   ],
   "metadata": {
    "collapsed": false,
    "ExecuteTime": {
     "end_time": "2023-10-08T13:24:50.011565100Z",
     "start_time": "2023-10-08T13:24:49.980318100Z"
    }
   }
  },
  {
   "cell_type": "code",
   "execution_count": 71,
   "outputs": [
    {
     "name": "stdout",
     "output_type": "stream",
     "text": [
      "Class Triangle Created.\n",
      "I have 3 sides.\n"
     ]
    }
   ],
   "source": [
    "# Abstract Classes in python.\n",
    "\n",
    "from abc import ABC, abstractmethod\n",
    "\n",
    "class Polygon(ABC):\n",
    "    \n",
    "    @abstractmethod\n",
    "    def no_of_sides(self):\n",
    "        pass\n",
    "    \n",
    "class Triangle(Polygon):\n",
    "    def __init__(self):\n",
    "        print(\"Class Triangle Created.\")\n",
    "    def no_of_sides(self):\n",
    "        print(\"I have 3 sides.\")\n",
    "        \n",
    "        \n",
    "t = Triangle()\n",
    "t.no_of_sides()"
   ],
   "metadata": {
    "collapsed": false,
    "ExecuteTime": {
     "end_time": "2023-10-08T13:48:38.831797800Z",
     "start_time": "2023-10-08T13:48:38.800555300Z"
    }
   }
  },
  {
   "cell_type": "code",
   "execution_count": null,
   "outputs": [],
   "source": [
    "# Types of Inheritance in python.\n",
    "\n",
    "\n",
    "'''\n",
    "1. Single Inheritance.\n",
    "    Diagram:\n",
    "        A\n",
    "        |\n",
    "        B\n",
    "        \n",
    "        \n",
    "2. Multi-level Inheritance.\n",
    "    Diagram:\n",
    "        A\n",
    "        |\n",
    "        B\n",
    "        |\n",
    "        C\n",
    "        \n",
    "3. Hirearchical Inheritance.\n",
    "    Diagram:\n",
    "        A\n",
    "        |\n",
    "      /   \\\n",
    "     B     C\n",
    "     \n",
    "4. Multiple Inheritance.\n",
    "    Diagram:\n",
    "        A   B\n",
    "         \\ /\n",
    "          C\n",
    "          \n",
    "5. Hybrid Inheritance.\n",
    "    Diagram:\n",
    "        A   B\n",
    "         \\ /\n",
    "          C\n",
    "          |\n",
    "          D\n",
    "          \n",
    "# 6. Cyclic Inheritance\n",
    "# \n",
    "#     Diagram:\n",
    "#     \n",
    "#         A\n",
    "#         |\n",
    "#         B\n",
    "#         |\n",
    "#         C\n",
    "#         |\n",
    "#         A   \n",
    "        \n",
    "'''\n",
    "\n",
    "\n",
    "\n"
   ],
   "metadata": {
    "collapsed": false
   }
  },
  {
   "cell_type": "code",
   "execution_count": 73,
   "outputs": [
    {
     "name": "stdout",
     "output_type": "stream",
     "text": [
      "************************************************************\n",
      "Class Example Created.\n",
      "************************************************************\n",
      "Class Example Created.\n",
      "Class Single Created.\n",
      "************************************************************\n"
     ]
    }
   ],
   "source": [
    "# Single level inheritance in python.\n",
    "\n",
    "class Example:\n",
    "    def __init__(self):\n",
    "        print(\"*\"*60)\n",
    "        print(\"Class Example Created.\")\n",
    "        \n",
    "class Single(Example):\n",
    "    def __init__(self):\n",
    "        super().__init__()\n",
    "        print(\"Class Single Created.\")\n",
    "        print(\"*\"*60)\n",
    "\n",
    "\n",
    "\n",
    "e = Example()\n",
    "s = Single()"
   ],
   "metadata": {
    "collapsed": false,
    "ExecuteTime": {
     "end_time": "2023-10-08T15:31:03.438580300Z",
     "start_time": "2023-10-08T15:31:03.422972100Z"
    }
   }
  },
  {
   "cell_type": "code",
   "execution_count": 76,
   "outputs": [
    {
     "name": "stdout",
     "output_type": "stream",
     "text": [
      "Inside Class One\n",
      "************************************************************\n",
      "Inside Class One\n",
      "Inside Class Two\n",
      "************************************************************\n",
      "Inside Class One\n",
      "Inside Class Two\n",
      "Inside Class Three\n"
     ]
    }
   ],
   "source": [
    "# Multi-level inheritance in python.\n",
    "\n",
    "\n",
    "class One:\n",
    "    def __init__(self):\n",
    "        print(\"Inside Class One\")\n",
    "        \n",
    "\n",
    "\n",
    "class Two(One):\n",
    "    def __init__(self):\n",
    "        super().__init__()\n",
    "        print(\"Inside Class Two\")\n",
    "        \n",
    "   \n",
    "class Three(Two):\n",
    "    def __init__(self):\n",
    "        super().__init__()\n",
    "        print(\"Inside Class Three\")\n",
    "        \n",
    "        \n",
    "o = One()\n",
    "print(\"*\"*60)\n",
    "t = Two()\n",
    "print(\"*\"*60)\n",
    "th = Three()\n",
    "        "
   ],
   "metadata": {
    "collapsed": false,
    "ExecuteTime": {
     "end_time": "2023-10-08T15:41:27.807251200Z",
     "start_time": "2023-10-08T15:41:27.776005900Z"
    }
   }
  },
  {
   "cell_type": "code",
   "execution_count": 78,
   "outputs": [
    {
     "name": "stdout",
     "output_type": "stream",
     "text": [
      "Inside Class Main\n",
      "************************************************************\n",
      "Inside Class Main\n",
      "Inside Class Child1\n",
      "************************************************************\n",
      "Inside Class Main\n",
      "Inside Class Child2\n"
     ]
    }
   ],
   "source": [
    "# Hirearchical Inheritance in python.\n",
    "\n",
    "class Main:\n",
    "    def __init__(self):\n",
    "        print(\"Inside Class Main\")\n",
    "        \n",
    "class Child1(Main):\n",
    "    def __init__(self):\n",
    "        super().__init__()\n",
    "        print(\"Inside Class Child1\")\n",
    "\n",
    "class Child2(Main):\n",
    "    def __init__(self):\n",
    "        super().__init__()\n",
    "        print(\"Inside Class Child2\")\n",
    "        \n",
    "    \n",
    "    \n",
    "m = Main()\n",
    "print(\"*\"*60)\n",
    "c1 = Child1()\n",
    "print(\"*\"*60)\n",
    "c2 = Child2()"
   ],
   "metadata": {
    "collapsed": false,
    "ExecuteTime": {
     "end_time": "2023-10-08T15:43:40.362699300Z",
     "start_time": "2023-10-08T15:43:40.362699300Z"
    }
   }
  },
  {
   "cell_type": "code",
   "execution_count": 10,
   "outputs": [
    {
     "name": "stdout",
     "output_type": "stream",
     "text": [
      "Inside Class Main1\n",
      "Inside Method of Class Main1\n",
      "Inside Method of Class Main2\n"
     ]
    }
   ],
   "source": [
    "# Multiple Inheritance in python.\n",
    "\n",
    "class Main1:\n",
    "    def __init__(self,a):\n",
    "        print(\"Inside Class Main1\")\n",
    "        \n",
    "    def inside_method(self):\n",
    "        print(\"Inside Method of Class Main1\")\n",
    "        \n",
    "class Main2:\n",
    "    def __init__(self, b):\n",
    "        print(\"Inside Class Main2\")\n",
    "        self.b = b\n",
    "    def inside_method2(self):\n",
    "        print(\"Inside Method of Class Main2\")\n",
    "    \n",
    "    def get_b(self):\n",
    "        return self.b\n",
    "\n",
    "class Child(Main1, Main2):\n",
    "    def __init__(self, a, b):\n",
    "        super().__init__(a)\n",
    "      \n",
    "        \n",
    "        \n",
    "c = Child(10,20)\n",
    "c.inside_method()\n",
    "c.inside_method2()"
   ],
   "metadata": {
    "collapsed": false,
    "ExecuteTime": {
     "end_time": "2024-01-04T11:00:16.377497900Z",
     "start_time": "2024-01-04T11:00:16.308558200Z"
    }
   }
  },
  {
   "cell_type": "code",
   "execution_count": 108,
   "outputs": [
    {
     "name": "stdout",
     "output_type": "stream",
     "text": [
      "Inside Class A\n",
      "Inside Class C\n",
      "Inside Class B\n",
      "Inside Class D\n",
      "Inside Method of Class D\n"
     ]
    }
   ],
   "source": [
    "# The diamond problem in multiple inheritance in python.\n",
    "\n",
    "\n",
    "class A:\n",
    "    def __init__(self):\n",
    "        print(\"Inside Class A\")\n",
    "        \n",
    "    def inside_method(self):\n",
    "        print(\"Inside Method of Class A\")\n",
    "        \n",
    "class B(A):\n",
    "    def __init__(self):\n",
    "        super().__init__()\n",
    "        print(\"Inside Class B\")\n",
    "        \n",
    "    def inside_method(self):\n",
    "        print(\"Inside Method of Class B\")\n",
    "        \n",
    "class C(A):\n",
    "    def __init__(self):\n",
    "        super().__init__()\n",
    "        print(\"Inside Class C\")\n",
    "        \n",
    "    def inside_method(self):\n",
    "        print(\"Inside Method of Class C\")\n",
    "        \n",
    "class D(B,C):\n",
    "    def __init__(self):\n",
    "        super().__init__()\n",
    "        print(\"Inside Class D\")\n",
    "        \n",
    "    def inside_method(self):\n",
    "        print(\"Inside Method of Class D\")\n",
    "        \n",
    "        \n",
    "d = D()\n",
    "d.inside_method()\n"
   ],
   "metadata": {
    "collapsed": false,
    "ExecuteTime": {
     "end_time": "2023-10-09T16:49:56.879204300Z",
     "start_time": "2023-10-09T16:49:56.847952200Z"
    }
   }
  },
  {
   "cell_type": "code",
   "execution_count": 112,
   "outputs": [
    {
     "name": "stdout",
     "output_type": "stream",
     "text": [
      "Quack Quack\n",
      "Hello World\n",
      "Bow Bow\n"
     ]
    }
   ],
   "source": [
    "# Polymorphism in python.\n",
    "\n",
    "# q: why polymorphism isn't possible in python.\n",
    "# a: because python is a dynamically typed language.\n",
    "\n",
    "# Polymorphism is the ability of an object to take on many forms.\n",
    "\n",
    "\n",
    "# Example of polymorphism in python.\n",
    "# def fun(a, b):\n",
    "#     print(a)\n",
    "#     print(b)\n",
    "#     \n",
    "# def fun(a, b, c):\n",
    "#     print(a)\n",
    "#     print(b)\n",
    "#     print(c)\n",
    "#     \n",
    "#     \n",
    "# fun(1,3)\n",
    "# fun(1,2,3)\n",
    "\n",
    "\n",
    "# The above example shows that polymorphism is not possible in python.\n",
    "# The above example gives an error.\n",
    "\n",
    "# Because python is a dynamically typed language.\n",
    "# In python we try to achieve polymorphism using the concept of duck typing.\n",
    "# Duck typing is a concept in python that says that if it looks like a duck, swims like a duck and quacks like a duck, then it probably is a duck.\n",
    "\n",
    "\n",
    "# Using Classes in python to achieve polymorphism.\n",
    "class Duck:\n",
    "    def talk(self):\n",
    "        print(\"Quack Quack\")\n",
    "\n",
    "class Human:\n",
    "    def talk(self):\n",
    "        print(\"Hello World\")\n",
    "\n",
    "class Dog:\n",
    "\n",
    "    def talk(self):\n",
    "        print(\"Bow Bow\")\n",
    "\n",
    "def call_talk(obj):\n",
    "    obj.talk()\n",
    "\n",
    "d = Duck()\n",
    "h = Human()\n",
    "dog = Dog()\n",
    "\n",
    "call_talk(d)\n",
    "call_talk(h)\n",
    "call_talk(dog)\n",
    "\n"
   ],
   "metadata": {
    "collapsed": false,
    "ExecuteTime": {
     "end_time": "2023-10-09T17:32:58.419979200Z",
     "start_time": "2023-10-09T17:32:58.380981900Z"
    }
   }
  },
  {
   "cell_type": "code",
   "execution_count": 128,
   "outputs": [
    {
     "name": "stdout",
     "output_type": "stream",
     "text": [
      "Rectangle\n",
      "2\n",
      "\n",
      "Circle\n",
      "66.47610054996001\n",
      "\n",
      "Square\n",
      "9\n"
     ]
    }
   ],
   "source": [
    "# Abstract Classes in python.\n",
    "\n",
    "from abc import ABC, abstractmethod, abstractproperty\n",
    "import math\n",
    "class Shape(ABC):\n",
    "    \n",
    "    @abstractmethod\n",
    "    def get_area(self):\n",
    "        pass\n",
    "    \n",
    "    @abstractmethod\n",
    "    def get_type(self):\n",
    "        pass\n",
    "    \n",
    "\n",
    "class Rectangle(Shape):\n",
    "    \n",
    "    def __init__(self, length, breadth):\n",
    "        self.breadth = breadth\n",
    "        self.length = length\n",
    "        \n",
    "    def get_area(self):\n",
    "        return self.length * self.breadth\n",
    "    \n",
    "    def get_type(self):\n",
    "        return 'Rectangle'\n",
    "      \n",
    "\n",
    "class Circle(Shape):  \n",
    "    def __init__(self, radius):\n",
    "        self.radius = radius\n",
    "    \n",
    "    def get_area(self):\n",
    "        return math.pi * (self.radius**2)\n",
    "    \n",
    "    def get_type(self):\n",
    "        return 'Circle'\n",
    "    \n",
    "class Square(Shape):\n",
    "    def __init__(self, side):\n",
    "        self.side = side\n",
    "        \n",
    "    def get_type(self):\n",
    "        return 'Square'\n",
    "    \n",
    "    def get_area(self):\n",
    "        return self.side**2\n",
    "    \n",
    "    \n",
    "    \n",
    "r = Rectangle(1, 2)\n",
    "print(r.get_type())\n",
    "print(r.get_area())\n",
    "print()\n",
    "c = Circle(4.6)\n",
    "print(c.get_type())\n",
    "print(c.get_area())\n",
    "print()\n",
    "s = Square(3)\n",
    "print(s.get_type())\n",
    "print(s.get_area())"
   ],
   "metadata": {
    "collapsed": false,
    "ExecuteTime": {
     "end_time": "2023-10-09T18:33:26.251086600Z",
     "start_time": "2023-10-09T18:33:26.183078400Z"
    }
   }
  },
  {
   "cell_type": "code",
   "execution_count": 2,
   "outputs": [
    {
     "name": "stdout",
     "output_type": "stream",
     "text": [
      "Inside the class 1\n",
      "Inside the class 2\n",
      "Doing Nothing\n",
      "Nothing dude.\n"
     ]
    }
   ],
   "source": [
    "# How to perform method overriding in python.\n",
    "\n",
    "class Class1:\n",
    "    def __init__(self):\n",
    "        print(\"Inside the class 1\")\n",
    "    \n",
    "    def ntg(self):\n",
    "        print(\"Doing Nothing\")\n",
    "        \n",
    "\n",
    "class Class2:\n",
    "    def __init__(self):\n",
    "        print(\"Inside the class 2\")\n",
    "    \n",
    "    def ntg(self):  \n",
    "        print(\"Nothing dude.\")\n",
    "        \n",
    "        \n",
    "def function(obj):\n",
    "    obj.ntg()\n",
    "    \n",
    "    \n",
    "objs = [Class1(), Class2()]\n",
    "\n",
    "for obj in objs:\n",
    "    obj.ntg()"
   ],
   "metadata": {
    "collapsed": false,
    "ExecuteTime": {
     "end_time": "2023-10-10T13:27:40.797338500Z",
     "start_time": "2023-10-10T13:27:40.744337900Z"
    }
   }
  },
  {
   "cell_type": "code",
   "execution_count": 11,
   "outputs": [
    {
     "name": "stdout",
     "output_type": "stream",
     "text": [
      "795113\n",
      "6498\n",
      "5166644274\n",
      "122.3627269929209\n"
     ]
    }
   ],
   "source": [
    "# Operator Over-loading in python.\n",
    "\n",
    "# A Basic Example\n",
    "class MyInt(int):\n",
    "    def __init__(self, value):\n",
    "        self.value = value\n",
    "    \n",
    "    def __add__(self, other):\n",
    "        return self.value * other.value\n",
    "    \n",
    "    def __sub__(self, other):\n",
    "        return self.value / other.value\n",
    "    \n",
    "    def __str__(self):\n",
    "        return f\"{self.value}\"\n",
    "\n",
    "\n",
    "a = MyInt(795113)\n",
    "b = MyInt(6498)\n",
    "print(a)\n",
    "print(b)\n",
    "print(a + b)\n",
    "\n",
    "print(a - b)"
   ],
   "metadata": {
    "collapsed": false,
    "ExecuteTime": {
     "end_time": "2023-10-10T13:37:10.764568700Z",
     "start_time": "2023-10-10T13:37:10.705571900Z"
    }
   }
  },
  {
   "cell_type": "code",
   "execution_count": 21,
   "outputs": [
    {
     "name": "stdout",
     "output_type": "stream",
     "text": [
      "hi\n"
     ]
    }
   ],
   "source": [
    "class Ntg:\n",
    "    ntg2 = 'hi'\n",
    "    def __init__(self, ntg):\n",
    "        self.ntg = ntg\n",
    "        \n",
    "\n",
    "\n",
    "n = Ntg(1)\n",
    "print(n.__class__.ntg2)\n"
   ],
   "metadata": {
    "collapsed": false,
    "ExecuteTime": {
     "end_time": "2023-10-10T18:44:11.026010400Z",
     "start_time": "2023-10-10T18:44:11.003009200Z"
    }
   }
  },
  {
   "cell_type": "code",
   "execution_count": null,
   "outputs": [],
   "source": [],
   "metadata": {
    "collapsed": false
   }
  },
  {
   "cell_type": "markdown",
   "source": [],
   "metadata": {
    "collapsed": false
   }
  }
 ],
 "metadata": {
  "kernelspec": {
   "display_name": "Python 3",
   "language": "python",
   "name": "python3"
  },
  "language_info": {
   "codemirror_mode": {
    "name": "ipython",
    "version": 2
   },
   "file_extension": ".py",
   "mimetype": "text/x-python",
   "name": "python",
   "nbconvert_exporter": "python",
   "pygments_lexer": "ipython2",
   "version": "2.7.6"
  }
 },
 "nbformat": 4,
 "nbformat_minor": 0
}
