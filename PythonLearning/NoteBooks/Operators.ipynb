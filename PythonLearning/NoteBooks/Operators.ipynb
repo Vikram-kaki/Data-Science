{
 "cells": [
  {
   "cell_type": "markdown",
   "source": [
    "#### Operators in python"
   ],
   "metadata": {
    "collapsed": false
   }
  },
  {
   "cell_type": "code",
   "execution_count": 3,
   "outputs": [
    {
     "name": "stdout",
     "output_type": "stream",
     "text": [
      "x + y = 13\n",
      "x - y = 5\n",
      "x * y = 36\n",
      "x / y = 2.25\n",
      "x // y = 2\n",
      "x ** y = 6561\n",
      "x % y = 1\n",
      "11\n",
      "1023.25\n"
     ]
    }
   ],
   "source": [
    "# Arithmetic operators\n",
    "\n",
    "\n",
    "\n",
    "\n",
    "x = 9\n",
    "y = 4\n",
    "\n",
    "print('x + y =',x+y)\n",
    "print('x - y =',x-y)\n",
    "print('x * y =',x*y)\n",
    "print('x / y =',x/y)\n",
    "print('x // y =',x//y)\n",
    "print('x ** y =',x**y)\n",
    "print('x % y =',x%y)\n",
    "\n",
    "\n",
    "# Arithmetic operators order of precedence\n",
    "# 1. Parentheses\n",
    "# 2. Exponentiation\n",
    "# 3. Multiplication, Division, Floor division, Modulus\n",
    "# 4. Addition, Subtraction\n",
    "\n",
    "\n",
    "print(5+2*3)\n",
    "print(4**5+9//8/4-7%6)\n"
   ],
   "metadata": {
    "collapsed": false,
    "ExecuteTime": {
     "end_time": "2023-09-18T11:09:58.946447200Z",
     "start_time": "2023-09-18T11:09:58.915125100Z"
    }
   }
  },
  {
   "cell_type": "code",
   "execution_count": 13,
   "outputs": [
    {
     "name": "stdout",
     "output_type": "stream",
     "text": [
      "x > y is False\n",
      "x < y is True\n",
      "x == y is False\n",
      "x != y is True\n",
      "x >= y is False\n",
      "x <= y is True\n",
      "\n",
      "\n",
      "\n",
      "x and y is False\n",
      "x or y is True\n",
      "not x is False\n",
      "10\n",
      "20\n",
      "20\n",
      "20\n",
      "0\n"
     ]
    }
   ],
   "source": [
    "\n",
    "# Comparison operators\n",
    "\n",
    "x = 10\n",
    "y = 12\n",
    "\n",
    "print('x > y is',x>y)\n",
    "print('x < y is',x<y)\n",
    "print('x == y is',x==y)\n",
    "print('x != y is',x!=y)\n",
    "print('x >= y is',x>=y)\n",
    "print('x <= y is',x<=y)\n",
    "\n",
    "# Logical operators\n",
    "\n",
    "print('\\n\\n')\n",
    "x = True\n",
    "y = False\n",
    "\n",
    "print('x and y is',x and y)\n",
    "print('x or y is',x or y)\n",
    "print('not x is',not x)\n",
    "\n",
    "\n",
    "# s1 = ''\n",
    "#\n",
    "# s2 = s1 or 'vikram'\n",
    "# print(s2)\n",
    "#\n",
    "# print(s1 or s2)\n",
    "# print(s1 and s2)\n",
    "\n",
    "a = 10\n",
    "b = 20\n",
    "\n",
    "print(a or b) # if 'a' is zero then 'b' will be printed or else 'a' will be printed\n",
    "print(b or a)\n",
    "print(0 or b)\n",
    "print(a and b) # if 'a' is zero then 'a' will be printed or else 'b' will be printed\n",
    "print(0 and b)\n"
   ],
   "metadata": {
    "collapsed": false,
    "ExecuteTime": {
     "end_time": "2023-09-18T11:43:23.534335900Z",
     "start_time": "2023-09-18T11:43:23.481265700Z"
    }
   }
  },
  {
   "cell_type": "code",
   "execution_count": 14,
   "outputs": [
    {
     "name": "stdout",
     "output_type": "stream",
     "text": [
      "False\n",
      "True\n",
      "False\n"
     ]
    }
   ],
   "source": [
    "# Identity operators\n",
    "\n",
    "x1 = 5\n",
    "y1 = 5\n",
    "x2 = 'Hello'\n",
    "y2 = 'Hello'\n",
    "x3 = [1,2,3]\n",
    "y3 = [1,2,3]\n",
    "\n",
    "print(x1 is not y1)\n",
    "print(x2 is y2)\n",
    "print(x3 is y3)\n",
    "\n",
    "# When we run the x3 is y3 we get false because the list is mutable and the list is stored in different memory locations."
   ],
   "metadata": {
    "collapsed": false,
    "ExecuteTime": {
     "end_time": "2023-09-18T11:45:25.931116500Z",
     "start_time": "2023-09-18T11:45:25.917389Z"
    }
   }
  },
  {
   "cell_type": "code",
   "execution_count": 1,
   "outputs": [
    {
     "name": "stdout",
     "output_type": "stream",
     "text": [
      "True\n",
      "True\n",
      "True\n",
      "False\n",
      "False\n"
     ]
    }
   ],
   "source": [
    "# Membership operators\n",
    "\n",
    "x = 'Hello world'\n",
    "y = {1:'a',2:'b'}\n",
    "z = [1,2,3,4]\n",
    "print('H' in x)\n",
    "print('hello' not in x)\n",
    "print(1 in y)\n",
    "print('a' in y)\n",
    "print([1,4] in z)"
   ],
   "metadata": {
    "collapsed": false,
    "ExecuteTime": {
     "end_time": "2023-09-22T17:11:22.813277600Z",
     "start_time": "2023-09-22T17:11:22.770727800Z"
    }
   }
  },
  {
   "cell_type": "code",
   "execution_count": 24,
   "outputs": [
    {
     "name": "stdout",
     "output_type": "stream",
     "text": [
      "0\n",
      "14\n",
      "-11\n",
      "14\n",
      "2\n",
      "40\n",
      "80\n"
     ]
    }
   ],
   "source": [
    "# Bitwise operators\n",
    "\n",
    "a = 10\n",
    "b = 4\n",
    "\n",
    "print(a & b)\n",
    "print(a | b)\n",
    "print(~a)\n",
    "print(a ^ b)\n",
    "print(a >> 2) # It's basically dividing the number by 2 ^ n\n",
    "print(a << 2) # It's basically multiplying the number by 2 ^ n\n",
    "print(a << 3)"
   ],
   "metadata": {
    "collapsed": false,
    "ExecuteTime": {
     "end_time": "2023-09-23T07:23:23.889818100Z",
     "start_time": "2023-09-23T07:23:23.878452800Z"
    }
   }
  },
  {
   "cell_type": "markdown",
   "source": [
    "#### Program's"
   ],
   "metadata": {
    "collapsed": false
   }
  },
  {
   "cell_type": "code",
   "execution_count": 18,
   "outputs": [
    {
     "name": "stdout",
     "output_type": "stream",
     "text": [
      "100111011100011100110111\n",
      "21\n",
      "0b1010\n",
      "0b100000011000101011111110001110001001011111001111010100011110\n"
     ]
    }
   ],
   "source": [
    "# A program to convert the decimal to binary\n",
    "\n",
    "\n",
    "def convert_to_binary(decimal_number):\n",
    "    if decimal_number > 1:\n",
    "        convert_to_binary(decimal_number//2)\n",
    "    print(decimal_number%2, end='')\n",
    "\n",
    "\n",
    "convert_to_binary(10340151)\n",
    "print()\n",
    "\n",
    "\n",
    "# A program to convert the binary to decimal\n",
    "\n",
    "def convert_to_decimal(binary_number):\n",
    "    decimal_number = 0\n",
    "    two_power = 0\n",
    "    while binary_number>0:\n",
    "        temp = binary_number % 10\n",
    "        decimal_number = decimal_number + (temp * (2 ** two_power))\n",
    "        two_power += 1\n",
    "        binary_number //= 10\n",
    "    return decimal_number\n",
    "\n",
    "print(convert_to_decimal(10101))\n",
    "\n",
    "# q: What is the use the bin() function in python?\n",
    "# a: The bin() function is used to convert the decimal to binary\n",
    "\n",
    "print(bin(10))\n",
    "print(bin(583409543543584030))\n",
    "\n"
   ],
   "metadata": {
    "collapsed": false,
    "ExecuteTime": {
     "end_time": "2023-09-22T17:46:50.351767300Z",
     "start_time": "2023-09-22T17:46:50.298704600Z"
    }
   }
  },
  {
   "cell_type": "code",
   "execution_count": 26,
   "outputs": [
    {
     "name": "stdout",
     "output_type": "stream",
     "text": [
      "The 18th term : 76\n"
     ]
    }
   ],
   "source": [
    "# A program to nth term of an arithmetic progression\n",
    "\n",
    "\n",
    "def ap(s,d,n):\n",
    "    return s + (n-1) * d\n",
    "\n",
    "\n",
    "a = int(input(\"Enter the staring term.\"))\n",
    "d = int(input(\"Enter the common difference\"))\n",
    "n = int(input(\"Which nth term is required : \"))\n",
    "\n",
    "print(f\"The {n}th term : {ap(a,d,n)}\")\n"
   ],
   "metadata": {
    "collapsed": false,
    "ExecuteTime": {
     "end_time": "2023-09-23T07:34:36.220948300Z",
     "start_time": "2023-09-23T07:34:29.650940100Z"
    }
   }
  },
  {
   "cell_type": "code",
   "execution_count": 29,
   "outputs": [
    {
     "name": "stdout",
     "output_type": "stream",
     "text": [
      "The 10th term : 2560000\n"
     ]
    }
   ],
   "source": [
    "# A program to find the nth term of a geometric progression\n",
    "\n",
    "\n",
    "def gp(s,r,t):\n",
    "    return s * (r ** (t-1))\n",
    "\n",
    "\n",
    "a = int(input(\"Enter the first number the series : \"))\n",
    "c = int(input(\"Enter the common ratio : \"))\n",
    "n = int(input(\"Required nth term : \"))\n",
    "\n",
    "print(f\"The {n}th term : {gp(a,c,n)}\")"
   ],
   "metadata": {
    "collapsed": false,
    "ExecuteTime": {
     "end_time": "2023-09-23T07:40:23.228737900Z",
     "start_time": "2023-09-23T07:40:15.257225Z"
    }
   }
  },
  {
   "cell_type": "code",
   "execution_count": 31,
   "outputs": [
    {
     "name": "stdout",
     "output_type": "stream",
     "text": [
      "The sum of 89 natural numbers is 4005\n"
     ]
    }
   ],
   "source": [
    "# A program to find the sum of natural numbers using mathematically formula by taking the input from the user.\n",
    "\n",
    "\n",
    "def sum_of_natural_numbers(n):\n",
    "    return (n * (n + 1)) // 2\n",
    "\n",
    "\n",
    "number = int(input(\"Enter the number : \"))\n",
    "print(f\"The sum of {number} natural numbers is {sum_of_natural_numbers(number)}\")\n"
   ],
   "metadata": {
    "collapsed": false,
    "ExecuteTime": {
     "end_time": "2023-09-23T07:44:00.226298100Z",
     "start_time": "2023-09-23T07:43:55.707864700Z"
    }
   }
  },
  {
   "cell_type": "code",
   "execution_count": 35,
   "outputs": [
    {
     "ename": "ValueError",
     "evalue": "invalid literal for int() with base 10: ''",
     "output_type": "error",
     "traceback": [
      "\u001B[1;31m---------------------------------------------------------------------------\u001B[0m",
      "\u001B[1;31mValueError\u001B[0m                                Traceback (most recent call last)",
      "Input \u001B[1;32mIn [35]\u001B[0m, in \u001B[0;36m<cell line: 8>\u001B[1;34m()\u001B[0m\n\u001B[0;32m      4\u001B[0m \u001B[38;5;28;01mdef\u001B[39;00m \u001B[38;5;21mlast_digit\u001B[39m(n):\n\u001B[0;32m      5\u001B[0m     \u001B[38;5;28;01mreturn\u001B[39;00m n \u001B[38;5;241m%\u001B[39m \u001B[38;5;241m10\u001B[39m\n\u001B[1;32m----> 8\u001B[0m number \u001B[38;5;241m=\u001B[39m \u001B[38;5;28;43mint\u001B[39;49m\u001B[43m(\u001B[49m\u001B[38;5;28;43minput\u001B[39;49m\u001B[43m(\u001B[49m\u001B[38;5;124;43m\"\u001B[39;49m\u001B[38;5;124;43mEnter the number : \u001B[39;49m\u001B[38;5;124;43m\"\u001B[39;49m\u001B[43m)\u001B[49m\u001B[43m)\u001B[49m\n\u001B[0;32m      9\u001B[0m \u001B[38;5;28mprint\u001B[39m(\u001B[38;5;124mf\u001B[39m\u001B[38;5;124m\"\u001B[39m\u001B[38;5;124mThe last digit of \u001B[39m\u001B[38;5;132;01m{\u001B[39;00mnumber\u001B[38;5;132;01m}\u001B[39;00m\u001B[38;5;124m is \u001B[39m\u001B[38;5;132;01m{\u001B[39;00mlast_digit(\u001B[38;5;28mabs\u001B[39m(number))\u001B[38;5;132;01m}\u001B[39;00m\u001B[38;5;124m\"\u001B[39m)\n",
      "\u001B[1;31mValueError\u001B[0m: invalid literal for int() with base 10: ''"
     ]
    }
   ],
   "source": [
    "# A program to find the last digit of a number\n",
    "\n",
    "\n",
    "def last_digit(n):\n",
    "    return n % 10\n",
    "\n",
    "\n",
    "number = int(input(\"Enter the number : \"))\n",
    "print(f\"The last digit of {number} is {last_digit(abs(number))}\")\n",
    "\n",
    "\n",
    "# q: what is the oct() value for 23?\n",
    "# a: 0o27\n",
    "\n",
    "# q: what is the value of print(oct(23) + oct(23))?\n",
    "\n",
    "\n",
    "\n",
    "\n",
    "\n"
   ],
   "metadata": {
    "collapsed": false,
    "ExecuteTime": {
     "end_time": "2023-09-23T15:30:51.701072900Z",
     "start_time": "2023-09-23T15:30:49.179485300Z"
    }
   }
  }
 ],
 "metadata": {
  "kernelspec": {
   "display_name": "Python 3",
   "language": "python",
   "name": "python3"
  },
  "language_info": {
   "codemirror_mode": {
    "name": "ipython",
    "version": 2
   },
   "file_extension": ".py",
   "mimetype": "text/x-python",
   "name": "python",
   "nbconvert_exporter": "python",
   "pygments_lexer": "ipython2",
   "version": "2.7.6"
  }
 },
 "nbformat": 4,
 "nbformat_minor": 0
}
