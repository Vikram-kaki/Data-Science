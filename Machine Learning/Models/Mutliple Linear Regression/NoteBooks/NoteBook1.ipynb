{
 "cells": [
  {
   "cell_type": "markdown",
   "metadata": {
    "vscode": {
     "languageId": "plaintext"
    }
   },
   "source": [
    "## import libraries"
   ]
  },
  {
   "cell_type": "code",
   "execution_count": 1,
   "metadata": {},
   "outputs": [],
   "source": [
    "import pandas as pd\n",
    "# import numpy as np\n",
    "import matplotlib.pyplot as plt"
   ]
  },
  {
   "cell_type": "code",
   "execution_count": 2,
   "metadata": {},
   "outputs": [],
   "source": [
    "file1 = pd.read_csv('https://raw.githubusercontent.com/AshishJangra27/Machine-Learning-with-Python-GFG/main/Multi%20Linear%20Regression/multiple_linear_regression.csv')"
   ]
  },
  {
   "cell_type": "code",
   "execution_count": 3,
   "metadata": {},
   "outputs": [
    {
     "data": {
      "text/html": [
       "<div>\n",
       "<style scoped>\n",
       "    .dataframe tbody tr th:only-of-type {\n",
       "        vertical-align: middle;\n",
       "    }\n",
       "\n",
       "    .dataframe tbody tr th {\n",
       "        vertical-align: top;\n",
       "    }\n",
       "\n",
       "    .dataframe thead th {\n",
       "        text-align: right;\n",
       "    }\n",
       "</style>\n",
       "<table border=\"1\" class=\"dataframe\">\n",
       "  <thead>\n",
       "    <tr style=\"text-align: right;\">\n",
       "      <th></th>\n",
       "      <th>Feature 1</th>\n",
       "      <th>Feature 2</th>\n",
       "      <th>Feature 3</th>\n",
       "      <th>Target</th>\n",
       "    </tr>\n",
       "  </thead>\n",
       "  <tbody>\n",
       "    <tr>\n",
       "      <th>0</th>\n",
       "      <td>230.1</td>\n",
       "      <td>37.8</td>\n",
       "      <td>69.2</td>\n",
       "      <td>22.1</td>\n",
       "    </tr>\n",
       "    <tr>\n",
       "      <th>1</th>\n",
       "      <td>44.5</td>\n",
       "      <td>39.3</td>\n",
       "      <td>45.1</td>\n",
       "      <td>10.4</td>\n",
       "    </tr>\n",
       "    <tr>\n",
       "      <th>2</th>\n",
       "      <td>17.2</td>\n",
       "      <td>45.9</td>\n",
       "      <td>69.3</td>\n",
       "      <td>9.3</td>\n",
       "    </tr>\n",
       "    <tr>\n",
       "      <th>3</th>\n",
       "      <td>151.5</td>\n",
       "      <td>41.3</td>\n",
       "      <td>58.5</td>\n",
       "      <td>18.5</td>\n",
       "    </tr>\n",
       "    <tr>\n",
       "      <th>4</th>\n",
       "      <td>180.8</td>\n",
       "      <td>10.8</td>\n",
       "      <td>58.4</td>\n",
       "      <td>12.9</td>\n",
       "    </tr>\n",
       "    <tr>\n",
       "      <th>...</th>\n",
       "      <td>...</td>\n",
       "      <td>...</td>\n",
       "      <td>...</td>\n",
       "      <td>...</td>\n",
       "    </tr>\n",
       "    <tr>\n",
       "      <th>195</th>\n",
       "      <td>38.2</td>\n",
       "      <td>3.7</td>\n",
       "      <td>13.8</td>\n",
       "      <td>7.6</td>\n",
       "    </tr>\n",
       "    <tr>\n",
       "      <th>196</th>\n",
       "      <td>94.2</td>\n",
       "      <td>4.9</td>\n",
       "      <td>8.1</td>\n",
       "      <td>9.7</td>\n",
       "    </tr>\n",
       "    <tr>\n",
       "      <th>197</th>\n",
       "      <td>177.0</td>\n",
       "      <td>9.3</td>\n",
       "      <td>6.4</td>\n",
       "      <td>12.8</td>\n",
       "    </tr>\n",
       "    <tr>\n",
       "      <th>198</th>\n",
       "      <td>283.6</td>\n",
       "      <td>42.0</td>\n",
       "      <td>66.2</td>\n",
       "      <td>25.5</td>\n",
       "    </tr>\n",
       "    <tr>\n",
       "      <th>199</th>\n",
       "      <td>232.1</td>\n",
       "      <td>8.6</td>\n",
       "      <td>8.7</td>\n",
       "      <td>13.4</td>\n",
       "    </tr>\n",
       "  </tbody>\n",
       "</table>\n",
       "<p>200 rows × 4 columns</p>\n",
       "</div>"
      ],
      "text/plain": [
       "     Feature 1  Feature 2  Feature 3  Target\n",
       "0        230.1       37.8       69.2    22.1\n",
       "1         44.5       39.3       45.1    10.4\n",
       "2         17.2       45.9       69.3     9.3\n",
       "3        151.5       41.3       58.5    18.5\n",
       "4        180.8       10.8       58.4    12.9\n",
       "..         ...        ...        ...     ...\n",
       "195       38.2        3.7       13.8     7.6\n",
       "196       94.2        4.9        8.1     9.7\n",
       "197      177.0        9.3        6.4    12.8\n",
       "198      283.6       42.0       66.2    25.5\n",
       "199      232.1        8.6        8.7    13.4\n",
       "\n",
       "[200 rows x 4 columns]"
      ]
     },
     "execution_count": 3,
     "metadata": {},
     "output_type": "execute_result"
    }
   ],
   "source": [
    "file1"
   ]
  },
  {
   "cell_type": "code",
   "execution_count": 4,
   "metadata": {},
   "outputs": [],
   "source": [
    "from sklearn.linear_model import LinearRegression\n",
    "from sklearn.model_selection import train_test_split"
   ]
  },
  {
   "cell_type": "code",
   "execution_count": 5,
   "metadata": {},
   "outputs": [
    {
     "data": {
      "text/plain": [
       "Feature 1    0\n",
       "Feature 2    0\n",
       "Feature 3    0\n",
       "Target       0\n",
       "dtype: int64"
      ]
     },
     "execution_count": 5,
     "metadata": {},
     "output_type": "execute_result"
    }
   ],
   "source": [
    "file1.isna().sum()"
   ]
  },
  {
   "cell_type": "code",
   "execution_count": 6,
   "metadata": {},
   "outputs": [],
   "source": [
    "X_train , X_test, y_train, y_test = train_test_split(file1.iloc[:,:-1].values, file1.iloc[:,-1:].values, test_size=0.3, random_state=30)"
   ]
  },
  {
   "cell_type": "code",
   "execution_count": 7,
   "metadata": {},
   "outputs": [
    {
     "data": {
      "text/plain": [
       "array([[10.4],\n",
       "       [12.3],\n",
       "       [15. ],\n",
       "       [16.1],\n",
       "       [19.7],\n",
       "       [ 9.7],\n",
       "       [ 6.6],\n",
       "       [20.1],\n",
       "       [ 9.7],\n",
       "       [14.5],\n",
       "       [ 8.8],\n",
       "       [15.5],\n",
       "       [12.5],\n",
       "       [13.4],\n",
       "       [ 7.2],\n",
       "       [17.6],\n",
       "       [21.8],\n",
       "       [14. ],\n",
       "       [22.2],\n",
       "       [26.2],\n",
       "       [12. ],\n",
       "       [ 7.3],\n",
       "       [19.6],\n",
       "       [11.4],\n",
       "       [17.2],\n",
       "       [13.4],\n",
       "       [ 6.7],\n",
       "       [23.8],\n",
       "       [11.7],\n",
       "       [14.7],\n",
       "       [20.7],\n",
       "       [13.2],\n",
       "       [25.4],\n",
       "       [14.6],\n",
       "       [20.2],\n",
       "       [12. ],\n",
       "       [10.4],\n",
       "       [10.1],\n",
       "       [19.6],\n",
       "       [ 7. ],\n",
       "       [10.6],\n",
       "       [ 8.1],\n",
       "       [11.2],\n",
       "       [16.6],\n",
       "       [16.6],\n",
       "       [24.4],\n",
       "       [22.1],\n",
       "       [ 7.6],\n",
       "       [22.6],\n",
       "       [ 9.2],\n",
       "       [16. ],\n",
       "       [18.5],\n",
       "       [25.4],\n",
       "       [10.8],\n",
       "       [18.4],\n",
       "       [19.4],\n",
       "       [ 9.3],\n",
       "       [24.7],\n",
       "       [18. ],\n",
       "       [17.1]])"
      ]
     },
     "execution_count": 7,
     "metadata": {},
     "output_type": "execute_result"
    }
   ],
   "source": [
    "y_test"
   ]
  },
  {
   "cell_type": "code",
   "execution_count": 8,
   "metadata": {},
   "outputs": [],
   "source": [
    "linearRegression = LinearRegression()"
   ]
  },
  {
   "cell_type": "code",
   "execution_count": 9,
   "metadata": {},
   "outputs": [
    {
     "data": {
      "text/html": [
       "<style>#sk-container-id-1 {color: black;background-color: white;}#sk-container-id-1 pre{padding: 0;}#sk-container-id-1 div.sk-toggleable {background-color: white;}#sk-container-id-1 label.sk-toggleable__label {cursor: pointer;display: block;width: 100%;margin-bottom: 0;padding: 0.3em;box-sizing: border-box;text-align: center;}#sk-container-id-1 label.sk-toggleable__label-arrow:before {content: \"▸\";float: left;margin-right: 0.25em;color: #696969;}#sk-container-id-1 label.sk-toggleable__label-arrow:hover:before {color: black;}#sk-container-id-1 div.sk-estimator:hover label.sk-toggleable__label-arrow:before {color: black;}#sk-container-id-1 div.sk-toggleable__content {max-height: 0;max-width: 0;overflow: hidden;text-align: left;background-color: #f0f8ff;}#sk-container-id-1 div.sk-toggleable__content pre {margin: 0.2em;color: black;border-radius: 0.25em;background-color: #f0f8ff;}#sk-container-id-1 input.sk-toggleable__control:checked~div.sk-toggleable__content {max-height: 200px;max-width: 100%;overflow: auto;}#sk-container-id-1 input.sk-toggleable__control:checked~label.sk-toggleable__label-arrow:before {content: \"▾\";}#sk-container-id-1 div.sk-estimator input.sk-toggleable__control:checked~label.sk-toggleable__label {background-color: #d4ebff;}#sk-container-id-1 div.sk-label input.sk-toggleable__control:checked~label.sk-toggleable__label {background-color: #d4ebff;}#sk-container-id-1 input.sk-hidden--visually {border: 0;clip: rect(1px 1px 1px 1px);clip: rect(1px, 1px, 1px, 1px);height: 1px;margin: -1px;overflow: hidden;padding: 0;position: absolute;width: 1px;}#sk-container-id-1 div.sk-estimator {font-family: monospace;background-color: #f0f8ff;border: 1px dotted black;border-radius: 0.25em;box-sizing: border-box;margin-bottom: 0.5em;}#sk-container-id-1 div.sk-estimator:hover {background-color: #d4ebff;}#sk-container-id-1 div.sk-parallel-item::after {content: \"\";width: 100%;border-bottom: 1px solid gray;flex-grow: 1;}#sk-container-id-1 div.sk-label:hover label.sk-toggleable__label {background-color: #d4ebff;}#sk-container-id-1 div.sk-serial::before {content: \"\";position: absolute;border-left: 1px solid gray;box-sizing: border-box;top: 0;bottom: 0;left: 50%;z-index: 0;}#sk-container-id-1 div.sk-serial {display: flex;flex-direction: column;align-items: center;background-color: white;padding-right: 0.2em;padding-left: 0.2em;position: relative;}#sk-container-id-1 div.sk-item {position: relative;z-index: 1;}#sk-container-id-1 div.sk-parallel {display: flex;align-items: stretch;justify-content: center;background-color: white;position: relative;}#sk-container-id-1 div.sk-item::before, #sk-container-id-1 div.sk-parallel-item::before {content: \"\";position: absolute;border-left: 1px solid gray;box-sizing: border-box;top: 0;bottom: 0;left: 50%;z-index: -1;}#sk-container-id-1 div.sk-parallel-item {display: flex;flex-direction: column;z-index: 1;position: relative;background-color: white;}#sk-container-id-1 div.sk-parallel-item:first-child::after {align-self: flex-end;width: 50%;}#sk-container-id-1 div.sk-parallel-item:last-child::after {align-self: flex-start;width: 50%;}#sk-container-id-1 div.sk-parallel-item:only-child::after {width: 0;}#sk-container-id-1 div.sk-dashed-wrapped {border: 1px dashed gray;margin: 0 0.4em 0.5em 0.4em;box-sizing: border-box;padding-bottom: 0.4em;background-color: white;}#sk-container-id-1 div.sk-label label {font-family: monospace;font-weight: bold;display: inline-block;line-height: 1.2em;}#sk-container-id-1 div.sk-label-container {text-align: center;}#sk-container-id-1 div.sk-container {/* jupyter's `normalize.less` sets `[hidden] { display: none; }` but bootstrap.min.css set `[hidden] { display: none !important; }` so we also need the `!important` here to be able to override the default hidden behavior on the sphinx rendered scikit-learn.org. See: https://github.com/scikit-learn/scikit-learn/issues/21755 */display: inline-block !important;position: relative;}#sk-container-id-1 div.sk-text-repr-fallback {display: none;}</style><div id=\"sk-container-id-1\" class=\"sk-top-container\"><div class=\"sk-text-repr-fallback\"><pre>LinearRegression()</pre><b>In a Jupyter environment, please rerun this cell to show the HTML representation or trust the notebook. <br />On GitHub, the HTML representation is unable to render, please try loading this page with nbviewer.org.</b></div><div class=\"sk-container\" hidden><div class=\"sk-item\"><div class=\"sk-estimator sk-toggleable\"><input class=\"sk-toggleable__control sk-hidden--visually\" id=\"sk-estimator-id-1\" type=\"checkbox\" checked><label for=\"sk-estimator-id-1\" class=\"sk-toggleable__label sk-toggleable__label-arrow\">LinearRegression</label><div class=\"sk-toggleable__content\"><pre>LinearRegression()</pre></div></div></div></div></div>"
      ],
      "text/plain": [
       "LinearRegression()"
      ]
     },
     "execution_count": 9,
     "metadata": {},
     "output_type": "execute_result"
    }
   ],
   "source": [
    "linearRegression.fit(X_train, y_train)"
   ]
  },
  {
   "cell_type": "code",
   "execution_count": 10,
   "metadata": {},
   "outputs": [
    {
     "name": "stdout",
     "output_type": "stream",
     "text": [
      "[104.6   5.7  34.4] : [8.99517451], [10.4]\n",
      "[239.8   4.1  36.9] : [14.72819105], [12.3]\n",
      "[142.9  29.3  12.6] : [14.80244205], [15.]\n",
      "[280.7  13.9  37. ] : [18.2970184], [16.1]\n",
      "[229.5  32.3  74.2] : [19.50149593], [19.7]\n",
      "[62.3 12.6 18.3] : [8.26660501], [9.7]\n",
      "[ 7.8 38.9 50.6] : [10.71118102], [6.6]\n",
      "[220.5  33.2  37.9] : [19.07642641], [20.1]\n",
      "[59.6 12.  43.1] : [8.16657095], [9.7]\n",
      "[164.5  20.9  47.4] : [14.43923194], [14.5]\n",
      "[26.8 33.  19.3] : [10.34038314], [8.8]\n",
      "[184.9  21.   22. ] : [15.23314106], [15.5]\n",
      "[237.4   5.1  23.5] : [14.73158898], [12.5]\n",
      "[139.3  14.5  10.2] : [11.9852869], [13.4]\n",
      "[25.  11.  29.7] : [6.38209067], [7.2]\n",
      "[253.8  21.3  30. ] : [18.3885869], [17.6]\n",
      "[241.7  38.   23.2] : [20.80067088], [21.8]\n",
      "[102.7  29.6   8.4] : [13.04867527], [14.]\n",
      "[250.9  36.5  72.3] : [21.19301799], [22.2]\n",
      "[287.6  43.   71.8] : [23.98244148], [26.2]\n",
      "[76.3 27.5 16. ] : [11.53954725], [12.]\n",
      "[11.7 36.9 45.2] : [10.49932953], [7.3]\n",
      "[219.8  33.5  45.1] : [19.13585382], [19.6]\n",
      "[199.8   3.1  34.6] : [12.760725], [11.4]\n",
      "[135.2  41.7  45.9] : [16.84710763], [17.2]\n",
      "[232.1   8.6   8.7] : [15.04575774], [13.4]\n",
      "[18.7 12.1 23.4] : [6.26650403], [6.7]\n",
      "[296.4  36.3 100.9] : [23.32519068], [23.8]\n",
      "[222.4   4.3  49.8] : [14.05708607], [11.7]\n",
      "[187.9  17.2  17.9] : [14.66629232], [14.7]\n",
      "[184.9  43.9   1.7] : [19.22155763], [20.7]\n",
      "[136.2  19.2  16.6] : [12.72032424], [13.2]\n",
      "[266.9  43.8   5. ] : [22.86338006], [25.4]\n",
      "[78.2 46.8 34.5] : [15.16791849], [14.6]\n",
      "[262.7  28.8  15.9] : [20.05201094], [20.2]\n",
      "[262.9   3.5  19.5] : [15.55795959], [12.]\n",
      "[44.5 39.3 45.1] : [12.38483401], [10.4]\n",
      "[44.7 25.8 20.6] : [9.85551882], [10.1]\n",
      "[166.8  42.    3.6] : [18.08767069], [19.6]\n",
      "[18.8 21.7 50.4] : [8.12498933], [7.]\n",
      "[87.2 11.8 25.9] : [9.2687577], [10.6]\n",
      "[53.5  2.  21.4] : [5.99722717], [8.1]\n",
      "[134.3   4.9   9.3] : [10.04292568], [11.2]\n",
      "[197.6  23.3  14.2] : [16.16837585], [16.6]\n",
      "[202.5  22.3  31.6] : [16.29654424], [16.6]\n",
      "[281.4  39.6  55.8] : [23.01736992], [24.4]\n",
      "[230.1  37.8  69.2] : [20.48542902], [22.1]\n",
      "[19.6 20.1 17. ] : [7.70336504], [7.6]\n",
      "[205.   45.1  19.6] : [20.42070005], [22.6]\n",
      "[23.8 35.1 65.9] : [10.82130003], [9.2]\n",
      "[110.7  40.6  63.2] : [15.65082377], [16.]\n",
      "[151.5  41.3  58.5] : [17.56433012], [18.5]\n",
      "[243.2  49.   44.3] : [22.94129904], [25.4]\n",
      "[39.5 41.1  5.8] : [12.28292134], [10.8]\n",
      "[210.7  29.5   9.3] : [17.83322061], [18.4]\n",
      "[217.7  33.5  59. ] : [19.11382184], [19.4]\n",
      "[17.2 45.9 69.3] : [12.47561137], [9.3]\n",
      "[220.3  49.    3.2] : [21.71328725], [24.7]\n",
      "[218.4  27.7  53.4] : [18.07968563], [18.]\n",
      "[215.4  23.6  57.6] : [17.23522908], [17.1]\n"
     ]
    }
   ],
   "source": [
    "predict = linearRegression.predict(X_test)\n",
    "\n",
    "\n",
    "for i in range(len(X_test)):\n",
    "    print(f\"{X_test[i]} : {predict[i]}, {y_test[i]}\")"
   ]
  },
  {
   "cell_type": "code",
   "execution_count": 11,
   "metadata": {},
   "outputs": [],
   "source": [
    "import seaborn as sns"
   ]
  },
  {
   "cell_type": "code",
   "execution_count": 12,
   "metadata": {},
   "outputs": [],
   "source": [
    "p = [i[0] for i in predict]"
   ]
  },
  {
   "cell_type": "code",
   "execution_count": 13,
   "metadata": {},
   "outputs": [],
   "source": [
    "y = [i[0] for i in y_test]"
   ]
  },
  {
   "cell_type": "code",
   "execution_count": 14,
   "metadata": {},
   "outputs": [],
   "source": [
    "x = [i[0] for i in X_test]"
   ]
  },
  {
   "cell_type": "code",
   "execution_count": null,
   "metadata": {},
   "outputs": [],
   "source": []
  },
  {
   "cell_type": "code",
   "execution_count": 15,
   "metadata": {},
   "outputs": [
    {
     "data": {
      "image/png": "[encoded data removed]",
      "text/plain": [
       "<Figure size 640x480 with 1 Axes>"
      ]
     },
     "metadata": {},
     "output_type": "display_data"
    }
   ],
   "source": [
    "plt.plot(X_test, y_test, marker = '.', color = 'red', linestyle = '', markersize = 3.7)\n",
    "plt.plot(X_test, predict, marker = '+', color = 'green', linestyle = '')\n",
    "plt.show()"
   ]
  },
  {
   "cell_type": "markdown",
   "metadata": {},
   "source": [
    "## Linear Regression Model Assumptions"
   ]
  },
  {
   "cell_type": "code",
   "execution_count": 16,
   "metadata": {},
   "outputs": [],
   "source": [
    "residuals =  y_test - predict"
   ]
  },
  {
   "cell_type": "code",
   "execution_count": 17,
   "metadata": {},
   "outputs": [
    {
     "data": {
      "text/plain": [
       "array([[ 1.40482549],\n",
       "       [-2.42819105],\n",
       "       [ 0.19755795],\n",
       "       [-2.1970184 ],\n",
       "       [ 0.19850407],\n",
       "       [ 1.43339499],\n",
       "       [-4.11118102],\n",
       "       [ 1.02357359],\n",
       "       [ 1.53342905],\n",
       "       [ 0.06076806],\n",
       "       [-1.54038314],\n",
       "       [ 0.26685894],\n",
       "       [-2.23158898],\n",
       "       [ 1.4147131 ],\n",
       "       [ 0.81790933],\n",
       "       [-0.7885869 ],\n",
       "       [ 0.99932912],\n",
       "       [ 0.95132473],\n",
       "       [ 1.00698201],\n",
       "       [ 2.21755852],\n",
       "       [ 0.46045275],\n",
       "       [-3.19932953],\n",
       "       [ 0.46414618],\n",
       "       [-1.360725  ],\n",
       "       [ 0.35289237],\n",
       "       [-1.64575774],\n",
       "       [ 0.43349597],\n",
       "       [ 0.47480932],\n",
       "       [-2.35708607],\n",
       "       [ 0.03370768],\n",
       "       [ 1.47844237],\n",
       "       [ 0.47967576],\n",
       "       [ 2.53661994],\n",
       "       [-0.56791849],\n",
       "       [ 0.14798906],\n",
       "       [-3.55795959],\n",
       "       [-1.98483401],\n",
       "       [ 0.24448118],\n",
       "       [ 1.51232931],\n",
       "       [-1.12498933],\n",
       "       [ 1.3312423 ],\n",
       "       [ 2.10277283],\n",
       "       [ 1.15707432],\n",
       "       [ 0.43162415],\n",
       "       [ 0.30345576],\n",
       "       [ 1.38263008],\n",
       "       [ 1.61457098],\n",
       "       [-0.10336504],\n",
       "       [ 2.17929995],\n",
       "       [-1.62130003],\n",
       "       [ 0.34917623],\n",
       "       [ 0.93566988],\n",
       "       [ 2.45870096],\n",
       "       [-1.48292134],\n",
       "       [ 0.56677939],\n",
       "       [ 0.28617816],\n",
       "       [-3.17561137],\n",
       "       [ 2.98671275],\n",
       "       [-0.07968563],\n",
       "       [-0.13522908]])"
      ]
     },
     "execution_count": 17,
     "metadata": {},
     "output_type": "execute_result"
    }
   ],
   "source": [
    "residuals"
   ]
  },
  {
   "cell_type": "code",
   "execution_count": 18,
   "metadata": {},
   "outputs": [],
   "source": [
    "r = [i[0] for i in residuals] "
   ]
  },
  {
   "cell_type": "code",
   "execution_count": 19,
   "metadata": {},
   "outputs": [
    {
     "data": {
      "text/plain": [
       "[<matplotlib.lines.Line2D at 0x7f3adfb06850>]"
      ]
     },
     "execution_count": 19,
     "metadata": {},
     "output_type": "execute_result"
    },
    {
     "data": {
      "image/png": "[encoded data removed]",
      "text/plain": [
       "<Figure size 640x480 with 1 Axes>"
      ]
     },
     "metadata": {},
     "output_type": "display_data"
    }
   ],
   "source": [
    "plt.plot(y_test, residuals, marker = '.', linestyle = \"\")"
   ]
  },
  {
   "cell_type": "code",
   "execution_count": 20,
   "metadata": {},
   "outputs": [
    {
     "name": "stderr",
     "output_type": "stream",
     "text": [
      "/workspaces/DataScience/.conda/lib/python3.11/site-packages/seaborn/_oldcore.py:1119: FutureWarning: use_inf_as_na option is deprecated and will be removed in a future version. Convert inf values to NaN before operating instead.\n",
      "  with pd.option_context('mode.use_inf_as_na', True):\n"
     ]
    },
    {
     "data": {
      "image/png": "[encoded data removed]",
      "text/plain": [
       "<Figure size 500x500 with 1 Axes>"
      ]
     },
     "metadata": {},
     "output_type": "display_data"
    }
   ],
   "source": [
    "sns.displot(x = r, kde = True)\n",
    "plt.show()"
   ]
  },
  {
   "cell_type": "code",
   "execution_count": 21,
   "metadata": {},
   "outputs": [],
   "source": [
    "from scipy.stats import skew\n",
    "\n",
    "Skew = skew(r)"
   ]
  },
  {
   "cell_type": "code",
   "execution_count": 22,
   "metadata": {},
   "outputs": [
    {
     "data": {
      "text/plain": [
       "-0.6866279118633851"
      ]
     },
     "execution_count": 22,
     "metadata": {},
     "output_type": "execute_result"
    }
   ],
   "source": [
    "Skew"
   ]
  },
  {
   "cell_type": "code",
   "execution_count": 23,
   "metadata": {},
   "outputs": [
    {
     "data": {
      "text/plain": [
       "180"
      ]
     },
     "execution_count": 23,
     "metadata": {},
     "output_type": "execute_result"
    }
   ],
   "source": [
    "X_test.size"
   ]
  },
  {
   "cell_type": "code",
   "execution_count": 24,
   "metadata": {},
   "outputs": [
    {
     "data": {
      "text/plain": [
       "60"
      ]
     },
     "execution_count": 24,
     "metadata": {},
     "output_type": "execute_result"
    }
   ],
   "source": [
    "y_test.size"
   ]
  },
  {
   "cell_type": "markdown",
   "metadata": {},
   "source": [
    "# Ordinary Least Squares (OLS) Method :"
   ]
  },
  {
   "cell_type": "code",
   "execution_count": 25,
   "metadata": {},
   "outputs": [],
   "source": [
    "import statsmodels.api as sm"
   ]
  },
  {
   "cell_type": "code",
   "execution_count": 26,
   "metadata": {},
   "outputs": [],
   "source": [
    "X_constant = sm.add_constant(X_train)"
   ]
  },
  {
   "cell_type": "code",
   "execution_count": 27,
   "metadata": {},
   "outputs": [
    {
     "data": {
      "text/plain": [
       "array([[  1. ,   8.7,  48.9,  75. ],\n",
       "       [  1. ,   8.6,   2.1,   1. ],\n",
       "       [  1. , 156.6,   2.6,   8.3],\n",
       "       [  1. , 107.4,  14. ,  10.9],\n",
       "       [  1. , 293.6,  27.7,   1.8],\n",
       "       [  1. , 197.6,   3.5,   5.9],\n",
       "       [  1. ,  76.4,   0.8,  14.8],\n",
       "       [  1. , 120.5,  28.5,  14.2],\n",
       "       [  1. , 193.7,  35.4,  75.6],\n",
       "       [  1. ,  43.1,  26.7,  35.1],\n",
       "       [  1. , 131.7,  18.4,  34.6],\n",
       "       [  1. , 237.4,  27.5,  11. ],\n",
       "       [  1. ,  17.2,   4.1,  31.6],\n",
       "       [  1. , 129.4,   5.7,  31.3],\n",
       "       [  1. , 172.5,  18.1,  30.7],\n",
       "       [  1. ,   7.3,  28.1,  41.4],\n",
       "       [  1. , 204.1,  32.9,  46. ],\n",
       "       [  1. ,  97.2,   1.5,  30. ],\n",
       "       [  1. , 165.6,  10. ,  17.6],\n",
       "       [  1. , 213.5,  43. ,  33.8],\n",
       "       [  1. , 177. ,  33.4,  38.7],\n",
       "       [  1. ,  31.5,  24.6,   2.2],\n",
       "       [  1. ,  88.3,  25.5,  73.4],\n",
       "       [  1. ,  75.3,  20.3,  32.5],\n",
       "       [  1. , 255.4,  26.9,   5.5],\n",
       "       [  1. ,  25.6,  39. ,   9.3],\n",
       "       [  1. , 199.1,  30.6,  38.7],\n",
       "       [  1. , 290.7,   4.1,   8.5],\n",
       "       [  1. , 187.8,  21.1,   9.5],\n",
       "       [  1. , 225.8,   8.2,  56.5],\n",
       "       [  1. , 109.8,  47.8,  51.4],\n",
       "       [  1. , 286. ,  13.9,   3.7],\n",
       "       [  1. , 191.1,  28.7,  18.2],\n",
       "       [  1. , 206.8,   5.2,  19.4],\n",
       "       [  1. ,  17.9,  37.6,  21.6],\n",
       "       [  1. , 239.9,  41.5,  18.5],\n",
       "       [  1. ,  68.4,  44.5,  35.6],\n",
       "       [  1. , 175.7,  15.4,   2.4],\n",
       "       [  1. , 292.9,  28.3,  43.2],\n",
       "       [  1. , 213.4,  24.6,  13.1],\n",
       "       [  1. ,  48.3,  47. ,   8.5],\n",
       "       [  1. ,  38.2,   3.7,  13.8],\n",
       "       [  1. ,  57.5,  32.8,  23.5],\n",
       "       [  1. , 261.3,  42.7,  54.7],\n",
       "       [  1. ,  75.1,  35. ,  52.7],\n",
       "       [  1. , 240.1,   7.3,   8.7],\n",
       "       [  1. , 123.1,  34.6,  12.4],\n",
       "       [  1. , 193.2,  18.4,  65.7],\n",
       "       [  1. , 100.4,   9.6,   3.6],\n",
       "       [  1. ,  27.5,   1.6,  20.7],\n",
       "       [  1. ,   4.1,  11.6,   5.7],\n",
       "       [  1. ,  56.2,   5.7,  29.7],\n",
       "       [  1. ,  75.5,  10.8,   6. ],\n",
       "       [  1. ,  70.6,  16. ,  40.8],\n",
       "       [  1. , 117.2,  14.7,   5.4],\n",
       "       [  1. , 228.3,  16.9,  26.2],\n",
       "       [  1. , 224. ,   2.4,  15.6],\n",
       "       [  1. , 112.9,  17.4,  38.6],\n",
       "       [  1. ,   8.4,  27.2,   2.1],\n",
       "       [  1. , 125.7,  36.9,  79.2],\n",
       "       [  1. ,  38. ,  40.3,  11.9],\n",
       "       [  1. ,  76.4,  26.7,  22.3],\n",
       "       [  1. ,  13.1,   0.4,  25.6],\n",
       "       [  1. , 283.6,  42. ,  66.2],\n",
       "       [  1. , 227.2,  15.8,  49.9],\n",
       "       [  1. , 276.7,   2.3,  23.7],\n",
       "       [  1. , 109.8,  14.3,  31.7],\n",
       "       [  1. ,  94.2,   4.9,   8.1],\n",
       "       [  1. ,  43. ,  25.9,  20.5],\n",
       "       [  1. , 210.8,  49.6,  37.7],\n",
       "       [  1. ,  90.4,   0.3,  23.2],\n",
       "       [  1. , 116. ,   7.7,  23.1],\n",
       "       [  1. , 248.4,  30.2,  20.3],\n",
       "       [  1. ,  66.1,   5.8,  24.2],\n",
       "       [  1. ,  80.2,   0. ,   9.2],\n",
       "       [  1. , 289.7,  42.3,  51.2],\n",
       "       [  1. , 180.8,  10.8,  58.4],\n",
       "       [  1. ,  50. ,  11.6,  18.4],\n",
       "       [  1. , 199.8,   2.6,  21.2],\n",
       "       [  1. , 265.6,  20. ,   0.3],\n",
       "       [  1. , 149.8,   1.3,  24.3],\n",
       "       [  1. ,  67.8,  36.6, 114. ],\n",
       "       [  1. , 248.8,  27.1,  22.9],\n",
       "       [  1. , 206.9,   8.4,  26.4],\n",
       "       [  1. ,  95.7,   1.4,   7.4],\n",
       "       [  1. ,  25.1,  25.7,  43.3],\n",
       "       [  1. , 216.4,  41.7,  39.6],\n",
       "       [  1. ,  66.9,  11.7,  36.8],\n",
       "       [  1. , 147.3,  23.9,  19.1],\n",
       "       [  1. , 188.4,  18.1,  25.6],\n",
       "       [  1. , 137.9,  46.4,  59. ],\n",
       "       [  1. , 216.8,  43.9,  27.2],\n",
       "       [  1. , 139.5,   2.1,  26.6],\n",
       "       [  1. , 171.3,  39.7,  37.7],\n",
       "       [  1. ,  13.2,  15.9,  49.6],\n",
       "       [  1. , 141.3,  26.8,  46.2],\n",
       "       [  1. , 273.7,  28.9,  59.7],\n",
       "       [  1. , 228. ,  37.7,  32. ],\n",
       "       [  1. , 163.3,  31.6,  52.9],\n",
       "       [  1. ,  16.9,  43.7,  89.4],\n",
       "       [  1. , 238.2,  34.3,   5.3],\n",
       "       [  1. ,   5.4,  29.9,   9.4],\n",
       "       [  1. ,  28.6,   1.5,  33. ],\n",
       "       [  1. , 209.6,  20.6,  10.7],\n",
       "       [  1. ,  93.9,  43.5,  50.5],\n",
       "       [  1. , 198.9,  49.4,  60. ],\n",
       "       [  1. ,  85.7,  35.8,  49.3],\n",
       "       [  1. ,  97.5,   7.6,   7.2],\n",
       "       [  1. , 149.7,  35.6,   6. ],\n",
       "       [  1. , 195.4,  47.7,  52.9],\n",
       "       [  1. , 214.7,  24. ,   4. ],\n",
       "       [  1. , 276.9,  48.9,  41.8],\n",
       "       [  1. , 131.1,  42.8,  28.9],\n",
       "       [  1. ,  89.7,   9.9,  35.7],\n",
       "       [  1. , 240.1,  16.7,  22.9],\n",
       "       [  1. , 239.3,  15.5,  27.3],\n",
       "       [  1. ,  36.9,  38.6,  65.6],\n",
       "       [  1. ,  96.2,  14.8,  38.9],\n",
       "       [  1. , 280.2,  10.1,  21.4],\n",
       "       [  1. , 139.2,  14.3,  25.6],\n",
       "       [  1. , 218.5,   5.4,  27.4],\n",
       "       [  1. ,  69.2,  20.5,  18.3],\n",
       "       [  1. , 163.5,  36.8,   7.4],\n",
       "       [  1. , 177. ,   9.3,   6.4],\n",
       "       [  1. , 170.2,   7.8,  35.2],\n",
       "       [  1. ,  69. ,   9.3,   0.9],\n",
       "       [  1. ,  19.4,  16. ,  22.3],\n",
       "       [  1. , 120.2,  19.6,  11.6],\n",
       "       [  1. , 284.3,  10.6,   6.4],\n",
       "       [  1. , 265.2,   2.9,  43. ],\n",
       "       [  1. , 222.4,   3.4,  13.1],\n",
       "       [  1. , 140.3,   1.9,   9. ],\n",
       "       [  1. , 182.6,  46.2,  58.7],\n",
       "       [  1. ,   0.7,  39.6,   8.7],\n",
       "       [  1. , 121. ,   8.4,  48.7],\n",
       "       [  1. ,  73.4,  17. ,  12.9],\n",
       "       [  1. , 175.1,  22.5,  31.5],\n",
       "       [  1. , 168.4,   7.1,  12.8],\n",
       "       [  1. , 234.5,   3.4,  84.8],\n",
       "       [  1. ,  74.7,  49.4,  45.7]])"
      ]
     },
     "execution_count": 27,
     "metadata": {},
     "output_type": "execute_result"
    }
   ],
   "source": [
    "X_constant"
   ]
  },
  {
   "cell_type": "code",
   "execution_count": 28,
   "metadata": {},
   "outputs": [],
   "source": [
    "model = sm.OLS(y_train, X_constant)"
   ]
  },
  {
   "cell_type": "code",
   "execution_count": 30,
   "metadata": {},
   "outputs": [],
   "source": [
    "result = model.fit()"
   ]
  },
  {
   "cell_type": "code",
   "execution_count": 32,
   "metadata": {},
   "outputs": [
    {
     "data": {
      "text/plain": [
       "array([3.15340815, 0.0444241 , 0.17871113, 0.00512652])"
      ]
     },
     "execution_count": 32,
     "metadata": {},
     "output_type": "execute_result"
    }
   ],
   "source": [
    "result.params"
   ]
  },
  {
   "cell_type": "code",
   "execution_count": 34,
   "metadata": {},
   "outputs": [
    {
     "name": "stdout",
     "output_type": "stream",
     "text": [
      "                            OLS Regression Results                            \n",
      "==============================================================================\n",
      "Dep. Variable:                      y   R-squared:                       0.882\n",
      "Model:                            OLS   Adj. R-squared:                  0.880\n",
      "Method:                 Least Squares   F-statistic:                     340.0\n",
      "Date:                Sun, 14 Apr 2024   Prob (F-statistic):           5.54e-63\n",
      "Time:                        05:49:40   Log-Likelihood:                -274.18\n",
      "No. Observations:                 140   AIC:                             556.4\n",
      "Df Residuals:                     136   BIC:                             568.1\n",
      "Df Model:                           3                                         \n",
      "Covariance Type:            nonrobust                                         \n",
      "==============================================================================\n",
      "                 coef    std err          t      P>|t|      [0.025      0.975]\n",
      "------------------------------------------------------------------------------\n",
      "const          3.1534      0.377      8.354      0.000       2.407       3.900\n",
      "x1             0.0444      0.002     25.331      0.000       0.041       0.048\n",
      "x2             0.1787      0.011     16.732      0.000       0.158       0.200\n",
      "x3             0.0051      0.007      0.687      0.493      -0.010       0.020\n",
      "==============================================================================\n",
      "Omnibus:                       54.409   Durbin-Watson:                   2.077\n",
      "Prob(Omnibus):                  0.000   Jarque-Bera (JB):              152.924\n",
      "Skew:                          -1.531   Prob(JB):                     6.21e-34\n",
      "Kurtosis:                       7.104   Cond. No.                         433.\n",
      "==============================================================================\n",
      "\n",
      "Notes:\n",
      "[1] Standard Errors assume that the covariance matrix of the errors is correctly specified.\n"
     ]
    }
   ],
   "source": [
    "print(result.summary())"
   ]
  },
  {
   "cell_type": "code",
   "execution_count": 36,
   "metadata": {},
   "outputs": [],
   "source": [
    "# From here we can observe that x3 isn't a strong parameter. It accepts the null hypothesis. So It doesn't have any impact on predicting the output value.\n",
    "\n",
    "\n",
    "X_train, X_test, y_train, y_test = train_test_split(file1.iloc[:, :-2], file1.iloc[:, -1:], test_size=0.3, random_state=30)"
   ]
  },
  {
   "cell_type": "code",
   "execution_count": 37,
   "metadata": {},
   "outputs": [],
   "source": [
    "X_constant = sm.add_constant(X_train)"
   ]
  },
  {
   "cell_type": "code",
   "execution_count": 39,
   "metadata": {},
   "outputs": [],
   "source": [
    "model2 = sm.OLS(y_train, X_constant)"
   ]
  },
  {
   "cell_type": "code",
   "execution_count": 41,
   "metadata": {},
   "outputs": [],
   "source": [
    "result2 = model2.fit()"
   ]
  },
  {
   "cell_type": "code",
   "execution_count": 42,
   "metadata": {},
   "outputs": [
    {
     "name": "stdout",
     "output_type": "stream",
     "text": [
      "                            OLS Regression Results                            \n",
      "==============================================================================\n",
      "Dep. Variable:                 Target   R-squared:                       0.882\n",
      "Model:                            OLS   Adj. R-squared:                  0.880\n",
      "Method:                 Least Squares   F-statistic:                     511.7\n",
      "Date:                Sun, 14 Apr 2024   Prob (F-statistic):           2.74e-64\n",
      "Time:                        06:12:49   Log-Likelihood:                -274.42\n",
      "No. Observations:                 140   AIC:                             554.8\n",
      "Df Residuals:                     137   BIC:                             563.7\n",
      "Df Model:                           2                                         \n",
      "Covariance Type:            nonrobust                                         \n",
      "==============================================================================\n",
      "                 coef    std err          t      P>|t|      [0.025      0.975]\n",
      "------------------------------------------------------------------------------\n",
      "const          3.2419      0.354      9.156      0.000       2.542       3.942\n",
      "Feature 1      0.0444      0.002     25.376      0.000       0.041       0.048\n",
      "Feature 2      0.1815      0.010     18.440      0.000       0.162       0.201\n",
      "==============================================================================\n",
      "Omnibus:                       55.864   Durbin-Watson:                   2.097\n",
      "Prob(Omnibus):                  0.000   Jarque-Bera (JB):              165.379\n",
      "Skew:                          -1.550   Prob(JB):                     1.23e-36\n",
      "Kurtosis:                       7.330   Cond. No.                         402.\n",
      "==============================================================================\n",
      "\n",
      "Notes:\n",
      "[1] Standard Errors assume that the covariance matrix of the errors is correctly specified.\n"
     ]
    }
   ],
   "source": [
    "print(result2.summary())"
   ]
  },
  {
   "cell_type": "code",
   "execution_count": 77,
   "metadata": {},
   "outputs": [
    {
     "data": {
      "text/plain": [
       "5      12.504946\n",
       "8       4.005129\n",
       "180    10.669473\n",
       "94     10.553587\n",
       "42     21.310758\n",
       "         ...    \n",
       "140     9.588016\n",
       "45     15.103520\n",
       "173    12.010446\n",
       "165    14.274706\n",
       "37     15.527170\n",
       "Length: 140, dtype: float64"
      ]
     },
     "execution_count": 77,
     "metadata": {},
     "output_type": "execute_result"
    }
   ],
   "source": [
    "result2.predict(X_constant)"
   ]
  },
  {
   "cell_type": "code",
   "execution_count": 43,
   "metadata": {},
   "outputs": [],
   "source": [
    "lr_model2 = LinearRegression()"
   ]
  },
  {
   "cell_type": "code",
   "execution_count": 44,
   "metadata": {},
   "outputs": [
    {
     "data": {
      "text/html": [
       "<style>#sk-container-id-2 {color: black;background-color: white;}#sk-container-id-2 pre{padding: 0;}#sk-container-id-2 div.sk-toggleable {background-color: white;}#sk-container-id-2 label.sk-toggleable__label {cursor: pointer;display: block;width: 100%;margin-bottom: 0;padding: 0.3em;box-sizing: border-box;text-align: center;}#sk-container-id-2 label.sk-toggleable__label-arrow:before {content: \"▸\";float: left;margin-right: 0.25em;color: #696969;}#sk-container-id-2 label.sk-toggleable__label-arrow:hover:before {color: black;}#sk-container-id-2 div.sk-estimator:hover label.sk-toggleable__label-arrow:before {color: black;}#sk-container-id-2 div.sk-toggleable__content {max-height: 0;max-width: 0;overflow: hidden;text-align: left;background-color: #f0f8ff;}#sk-container-id-2 div.sk-toggleable__content pre {margin: 0.2em;color: black;border-radius: 0.25em;background-color: #f0f8ff;}#sk-container-id-2 input.sk-toggleable__control:checked~div.sk-toggleable__content {max-height: 200px;max-width: 100%;overflow: auto;}#sk-container-id-2 input.sk-toggleable__control:checked~label.sk-toggleable__label-arrow:before {content: \"▾\";}#sk-container-id-2 div.sk-estimator input.sk-toggleable__control:checked~label.sk-toggleable__label {background-color: #d4ebff;}#sk-container-id-2 div.sk-label input.sk-toggleable__control:checked~label.sk-toggleable__label {background-color: #d4ebff;}#sk-container-id-2 input.sk-hidden--visually {border: 0;clip: rect(1px 1px 1px 1px);clip: rect(1px, 1px, 1px, 1px);height: 1px;margin: -1px;overflow: hidden;padding: 0;position: absolute;width: 1px;}#sk-container-id-2 div.sk-estimator {font-family: monospace;background-color: #f0f8ff;border: 1px dotted black;border-radius: 0.25em;box-sizing: border-box;margin-bottom: 0.5em;}#sk-container-id-2 div.sk-estimator:hover {background-color: #d4ebff;}#sk-container-id-2 div.sk-parallel-item::after {content: \"\";width: 100%;border-bottom: 1px solid gray;flex-grow: 1;}#sk-container-id-2 div.sk-label:hover label.sk-toggleable__label {background-color: #d4ebff;}#sk-container-id-2 div.sk-serial::before {content: \"\";position: absolute;border-left: 1px solid gray;box-sizing: border-box;top: 0;bottom: 0;left: 50%;z-index: 0;}#sk-container-id-2 div.sk-serial {display: flex;flex-direction: column;align-items: center;background-color: white;padding-right: 0.2em;padding-left: 0.2em;position: relative;}#sk-container-id-2 div.sk-item {position: relative;z-index: 1;}#sk-container-id-2 div.sk-parallel {display: flex;align-items: stretch;justify-content: center;background-color: white;position: relative;}#sk-container-id-2 div.sk-item::before, #sk-container-id-2 div.sk-parallel-item::before {content: \"\";position: absolute;border-left: 1px solid gray;box-sizing: border-box;top: 0;bottom: 0;left: 50%;z-index: -1;}#sk-container-id-2 div.sk-parallel-item {display: flex;flex-direction: column;z-index: 1;position: relative;background-color: white;}#sk-container-id-2 div.sk-parallel-item:first-child::after {align-self: flex-end;width: 50%;}#sk-container-id-2 div.sk-parallel-item:last-child::after {align-self: flex-start;width: 50%;}#sk-container-id-2 div.sk-parallel-item:only-child::after {width: 0;}#sk-container-id-2 div.sk-dashed-wrapped {border: 1px dashed gray;margin: 0 0.4em 0.5em 0.4em;box-sizing: border-box;padding-bottom: 0.4em;background-color: white;}#sk-container-id-2 div.sk-label label {font-family: monospace;font-weight: bold;display: inline-block;line-height: 1.2em;}#sk-container-id-2 div.sk-label-container {text-align: center;}#sk-container-id-2 div.sk-container {/* jupyter's `normalize.less` sets `[hidden] { display: none; }` but bootstrap.min.css set `[hidden] { display: none !important; }` so we also need the `!important` here to be able to override the default hidden behavior on the sphinx rendered scikit-learn.org. See: https://github.com/scikit-learn/scikit-learn/issues/21755 */display: inline-block !important;position: relative;}#sk-container-id-2 div.sk-text-repr-fallback {display: none;}</style><div id=\"sk-container-id-2\" class=\"sk-top-container\"><div class=\"sk-text-repr-fallback\"><pre>LinearRegression()</pre><b>In a Jupyter environment, please rerun this cell to show the HTML representation or trust the notebook. <br />On GitHub, the HTML representation is unable to render, please try loading this page with nbviewer.org.</b></div><div class=\"sk-container\" hidden><div class=\"sk-item\"><div class=\"sk-estimator sk-toggleable\"><input class=\"sk-toggleable__control sk-hidden--visually\" id=\"sk-estimator-id-2\" type=\"checkbox\" checked><label for=\"sk-estimator-id-2\" class=\"sk-toggleable__label sk-toggleable__label-arrow\">LinearRegression</label><div class=\"sk-toggleable__content\"><pre>LinearRegression()</pre></div></div></div></div></div>"
      ],
      "text/plain": [
       "LinearRegression()"
      ]
     },
     "execution_count": 44,
     "metadata": {},
     "output_type": "execute_result"
    }
   ],
   "source": [
    "lr_model2.fit(X_train, y_train)"
   ]
  },
  {
   "cell_type": "code",
   "execution_count": 46,
   "metadata": {},
   "outputs": [],
   "source": [
    "predict2 = lr_model2.predict(X_train)"
   ]
  },
  {
   "cell_type": "code",
   "execution_count": 53,
   "metadata": {},
   "outputs": [
    {
     "name": "stdout",
     "output_type": "stream",
     "text": [
      "7.2 : 12.504945593598835\n",
      "4.8 : 4.005128661154237\n",
      "10.5 : 10.669472774583078\n",
      "11.5 : 10.553587364641714\n",
      "20.7 : 21.310757678566905\n",
      "11.7 : 12.653905132486381\n",
      "9.4 : 6.780557023653502\n",
      "14.2 : 13.767552313888443\n",
      "19.2 : 18.271333503731096\n",
      "10.1 : 10.003001619434254\n",
      "12.9 : 12.431608890961439\n",
      "18.9 : 18.778268307990427\n",
      "5.9 : 4.750157276390869\n",
      "11.0 : 10.024082935718639\n",
      "14.4 : 14.189327894050594\n",
      "5.5 : 8.667040699456802\n",
      "19.0 : 18.27944807199046\n",
      "9.6 : 7.8314793085210095\n",
      "12.6 : 12.412503440684215\n",
      "21.7 : 20.53036298184352\n",
      "17.1 : 17.166534546547812\n",
      "9.5 : 9.106572218028026\n",
      "12.9 : 11.792778823185296\n",
      "11.3 : 10.27143904093063\n",
      "19.8 : 19.468842888513528\n",
      "9.5 : 11.458478915531519\n",
      "18.3 : 17.639859852384276\n",
      "12.8 : 16.89795832854022\n",
      "15.6 : 15.413469436741586\n",
      "13.4 : 14.759606950163302\n",
      "16.7 : 16.79573482907231\n",
      "15.9 : 18.468148812732895\n",
      "17.3 : 16.939633403481196\n",
      "12.2 : 13.371125868558405\n",
      "8.0 : 10.862339850980646\n",
      "23.2 : 21.43066012942192\n",
      "13.6 : 14.357875761540702\n",
      "14.1 : 13.841341580052738\n",
      "21.4 : 21.388581482695297\n",
      "17.0 : 17.18585927976831\n",
      "11.6 : 13.918925104777323\n",
      "7.6 : 5.610285154458107\n",
      "11.8 : 11.749896532297472\n",
      "24.2 : 22.59899462612114\n",
      "12.6 : 12.930974994668354\n",
      "13.2 : 15.231384457648877\n",
      "15.2 : 14.990337345891104\n",
      "15.2 : 15.163198524260105\n",
      "10.7 : 9.443964222973484\n",
      "6.9 : 4.753830235490395\n",
      "3.2 : 5.52974482954296\n",
      "8.7 : 6.77282503071925\n",
      "9.9 : 8.555833678668993\n",
      "10.5 : 9.282125421313152\n",
      "11.9 : 11.115932641927348\n",
      "15.5 : 16.44991566874417\n",
      "11.6 : 13.626812325562941\n",
      "11.9 : 11.415061255167014\n",
      "5.7 : 8.55252579784413\n",
      "15.9 : 15.523326945661243\n",
      "10.9 : 12.245221099220108\n",
      "11.8 : 11.482057469659384\n",
      "5.3 : 3.8964083799796407\n",
      "25.5 : 23.462405889142616\n",
      "14.8 : 16.20138034286604\n",
      "11.8 : 15.949387841421567\n",
      "12.4 : 10.714643518601381\n",
      "9.7 : 8.315416420460316\n",
      "9.6 : 9.853339919278097\n",
      "23.8 : 21.608505285247617\n",
      "8.7 : 7.3116197491577335\n",
      "11.0 : 9.791957535791518\n",
      "20.2 : 19.756963122684883\n",
      "8.6 : 7.230696848917477\n",
      "8.8 : 6.80411808073092\n",
      "25.4 : 23.787801582016183\n",
      "12.9 : 13.23284812397549\n",
      "8.4 : 7.56844343390733\n",
      "10.6 : 12.588247931631898\n",
      "17.4 : 18.669363737973455\n",
      "10.1 : 10.131460703845262\n",
      "12.5 : 12.897177707993023\n",
      "18.9 : 19.21200170671348\n",
      "12.9 : 13.956447841703524\n",
      "9.5 : 7.746702659748942\n",
      "8.5 : 9.021986856918511\n",
      "22.6 : 20.42318699960972\n",
      "9.7 : 8.337227893294024\n",
      "14.6 : 14.12288804549544\n",
      "14.9 : 14.895543750464395\n",
      "19.2 : 17.78969184374245\n",
      "22.3 : 20.840308686488942\n",
      "10.3 : 9.819195051378554\n",
      "19.0 : 18.05697104103323\n",
      "5.6 : 6.714489252193189\n",
      "15.5 : 14.38281432576699\n",
      "20.8 : 20.644707592254175\n",
      "21.5 : 20.212313207169004\n",
      "16.9 : 16.231288886908665\n",
      "8.7 : 11.92522695322924\n",
      "20.7 : 20.048171954737832\n",
      "5.3 : 8.909395330161654\n",
      "7.3 : 4.784535424874043\n",
      "15.9 : 16.290977676712963\n",
      "15.3 : 15.308960983553284\n",
      "23.7 : 21.043648772478143\n",
      "13.3 : 13.547005656607208\n",
      "9.7 : 8.952107329847461\n",
      "17.3 : 16.353330496152676\n",
      "22.4 : 20.57959975851673\n",
      "17.4 : 17.134685130598925\n",
      "27.0 : 24.41734136027692\n",
      "18.0 : 16.83417201139021\n",
      "10.6 : 9.023169576994736\n",
      "15.9 : 16.937720526855646\n",
      "15.7 : 16.684357517082482\n",
      "10.8 : 11.88777070509474\n",
      "11.4 : 10.20134722973649\n",
      "14.8 : 17.52074004922993\n",
      "12.2 : 12.020476611592937\n",
      "12.2 : 13.927099163008208\n",
      "11.3 : 10.036805904929762\n",
      "18.0 : 17.184102696704418\n",
      "12.8 : 12.79177930528365\n",
      "11.7 : 12.217462211796754\n",
      "9.3 : 7.994841412661602\n",
      "6.6 : 7.008021531477514\n",
      "13.2 : 12.138653974074868\n",
      "15.0 : 17.793608581655874\n",
      "12.7 : 15.547517856287756\n",
      "11.5 : 13.73727169275098\n",
      "10.3 : 9.818422901908155\n",
      "21.2 : 19.738786115439716\n",
      "1.6 : 10.461433302979788\n",
      "11.6 : 10.14110557340506\n",
      "10.9 : 9.588015591533939\n",
      "14.9 : 15.103520232686073\n",
      "11.7 : 12.010445667297938\n",
      "11.9 : 14.274706401091041\n",
      "14.7 : 15.527170195962787\n"
     ]
    }
   ],
   "source": [
    "yv = y_train.values\n",
    "\n",
    "for i in range(len(yv)):\n",
    "    print(f\"{yv[i][0]} : {predict2[i][0]}\")"
   ]
  },
  {
   "cell_type": "code",
   "execution_count": 54,
   "metadata": {},
   "outputs": [],
   "source": [
    "from sklearn.metrics import mean_squared_error, r2_score"
   ]
  },
  {
   "cell_type": "code",
   "execution_count": 55,
   "metadata": {},
   "outputs": [
    {
     "data": {
      "text/plain": [
       "2.9518915484434007"
      ]
     },
     "execution_count": 55,
     "metadata": {},
     "output_type": "execute_result"
    }
   ],
   "source": [
    "mean_squared_error(y_train, predict2)"
   ]
  },
  {
   "cell_type": "code",
   "execution_count": 57,
   "metadata": {},
   "outputs": [
    {
     "data": {
      "text/plain": [
       "0.8819455011381416"
      ]
     },
     "execution_count": 57,
     "metadata": {},
     "output_type": "execute_result"
    }
   ],
   "source": [
    "r2_score(y_train, predict2)"
   ]
  },
  {
   "cell_type": "code",
   "execution_count": 62,
   "metadata": {},
   "outputs": [
    {
     "data": {
      "image/png": "[encoded data removed]",
      "text/plain": [
       "<Figure size 640x480 with 1 Axes>"
      ]
     },
     "metadata": {},
     "output_type": "display_data"
    }
   ],
   "source": [
    "plt.plot(X_train, y_train, marker = '*', linestyle = '', color = 'red')\n",
    "plt.plot(X_train, predict2, marker = '+', linestyle = '', color = 'green')\n",
    "plt.show()"
   ]
  },
  {
   "cell_type": "code",
   "execution_count": 64,
   "metadata": {},
   "outputs": [],
   "source": [
    "predict3 = lr_model2.predict(X_test)"
   ]
  },
  {
   "cell_type": "code",
   "execution_count": 70,
   "metadata": {},
   "outputs": [],
   "source": [
    "yt = y_test.iloc[:].values"
   ]
  },
  {
   "cell_type": "code",
   "execution_count": 73,
   "metadata": {},
   "outputs": [
    {
     "name": "stdout",
     "output_type": "stream",
     "text": [
      "10.4 : 8.9225638640795\n",
      "12.3 : 14.63717926618409\n",
      "15.0 : 14.907692856687856\n",
      "16.1 : 18.232743527261626\n",
      "19.7 : 19.298701730341364\n",
      "9.7 : 8.296286474312463\n",
      "6.6 : 10.649719973706308\n",
      "20.1 : 19.062329508327057\n",
      "9.7 : 8.067447958749673\n",
      "14.5 : 14.342269479750897\n",
      "8.8 : 10.422627542977137\n",
      "15.5 : 15.266510259731824\n",
      "12.5 : 14.712105760093445\n",
      "13.4 : 12.061223243501853\n",
      "7.2 : 6.349126075701283\n",
      "17.6 : 18.381236504981917\n",
      "21.8 : 20.87527119619005\n",
      "14.0 : 13.176623508557714\n",
      "22.2 : 21.011611568276788\n",
      "26.2 : 23.821595369281425\n",
      "12.0 : 11.62283595149587\n",
      "7.3 : 10.45989250344908\n",
      "19.6 : 19.085695778331832\n",
      "11.4 : 12.679010488504598\n",
      "17.2 : 16.81660036182351\n",
      "13.4 : 15.11203837273108\n",
      "6.7 : 6.2689823237516045\n",
      "23.8 : 22.996238713252737\n",
      "11.7 : 13.900644295121841\n",
      "14.7 : 14.709963102294358\n",
      "20.7 : 19.423435364501504\n",
      "13.2 : 12.776701394150345\n",
      "25.4 : 23.04740236419185\n",
      "14.6 : 15.210661220818977\n",
      "20.2 : 20.13797807329776\n",
      "12.0 : 15.554275913858786\n",
      "10.4 : 12.352400580863998\n",
      "10.1 : 9.910694763620757\n",
      "19.6 : 18.274606390455066\n",
      "7.0 : 8.016065024867288\n",
      "10.6 : 9.257027064115118\n",
      "8.1 : 5.981258662545715\n",
      "11.2 : 10.096501693554245\n",
      "16.6 : 16.24810238464532\n",
      "16.6 : 16.284216119731845\n",
      "24.4 : 22.929030214637276\n",
      "22.1 : 20.323739510900083\n",
      "7.6 : 7.7611577161533285\n",
      "22.6 : 20.534028942122866\n",
      "9.2 : 10.670582007047422\n",
      "16.0 : 15.52872849254394\n",
      "18.5 : 17.467972609378496\n",
      "25.4 : 22.938671584786988\n",
      "10.8 : 12.457065327613957\n",
      "18.4 : 17.95540888980522\n",
      "19.4 : 18.99242198597529\n",
      "9.3 : 12.337907030948625\n",
      "24.7 : 21.921543087184723\n",
      "18.0 : 17.970667590370812\n",
      "17.1 : 17.09316634921961\n"
     ]
    }
   ],
   "source": [
    "for i in range(len(predict3)):\n",
    "    print(f\"{yt[i][0]} : {predict3[i][0]}\")"
   ]
  },
  {
   "cell_type": "code",
   "execution_count": 74,
   "metadata": {},
   "outputs": [
    {
     "data": {
      "text/plain": [
       "0.8918266010129635"
      ]
     },
     "execution_count": 74,
     "metadata": {},
     "output_type": "execute_result"
    }
   ],
   "source": [
    "r2_score(predict3, y_test)"
   ]
  },
  {
   "cell_type": "code",
   "execution_count": 75,
   "metadata": {},
   "outputs": [
    {
     "data": {
      "text/plain": [
       "2.4749156911955885"
      ]
     },
     "execution_count": 75,
     "metadata": {},
     "output_type": "execute_result"
    }
   ],
   "source": [
    "mean_squared_error(predict3, y_test)"
   ]
  },
  {
   "cell_type": "code",
   "execution_count": 76,
   "metadata": {},
   "outputs": [
    {
     "data": {
      "image/png": "[encoded data removed]",
      "text/plain": [
       "<Figure size 640x480 with 1 Axes>"
      ]
     },
     "metadata": {},
     "output_type": "display_data"
    }
   ],
   "source": [
    "plt.plot(X_test, y_test, marker = '*', linestyle = '', color = 'red')\n",
    "plt.plot(X_test, predict3, marker = '+', linestyle = '', color = 'green')\n",
    "plt.show()"
   ]
  }
 ],
 "metadata": {
  "kernelspec": {
   "display_name": "Python 3",
   "language": "python",
   "name": "python3"
  },
  "language_info": {
   "codemirror_mode": {
    "name": "ipython",
    "version": 3
   },
   "file_extension": ".py",
   "mimetype": "text/x-python",
   "name": "python",
   "nbconvert_exporter": "python",
   "pygments_lexer": "ipython3",
   "version": "3.11.8"
  }
 },
 "nbformat": 4,
 "nbformat_minor": 2
}
