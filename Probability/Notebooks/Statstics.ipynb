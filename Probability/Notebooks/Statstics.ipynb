{
 "cells": [
  {
   "cell_type": "code",
   "execution_count": 2,
   "id": "initial_id",
   "metadata": {
    "collapsed": true,
    "ExecuteTime": {
     "end_time": "2023-12-14T10:22:34.742443300Z",
     "start_time": "2023-12-14T10:22:28.544054500Z"
    }
   },
   "outputs": [],
   "source": [
    "import pandas as pd\n",
    "import numpy as np\n",
    "import matplotlib.pyplot as plt"
   ]
  },
  {
   "cell_type": "code",
   "execution_count": 314,
   "outputs": [],
   "source": [
    "file1 = pd.read_csv('../../Libraries/File1.csv')"
   ],
   "metadata": {
    "collapsed": false,
    "ExecuteTime": {
     "end_time": "2023-12-15T10:14:32.300063300Z",
     "start_time": "2023-12-15T10:14:32.200030700Z"
    }
   },
   "id": "dab41a15f7cbb8df"
  },
  {
   "cell_type": "code",
   "execution_count": 4,
   "outputs": [
    {
     "data": {
      "text/plain": "   Unnamed: 0           Name            Team  Number Position  Age  Height  \\\n0           0  Avery Bradley  Boston Celtics       0       PG   25  06-Feb   \n1           1    Jae Crowder  Boston Celtics      99       SF   25  06-Jun   \n2           2   John Holland  Boston Celtics      30       SG   27  06-May   \n3           3    R.J. Hunter  Boston Celtics      28       SG   22  06-May   \n4           4  Jonas Jerebko  Boston Celtics       8       PF   29  06-Oct   \n\n   Weight            College     Salary  \n0     180              Texas  7730337.0  \n1     235          Marquette  6796117.0  \n2     205  Boston University  4842684.1  \n3     185      Georgia State  1148640.0  \n4     231            Alabama  5000000.0  ",
      "text/html": "<div>\n<style scoped>\n    .dataframe tbody tr th:only-of-type {\n        vertical-align: middle;\n    }\n\n    .dataframe tbody tr th {\n        vertical-align: top;\n    }\n\n    .dataframe thead th {\n        text-align: right;\n    }\n</style>\n<table border=\"1\" class=\"dataframe\">\n  <thead>\n    <tr style=\"text-align: right;\">\n      <th></th>\n      <th>Unnamed: 0</th>\n      <th>Name</th>\n      <th>Team</th>\n      <th>Number</th>\n      <th>Position</th>\n      <th>Age</th>\n      <th>Height</th>\n      <th>Weight</th>\n      <th>College</th>\n      <th>Salary</th>\n    </tr>\n  </thead>\n  <tbody>\n    <tr>\n      <th>0</th>\n      <td>0</td>\n      <td>Avery Bradley</td>\n      <td>Boston Celtics</td>\n      <td>0</td>\n      <td>PG</td>\n      <td>25</td>\n      <td>06-Feb</td>\n      <td>180</td>\n      <td>Texas</td>\n      <td>7730337.0</td>\n    </tr>\n    <tr>\n      <th>1</th>\n      <td>1</td>\n      <td>Jae Crowder</td>\n      <td>Boston Celtics</td>\n      <td>99</td>\n      <td>SF</td>\n      <td>25</td>\n      <td>06-Jun</td>\n      <td>235</td>\n      <td>Marquette</td>\n      <td>6796117.0</td>\n    </tr>\n    <tr>\n      <th>2</th>\n      <td>2</td>\n      <td>John Holland</td>\n      <td>Boston Celtics</td>\n      <td>30</td>\n      <td>SG</td>\n      <td>27</td>\n      <td>06-May</td>\n      <td>205</td>\n      <td>Boston University</td>\n      <td>4842684.1</td>\n    </tr>\n    <tr>\n      <th>3</th>\n      <td>3</td>\n      <td>R.J. Hunter</td>\n      <td>Boston Celtics</td>\n      <td>28</td>\n      <td>SG</td>\n      <td>22</td>\n      <td>06-May</td>\n      <td>185</td>\n      <td>Georgia State</td>\n      <td>1148640.0</td>\n    </tr>\n    <tr>\n      <th>4</th>\n      <td>4</td>\n      <td>Jonas Jerebko</td>\n      <td>Boston Celtics</td>\n      <td>8</td>\n      <td>PF</td>\n      <td>29</td>\n      <td>06-Oct</td>\n      <td>231</td>\n      <td>Alabama</td>\n      <td>5000000.0</td>\n    </tr>\n  </tbody>\n</table>\n</div>"
     },
     "execution_count": 4,
     "metadata": {},
     "output_type": "execute_result"
    }
   ],
   "source": [
    "file1.head()"
   ],
   "metadata": {
    "collapsed": false,
    "ExecuteTime": {
     "end_time": "2023-12-13T13:45:05.713219100Z",
     "start_time": "2023-12-13T13:45:05.644777800Z"
    }
   },
   "id": "6acbb35e20ae5b8e"
  },
  {
   "cell_type": "code",
   "execution_count": 5,
   "outputs": [
    {
     "data": {
      "text/plain": "       Unnamed: 0      Number         Age      Weight        Salary\ncount  457.000000  457.000000  457.000000  457.000000  4.570000e+02\nmean   228.000000   17.678337   26.938731  221.522976  4.842684e+06\nstd    132.068795   15.966090    4.404016   26.368343  5.165781e+06\nmin      0.000000    0.000000   19.000000  161.000000  3.088800e+04\n25%    114.000000    5.000000   24.000000  200.000000  1.100602e+06\n50%    228.000000   13.000000   26.000000  220.000000  2.869440e+06\n75%    342.000000   25.000000   30.000000  240.000000  6.331404e+06\nmax    456.000000   99.000000   40.000000  307.000000  2.500000e+07",
      "text/html": "<div>\n<style scoped>\n    .dataframe tbody tr th:only-of-type {\n        vertical-align: middle;\n    }\n\n    .dataframe tbody tr th {\n        vertical-align: top;\n    }\n\n    .dataframe thead th {\n        text-align: right;\n    }\n</style>\n<table border=\"1\" class=\"dataframe\">\n  <thead>\n    <tr style=\"text-align: right;\">\n      <th></th>\n      <th>Unnamed: 0</th>\n      <th>Number</th>\n      <th>Age</th>\n      <th>Weight</th>\n      <th>Salary</th>\n    </tr>\n  </thead>\n  <tbody>\n    <tr>\n      <th>count</th>\n      <td>457.000000</td>\n      <td>457.000000</td>\n      <td>457.000000</td>\n      <td>457.000000</td>\n      <td>4.570000e+02</td>\n    </tr>\n    <tr>\n      <th>mean</th>\n      <td>228.000000</td>\n      <td>17.678337</td>\n      <td>26.938731</td>\n      <td>221.522976</td>\n      <td>4.842684e+06</td>\n    </tr>\n    <tr>\n      <th>std</th>\n      <td>132.068795</td>\n      <td>15.966090</td>\n      <td>4.404016</td>\n      <td>26.368343</td>\n      <td>5.165781e+06</td>\n    </tr>\n    <tr>\n      <th>min</th>\n      <td>0.000000</td>\n      <td>0.000000</td>\n      <td>19.000000</td>\n      <td>161.000000</td>\n      <td>3.088800e+04</td>\n    </tr>\n    <tr>\n      <th>25%</th>\n      <td>114.000000</td>\n      <td>5.000000</td>\n      <td>24.000000</td>\n      <td>200.000000</td>\n      <td>1.100602e+06</td>\n    </tr>\n    <tr>\n      <th>50%</th>\n      <td>228.000000</td>\n      <td>13.000000</td>\n      <td>26.000000</td>\n      <td>220.000000</td>\n      <td>2.869440e+06</td>\n    </tr>\n    <tr>\n      <th>75%</th>\n      <td>342.000000</td>\n      <td>25.000000</td>\n      <td>30.000000</td>\n      <td>240.000000</td>\n      <td>6.331404e+06</td>\n    </tr>\n    <tr>\n      <th>max</th>\n      <td>456.000000</td>\n      <td>99.000000</td>\n      <td>40.000000</td>\n      <td>307.000000</td>\n      <td>2.500000e+07</td>\n    </tr>\n  </tbody>\n</table>\n</div>"
     },
     "execution_count": 5,
     "metadata": {},
     "output_type": "execute_result"
    }
   ],
   "source": [
    "file1.describe()"
   ],
   "metadata": {
    "collapsed": false,
    "ExecuteTime": {
     "end_time": "2023-12-13T13:45:16.481167400Z",
     "start_time": "2023-12-13T13:45:16.382263900Z"
    }
   },
   "id": "bc57efa8c7f204c"
  },
  {
   "cell_type": "code",
   "execution_count": 6,
   "outputs": [
    {
     "name": "stdout",
     "output_type": "stream",
     "text": [
      "<class 'pandas.core.frame.DataFrame'>\n",
      "RangeIndex: 457 entries, 0 to 456\n",
      "Data columns (total 10 columns):\n",
      " #   Column      Non-Null Count  Dtype  \n",
      "---  ------      --------------  -----  \n",
      " 0   Unnamed: 0  457 non-null    int64  \n",
      " 1   Name        457 non-null    object \n",
      " 2   Team        457 non-null    object \n",
      " 3   Number      457 non-null    int64  \n",
      " 4   Position    457 non-null    object \n",
      " 5   Age         457 non-null    int64  \n",
      " 6   Height      457 non-null    object \n",
      " 7   Weight      457 non-null    int64  \n",
      " 8   College     457 non-null    object \n",
      " 9   Salary      457 non-null    float64\n",
      "dtypes: float64(1), int64(4), object(5)\n",
      "memory usage: 35.8+ KB\n"
     ]
    }
   ],
   "source": [
    "file1.info()"
   ],
   "metadata": {
    "collapsed": false,
    "ExecuteTime": {
     "end_time": "2023-12-13T13:45:25.188634700Z",
     "start_time": "2023-12-13T13:45:25.116793Z"
    }
   },
   "id": "88cb4b812504153f"
  },
  {
   "cell_type": "code",
   "execution_count": 10,
   "outputs": [],
   "source": [
    "file1 = file1.reindex(index=range(1, 458))"
   ],
   "metadata": {
    "collapsed": false,
    "ExecuteTime": {
     "end_time": "2023-12-13T13:47:11.427171800Z",
     "start_time": "2023-12-13T13:47:11.380179200Z"
    }
   },
   "id": "d0ee187aa5a3cc1f"
  },
  {
   "cell_type": "code",
   "execution_count": 11,
   "outputs": [
    {
     "data": {
      "text/plain": "     Unnamed: 0           Name            Team  Number Position   Age  Height  \\\n1           1.0    Jae Crowder  Boston Celtics    99.0       SF  25.0  06-Jun   \n2           2.0   John Holland  Boston Celtics    30.0       SG  27.0  06-May   \n3           3.0    R.J. Hunter  Boston Celtics    28.0       SG  22.0  06-May   \n4           4.0  Jonas Jerebko  Boston Celtics     8.0       PF  29.0  06-Oct   \n5           5.0   Amir Johnson  Boston Celtics    90.0       PF  29.0  06-Sep   \n..          ...            ...             ...     ...      ...   ...     ...   \n453       453.0   Shelvin Mack       Utah Jazz     8.0       PG  26.0  06-Mar   \n454       454.0      Raul Neto       Utah Jazz    25.0       PG  24.0  06-Jan   \n455       455.0   Tibor Pleiss       Utah Jazz    21.0        C  26.0  07-Mar   \n456       456.0    Jeff Withey       Utah Jazz    24.0        C  26.0     7-0   \n457         NaN            NaN             NaN     NaN      NaN   NaN     NaN   \n\n     Weight            College      Salary  \n1     235.0          Marquette   6796117.0  \n2     205.0  Boston University   4842684.1  \n3     185.0      Georgia State   1148640.0  \n4     231.0            Alabama   5000000.0  \n5     240.0            Alabama  12000000.0  \n..      ...                ...         ...  \n453   203.0             Butler   2433333.0  \n454   179.0            Alabama    900000.0  \n455   256.0            Alabama   2900000.0  \n456   231.0             Kansas    947276.0  \n457     NaN                NaN         NaN  \n\n[457 rows x 10 columns]",
      "text/html": "<div>\n<style scoped>\n    .dataframe tbody tr th:only-of-type {\n        vertical-align: middle;\n    }\n\n    .dataframe tbody tr th {\n        vertical-align: top;\n    }\n\n    .dataframe thead th {\n        text-align: right;\n    }\n</style>\n<table border=\"1\" class=\"dataframe\">\n  <thead>\n    <tr style=\"text-align: right;\">\n      <th></th>\n      <th>Unnamed: 0</th>\n      <th>Name</th>\n      <th>Team</th>\n      <th>Number</th>\n      <th>Position</th>\n      <th>Age</th>\n      <th>Height</th>\n      <th>Weight</th>\n      <th>College</th>\n      <th>Salary</th>\n    </tr>\n  </thead>\n  <tbody>\n    <tr>\n      <th>1</th>\n      <td>1.0</td>\n      <td>Jae Crowder</td>\n      <td>Boston Celtics</td>\n      <td>99.0</td>\n      <td>SF</td>\n      <td>25.0</td>\n      <td>06-Jun</td>\n      <td>235.0</td>\n      <td>Marquette</td>\n      <td>6796117.0</td>\n    </tr>\n    <tr>\n      <th>2</th>\n      <td>2.0</td>\n      <td>John Holland</td>\n      <td>Boston Celtics</td>\n      <td>30.0</td>\n      <td>SG</td>\n      <td>27.0</td>\n      <td>06-May</td>\n      <td>205.0</td>\n      <td>Boston University</td>\n      <td>4842684.1</td>\n    </tr>\n    <tr>\n      <th>3</th>\n      <td>3.0</td>\n      <td>R.J. Hunter</td>\n      <td>Boston Celtics</td>\n      <td>28.0</td>\n      <td>SG</td>\n      <td>22.0</td>\n      <td>06-May</td>\n      <td>185.0</td>\n      <td>Georgia State</td>\n      <td>1148640.0</td>\n    </tr>\n    <tr>\n      <th>4</th>\n      <td>4.0</td>\n      <td>Jonas Jerebko</td>\n      <td>Boston Celtics</td>\n      <td>8.0</td>\n      <td>PF</td>\n      <td>29.0</td>\n      <td>06-Oct</td>\n      <td>231.0</td>\n      <td>Alabama</td>\n      <td>5000000.0</td>\n    </tr>\n    <tr>\n      <th>5</th>\n      <td>5.0</td>\n      <td>Amir Johnson</td>\n      <td>Boston Celtics</td>\n      <td>90.0</td>\n      <td>PF</td>\n      <td>29.0</td>\n      <td>06-Sep</td>\n      <td>240.0</td>\n      <td>Alabama</td>\n      <td>12000000.0</td>\n    </tr>\n    <tr>\n      <th>...</th>\n      <td>...</td>\n      <td>...</td>\n      <td>...</td>\n      <td>...</td>\n      <td>...</td>\n      <td>...</td>\n      <td>...</td>\n      <td>...</td>\n      <td>...</td>\n      <td>...</td>\n    </tr>\n    <tr>\n      <th>453</th>\n      <td>453.0</td>\n      <td>Shelvin Mack</td>\n      <td>Utah Jazz</td>\n      <td>8.0</td>\n      <td>PG</td>\n      <td>26.0</td>\n      <td>06-Mar</td>\n      <td>203.0</td>\n      <td>Butler</td>\n      <td>2433333.0</td>\n    </tr>\n    <tr>\n      <th>454</th>\n      <td>454.0</td>\n      <td>Raul Neto</td>\n      <td>Utah Jazz</td>\n      <td>25.0</td>\n      <td>PG</td>\n      <td>24.0</td>\n      <td>06-Jan</td>\n      <td>179.0</td>\n      <td>Alabama</td>\n      <td>900000.0</td>\n    </tr>\n    <tr>\n      <th>455</th>\n      <td>455.0</td>\n      <td>Tibor Pleiss</td>\n      <td>Utah Jazz</td>\n      <td>21.0</td>\n      <td>C</td>\n      <td>26.0</td>\n      <td>07-Mar</td>\n      <td>256.0</td>\n      <td>Alabama</td>\n      <td>2900000.0</td>\n    </tr>\n    <tr>\n      <th>456</th>\n      <td>456.0</td>\n      <td>Jeff Withey</td>\n      <td>Utah Jazz</td>\n      <td>24.0</td>\n      <td>C</td>\n      <td>26.0</td>\n      <td>7-0</td>\n      <td>231.0</td>\n      <td>Kansas</td>\n      <td>947276.0</td>\n    </tr>\n    <tr>\n      <th>457</th>\n      <td>NaN</td>\n      <td>NaN</td>\n      <td>NaN</td>\n      <td>NaN</td>\n      <td>NaN</td>\n      <td>NaN</td>\n      <td>NaN</td>\n      <td>NaN</td>\n      <td>NaN</td>\n      <td>NaN</td>\n    </tr>\n  </tbody>\n</table>\n<p>457 rows × 10 columns</p>\n</div>"
     },
     "execution_count": 11,
     "metadata": {},
     "output_type": "execute_result"
    }
   ],
   "source": [
    "file1"
   ],
   "metadata": {
    "collapsed": false,
    "ExecuteTime": {
     "end_time": "2023-12-13T13:47:19.237128300Z",
     "start_time": "2023-12-13T13:47:19.110268Z"
    }
   },
   "id": "8ebc35d02dea1294"
  },
  {
   "cell_type": "code",
   "execution_count": 14,
   "outputs": [
    {
     "data": {
      "text/plain": "array(['SF', 'SG', 'PF', 'C', 'PG', nan], dtype=object)"
     },
     "execution_count": 14,
     "metadata": {},
     "output_type": "execute_result"
    }
   ],
   "source": [
    "file1['Position'].unique()"
   ],
   "metadata": {
    "collapsed": false,
    "ExecuteTime": {
     "end_time": "2023-12-13T13:48:03.637557100Z",
     "start_time": "2023-12-13T13:48:03.546227400Z"
    }
   },
   "id": "5eace9cc24c4f00"
  },
  {
   "cell_type": "code",
   "execution_count": 16,
   "outputs": [
    {
     "data": {
      "text/plain": "Position\nSG    102\nPF    100\nPG     91\nSF     85\nC      78\nName: count, dtype: int64"
     },
     "execution_count": 16,
     "metadata": {},
     "output_type": "execute_result"
    }
   ],
   "source": [
    "file1['Position'].value_counts()"
   ],
   "metadata": {
    "collapsed": false,
    "ExecuteTime": {
     "end_time": "2023-12-13T13:48:46.480437100Z",
     "start_time": "2023-12-13T13:48:46.407628200Z"
    }
   },
   "id": "eee5622741a7fc42"
  },
  {
   "cell_type": "code",
   "execution_count": 32,
   "outputs": [
    {
     "data": {
      "text/plain": "<Figure size 640x480 with 1 Axes>",
      "image/png": "[encoded data removed]"
     },
     "metadata": {},
     "output_type": "display_data"
    }
   ],
   "source": [
    "file1['Position'].value_counts().plot(kind = 'bar', color = 'green')\n",
    "plt.show()"
   ],
   "metadata": {
    "collapsed": false,
    "ExecuteTime": {
     "end_time": "2023-12-13T13:53:46.822733500Z",
     "start_time": "2023-12-13T13:53:46.476636100Z"
    }
   },
   "id": "635c08189cf13699"
  },
  {
   "cell_type": "code",
   "execution_count": 47,
   "outputs": [],
   "source": [
    "file1.rename(columns={\n",
    "    'Height':'DOB'\n",
    "}, inplace=True)"
   ],
   "metadata": {
    "collapsed": false,
    "ExecuteTime": {
     "end_time": "2023-12-13T14:08:30.926759800Z",
     "start_time": "2023-12-13T14:08:30.864773500Z"
    }
   },
   "id": "f826ed5d74b44eeb"
  },
  {
   "cell_type": "code",
   "execution_count": 49,
   "outputs": [
    {
     "data": {
      "text/plain": "   Unnamed: 0          Name            Team  Number Position   Age     DOB  \\\n1         1.0   Jae Crowder  Boston Celtics    99.0       SF  25.0  06-Jun   \n2         2.0  John Holland  Boston Celtics    30.0       SG  27.0  06-May   \n3         3.0   R.J. Hunter  Boston Celtics    28.0       SG  22.0  06-May   \n\n   Weight            College     Salary  \n1   235.0          Marquette  6796117.0  \n2   205.0  Boston University  4842684.1  \n3   185.0      Georgia State  1148640.0  ",
      "text/html": "<div>\n<style scoped>\n    .dataframe tbody tr th:only-of-type {\n        vertical-align: middle;\n    }\n\n    .dataframe tbody tr th {\n        vertical-align: top;\n    }\n\n    .dataframe thead th {\n        text-align: right;\n    }\n</style>\n<table border=\"1\" class=\"dataframe\">\n  <thead>\n    <tr style=\"text-align: right;\">\n      <th></th>\n      <th>Unnamed: 0</th>\n      <th>Name</th>\n      <th>Team</th>\n      <th>Number</th>\n      <th>Position</th>\n      <th>Age</th>\n      <th>DOB</th>\n      <th>Weight</th>\n      <th>College</th>\n      <th>Salary</th>\n    </tr>\n  </thead>\n  <tbody>\n    <tr>\n      <th>1</th>\n      <td>1.0</td>\n      <td>Jae Crowder</td>\n      <td>Boston Celtics</td>\n      <td>99.0</td>\n      <td>SF</td>\n      <td>25.0</td>\n      <td>06-Jun</td>\n      <td>235.0</td>\n      <td>Marquette</td>\n      <td>6796117.0</td>\n    </tr>\n    <tr>\n      <th>2</th>\n      <td>2.0</td>\n      <td>John Holland</td>\n      <td>Boston Celtics</td>\n      <td>30.0</td>\n      <td>SG</td>\n      <td>27.0</td>\n      <td>06-May</td>\n      <td>205.0</td>\n      <td>Boston University</td>\n      <td>4842684.1</td>\n    </tr>\n    <tr>\n      <th>3</th>\n      <td>3.0</td>\n      <td>R.J. Hunter</td>\n      <td>Boston Celtics</td>\n      <td>28.0</td>\n      <td>SG</td>\n      <td>22.0</td>\n      <td>06-May</td>\n      <td>185.0</td>\n      <td>Georgia State</td>\n      <td>1148640.0</td>\n    </tr>\n  </tbody>\n</table>\n</div>"
     },
     "execution_count": 49,
     "metadata": {},
     "output_type": "execute_result"
    }
   ],
   "source": [
    "file1.head(3)"
   ],
   "metadata": {
    "collapsed": false,
    "ExecuteTime": {
     "end_time": "2023-12-13T14:08:39.665967400Z",
     "start_time": "2023-12-13T14:08:39.563889600Z"
    }
   },
   "id": "bc4461e2d75f6325"
  },
  {
   "cell_type": "code",
   "execution_count": 69,
   "outputs": [
    {
     "name": "stdout",
     "output_type": "stream",
     "text": [
      "col_0     No Of Positions\n",
      "Position                 \n",
      "C                      78\n",
      "PF                    100\n",
      "PG                     91\n",
      "SF                     85\n",
      "SG                    102\n"
     ]
    }
   ],
   "source": [
    "p1 = pd.crosstab(file1['Position'], 'No Of Positions')\n",
    "print(p1)"
   ],
   "metadata": {
    "collapsed": false,
    "ExecuteTime": {
     "end_time": "2023-12-13T14:17:01.362408300Z",
     "start_time": "2023-12-13T14:17:01.266801600Z"
    }
   },
   "id": "f93a1ff507f3636d"
  },
  {
   "cell_type": "code",
   "execution_count": 74,
   "outputs": [
    {
     "data": {
      "text/plain": "col_0     No Of Positions  Relative Positions\nPosition                                     \nC                      78            0.171053\nPF                    100            0.219298\nPG                     91            0.199561\nSF                     85            0.186404\nSG                    102            0.223684",
      "text/html": "<div>\n<style scoped>\n    .dataframe tbody tr th:only-of-type {\n        vertical-align: middle;\n    }\n\n    .dataframe tbody tr th {\n        vertical-align: top;\n    }\n\n    .dataframe thead th {\n        text-align: right;\n    }\n</style>\n<table border=\"1\" class=\"dataframe\">\n  <thead>\n    <tr style=\"text-align: right;\">\n      <th>col_0</th>\n      <th>No Of Positions</th>\n      <th>Relative Positions</th>\n    </tr>\n    <tr>\n      <th>Position</th>\n      <th></th>\n      <th></th>\n    </tr>\n  </thead>\n  <tbody>\n    <tr>\n      <th>C</th>\n      <td>78</td>\n      <td>0.171053</td>\n    </tr>\n    <tr>\n      <th>PF</th>\n      <td>100</td>\n      <td>0.219298</td>\n    </tr>\n    <tr>\n      <th>PG</th>\n      <td>91</td>\n      <td>0.199561</td>\n    </tr>\n    <tr>\n      <th>SF</th>\n      <td>85</td>\n      <td>0.186404</td>\n    </tr>\n    <tr>\n      <th>SG</th>\n      <td>102</td>\n      <td>0.223684</td>\n    </tr>\n  </tbody>\n</table>\n</div>"
     },
     "execution_count": 74,
     "metadata": {},
     "output_type": "execute_result"
    }
   ],
   "source": [
    "# Adding Relative Frequency\n",
    "\n",
    "p1['Relative Positions'] = p1['No Of Positions']/p1['No Of Positions'].sum()\n",
    "p1"
   ],
   "metadata": {
    "collapsed": false,
    "ExecuteTime": {
     "end_time": "2023-12-13T14:18:54.626548700Z",
     "start_time": "2023-12-13T14:18:54.575650700Z"
    }
   },
   "id": "7cd4241c338ea0f4"
  },
  {
   "cell_type": "code",
   "execution_count": 80,
   "outputs": [
    {
     "data": {
      "text/plain": "col_0     No Of Positions  Relative Positions  Percentage of Positions\nPosition                                                              \nC                      78            0.171053                17.105263\nPF                    100            0.219298                21.929825\nPG                     91            0.199561                19.956140\nSF                     85            0.186404                18.640351\nSG                    102            0.223684                22.368421",
      "text/html": "<div>\n<style scoped>\n    .dataframe tbody tr th:only-of-type {\n        vertical-align: middle;\n    }\n\n    .dataframe tbody tr th {\n        vertical-align: top;\n    }\n\n    .dataframe thead th {\n        text-align: right;\n    }\n</style>\n<table border=\"1\" class=\"dataframe\">\n  <thead>\n    <tr style=\"text-align: right;\">\n      <th>col_0</th>\n      <th>No Of Positions</th>\n      <th>Relative Positions</th>\n      <th>Percentage of Positions</th>\n    </tr>\n    <tr>\n      <th>Position</th>\n      <th></th>\n      <th></th>\n      <th></th>\n    </tr>\n  </thead>\n  <tbody>\n    <tr>\n      <th>C</th>\n      <td>78</td>\n      <td>0.171053</td>\n      <td>17.105263</td>\n    </tr>\n    <tr>\n      <th>PF</th>\n      <td>100</td>\n      <td>0.219298</td>\n      <td>21.929825</td>\n    </tr>\n    <tr>\n      <th>PG</th>\n      <td>91</td>\n      <td>0.199561</td>\n      <td>19.956140</td>\n    </tr>\n    <tr>\n      <th>SF</th>\n      <td>85</td>\n      <td>0.186404</td>\n      <td>18.640351</td>\n    </tr>\n    <tr>\n      <th>SG</th>\n      <td>102</td>\n      <td>0.223684</td>\n      <td>22.368421</td>\n    </tr>\n  </tbody>\n</table>\n</div>"
     },
     "execution_count": 80,
     "metadata": {},
     "output_type": "execute_result"
    }
   ],
   "source": [
    "# Adding Percentage\n",
    "\n",
    "p1['Percentage of Positions'] = p1['Relative Positions'] * 100\n",
    "p1"
   ],
   "metadata": {
    "collapsed": false,
    "ExecuteTime": {
     "end_time": "2023-12-13T14:22:09.114918200Z",
     "start_time": "2023-12-13T14:22:09.042039300Z"
    }
   },
   "id": "bfcfcb053471e2e5"
  },
  {
   "cell_type": "code",
   "execution_count": 85,
   "outputs": [
    {
     "data": {
      "text/plain": "Weight\n(197.5, 234.0]      202\n(234.0, 270.5]      151\n(160.853, 197.5]     91\n(270.5, 307.0]       12\nName: count, dtype: int64"
     },
     "execution_count": 85,
     "metadata": {},
     "output_type": "execute_result"
    }
   ],
   "source": [
    "file1['Weight'].value_counts(bins=4)"
   ],
   "metadata": {
    "collapsed": false,
    "ExecuteTime": {
     "end_time": "2023-12-13T14:36:59.607553500Z",
     "start_time": "2023-12-13T14:36:59.486940200Z"
    }
   },
   "id": "b1aec021683789eb"
  },
  {
   "cell_type": "code",
   "execution_count": 86,
   "outputs": [
    {
     "data": {
      "text/plain": "<Axes: xlabel='Weight'>"
     },
     "execution_count": 86,
     "metadata": {},
     "output_type": "execute_result"
    },
    {
     "data": {
      "text/plain": "<Figure size 640x480 with 1 Axes>",
      "image/png": "[encoded data removed]"
     },
     "metadata": {},
     "output_type": "display_data"
    }
   ],
   "source": [
    "file1['Weight'].value_counts(bins=4).plot(kind = 'bar')"
   ],
   "metadata": {
    "collapsed": false,
    "ExecuteTime": {
     "end_time": "2023-12-14T05:54:52.004096900Z",
     "start_time": "2023-12-14T05:54:50.432895900Z"
    }
   },
   "id": "9f38abfbb0092de0"
  },
  {
   "cell_type": "code",
   "execution_count": 44,
   "outputs": [],
   "source": [
    "import statistics as st"
   ],
   "metadata": {
    "collapsed": false,
    "ExecuteTime": {
     "end_time": "2023-12-14T14:28:27.286771200Z",
     "start_time": "2023-12-14T14:28:27.217905200Z"
    }
   },
   "id": "9abf7e2059562363"
  },
  {
   "cell_type": "code",
   "execution_count": 89,
   "outputs": [
    {
     "name": "stdout",
     "output_type": "stream",
     "text": [
      "[40  6 89 28 30 93 79 52 68 15 77  9 55 73 47 86 76 54 29 10 78 65 34 44\n",
      " 48 31 75 90 34 49 35 87 65 24  4 82 85 68 11 93 13 50 10 10 66 24 15 59\n",
      " 28 92]\n"
     ]
    }
   ],
   "source": [
    "d1 = np.random.randint(1,100,50)\n",
    "print(d1)"
   ],
   "metadata": {
    "collapsed": false,
    "ExecuteTime": {
     "end_time": "2023-12-14T06:00:11.750451100Z",
     "start_time": "2023-12-14T06:00:11.598346200Z"
    }
   },
   "id": "c7658c151cd95158"
  },
  {
   "cell_type": "code",
   "execution_count": 93,
   "outputs": [
    {
     "name": "stdout",
     "output_type": "stream",
     "text": [
      "49\n",
      "10\n",
      "49.5\n"
     ]
    }
   ],
   "source": [
    "print(st.mean(d1))\n",
    "print(st.mode(d1))\n",
    "print(st.median(d1))"
   ],
   "metadata": {
    "collapsed": false,
    "ExecuteTime": {
     "end_time": "2023-12-14T06:03:16.340944700Z",
     "start_time": "2023-12-14T06:03:16.150952Z"
    }
   },
   "id": "bb57e1752a4979d2"
  },
  {
   "cell_type": "code",
   "execution_count": 111,
   "outputs": [
    {
     "name": "stdout",
     "output_type": "stream",
     "text": [
      "Unnamed: 0    2.285000e+02\n",
      "Number        1.771711e+01\n",
      "Age           2.694298e+01\n",
      "Weight        2.216140e+02\n",
      "Salary        4.836352e+06\n",
      "dtype: float64\n",
      "--------------------------------------------------\n",
      "Unnamed: 0        228.5\n",
      "Number             13.0\n",
      "Age                26.0\n",
      "Weight            220.0\n",
      "Salary        2862190.0\n",
      "dtype: float64\n",
      "--------------------------------------------------\n",
      "     Unnamed: 0  Number   Age  Weight    Salary\n",
      "0           1.0     5.0  24.0   220.0  947276.0\n",
      "1           2.0     NaN   NaN     NaN       NaN\n",
      "2           3.0     NaN   NaN     NaN       NaN\n",
      "3           4.0     NaN   NaN     NaN       NaN\n",
      "4           5.0     NaN   NaN     NaN       NaN\n",
      "..          ...     ...   ...     ...       ...\n",
      "451       452.0     NaN   NaN     NaN       NaN\n",
      "452       453.0     NaN   NaN     NaN       NaN\n",
      "453       454.0     NaN   NaN     NaN       NaN\n",
      "454       455.0     NaN   NaN     NaN       NaN\n",
      "455       456.0     NaN   NaN     NaN       NaN\n",
      "\n",
      "[456 rows x 5 columns]\n"
     ]
    }
   ],
   "source": [
    "print(file1.mean(numeric_only = True, axis = 0))\n",
    "print('-'*50)\n",
    "print(file1.median(numeric_only = True, axis = 0))\n",
    "print('-'*50)\n",
    "print(file1.mode(numeric_only = True, axis = 0))"
   ],
   "metadata": {
    "collapsed": false,
    "ExecuteTime": {
     "end_time": "2023-12-14T06:11:57.533612600Z",
     "start_time": "2023-12-14T06:11:57.409849700Z"
    }
   },
   "id": "dd8711ffc2439784"
  },
  {
   "cell_type": "code",
   "execution_count": 116,
   "outputs": [
    {
     "data": {
      "text/plain": "       Unnamed: 0      Number         Age      Weight        Salary\ncount   456.00000  456.000000  456.000000  456.000000  4.560000e+02\nmean    228.50000   17.717105   26.942982  221.614035  4.836352e+06\nstd     131.78012   15.962078    4.407914   26.325272  5.169678e+06\nmin       1.00000    0.000000   19.000000  161.000000  3.088800e+04\n10%      46.50000    2.000000   22.000000  186.000000  8.450590e+05\n20%      92.00000    4.000000   23.000000  198.000000  9.472760e+05\n40%     183.00000   10.000000   25.000000  214.000000  2.021520e+06\n50%     228.50000   13.000000   26.000000  220.000000  2.862190e+06\nmax     456.00000   99.000000   40.000000  307.000000  2.500000e+07",
      "text/html": "<div>\n<style scoped>\n    .dataframe tbody tr th:only-of-type {\n        vertical-align: middle;\n    }\n\n    .dataframe tbody tr th {\n        vertical-align: top;\n    }\n\n    .dataframe thead th {\n        text-align: right;\n    }\n</style>\n<table border=\"1\" class=\"dataframe\">\n  <thead>\n    <tr style=\"text-align: right;\">\n      <th></th>\n      <th>Unnamed: 0</th>\n      <th>Number</th>\n      <th>Age</th>\n      <th>Weight</th>\n      <th>Salary</th>\n    </tr>\n  </thead>\n  <tbody>\n    <tr>\n      <th>count</th>\n      <td>456.00000</td>\n      <td>456.000000</td>\n      <td>456.000000</td>\n      <td>456.000000</td>\n      <td>4.560000e+02</td>\n    </tr>\n    <tr>\n      <th>mean</th>\n      <td>228.50000</td>\n      <td>17.717105</td>\n      <td>26.942982</td>\n      <td>221.614035</td>\n      <td>4.836352e+06</td>\n    </tr>\n    <tr>\n      <th>std</th>\n      <td>131.78012</td>\n      <td>15.962078</td>\n      <td>4.407914</td>\n      <td>26.325272</td>\n      <td>5.169678e+06</td>\n    </tr>\n    <tr>\n      <th>min</th>\n      <td>1.00000</td>\n      <td>0.000000</td>\n      <td>19.000000</td>\n      <td>161.000000</td>\n      <td>3.088800e+04</td>\n    </tr>\n    <tr>\n      <th>10%</th>\n      <td>46.50000</td>\n      <td>2.000000</td>\n      <td>22.000000</td>\n      <td>186.000000</td>\n      <td>8.450590e+05</td>\n    </tr>\n    <tr>\n      <th>20%</th>\n      <td>92.00000</td>\n      <td>4.000000</td>\n      <td>23.000000</td>\n      <td>198.000000</td>\n      <td>9.472760e+05</td>\n    </tr>\n    <tr>\n      <th>40%</th>\n      <td>183.00000</td>\n      <td>10.000000</td>\n      <td>25.000000</td>\n      <td>214.000000</td>\n      <td>2.021520e+06</td>\n    </tr>\n    <tr>\n      <th>50%</th>\n      <td>228.50000</td>\n      <td>13.000000</td>\n      <td>26.000000</td>\n      <td>220.000000</td>\n      <td>2.862190e+06</td>\n    </tr>\n    <tr>\n      <th>max</th>\n      <td>456.00000</td>\n      <td>99.000000</td>\n      <td>40.000000</td>\n      <td>307.000000</td>\n      <td>2.500000e+07</td>\n    </tr>\n  </tbody>\n</table>\n</div>"
     },
     "execution_count": 116,
     "metadata": {},
     "output_type": "execute_result"
    }
   ],
   "source": [
    "file1.describe(percentiles= [.1, .2, .4])"
   ],
   "metadata": {
    "collapsed": false,
    "ExecuteTime": {
     "end_time": "2023-12-14T06:21:13.185602800Z",
     "start_time": "2023-12-14T06:21:13.103328600Z"
    }
   },
   "id": "a52668d29e526e41"
  },
  {
   "cell_type": "code",
   "execution_count": 143,
   "outputs": [
    {
     "name": "stdout",
     "output_type": "stream",
     "text": [
      "[137, 37, 182, 141, 991, 144, 169, 803, 231, 646, 632, 829, 49, 404, 56, 746, 162, 693, 555, 154, 446, 339, 324, 117, 954, 278, 533, 434, 509, 64, 33, 44, 43, 407, 853, 346, 721, 339, 378, 398, 762, 720, 910, 708, 510, 130, 435, 8, 256, 83]\n",
      "396.86\n",
      "339\n",
      "362.0\n",
      "8 991\n",
      "Variance : 83098.49020408164\n",
      "Standard Deviation : 288.2680873840905\n",
      "Quantile : [-237.75, 499.5, 1236.75]\n"
     ]
    }
   ],
   "source": [
    "d2 = np.random.randint(1, 1000 , 50).tolist()\n",
    "print(d2)\n",
    "\n",
    "print(st.mean(d2))\n",
    "print(st.mode(d2))\n",
    "print(st.median(d2))\n",
    "\n",
    "print(min(d2), max(d2))\n",
    "print(f\"Variance : {st.variance(d2)}\")\n",
    "print(f\"Standard Deviation : {st.stdev(d2)}\")\n",
    "print(f\"Quantile : {st.quantiles([min(d2), max(d2 )])}\")"
   ],
   "metadata": {
    "collapsed": false,
    "ExecuteTime": {
     "end_time": "2023-12-14T09:46:08.406516700Z",
     "start_time": "2023-12-14T09:46:08.335515700Z"
    }
   },
   "id": "4f465a9945715c"
  },
  {
   "cell_type": "code",
   "execution_count": 156,
   "outputs": [
    {
     "data": {
      "text/plain": "var     693.019934\nstd      26.325272\nmean    221.614035\nName: Weight, dtype: float64"
     },
     "metadata": {},
     "output_type": "display_data"
    },
    {
     "name": "stdout",
     "output_type": "stream",
     "text": [
      "count    456.000000\n",
      "mean     221.614035\n",
      "std       26.325272\n",
      "min      161.000000\n",
      "0%       161.000000\n",
      "20%      198.000000\n",
      "50%      220.000000\n",
      "60%      230.000000\n",
      "80%      245.000000\n",
      "100%     307.000000\n",
      "max      307.000000\n",
      "Name: Weight, dtype: float64\n"
     ]
    }
   ],
   "source": [
    "display(file1['Weight'].agg(['var', 'std', 'mean']))\n",
    "\n",
    "print(file1['Weight'].describe(percentiles=[0, .2, .6, .8, 1]))"
   ],
   "metadata": {
    "collapsed": false,
    "ExecuteTime": {
     "end_time": "2023-12-14T09:54:03.543099400Z",
     "start_time": "2023-12-14T09:54:03.492906800Z"
    }
   },
   "id": "375799cf116f119a"
  },
  {
   "cell_type": "code",
   "execution_count": 17,
   "outputs": [
    {
     "data": {
      "text/plain": "      Unnamed: 0  Number   Age  Weight      Salary\n0.25       114.0     5.0  24.0   200.0   1100602.0\n0.50       228.0    13.0  26.0   220.0   2869440.0\n0.75       342.0    25.0  30.0   240.0   6331404.0\n1.00       456.0    99.0  40.0   307.0  25000000.0",
      "text/html": "<div>\n<style scoped>\n    .dataframe tbody tr th:only-of-type {\n        vertical-align: middle;\n    }\n\n    .dataframe tbody tr th {\n        vertical-align: top;\n    }\n\n    .dataframe thead th {\n        text-align: right;\n    }\n</style>\n<table border=\"1\" class=\"dataframe\">\n  <thead>\n    <tr style=\"text-align: right;\">\n      <th></th>\n      <th>Unnamed: 0</th>\n      <th>Number</th>\n      <th>Age</th>\n      <th>Weight</th>\n      <th>Salary</th>\n    </tr>\n  </thead>\n  <tbody>\n    <tr>\n      <th>0.25</th>\n      <td>114.0</td>\n      <td>5.0</td>\n      <td>24.0</td>\n      <td>200.0</td>\n      <td>1100602.0</td>\n    </tr>\n    <tr>\n      <th>0.50</th>\n      <td>228.0</td>\n      <td>13.0</td>\n      <td>26.0</td>\n      <td>220.0</td>\n      <td>2869440.0</td>\n    </tr>\n    <tr>\n      <th>0.75</th>\n      <td>342.0</td>\n      <td>25.0</td>\n      <td>30.0</td>\n      <td>240.0</td>\n      <td>6331404.0</td>\n    </tr>\n    <tr>\n      <th>1.00</th>\n      <td>456.0</td>\n      <td>99.0</td>\n      <td>40.0</td>\n      <td>307.0</td>\n      <td>25000000.0</td>\n    </tr>\n  </tbody>\n</table>\n</div>"
     },
     "execution_count": 17,
     "metadata": {},
     "output_type": "execute_result"
    }
   ],
   "source": [
    "file1.quantile([0.25, 0.5, 0.75, 1],    numeric_only = True)"
   ],
   "metadata": {
    "collapsed": false,
    "ExecuteTime": {
     "end_time": "2023-12-14T10:52:54.715763Z",
     "start_time": "2023-12-14T10:52:54.608159600Z"
    }
   },
   "id": "1d540f89cfe99368"
  },
  {
   "cell_type": "code",
   "execution_count": 16,
   "outputs": [
    {
     "name": "stdout",
     "output_type": "stream",
     "text": [
      "5165780.6279677125\n",
      "4842684.105251642\n",
      "25000000.0\n",
      "30888.0\n",
      "457\n"
     ]
    }
   ],
   "source": [
    "print(file1.Salary.std())\n",
    "print(file1.Salary.mean())\n",
    "print(file1.Salary.max())\n",
    "print(file1.Salary.min())\n",
    "print(len(file1.Salary))"
   ],
   "metadata": {
    "collapsed": false,
    "ExecuteTime": {
     "end_time": "2023-12-14T10:51:28.215105500Z",
     "start_time": "2023-12-14T10:51:28.148173500Z"
    }
   },
   "id": "7ed35843661479c"
  },
  {
   "cell_type": "code",
   "execution_count": 11,
   "outputs": [
    {
     "name": "stdout",
     "output_type": "stream",
     "text": [
      "Coefficient of Variation : 16.34826988833942\n",
      "Coefficient of Variation : 106.6718480019312\n"
     ]
    }
   ],
   "source": [
    "print(f\"Coefficient of Variation : {(file1['Age'].std()/file1['Age'].mean()) * 100}\")\n",
    "print(f\"Coefficient of Variation : {(file1['Salary'].std()/file1['Salary'].mean()) * 100}\")"
   ],
   "metadata": {
    "collapsed": false,
    "ExecuteTime": {
     "end_time": "2023-12-14T10:47:10.214757500Z",
     "start_time": "2023-12-14T10:47:10.160209400Z"
    }
   },
   "id": "fececb47aa95a1a"
  },
  {
   "cell_type": "code",
   "execution_count": 24,
   "outputs": [
    {
     "name": "stdout",
     "output_type": "stream",
     "text": [
      "200.0 220.0 240.0\n",
      "0.09090909090909091\n"
     ]
    }
   ],
   "source": [
    "q1, q2, q3 = file1['Weight'].quantile([0.25, 0.5, 0.75])\n",
    "\n",
    "print(q1, q2, q3)\n",
    "print((q3 - q1)/(q3+q1))\n"
   ],
   "metadata": {
    "collapsed": false,
    "ExecuteTime": {
     "end_time": "2023-12-14T14:22:19.161981100Z",
     "start_time": "2023-12-14T14:22:19.134277600Z"
    }
   },
   "id": "bceaeeeab1d2e883"
  },
  {
   "cell_type": "code",
   "execution_count": 51,
   "outputs": [
    {
     "name": "stdout",
     "output_type": "stream",
     "text": [
      "Pearson's coefficient of Skewness : 0.057821038158582576\n",
      "0.11378823248895656\n",
      "Pearson's coefficient of Skewness : 0.17346311447574772\n",
      "0.11378823248895656\n"
     ]
    }
   ],
   "source": [
    "print(f\"Pearson's coefficient of Skewness : {(st.mean(file1.Weight) - st.mode(file1.Weight))/st.pstdev(file1.Weight)}\")\n",
    "print(file1['Weight'].skew())\n",
    "print(f\"Pearson's coefficient of Skewness : {(3 * (st.mean(file1.Weight) - st.median(file1.Weight)))/st.pstdev(file1.Weight)}\")\n",
    "print(file1['Weight'].skew())\n"
   ],
   "metadata": {
    "collapsed": false,
    "ExecuteTime": {
     "end_time": "2023-12-14T14:38:52.637406300Z",
     "start_time": "2023-12-14T14:38:52.559790500Z"
    }
   },
   "id": "ae182d56b50218ad"
  },
  {
   "cell_type": "code",
   "execution_count": 45,
   "outputs": [
    {
     "data": {
      "text/plain": "4842684.105251641"
     },
     "execution_count": 45,
     "metadata": {},
     "output_type": "execute_result"
    }
   ],
   "source": [
    "st.mean(file1['Salary'])"
   ],
   "metadata": {
    "collapsed": false,
    "ExecuteTime": {
     "end_time": "2023-12-14T14:28:32.133920700Z",
     "start_time": "2023-12-14T14:28:32.095511400Z"
    }
   },
   "id": "7ad6b19320c108d7"
  },
  {
   "cell_type": "code",
   "execution_count": 55,
   "outputs": [
    {
     "name": "stdout",
     "output_type": "stream",
     "text": [
      "1.1472069997508556\n",
      "1.5955114444581628\n"
     ]
    }
   ],
   "source": [
    "print((3*(st.mean(file1.Salary) - st.median(file1.Salary)))/st.pstdev(file1.Salary))\n",
    "print(file1.Salary.skew())"
   ],
   "metadata": {
    "collapsed": false,
    "ExecuteTime": {
     "end_time": "2023-12-14T14:45:45.422669100Z",
     "start_time": "2023-12-14T14:45:45.396506Z"
    }
   },
   "id": "416aaee444856435"
  },
  {
   "cell_type": "code",
   "execution_count": 78,
   "outputs": [
    {
     "name": "stdout",
     "output_type": "stream",
     "text": [
      "Unnamed: 0   -1.200000\n",
      "Number        4.364464\n",
      "Age          -0.051119\n",
      "Weight       -0.552546\n",
      "Salary        1.958173\n",
      "dtype: float64\n"
     ]
    }
   ],
   "source": [
    "print(file1.kurtosis(numeric_only=True))"
   ],
   "metadata": {
    "collapsed": false,
    "ExecuteTime": {
     "end_time": "2023-12-14T16:03:28.904544300Z",
     "start_time": "2023-12-14T16:03:28.860997200Z"
    }
   },
   "id": "e189111cae77a0b0"
  },
  {
   "cell_type": "code",
   "execution_count": 79,
   "outputs": [
    {
     "data": {
      "text/plain": "1.5955114444581628"
     },
     "execution_count": 79,
     "metadata": {},
     "output_type": "execute_result"
    }
   ],
   "source": [
    "file1.Salary.skew()"
   ],
   "metadata": {
    "collapsed": false,
    "ExecuteTime": {
     "end_time": "2023-12-14T16:04:01.689914800Z",
     "start_time": "2023-12-14T16:04:01.629620500Z"
    }
   },
   "id": "70fbaf64531dde9"
  },
  {
   "cell_type": "code",
   "execution_count": 88,
   "outputs": [],
   "source": [
    "import math"
   ],
   "metadata": {
    "collapsed": false,
    "ExecuteTime": {
     "end_time": "2023-12-14T16:05:53.947858700Z",
     "start_time": "2023-12-14T16:05:53.844269600Z"
    }
   },
   "id": "902bcc954be40d6f"
  },
  {
   "cell_type": "code",
   "execution_count": 157,
   "outputs": [],
   "source": [
    "file1['New_Salary'] = np.sqrt(file1['Salary'])"
   ],
   "metadata": {
    "collapsed": false,
    "ExecuteTime": {
     "end_time": "2023-12-15T05:17:02.097214Z",
     "start_time": "2023-12-15T05:17:02.003430300Z"
    }
   },
   "id": "577f503566fc675f"
  },
  {
   "cell_type": "code",
   "execution_count": 159,
   "outputs": [
    {
     "data": {
      "text/plain": "     Unnamed: 0           Name            Team  Number Position  Age  Height  \\\n0             0  Avery Bradley  Boston Celtics       0       PG   25  06-Feb   \n1             1    Jae Crowder  Boston Celtics      99       SF   25  06-Jun   \n2             2   John Holland  Boston Celtics      30       SG   27  06-May   \n3             3    R.J. Hunter  Boston Celtics      28       SG   22  06-May   \n4             4  Jonas Jerebko  Boston Celtics       8       PF   29  06-Oct   \n..          ...            ...             ...     ...      ...  ...     ...   \n452         452     Trey Lyles       Utah Jazz      41       PF   20  06-Oct   \n453         453   Shelvin Mack       Utah Jazz       8       PG   26  06-Mar   \n454         454      Raul Neto       Utah Jazz      25       PG   24  06-Jan   \n455         455   Tibor Pleiss       Utah Jazz      21        C   26  07-Mar   \n456         456    Jeff Withey       Utah Jazz      24        C   26     7-0   \n\n     Weight            College     Salary   New_Salary  \n0       180              Texas  7730337.0  2780.348359  \n1       235          Marquette  6796117.0  2606.936325  \n2       205  Boston University  4842684.1  2200.609938  \n3       185      Georgia State  1148640.0  1071.746239  \n4       231            Alabama  5000000.0  2236.067977  \n..      ...                ...        ...          ...  \n452     234           Kentucky  2239800.0  1496.596138  \n453     203             Butler  2433333.0  1559.914421  \n454     179            Alabama   900000.0   948.683298  \n455     256            Alabama  2900000.0  1702.938637  \n456     231             Kansas   947276.0   973.281049  \n\n[457 rows x 11 columns]",
      "text/html": "<div>\n<style scoped>\n    .dataframe tbody tr th:only-of-type {\n        vertical-align: middle;\n    }\n\n    .dataframe tbody tr th {\n        vertical-align: top;\n    }\n\n    .dataframe thead th {\n        text-align: right;\n    }\n</style>\n<table border=\"1\" class=\"dataframe\">\n  <thead>\n    <tr style=\"text-align: right;\">\n      <th></th>\n      <th>Unnamed: 0</th>\n      <th>Name</th>\n      <th>Team</th>\n      <th>Number</th>\n      <th>Position</th>\n      <th>Age</th>\n      <th>Height</th>\n      <th>Weight</th>\n      <th>College</th>\n      <th>Salary</th>\n      <th>New_Salary</th>\n    </tr>\n  </thead>\n  <tbody>\n    <tr>\n      <th>0</th>\n      <td>0</td>\n      <td>Avery Bradley</td>\n      <td>Boston Celtics</td>\n      <td>0</td>\n      <td>PG</td>\n      <td>25</td>\n      <td>06-Feb</td>\n      <td>180</td>\n      <td>Texas</td>\n      <td>7730337.0</td>\n      <td>2780.348359</td>\n    </tr>\n    <tr>\n      <th>1</th>\n      <td>1</td>\n      <td>Jae Crowder</td>\n      <td>Boston Celtics</td>\n      <td>99</td>\n      <td>SF</td>\n      <td>25</td>\n      <td>06-Jun</td>\n      <td>235</td>\n      <td>Marquette</td>\n      <td>6796117.0</td>\n      <td>2606.936325</td>\n    </tr>\n    <tr>\n      <th>2</th>\n      <td>2</td>\n      <td>John Holland</td>\n      <td>Boston Celtics</td>\n      <td>30</td>\n      <td>SG</td>\n      <td>27</td>\n      <td>06-May</td>\n      <td>205</td>\n      <td>Boston University</td>\n      <td>4842684.1</td>\n      <td>2200.609938</td>\n    </tr>\n    <tr>\n      <th>3</th>\n      <td>3</td>\n      <td>R.J. Hunter</td>\n      <td>Boston Celtics</td>\n      <td>28</td>\n      <td>SG</td>\n      <td>22</td>\n      <td>06-May</td>\n      <td>185</td>\n      <td>Georgia State</td>\n      <td>1148640.0</td>\n      <td>1071.746239</td>\n    </tr>\n    <tr>\n      <th>4</th>\n      <td>4</td>\n      <td>Jonas Jerebko</td>\n      <td>Boston Celtics</td>\n      <td>8</td>\n      <td>PF</td>\n      <td>29</td>\n      <td>06-Oct</td>\n      <td>231</td>\n      <td>Alabama</td>\n      <td>5000000.0</td>\n      <td>2236.067977</td>\n    </tr>\n    <tr>\n      <th>...</th>\n      <td>...</td>\n      <td>...</td>\n      <td>...</td>\n      <td>...</td>\n      <td>...</td>\n      <td>...</td>\n      <td>...</td>\n      <td>...</td>\n      <td>...</td>\n      <td>...</td>\n      <td>...</td>\n    </tr>\n    <tr>\n      <th>452</th>\n      <td>452</td>\n      <td>Trey Lyles</td>\n      <td>Utah Jazz</td>\n      <td>41</td>\n      <td>PF</td>\n      <td>20</td>\n      <td>06-Oct</td>\n      <td>234</td>\n      <td>Kentucky</td>\n      <td>2239800.0</td>\n      <td>1496.596138</td>\n    </tr>\n    <tr>\n      <th>453</th>\n      <td>453</td>\n      <td>Shelvin Mack</td>\n      <td>Utah Jazz</td>\n      <td>8</td>\n      <td>PG</td>\n      <td>26</td>\n      <td>06-Mar</td>\n      <td>203</td>\n      <td>Butler</td>\n      <td>2433333.0</td>\n      <td>1559.914421</td>\n    </tr>\n    <tr>\n      <th>454</th>\n      <td>454</td>\n      <td>Raul Neto</td>\n      <td>Utah Jazz</td>\n      <td>25</td>\n      <td>PG</td>\n      <td>24</td>\n      <td>06-Jan</td>\n      <td>179</td>\n      <td>Alabama</td>\n      <td>900000.0</td>\n      <td>948.683298</td>\n    </tr>\n    <tr>\n      <th>455</th>\n      <td>455</td>\n      <td>Tibor Pleiss</td>\n      <td>Utah Jazz</td>\n      <td>21</td>\n      <td>C</td>\n      <td>26</td>\n      <td>07-Mar</td>\n      <td>256</td>\n      <td>Alabama</td>\n      <td>2900000.0</td>\n      <td>1702.938637</td>\n    </tr>\n    <tr>\n      <th>456</th>\n      <td>456</td>\n      <td>Jeff Withey</td>\n      <td>Utah Jazz</td>\n      <td>24</td>\n      <td>C</td>\n      <td>26</td>\n      <td>7-0</td>\n      <td>231</td>\n      <td>Kansas</td>\n      <td>947276.0</td>\n      <td>973.281049</td>\n    </tr>\n  </tbody>\n</table>\n<p>457 rows × 11 columns</p>\n</div>"
     },
     "execution_count": 159,
     "metadata": {},
     "output_type": "execute_result"
    }
   ],
   "source": [
    "file1"
   ],
   "metadata": {
    "collapsed": false,
    "ExecuteTime": {
     "end_time": "2023-12-15T05:17:08.889191200Z",
     "start_time": "2023-12-15T05:17:08.805083300Z"
    }
   },
   "id": "bebfefa15197ca18"
  },
  {
   "cell_type": "code",
   "execution_count": 158,
   "outputs": [
    {
     "data": {
      "text/plain": "0.793010597482046"
     },
     "execution_count": 158,
     "metadata": {},
     "output_type": "execute_result"
    }
   ],
   "source": [
    "file1['New_Salary'].skew()"
   ],
   "metadata": {
    "collapsed": false,
    "ExecuteTime": {
     "end_time": "2023-12-15T05:17:05.959466400Z",
     "start_time": "2023-12-15T05:17:05.901575800Z"
    }
   },
   "id": "7249c0ede5524a17"
  },
  {
   "cell_type": "code",
   "execution_count": 107,
   "outputs": [
    {
     "data": {
      "text/plain": "<Figure size 640x480 with 1 Axes>",
      "image/png": "[encoded data removed]"
     },
     "metadata": {},
     "output_type": "display_data"
    }
   ],
   "source": [
    "plt.boxplot(file1['Salary'])\n",
    "plt.show()"
   ],
   "metadata": {
    "collapsed": false,
    "ExecuteTime": {
     "end_time": "2023-12-14T16:38:23.788749400Z",
     "start_time": "2023-12-14T16:38:23.494650200Z"
    }
   },
   "id": "70f4a2dd99c3b47f"
  },
  {
   "cell_type": "code",
   "execution_count": 134,
   "outputs": [],
   "source": [
    "import seaborn as sns"
   ],
   "metadata": {
    "collapsed": false,
    "ExecuteTime": {
     "end_time": "2023-12-14T17:06:17.143577Z",
     "start_time": "2023-12-14T17:06:13.303328400Z"
    }
   },
   "id": "81f574eec13479b0"
  },
  {
   "cell_type": "code",
   "execution_count": 135,
   "outputs": [
    {
     "data": {
      "text/plain": "<Axes: >"
     },
     "execution_count": 135,
     "metadata": {},
     "output_type": "execute_result"
    },
    {
     "data": {
      "text/plain": "<Figure size 640x480 with 1 Axes>",
      "image/png": "[encoded data removed]"
     },
     "metadata": {},
     "output_type": "display_data"
    }
   ],
   "source": [
    "sns.boxplot(file1['Salary'])"
   ],
   "metadata": {
    "collapsed": false,
    "ExecuteTime": {
     "end_time": "2023-12-14T17:06:29.393111400Z",
     "start_time": "2023-12-14T17:06:29.095135Z"
    }
   },
   "id": "953ed9624a96c6cd"
  },
  {
   "cell_type": "code",
   "execution_count": 123,
   "outputs": [
    {
     "data": {
      "text/plain": "Unnamed: 0    0.000000\nNumber        1.668386\nAge           0.626349\nWeight        0.113788\nSalary        1.595511\nNew_Salary   -0.450096\ndtype: float64"
     },
     "execution_count": 123,
     "metadata": {},
     "output_type": "execute_result"
    }
   ],
   "source": [
    "file1.skew(numeric_only = True)"
   ],
   "metadata": {
    "collapsed": false,
    "ExecuteTime": {
     "end_time": "2023-12-14T16:53:04.590401600Z",
     "start_time": "2023-12-14T16:53:04.521299200Z"
    }
   },
   "id": "d65f166ea1fdee4"
  },
  {
   "cell_type": "code",
   "execution_count": null,
   "outputs": [],
   "source": [
    "file1"
   ],
   "metadata": {
    "collapsed": false
   },
   "id": "c0aeec036cdd0c32"
  },
  {
   "cell_type": "code",
   "execution_count": 110,
   "outputs": [
    {
     "name": "stdout",
     "output_type": "stream",
     "text": [
      "5230802.0\n",
      "1100602.0 2869440.0 6331404.0\n"
     ]
    }
   ],
   "source": [
    "q1, q2, q3 = file1['Salary'].quantile([0.25, 0.5, 0.75])\n",
    "\n",
    "IQR = q3 - q1\n",
    "\n",
    "print(IQR)\n",
    "print(q1, q2, q3)"
   ],
   "metadata": {
    "collapsed": false,
    "ExecuteTime": {
     "end_time": "2023-12-14T16:43:11.708549800Z",
     "start_time": "2023-12-14T16:43:11.654035100Z"
    }
   },
   "id": "771c5ff57631497f"
  },
  {
   "cell_type": "code",
   "execution_count": 112,
   "outputs": [
    {
     "name": "stdout",
     "output_type": "stream",
     "text": [
      "-6745601.0\n",
      "14177607.0\n"
     ]
    }
   ],
   "source": [
    "lower_bound = q1 - (1.5*IQR)\n",
    "upper_bound = q3 + (1.5*IQR)\n",
    "\n",
    "print(lower_bound)\n",
    "print(upper_bound)"
   ],
   "metadata": {
    "collapsed": false,
    "ExecuteTime": {
     "end_time": "2023-12-14T16:45:32.935203500Z",
     "start_time": "2023-12-14T16:45:32.857048800Z"
    }
   },
   "id": "77acbfef0febf78b"
  },
  {
   "cell_type": "code",
   "execution_count": 129,
   "outputs": [],
   "source": [
    "f_data = file1[(file1['Salary'] > lower_bound) & (file1['Salary'] < upper_bound)]"
   ],
   "metadata": {
    "collapsed": false,
    "ExecuteTime": {
     "end_time": "2023-12-14T16:55:37.537825Z",
     "start_time": "2023-12-14T16:55:37.371651100Z"
    }
   },
   "id": "cf51531d0896beee"
  },
  {
   "cell_type": "code",
   "execution_count": 130,
   "outputs": [
    {
     "data": {
      "text/plain": "(420, 11)"
     },
     "execution_count": 130,
     "metadata": {},
     "output_type": "execute_result"
    }
   ],
   "source": [
    "f_data.shape"
   ],
   "metadata": {
    "collapsed": false,
    "ExecuteTime": {
     "end_time": "2023-12-14T16:55:40.568419300Z",
     "start_time": "2023-12-14T16:55:40.515324500Z"
    }
   },
   "id": "5c65994711114c79"
  },
  {
   "cell_type": "code",
   "execution_count": 136,
   "outputs": [
    {
     "data": {
      "text/plain": "<Axes: >"
     },
     "execution_count": 136,
     "metadata": {},
     "output_type": "execute_result"
    },
    {
     "data": {
      "text/plain": "<Figure size 640x480 with 1 Axes>",
      "image/png": "[encoded data removed]"
     },
     "metadata": {},
     "output_type": "display_data"
    }
   ],
   "source": [
    "sns.boxplot(f_data['Salary'])"
   ],
   "metadata": {
    "collapsed": false,
    "ExecuteTime": {
     "end_time": "2023-12-14T17:07:04.413618600Z",
     "start_time": "2023-12-14T17:07:04.095329Z"
    }
   },
   "id": "d05481e3bb474bbf"
  },
  {
   "cell_type": "code",
   "execution_count": 133,
   "outputs": [
    {
     "data": {
      "text/plain": "(457, 11)"
     },
     "execution_count": 133,
     "metadata": {},
     "output_type": "execute_result"
    }
   ],
   "source": [
    "file1.shape"
   ],
   "metadata": {
    "collapsed": false,
    "ExecuteTime": {
     "end_time": "2023-12-14T17:04:23.671445500Z",
     "start_time": "2023-12-14T17:04:23.562623800Z"
    }
   },
   "id": "67a960c8f1ac4189"
  },
  {
   "cell_type": "code",
   "execution_count": 131,
   "outputs": [
    {
     "data": {
      "text/plain": "Unnamed: 0   -0.016793\nNumber        1.648927\nAge           0.641541\nWeight        0.150165\nSalary        1.312387\nNew_Salary   -0.627630\ndtype: float64"
     },
     "execution_count": 131,
     "metadata": {},
     "output_type": "execute_result"
    }
   ],
   "source": [
    "f_data.skew(numeric_only=True)"
   ],
   "metadata": {
    "collapsed": false,
    "ExecuteTime": {
     "end_time": "2023-12-14T16:55:43.229146300Z",
     "start_time": "2023-12-14T16:55:43.175611500Z"
    }
   },
   "id": "eaa1ee7f0ef0f0c6"
  },
  {
   "cell_type": "code",
   "execution_count": 132,
   "outputs": [
    {
     "data": {
      "text/plain": "       Unnamed: 0      Number         Age      Weight        Salary  \\\ncount  420.000000  420.000000  420.000000  420.000000  4.200000e+02   \nmean   228.397619   18.030952   26.866667  220.630952  3.687649e+06   \nstd    133.588266   16.329732    4.495698   26.321756  3.439285e+06   \nmin      0.000000    0.000000   19.000000  161.000000  3.088800e+04   \n25%    113.750000    5.000000   23.000000  200.000000  1.000000e+06   \n50%    229.500000   13.000000   26.000000  220.000000  2.500000e+06   \n75%    345.250000   26.000000   30.000000  240.000000  5.037780e+06   \nmax    456.000000   99.000000   40.000000  307.000000  1.400000e+07   \n\n       New_Salary  \ncount  420.000000  \nmean     6.353993  \nstd      0.478893  \nmin      4.489790  \n25%      6.000000  \n50%      6.397940  \n75%      6.702227  \nmax      7.146128  ",
      "text/html": "<div>\n<style scoped>\n    .dataframe tbody tr th:only-of-type {\n        vertical-align: middle;\n    }\n\n    .dataframe tbody tr th {\n        vertical-align: top;\n    }\n\n    .dataframe thead th {\n        text-align: right;\n    }\n</style>\n<table border=\"1\" class=\"dataframe\">\n  <thead>\n    <tr style=\"text-align: right;\">\n      <th></th>\n      <th>Unnamed: 0</th>\n      <th>Number</th>\n      <th>Age</th>\n      <th>Weight</th>\n      <th>Salary</th>\n      <th>New_Salary</th>\n    </tr>\n  </thead>\n  <tbody>\n    <tr>\n      <th>count</th>\n      <td>420.000000</td>\n      <td>420.000000</td>\n      <td>420.000000</td>\n      <td>420.000000</td>\n      <td>4.200000e+02</td>\n      <td>420.000000</td>\n    </tr>\n    <tr>\n      <th>mean</th>\n      <td>228.397619</td>\n      <td>18.030952</td>\n      <td>26.866667</td>\n      <td>220.630952</td>\n      <td>3.687649e+06</td>\n      <td>6.353993</td>\n    </tr>\n    <tr>\n      <th>std</th>\n      <td>133.588266</td>\n      <td>16.329732</td>\n      <td>4.495698</td>\n      <td>26.321756</td>\n      <td>3.439285e+06</td>\n      <td>0.478893</td>\n    </tr>\n    <tr>\n      <th>min</th>\n      <td>0.000000</td>\n      <td>0.000000</td>\n      <td>19.000000</td>\n      <td>161.000000</td>\n      <td>3.088800e+04</td>\n      <td>4.489790</td>\n    </tr>\n    <tr>\n      <th>25%</th>\n      <td>113.750000</td>\n      <td>5.000000</td>\n      <td>23.000000</td>\n      <td>200.000000</td>\n      <td>1.000000e+06</td>\n      <td>6.000000</td>\n    </tr>\n    <tr>\n      <th>50%</th>\n      <td>229.500000</td>\n      <td>13.000000</td>\n      <td>26.000000</td>\n      <td>220.000000</td>\n      <td>2.500000e+06</td>\n      <td>6.397940</td>\n    </tr>\n    <tr>\n      <th>75%</th>\n      <td>345.250000</td>\n      <td>26.000000</td>\n      <td>30.000000</td>\n      <td>240.000000</td>\n      <td>5.037780e+06</td>\n      <td>6.702227</td>\n    </tr>\n    <tr>\n      <th>max</th>\n      <td>456.000000</td>\n      <td>99.000000</td>\n      <td>40.000000</td>\n      <td>307.000000</td>\n      <td>1.400000e+07</td>\n      <td>7.146128</td>\n    </tr>\n  </tbody>\n</table>\n</div>"
     },
     "execution_count": 132,
     "metadata": {},
     "output_type": "execute_result"
    }
   ],
   "source": [
    "f_data.describe()"
   ],
   "metadata": {
    "collapsed": false,
    "ExecuteTime": {
     "end_time": "2023-12-14T16:55:59.569799400Z",
     "start_time": "2023-12-14T16:55:59.485275700Z"
    }
   },
   "id": "3d12d1f2cac4e963"
  },
  {
   "cell_type": "code",
   "execution_count": 140,
   "outputs": [],
   "source": [
    "q1 = np.quantile(f_data['Salary'], 0.25)\n",
    "q3 = np.quantile(f_data['Salary'], 0.75)"
   ],
   "metadata": {
    "collapsed": false,
    "ExecuteTime": {
     "end_time": "2023-12-14T17:09:57.909284600Z",
     "start_time": "2023-12-14T17:09:57.855506900Z"
    }
   },
   "id": "d34a2f8277b0fe21"
  },
  {
   "cell_type": "code",
   "execution_count": 141,
   "outputs": [
    {
     "name": "stdout",
     "output_type": "stream",
     "text": [
      "1000000.0 5037780.0\n"
     ]
    }
   ],
   "source": [
    "print(q1, q3)"
   ],
   "metadata": {
    "collapsed": false,
    "ExecuteTime": {
     "end_time": "2023-12-14T17:10:06.763033600Z",
     "start_time": "2023-12-14T17:10:06.684800400Z"
    }
   },
   "id": "2d0f304133e54544"
  },
  {
   "cell_type": "code",
   "execution_count": 144,
   "outputs": [],
   "source": [
    "IQR2 = q3 - q1\n",
    "\n",
    "l_bound = q1 - (1.5*IQR2)\n",
    "u_bound = q3 + (1.5*IQR2)\n",
    "\n",
    "\n",
    "f_data2 = f_data[(f_data['Salary'] > l_bound) & (f_data['Salary'] < u_bound)]\n"
   ],
   "metadata": {
    "collapsed": false,
    "ExecuteTime": {
     "end_time": "2023-12-14T17:12:12.645216900Z",
     "start_time": "2023-12-14T17:12:12.565946700Z"
    }
   },
   "id": "6113ccaa41505c1c"
  },
  {
   "cell_type": "code",
   "execution_count": 145,
   "outputs": [
    {
     "name": "stdout",
     "output_type": "stream",
     "text": [
      "(392, 11)\n"
     ]
    }
   ],
   "source": [
    "print(f_data2.shape)"
   ],
   "metadata": {
    "collapsed": false,
    "ExecuteTime": {
     "end_time": "2023-12-14T17:12:22.866272400Z",
     "start_time": "2023-12-14T17:12:22.679161700Z"
    }
   },
   "id": "d59b097cf59ab985"
  },
  {
   "cell_type": "code",
   "execution_count": 160,
   "outputs": [
    {
     "data": {
      "text/plain": "<Axes: >"
     },
     "execution_count": 160,
     "metadata": {},
     "output_type": "execute_result"
    },
    {
     "data": {
      "text/plain": "<Figure size 640x480 with 1 Axes>",
      "image/png": "[encoded data removed]"
     },
     "metadata": {},
     "output_type": "display_data"
    }
   ],
   "source": [
    "sns.boxplot(f_data2['Salary'])"
   ],
   "metadata": {
    "collapsed": false,
    "ExecuteTime": {
     "end_time": "2023-12-15T05:17:52.404861600Z",
     "start_time": "2023-12-15T05:17:52.020183800Z"
    }
   },
   "id": "ac9947eab9aabcb2"
  },
  {
   "cell_type": "code",
   "execution_count": 161,
   "outputs": [
    {
     "data": {
      "text/plain": "<Axes: >"
     },
     "execution_count": 161,
     "metadata": {},
     "output_type": "execute_result"
    },
    {
     "data": {
      "text/plain": "<Figure size 640x480 with 1 Axes>",
      "image/png": "[encoded data removed]"
     },
     "metadata": {},
     "output_type": "display_data"
    }
   ],
   "source": [
    "sns.boxplot(file1['New_Salary'])"
   ],
   "metadata": {
    "collapsed": false,
    "ExecuteTime": {
     "end_time": "2023-12-15T05:18:03.245326200Z",
     "start_time": "2023-12-15T05:18:02.789443500Z"
    }
   },
   "id": "7c0066e9a8d0d3b4"
  },
  {
   "cell_type": "code",
   "execution_count": 162,
   "outputs": [
    {
     "data": {
      "text/plain": "0      2780.348359\n1      2606.936325\n2      2200.609938\n3      1071.746239\n4      2236.067977\n          ...     \n452    1496.596138\n453    1559.914421\n454     948.683298\n455    1702.938637\n456     973.281049\nName: New_Salary, Length: 457, dtype: float64"
     },
     "execution_count": 162,
     "metadata": {},
     "output_type": "execute_result"
    }
   ],
   "source": [
    "file1['New_Salary']"
   ],
   "metadata": {
    "collapsed": false,
    "ExecuteTime": {
     "end_time": "2023-12-15T05:18:09.074639600Z",
     "start_time": "2023-12-15T05:18:09.034174900Z"
    }
   },
   "id": "1e2a8e4caad51027"
  },
  {
   "cell_type": "code",
   "execution_count": 185,
   "outputs": [
    {
     "data": {
      "text/plain": "2.8284271247461903"
     },
     "execution_count": 185,
     "metadata": {},
     "output_type": "execute_result"
    }
   ],
   "source": [
    "np.std([2, 4, 6, 8, 10])"
   ],
   "metadata": {
    "collapsed": false,
    "ExecuteTime": {
     "end_time": "2023-12-15T06:13:12.608393100Z",
     "start_time": "2023-12-15T06:13:12.560983100Z"
    }
   },
   "id": "4e9ad90bc6524177"
  },
  {
   "cell_type": "markdown",
   "source": [
    "## Probability Distribution"
   ],
   "metadata": {
    "collapsed": false
   },
   "id": "53e1255256e1108d"
  },
  {
   "cell_type": "markdown",
   "source": [
    "#### Binomial Distribution"
   ],
   "metadata": {
    "collapsed": false
   },
   "id": "148c950a11568d96"
  },
  {
   "cell_type": "code",
   "execution_count": 197,
   "outputs": [],
   "source": [
    "import pandas as pd\n",
    "from scipy.stats import binom\n",
    "from scipy.stats import uniform"
   ],
   "metadata": {
    "collapsed": false,
    "ExecuteTime": {
     "end_time": "2023-12-15T07:06:13.763307800Z",
     "start_time": "2023-12-15T07:06:13.700773900Z"
    }
   },
   "id": "e8e0176b2e68a0b0"
  },
  {
   "cell_type": "code",
   "execution_count": 202,
   "outputs": [],
   "source": [
    "number_questions = 20\n",
    "p = 1/4\n",
    "q = 3/4"
   ],
   "metadata": {
    "collapsed": false,
    "ExecuteTime": {
     "end_time": "2023-12-15T07:07:06.903686100Z",
     "start_time": "2023-12-15T07:07:06.841173200Z"
    }
   },
   "id": "b57c5cbd8425ad1a"
  },
  {
   "cell_type": "code",
   "execution_count": 203,
   "outputs": [
    {
     "data": {
      "text/plain": "0.7857819476012082"
     },
     "execution_count": 203,
     "metadata": {},
     "output_type": "execute_result"
    }
   ],
   "source": [
    "binom.cdf(6, number_questions, p)"
   ],
   "metadata": {
    "collapsed": false,
    "ExecuteTime": {
     "end_time": "2023-12-15T07:07:08.821068400Z",
     "start_time": "2023-12-15T07:07:08.780992400Z"
    }
   },
   "id": "5b2c6c5942fc600b"
  },
  {
   "cell_type": "code",
   "execution_count": 205,
   "outputs": [],
   "source": [
    "probability = lambda x: binom.pmf(x, number_questions, p)"
   ],
   "metadata": {
    "collapsed": false,
    "ExecuteTime": {
     "end_time": "2023-12-15T07:08:57.546401700Z",
     "start_time": "2023-12-15T07:08:57.483864500Z"
    }
   },
   "id": "96d2f6ee000e514c"
  },
  {
   "cell_type": "code",
   "execution_count": 206,
   "outputs": [],
   "source": [
    "bdf1 = pd.DataFrame(range(0, 21), columns=['Number of Success'])"
   ],
   "metadata": {
    "collapsed": false,
    "ExecuteTime": {
     "end_time": "2023-12-15T07:09:45.662080400Z",
     "start_time": "2023-12-15T07:09:45.594041Z"
    }
   },
   "id": "6914a558ac232f29"
  },
  {
   "cell_type": "code",
   "execution_count": 207,
   "outputs": [
    {
     "data": {
      "text/plain": "    Number of Success\n0                   0\n1                   1\n2                   2\n3                   3\n4                   4\n5                   5\n6                   6\n7                   7\n8                   8\n9                   9\n10                 10\n11                 11\n12                 12\n13                 13\n14                 14\n15                 15\n16                 16\n17                 17\n18                 18\n19                 19\n20                 20",
      "text/html": "<div>\n<style scoped>\n    .dataframe tbody tr th:only-of-type {\n        vertical-align: middle;\n    }\n\n    .dataframe tbody tr th {\n        vertical-align: top;\n    }\n\n    .dataframe thead th {\n        text-align: right;\n    }\n</style>\n<table border=\"1\" class=\"dataframe\">\n  <thead>\n    <tr style=\"text-align: right;\">\n      <th></th>\n      <th>Number of Success</th>\n    </tr>\n  </thead>\n  <tbody>\n    <tr>\n      <th>0</th>\n      <td>0</td>\n    </tr>\n    <tr>\n      <th>1</th>\n      <td>1</td>\n    </tr>\n    <tr>\n      <th>2</th>\n      <td>2</td>\n    </tr>\n    <tr>\n      <th>3</th>\n      <td>3</td>\n    </tr>\n    <tr>\n      <th>4</th>\n      <td>4</td>\n    </tr>\n    <tr>\n      <th>5</th>\n      <td>5</td>\n    </tr>\n    <tr>\n      <th>6</th>\n      <td>6</td>\n    </tr>\n    <tr>\n      <th>7</th>\n      <td>7</td>\n    </tr>\n    <tr>\n      <th>8</th>\n      <td>8</td>\n    </tr>\n    <tr>\n      <th>9</th>\n      <td>9</td>\n    </tr>\n    <tr>\n      <th>10</th>\n      <td>10</td>\n    </tr>\n    <tr>\n      <th>11</th>\n      <td>11</td>\n    </tr>\n    <tr>\n      <th>12</th>\n      <td>12</td>\n    </tr>\n    <tr>\n      <th>13</th>\n      <td>13</td>\n    </tr>\n    <tr>\n      <th>14</th>\n      <td>14</td>\n    </tr>\n    <tr>\n      <th>15</th>\n      <td>15</td>\n    </tr>\n    <tr>\n      <th>16</th>\n      <td>16</td>\n    </tr>\n    <tr>\n      <th>17</th>\n      <td>17</td>\n    </tr>\n    <tr>\n      <th>18</th>\n      <td>18</td>\n    </tr>\n    <tr>\n      <th>19</th>\n      <td>19</td>\n    </tr>\n    <tr>\n      <th>20</th>\n      <td>20</td>\n    </tr>\n  </tbody>\n</table>\n</div>"
     },
     "execution_count": 207,
     "metadata": {},
     "output_type": "execute_result"
    }
   ],
   "source": [
    "bdf1"
   ],
   "metadata": {
    "collapsed": false,
    "ExecuteTime": {
     "end_time": "2023-12-15T07:09:53.030072800Z",
     "start_time": "2023-12-15T07:09:52.955220600Z"
    }
   },
   "id": "eac47402c42b28f5"
  },
  {
   "cell_type": "code",
   "execution_count": 208,
   "outputs": [],
   "source": [
    "bdf1['Probability'] = bdf1['Number of Success'].apply(probability)"
   ],
   "metadata": {
    "collapsed": false,
    "ExecuteTime": {
     "end_time": "2023-12-15T07:10:39.423506200Z",
     "start_time": "2023-12-15T07:10:39.325709600Z"
    }
   },
   "id": "e6603836b3adb9d2"
  },
  {
   "cell_type": "code",
   "execution_count": 210,
   "outputs": [
    {
     "data": {
      "text/plain": "    Number of Success   Probability\n0                   0  3.171212e-03\n1                   1  2.114141e-02\n2                   2  6.694781e-02\n3                   3  1.338956e-01\n4                   4  1.896855e-01\n5                   5  2.023312e-01\n6                   6  1.686093e-01\n7                   7  1.124062e-01\n8                   8  6.088669e-02\n9                   9  2.706075e-02\n10                 10  9.922275e-03\n11                 11  3.006750e-03\n12                 12  7.516875e-04\n13                 13  1.541923e-04\n14                 14  2.569872e-05\n15                 15  3.426496e-06\n16                 16  3.569266e-07\n17                 17  2.799425e-08\n18                 18  1.555236e-09\n19                 19  5.456968e-11\n20                 20  9.094947e-13",
      "text/html": "<div>\n<style scoped>\n    .dataframe tbody tr th:only-of-type {\n        vertical-align: middle;\n    }\n\n    .dataframe tbody tr th {\n        vertical-align: top;\n    }\n\n    .dataframe thead th {\n        text-align: right;\n    }\n</style>\n<table border=\"1\" class=\"dataframe\">\n  <thead>\n    <tr style=\"text-align: right;\">\n      <th></th>\n      <th>Number of Success</th>\n      <th>Probability</th>\n    </tr>\n  </thead>\n  <tbody>\n    <tr>\n      <th>0</th>\n      <td>0</td>\n      <td>3.171212e-03</td>\n    </tr>\n    <tr>\n      <th>1</th>\n      <td>1</td>\n      <td>2.114141e-02</td>\n    </tr>\n    <tr>\n      <th>2</th>\n      <td>2</td>\n      <td>6.694781e-02</td>\n    </tr>\n    <tr>\n      <th>3</th>\n      <td>3</td>\n      <td>1.338956e-01</td>\n    </tr>\n    <tr>\n      <th>4</th>\n      <td>4</td>\n      <td>1.896855e-01</td>\n    </tr>\n    <tr>\n      <th>5</th>\n      <td>5</td>\n      <td>2.023312e-01</td>\n    </tr>\n    <tr>\n      <th>6</th>\n      <td>6</td>\n      <td>1.686093e-01</td>\n    </tr>\n    <tr>\n      <th>7</th>\n      <td>7</td>\n      <td>1.124062e-01</td>\n    </tr>\n    <tr>\n      <th>8</th>\n      <td>8</td>\n      <td>6.088669e-02</td>\n    </tr>\n    <tr>\n      <th>9</th>\n      <td>9</td>\n      <td>2.706075e-02</td>\n    </tr>\n    <tr>\n      <th>10</th>\n      <td>10</td>\n      <td>9.922275e-03</td>\n    </tr>\n    <tr>\n      <th>11</th>\n      <td>11</td>\n      <td>3.006750e-03</td>\n    </tr>\n    <tr>\n      <th>12</th>\n      <td>12</td>\n      <td>7.516875e-04</td>\n    </tr>\n    <tr>\n      <th>13</th>\n      <td>13</td>\n      <td>1.541923e-04</td>\n    </tr>\n    <tr>\n      <th>14</th>\n      <td>14</td>\n      <td>2.569872e-05</td>\n    </tr>\n    <tr>\n      <th>15</th>\n      <td>15</td>\n      <td>3.426496e-06</td>\n    </tr>\n    <tr>\n      <th>16</th>\n      <td>16</td>\n      <td>3.569266e-07</td>\n    </tr>\n    <tr>\n      <th>17</th>\n      <td>17</td>\n      <td>2.799425e-08</td>\n    </tr>\n    <tr>\n      <th>18</th>\n      <td>18</td>\n      <td>1.555236e-09</td>\n    </tr>\n    <tr>\n      <th>19</th>\n      <td>19</td>\n      <td>5.456968e-11</td>\n    </tr>\n    <tr>\n      <th>20</th>\n      <td>20</td>\n      <td>9.094947e-13</td>\n    </tr>\n  </tbody>\n</table>\n</div>"
     },
     "metadata": {},
     "output_type": "display_data"
    }
   ],
   "source": [
    "display(bdf1)"
   ],
   "metadata": {
    "collapsed": false,
    "ExecuteTime": {
     "end_time": "2023-12-15T07:10:59.019307600Z",
     "start_time": "2023-12-15T07:10:58.922351200Z"
    }
   },
   "id": "fbe6ef4a2225e61d"
  },
  {
   "cell_type": "code",
   "execution_count": 214,
   "outputs": [
    {
     "data": {
      "text/plain": "<Axes: xlabel='Number of Success'>"
     },
     "execution_count": 214,
     "metadata": {},
     "output_type": "execute_result"
    },
    {
     "data": {
      "text/plain": "<Figure size 640x480 with 1 Axes>",
      "image/png": "[encoded data removed]"
     },
     "metadata": {},
     "output_type": "display_data"
    }
   ],
   "source": [
    "bdf1.plot(x = 'Number of Success', y = 'Probability' ,kind = 'bar')"
   ],
   "metadata": {
    "collapsed": false,
    "ExecuteTime": {
     "end_time": "2023-12-15T07:14:09.007500100Z",
     "start_time": "2023-12-15T07:14:07.534360100Z"
    }
   },
   "id": "c60459626aa96518"
  },
  {
   "cell_type": "markdown",
   "source": [
    "#### Poisson Distribution"
   ],
   "metadata": {
    "collapsed": false
   },
   "id": "b07f5e5ae0db9fe6"
  },
  {
   "cell_type": "code",
   "execution_count": 215,
   "outputs": [],
   "source": [
    "from scipy.stats import poisson"
   ],
   "metadata": {
    "collapsed": false,
    "ExecuteTime": {
     "end_time": "2023-12-15T07:22:08.859028600Z",
     "start_time": "2023-12-15T07:22:08.792214Z"
    }
   },
   "id": "fc9e0cc93eefbfc4"
  },
  {
   "cell_type": "code",
   "execution_count": 267,
   "outputs": [
    {
     "data": {
      "text/plain": "0.03961428097733651"
     },
     "execution_count": 267,
     "metadata": {},
     "output_type": "execute_result"
    }
   ],
   "source": [
    "poisson.pmf(101, 100.5)"
   ],
   "metadata": {
    "collapsed": false,
    "ExecuteTime": {
     "end_time": "2023-12-15T07:41:41.455353700Z",
     "start_time": "2023-12-15T07:41:41.348343Z"
    }
   },
   "id": "1e98564c32a62b6c"
  },
  {
   "cell_type": "markdown",
   "source": [
    "#### Exponential Distribution"
   ],
   "metadata": {
    "collapsed": false
   },
   "id": "f43fcb5c20ffc00f"
  },
  {
   "cell_type": "code",
   "execution_count": 269,
   "outputs": [],
   "source": [
    "from scipy.stats import expon"
   ],
   "metadata": {
    "collapsed": false,
    "ExecuteTime": {
     "end_time": "2023-12-15T08:12:14.118449100Z",
     "start_time": "2023-12-15T08:12:14.060544Z"
    }
   },
   "id": "a6f4b4c14c3cd48a"
  },
  {
   "cell_type": "code",
   "execution_count": 276,
   "outputs": [
    {
     "data": {
      "text/plain": "0.17113903967753066"
     },
     "execution_count": 276,
     "metadata": {},
     "output_type": "execute_result"
    }
   ],
   "source": [
    "expon.pdf(x=2, scale = 3)"
   ],
   "metadata": {
    "collapsed": false,
    "ExecuteTime": {
     "end_time": "2023-12-15T08:16:22.854218Z",
     "start_time": "2023-12-15T08:16:22.781033400Z"
    }
   },
   "id": "d51db423a4997cc9"
  },
  {
   "cell_type": "markdown",
   "source": [
    "#### Normal Distribution"
   ],
   "metadata": {
    "collapsed": false
   },
   "id": "38e0b2d67da052a7"
  },
  {
   "cell_type": "code",
   "execution_count": 277,
   "outputs": [],
   "source": [
    "from scipy.stats import norm"
   ],
   "metadata": {
    "collapsed": false,
    "ExecuteTime": {
     "end_time": "2023-12-15T09:25:52.044648900Z",
     "start_time": "2023-12-15T09:25:52.022576400Z"
    }
   },
   "id": "9eba0fd6bb2c78a2"
  },
  {
   "cell_type": "code",
   "execution_count": 304,
   "outputs": [],
   "source": [
    "x_data = np.arange(-10, 10, 0.00002)\n",
    "y_data = norm.pdf(x_data,0,0.01)"
   ],
   "metadata": {
    "collapsed": false,
    "ExecuteTime": {
     "end_time": "2023-12-15T09:42:18.427683100Z",
     "start_time": "2023-12-15T09:42:18.214589900Z"
    }
   },
   "id": "a69817891a3022cb"
  },
  {
   "cell_type": "code",
   "execution_count": 305,
   "outputs": [
    {
     "data": {
      "text/plain": "<Figure size 640x480 with 1 Axes>",
      "image/png": "[encoded data removed]"
     },
     "metadata": {},
     "output_type": "display_data"
    }
   ],
   "source": [
    "plt.plot(x_data, y_data)\n",
    "plt.show()"
   ],
   "metadata": {
    "collapsed": false,
    "ExecuteTime": {
     "end_time": "2023-12-15T09:42:22.203408200Z",
     "start_time": "2023-12-15T09:42:20.768695Z"
    }
   },
   "id": "24640aa1254b3b8d"
  }
 ],
 "metadata": {
  "kernelspec": {
   "display_name": "Python 3",
   "language": "python",
   "name": "python3"
  },
  "language_info": {
   "codemirror_mode": {
    "name": "ipython",
    "version": 2
   },
   "file_extension": ".py",
   "mimetype": "text/x-python",
   "name": "python",
   "nbconvert_exporter": "python",
   "pygments_lexer": "ipython2",
   "version": "2.7.6"
  }
 },
 "nbformat": 4,
 "nbformat_minor": 5
}
