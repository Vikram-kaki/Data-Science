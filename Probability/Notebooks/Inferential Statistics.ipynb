{
 "cells": [
  {
   "cell_type": "code",
   "execution_count": 1,
   "id": "initial_id",
   "metadata": {
    "collapsed": true,
    "ExecuteTime": {
     "end_time": "2023-12-16T07:13:49.084398800Z",
     "start_time": "2023-12-16T07:13:49.083882500Z"
    }
   },
   "outputs": [],
   "source": [
    "import numpy as np\n",
    "import pandas as pd\n",
    "import matplotlib.pyplot as plt\n",
    "import seaborn as sns\n",
    "from scipy import stats"
   ]
  },
  {
   "cell_type": "markdown",
   "source": [
    "#### Random Sampling"
   ],
   "metadata": {
    "collapsed": false
   },
   "id": "c00c76921d7f6e25"
  },
  {
   "cell_type": "code",
   "execution_count": 3,
   "outputs": [],
   "source": [
    "file1 = pd.read_csv(r'C:\\Users\\Asus\\Downloads\\OECD PISA data.csv')"
   ],
   "metadata": {
    "collapsed": false,
    "ExecuteTime": {
     "end_time": "2023-12-16T07:15:52.767851600Z",
     "start_time": "2023-12-16T07:15:52.684838200Z"
    }
   },
   "id": "8c8853be40b137e"
  },
  {
   "cell_type": "code",
   "execution_count": 4,
   "outputs": [
    {
     "data": {
      "text/plain": "   index LOCATION INDICATOR SUBJECT  TIME    Value\n0      0      AUS  PISAMATH     BOY  2003  527.000\n1      1      AUS  PISAMATH     BOY  2006  527.000\n2      2      AUS  PISAMATH     BOY  2009  519.000\n3      3      AUS  PISAMATH     BOY  2012  510.115\n4      4      AUS  PISAMATH     BOY  2015  497.000",
      "text/html": "<div>\n<style scoped>\n    .dataframe tbody tr th:only-of-type {\n        vertical-align: middle;\n    }\n\n    .dataframe tbody tr th {\n        vertical-align: top;\n    }\n\n    .dataframe thead th {\n        text-align: right;\n    }\n</style>\n<table border=\"1\" class=\"dataframe\">\n  <thead>\n    <tr style=\"text-align: right;\">\n      <th></th>\n      <th>index</th>\n      <th>LOCATION</th>\n      <th>INDICATOR</th>\n      <th>SUBJECT</th>\n      <th>TIME</th>\n      <th>Value</th>\n    </tr>\n  </thead>\n  <tbody>\n    <tr>\n      <th>0</th>\n      <td>0</td>\n      <td>AUS</td>\n      <td>PISAMATH</td>\n      <td>BOY</td>\n      <td>2003</td>\n      <td>527.000</td>\n    </tr>\n    <tr>\n      <th>1</th>\n      <td>1</td>\n      <td>AUS</td>\n      <td>PISAMATH</td>\n      <td>BOY</td>\n      <td>2006</td>\n      <td>527.000</td>\n    </tr>\n    <tr>\n      <th>2</th>\n      <td>2</td>\n      <td>AUS</td>\n      <td>PISAMATH</td>\n      <td>BOY</td>\n      <td>2009</td>\n      <td>519.000</td>\n    </tr>\n    <tr>\n      <th>3</th>\n      <td>3</td>\n      <td>AUS</td>\n      <td>PISAMATH</td>\n      <td>BOY</td>\n      <td>2012</td>\n      <td>510.115</td>\n    </tr>\n    <tr>\n      <th>4</th>\n      <td>4</td>\n      <td>AUS</td>\n      <td>PISAMATH</td>\n      <td>BOY</td>\n      <td>2015</td>\n      <td>497.000</td>\n    </tr>\n  </tbody>\n</table>\n</div>"
     },
     "execution_count": 4,
     "metadata": {},
     "output_type": "execute_result"
    }
   ],
   "source": [
    "file1.head()"
   ],
   "metadata": {
    "collapsed": false,
    "ExecuteTime": {
     "end_time": "2023-12-16T07:15:59.746944800Z",
     "start_time": "2023-12-16T07:15:59.704104700Z"
    }
   },
   "id": "382df93a55dcb95d"
  },
  {
   "cell_type": "code",
   "execution_count": 5,
   "outputs": [
    {
     "name": "stdout",
     "output_type": "stream",
     "text": [
      "<class 'pandas.core.frame.DataFrame'>\n",
      "RangeIndex: 2087 entries, 0 to 2086\n",
      "Data columns (total 6 columns):\n",
      " #   Column     Non-Null Count  Dtype  \n",
      "---  ------     --------------  -----  \n",
      " 0   index      2087 non-null   int64  \n",
      " 1   LOCATION   2087 non-null   object \n",
      " 2   INDICATOR  2087 non-null   object \n",
      " 3   SUBJECT    2087 non-null   object \n",
      " 4   TIME       2087 non-null   int64  \n",
      " 5   Value      2087 non-null   float64\n",
      "dtypes: float64(1), int64(2), object(3)\n",
      "memory usage: 98.0+ KB\n"
     ]
    }
   ],
   "source": [
    "file1.info()"
   ],
   "metadata": {
    "collapsed": false,
    "ExecuteTime": {
     "end_time": "2023-12-16T07:16:08.344873100Z",
     "start_time": "2023-12-16T07:16:08.288194600Z"
    }
   },
   "id": "fbb5f5ac14e00695"
  },
  {
   "cell_type": "code",
   "execution_count": 6,
   "outputs": [
    {
     "data": {
      "text/plain": "             index         TIME        Value\ncount  2087.000000  2087.000000  2087.000000\nmean   1043.000000  2010.814087   487.644684\nstd     602.609326     5.317975    38.644532\nmin       0.000000  2000.000000   348.000000\n25%     521.500000  2006.000000   475.000000\n50%    1043.000000  2012.000000   495.000000\n75%    1564.500000  2015.000000   512.000000\nmax    2086.000000  2018.000000   574.000000",
      "text/html": "<div>\n<style scoped>\n    .dataframe tbody tr th:only-of-type {\n        vertical-align: middle;\n    }\n\n    .dataframe tbody tr th {\n        vertical-align: top;\n    }\n\n    .dataframe thead th {\n        text-align: right;\n    }\n</style>\n<table border=\"1\" class=\"dataframe\">\n  <thead>\n    <tr style=\"text-align: right;\">\n      <th></th>\n      <th>index</th>\n      <th>TIME</th>\n      <th>Value</th>\n    </tr>\n  </thead>\n  <tbody>\n    <tr>\n      <th>count</th>\n      <td>2087.000000</td>\n      <td>2087.000000</td>\n      <td>2087.000000</td>\n    </tr>\n    <tr>\n      <th>mean</th>\n      <td>1043.000000</td>\n      <td>2010.814087</td>\n      <td>487.644684</td>\n    </tr>\n    <tr>\n      <th>std</th>\n      <td>602.609326</td>\n      <td>5.317975</td>\n      <td>38.644532</td>\n    </tr>\n    <tr>\n      <th>min</th>\n      <td>0.000000</td>\n      <td>2000.000000</td>\n      <td>348.000000</td>\n    </tr>\n    <tr>\n      <th>25%</th>\n      <td>521.500000</td>\n      <td>2006.000000</td>\n      <td>475.000000</td>\n    </tr>\n    <tr>\n      <th>50%</th>\n      <td>1043.000000</td>\n      <td>2012.000000</td>\n      <td>495.000000</td>\n    </tr>\n    <tr>\n      <th>75%</th>\n      <td>1564.500000</td>\n      <td>2015.000000</td>\n      <td>512.000000</td>\n    </tr>\n    <tr>\n      <th>max</th>\n      <td>2086.000000</td>\n      <td>2018.000000</td>\n      <td>574.000000</td>\n    </tr>\n  </tbody>\n</table>\n</div>"
     },
     "execution_count": 6,
     "metadata": {},
     "output_type": "execute_result"
    }
   ],
   "source": [
    "file1.describe()"
   ],
   "metadata": {
    "collapsed": false,
    "ExecuteTime": {
     "end_time": "2023-12-16T07:16:21.427173900Z",
     "start_time": "2023-12-16T07:16:21.379801800Z"
    }
   },
   "id": "80af9bea12ea85d5"
  },
  {
   "cell_type": "code",
   "execution_count": 7,
   "outputs": [
    {
     "data": {
      "text/plain": "index    0.000000\nTIME    -0.270026\nValue   -1.091074\ndtype: float64"
     },
     "execution_count": 7,
     "metadata": {},
     "output_type": "execute_result"
    }
   ],
   "source": [
    "file1.skew(numeric_only=True)"
   ],
   "metadata": {
    "collapsed": false,
    "ExecuteTime": {
     "end_time": "2023-12-16T07:16:55.356395600Z",
     "start_time": "2023-12-16T07:16:55.308066500Z"
    }
   },
   "id": "33a1dfd33e19a58f"
  },
  {
   "cell_type": "code",
   "execution_count": 26,
   "outputs": [
    {
     "name": "stdout",
     "output_type": "stream",
     "text": [
      "      index LOCATION    INDICATOR SUBJECT  TIME    Value\n",
      "1810   1810      EST  PISASCIENCE    GIRL  2006  533.000\n",
      "1842   1842      RUS  PISASCIENCE    GIRL  2018  478.000\n",
      "1843   1843      SVN  PISASCIENCE     BOY  2006  515.000\n",
      "529     529      JPN     PISAMATH     TOT  2003  534.000\n",
      "288     288      ESP     PISAMATH     BOY  2009  493.000\n",
      "1167   1167      RUS     PISAREAD     BOY  2003  428.000\n",
      "576     576      POL     PISAMATH     TOT  2018  516.000\n",
      "969     969      NZL     PISAREAD    GIRL  2000  553.000\n",
      "136     136      ISL     PISAMATH    GIRL  2003  523.000\n",
      "1537   1537      DNK  PISASCIENCE     BOY  2012  503.533\n",
      "84       84      FRA     PISAMATH     BOY  2009  505.000\n",
      "324     324      TUR     PISAMATH     BOY  2009  451.000\n",
      "316     316      CHE     PISAMATH    GIRL  2003  518.000\n",
      "120     120      HUN     PISAMATH     BOY  2009  496.000\n",
      "1530   1530      CZE  PISASCIENCE    GIRL  2006  510.000\n",
      "1055   1055      SWE     PISAREAD    GIRL  2018  523.000\n",
      "1072   1072      TUR     PISAREAD     BOY  2009  443.000\n",
      "652     652      LVA     PISAMATH     TOT  2006  486.000\n",
      "1888   1888      CZE  PISASCIENCE     TOT  2012  508.000\n",
      "1240   1240      DNK     PISAREAD     TOT  2000  497.000\n",
      "1948   1948      LUX  PISASCIENCE     TOT  2012  491.000\n",
      "926     926      LUX     PISAREAD     BOY  2012  473.046\n",
      "1370   1370      ESP     PISAREAD     TOT  2000  493.000\n",
      "827     827      GRC     PISAREAD     BOY  2009  459.000\n",
      "1461   1461     OAVG     PISAREAD     TOT  2018  487.000\n",
      "1427   1427      IDN     PISAREAD     TOT  2006  393.000\n",
      "1594   1594      HUN  PISASCIENCE    GIRL  2018  478.000\n",
      "294     294      ESP     PISAMATH    GIRL  2009  474.000\n",
      "311     311      CHE     PISAMATH     BOY  2006  536.000\n",
      "1313   1313      KOR     PISAREAD     TOT  2009  539.000\n",
      "1353   1353      POL     PISAREAD     TOT  2009  500.000\n",
      "1711   1711      PRT  PISASCIENCE    GIRL  2009  495.000\n",
      "1160   1160      ISR     PISAREAD    GIRL  2000  459.000\n",
      "690     690      TWN     PISAMATH    GIRL  2015  539.000\n",
      "953     953      NLD     PISAREAD     BOY  2012  498.317\n",
      "2014   2014      USA  PISASCIENCE     TOT  2015  496.000\n",
      "41       41      CAN     PISAMATH    GIRL  2006  520.000\n",
      "91       91      FRA     PISAMATH    GIRL  2012  490.853\n",
      "250     250      POL     PISAMATH     BOY  2003  493.000\n",
      "1365   1365      SVK     PISAREAD     TOT  2006  466.000\n",
      "1780   1780      USA  PISASCIENCE    GIRL  2006  489.000\n",
      "1442   1442      LVA     PISAREAD     TOT  2012  489.000\n",
      "1263   1263      DEU     PISAREAD     TOT  2006  495.000\n",
      "1606   1606      IRL  PISASCIENCE     BOY  2009  507.000\n",
      "1422   1422      EST     PISAREAD     TOT  2012  516.000\n",
      "476     476      DNK     PISAMATH     TOT  2006  513.000\n",
      "1113   1113      BRA     PISAREAD    GIRL  2006  408.000\n",
      "1863   1863      LVA  PISASCIENCE     BOY  2015  485.000\n",
      "1096   1096      USA     PISAREAD     BOY  2015  487.000\n",
      "595     595      SWE     PISAMATH     TOT  2003  509.000\n"
     ]
    }
   ],
   "source": [
    "r_sample1 = file1.sample(50)\n",
    "print(r_sample1)"
   ],
   "metadata": {
    "collapsed": false,
    "ExecuteTime": {
     "end_time": "2023-12-16T07:22:25.840235700Z",
     "start_time": "2023-12-16T07:22:25.755431800Z"
    }
   },
   "id": "1d6ea53e38eae897"
  },
  {
   "cell_type": "markdown",
   "source": [
    "#### Systematic Sampling"
   ],
   "metadata": {
    "collapsed": false
   },
   "id": "d4d613ac1dff7133"
  },
  {
   "cell_type": "code",
   "execution_count": 35,
   "outputs": [],
   "source": [
    "sys_indexes = range(0, len(file1), 30)"
   ],
   "metadata": {
    "collapsed": false,
    "ExecuteTime": {
     "end_time": "2023-12-16T07:46:47.634752900Z",
     "start_time": "2023-12-16T07:46:47.589207100Z"
    }
   },
   "id": "91785ab26922bf0b"
  },
  {
   "cell_type": "code",
   "execution_count": 36,
   "outputs": [],
   "source": [
    "sys_sample = file1.loc[sys_indexes]"
   ],
   "metadata": {
    "collapsed": false,
    "ExecuteTime": {
     "end_time": "2023-12-16T07:47:11.974363800Z",
     "start_time": "2023-12-16T07:47:11.924787500Z"
    }
   },
   "id": "f478704b08533b38"
  },
  {
   "cell_type": "code",
   "execution_count": 37,
   "outputs": [
    {
     "name": "stdout",
     "output_type": "stream",
     "text": [
      "      index LOCATION    INDICATOR SUBJECT  TIME  Value\n",
      "0         0      AUS     PISAMATH     BOY  2003  527.0\n",
      "30       30      BEL     PISAMATH    GIRL  2009  504.0\n",
      "60       60      DNK     PISAMATH     BOY  2009  511.0\n",
      "90       90      FRA     PISAMATH    GIRL  2009  489.0\n",
      "120     120      HUN     PISAMATH     BOY  2009  496.0\n",
      "...     ...      ...          ...     ...   ...    ...\n",
      "1950   1950      LUX  PISASCIENCE     TOT  2018  477.0\n",
      "1980   1980      PRT  PISASCIENCE     TOT  2018  492.0\n",
      "2010   2010      GBR  PISASCIENCE     TOT  2018  505.0\n",
      "2040   2040      ISR  PISASCIENCE     TOT  2018  462.0\n",
      "2070   2070      HKG  PISASCIENCE    GIRL  2015  524.0\n",
      "\n",
      "[70 rows x 6 columns]\n"
     ]
    }
   ],
   "source": [
    "print(sys_sample)"
   ],
   "metadata": {
    "collapsed": false,
    "ExecuteTime": {
     "end_time": "2023-12-16T07:47:20.287314300Z",
     "start_time": "2023-12-16T07:47:20.231181700Z"
    }
   },
   "id": "dca42ab1d394a20e"
  },
  {
   "cell_type": "markdown",
   "source": [
    "####  Stratified Sampling\n",
    "\n",
    "In stratified sampling, we select the samples by dividing the population into subgroups called strata and randomly sampling the data from each stratum."
   ],
   "metadata": {
    "collapsed": false
   },
   "id": "904d58a3e5c73d07"
  },
  {
   "cell_type": "code",
   "execution_count": 94,
   "outputs": [
    {
     "data": {
      "text/plain": "                       TIME  Value\nLOCATION SUBJECT                  \nAUS      BOY     700   2000  513.0\n                 701   2003  506.0\n                 702   2006  495.0\n         GIRL    710   2009  533.0\n                 1496  2018  502.0\n...                     ...    ...\nUSA      GIRL    352   2009  477.0\n                 351   2006  470.0\n         TOT     2014  2015  496.0\n                 621   2012  481.0\n                 620   2009  487.0\n\n[423 rows x 2 columns]",
      "text/html": "<div>\n<style scoped>\n    .dataframe tbody tr th:only-of-type {\n        vertical-align: middle;\n    }\n\n    .dataframe tbody tr th {\n        vertical-align: top;\n    }\n\n    .dataframe thead th {\n        text-align: right;\n    }\n</style>\n<table border=\"1\" class=\"dataframe\">\n  <thead>\n    <tr style=\"text-align: right;\">\n      <th></th>\n      <th></th>\n      <th></th>\n      <th>TIME</th>\n      <th>Value</th>\n    </tr>\n    <tr>\n      <th>LOCATION</th>\n      <th>SUBJECT</th>\n      <th></th>\n      <th></th>\n      <th></th>\n    </tr>\n  </thead>\n  <tbody>\n    <tr>\n      <th rowspan=\"5\" valign=\"top\">AUS</th>\n      <th rowspan=\"3\" valign=\"top\">BOY</th>\n      <th>700</th>\n      <td>2000</td>\n      <td>513.0</td>\n    </tr>\n    <tr>\n      <th>701</th>\n      <td>2003</td>\n      <td>506.0</td>\n    </tr>\n    <tr>\n      <th>702</th>\n      <td>2006</td>\n      <td>495.0</td>\n    </tr>\n    <tr>\n      <th rowspan=\"2\" valign=\"top\">GIRL</th>\n      <th>710</th>\n      <td>2009</td>\n      <td>533.0</td>\n    </tr>\n    <tr>\n      <th>1496</th>\n      <td>2018</td>\n      <td>502.0</td>\n    </tr>\n    <tr>\n      <th>...</th>\n      <th>...</th>\n      <th>...</th>\n      <td>...</td>\n      <td>...</td>\n    </tr>\n    <tr>\n      <th rowspan=\"5\" valign=\"top\">USA</th>\n      <th rowspan=\"2\" valign=\"top\">GIRL</th>\n      <th>352</th>\n      <td>2009</td>\n      <td>477.0</td>\n    </tr>\n    <tr>\n      <th>351</th>\n      <td>2006</td>\n      <td>470.0</td>\n    </tr>\n    <tr>\n      <th rowspan=\"3\" valign=\"top\">TOT</th>\n      <th>2014</th>\n      <td>2015</td>\n      <td>496.0</td>\n    </tr>\n    <tr>\n      <th>621</th>\n      <td>2012</td>\n      <td>481.0</td>\n    </tr>\n    <tr>\n      <th>620</th>\n      <td>2009</td>\n      <td>487.0</td>\n    </tr>\n  </tbody>\n</table>\n<p>423 rows × 2 columns</p>\n</div>"
     },
     "execution_count": 94,
     "metadata": {},
     "output_type": "execute_result"
    }
   ],
   "source": [
    "file1.groupby(['LOCATION', 'SUBJECT'])[['TIME', 'Value']].apply(lambda x:x.sample(3, replace = False))"
   ],
   "metadata": {
    "collapsed": false,
    "ExecuteTime": {
     "end_time": "2023-12-16T08:10:38.990420300Z",
     "start_time": "2023-12-16T08:10:38.826275600Z"
    }
   },
   "id": "fa74d0f2853c402f"
  },
  {
   "cell_type": "code",
   "execution_count": 89,
   "outputs": [],
   "source": [
    "d1 = file1.groupby(['LOCATION', 'SUBJECT']).apply(len)"
   ],
   "metadata": {
    "collapsed": false,
    "ExecuteTime": {
     "end_time": "2023-12-16T08:10:02.645130100Z",
     "start_time": "2023-12-16T08:10:02.598437Z"
    }
   },
   "id": "58133e3de96c7534"
  },
  {
   "cell_type": "code",
   "execution_count": 123,
   "outputs": [],
   "source": [
    "d2 = file1.groupby(['LOCATION', 'SUBJECT']).apply(lambda x : x.sample(frac = .1))"
   ],
   "metadata": {
    "collapsed": false,
    "ExecuteTime": {
     "end_time": "2023-12-16T09:10:21.025947100Z",
     "start_time": "2023-12-16T09:10:20.857067900Z"
    }
   },
   "id": "8b7c70dc5c4ce99c"
  },
  {
   "cell_type": "code",
   "execution_count": 124,
   "outputs": [
    {
     "data": {
      "text/plain": "LOCATION\nAUS     6\nNOR     6\nISR     6\nITA     6\nJPN     6\nKOR     6\nLUX     6\nMEX     6\nNLD     6\nNZL     6\nIRL     6\nPOL     6\nPRT     6\nRUS     6\nSVK     6\nSVN     6\nSWE     6\nTUR     6\nAUT     6\nISL     6\nIDN     6\nDNK     6\nBEL     6\nBRA     6\nCAN     6\nCHE     6\nCHL     6\nCZE     6\nHUN     6\nDEU     6\nESP     6\nEST     6\nFIN     6\nFRA     6\nGBR     6\nGRC     6\nUSA     6\nOAVG    5\nLVA     4\nCOL     3\nName: count, dtype: int64"
     },
     "execution_count": 124,
     "metadata": {},
     "output_type": "execute_result"
    }
   ],
   "source": [
    "d2['LOCATION'].value_counts()"
   ],
   "metadata": {
    "collapsed": false,
    "ExecuteTime": {
     "end_time": "2023-12-16T09:10:23.262858300Z",
     "start_time": "2023-12-16T09:10:23.242208100Z"
    }
   },
   "id": "d8a51317e2728ed0"
  },
  {
   "cell_type": "markdown",
   "source": [
    "#### Central-Limit-Theorem"
   ],
   "metadata": {
    "collapsed": false
   },
   "id": "ea5bfb4fd21a67e"
  },
  {
   "cell_type": "code",
   "execution_count": 135,
   "outputs": [
    {
     "name": "stderr",
     "output_type": "stream",
     "text": [
      "C:\\Users\\Asus\\anaconda3\\Lib\\site-packages\\seaborn\\axisgrid.py:118: UserWarning: The figure layout has changed to tight\n",
      "  self._figure.tight_layout(*args, **kwargs)\n"
     ]
    },
    {
     "data": {
      "text/plain": "<Figure size 10000x1000 with 0 Axes>"
     },
     "metadata": {},
     "output_type": "display_data"
    },
    {
     "data": {
      "text/plain": "<Figure size 500x500 with 1 Axes>",
      "image/png": "[encoded data removed]"
     },
     "metadata": {},
     "output_type": "display_data"
    }
   ],
   "source": [
    "fig = plt.figure(figsize = (100, 10))\n",
    "sns.displot(file1.Value, kde = True) \n",
    "plt.show()"
   ],
   "metadata": {
    "collapsed": false,
    "ExecuteTime": {
     "end_time": "2023-12-16T09:29:29.625401200Z",
     "start_time": "2023-12-16T09:29:28.547669500Z"
    }
   },
   "id": "d8a89ff4b4a2287b"
  },
  {
   "cell_type": "code",
   "execution_count": 173,
   "outputs": [
    {
     "name": "stderr",
     "output_type": "stream",
     "text": [
      "C:\\Users\\Asus\\anaconda3\\Lib\\site-packages\\seaborn\\axisgrid.py:118: UserWarning: The figure layout has changed to tight\n",
      "  self._figure.tight_layout(*args, **kwargs)\n"
     ]
    },
    {
     "data": {
      "text/plain": "<seaborn.axisgrid.FacetGrid at 0x1f1f05612d0>"
     },
     "execution_count": 173,
     "metadata": {},
     "output_type": "execute_result"
    },
    {
     "data": {
      "text/plain": "<Figure size 500x500 with 1 Axes>",
      "image/png": "[encoded data removed]"
     },
     "metadata": {},
     "output_type": "display_data"
    }
   ],
   "source": [
    "r_sample2 = []\n",
    "for i in range(30):\n",
    "    r_sample2.append(file1['Value'].sample(50).mean())  \n",
    "sns.displot(r_sample2, kind='kde')"
   ],
   "metadata": {
    "collapsed": false,
    "ExecuteTime": {
     "end_time": "2023-12-16T09:51:00.069653400Z",
     "start_time": "2023-12-16T09:50:59.073104100Z"
    }
   },
   "id": "a8cfa09fcad17694"
  },
  {
   "cell_type": "code",
   "execution_count": 167,
   "outputs": [],
   "source": [
    "import statistics as st"
   ],
   "metadata": {
    "collapsed": false,
    "ExecuteTime": {
     "end_time": "2023-12-16T09:49:11.631042200Z",
     "start_time": "2023-12-16T09:49:11.569227500Z"
    }
   },
   "id": "b352a2579449285f"
  },
  {
   "cell_type": "code",
   "execution_count": 176,
   "outputs": [
    {
     "name": "stdout",
     "output_type": "stream",
     "text": [
      "487.958378\n",
      "487.6446842357451\n"
     ]
    }
   ],
   "source": [
    "print(st.mean(r_sample2))\n",
    "print(st.mean(file1['Value']))"
   ],
   "metadata": {
    "collapsed": false,
    "ExecuteTime": {
     "end_time": "2023-12-16T09:51:28.763057600Z",
     "start_time": "2023-12-16T09:51:28.725553600Z"
    }
   },
   "id": "cb9435087b9dd31b"
  },
  {
   "cell_type": "code",
   "execution_count": 180,
   "outputs": [
    {
     "name": "stdout",
     "output_type": "stream",
     "text": [
      "[0.56365926 0.24574993 0.98758872 0.72493348 0.03078225 0.52907833\n",
      " 0.37573961 0.19664815 0.05450396 0.11372798 0.93174647 0.04582456\n",
      " 0.84524318 0.67004991 0.77350575 0.95005018 0.11325704 0.61049576\n",
      " 0.98092032 0.65414592 0.97203161 0.96021714 0.95060677 0.70896053\n",
      " 0.06648751 0.62503775 0.39732618 0.11481627 0.87690279 0.60601084\n",
      " 0.07980244 0.76001513 0.56323043 0.39906623 0.52211223 0.43806884\n",
      " 0.04210977 0.2850432  0.88292188 0.75387704 0.71846375 0.28837097\n",
      " 0.81352264 0.556905   0.31596816 0.50748779 0.83667102 0.23695274\n",
      " 0.13866269 0.54314479 0.72032524 0.40162273 0.28553154 0.07744915\n",
      " 0.65273833 0.81230796 0.3087995  0.75606888 0.74996109 0.45152619\n",
      " 0.27742122 0.58093928 0.56506765 0.31120103 0.48134149 0.01408433\n",
      " 0.69990199 0.5239821  0.67222315 0.58339386 0.65534508 0.0597196\n",
      " 0.91614386 0.08975476 0.55194492 0.37170763 0.15501138 0.54512651\n",
      " 0.10089795 0.31271799 0.1882053  0.7141107  0.05105412 0.65949057\n",
      " 0.34127237 0.27899212 0.58742177 0.45197936 0.38616831 0.44876194\n",
      " 0.55782495 0.76797784 0.36459053 0.95331751 0.28225834 0.6827993\n",
      " 0.20032169 0.56268233 0.64388842 0.3154368 ]\n"
     ]
    },
    {
     "data": {
      "text/plain": "array([ 0.24961401, -0.90301369,  1.78663348,  0.83433775, -1.68241108,\n        0.12423568, -0.43171672, -1.08103953, -1.59640452, -1.38167897,\n        1.58416907, -1.62787297,  1.27053851,  0.63534918,  1.01044374,\n        1.65053192, -1.38338643,  0.41942673,  1.76245623,  0.57768688,\n        1.73022888,  1.68739376,  1.65254992,  0.77642543, -1.55295634,\n        0.47215086, -0.35345141, -1.37773322,  1.38532516,  0.40316598,\n       -1.50468109,  0.9615315 ,  0.2480592 , -0.34714259,  0.09897906,\n       -0.2057328 , -1.64134148, -0.76055009,  1.40714825,  0.93927694,\n        0.81088078, -0.74848475,  1.15553096,  0.22512543, -0.64842703,\n        0.04595595,  1.23945885, -0.93490922, -1.29127447,  0.17523571,\n        0.81762986, -0.33787362, -0.75877953, -1.51321328,  0.57258345,\n        1.15112695, -0.67441807,  0.94722378,  0.92507906, -0.15694117,\n       -0.78818472,  0.31226528,  0.25472032, -0.66571097, -0.04884136,\n       -1.74295191,  0.74358232,  0.10575853,  0.64322859,  0.32116475,\n        0.5820346 , -1.57749442,  1.52759951, -1.46859746,  0.20714192,\n       -0.44633526, -1.23199984,  0.18242075, -1.42819617, -0.660211  ,\n       -1.11165035,  0.79509812, -1.6089124 ,  0.5970647 , -0.55668285,\n       -0.7824892 ,  0.33576853, -0.15529815, -0.39390591, -0.16696337,\n        0.22846082,  0.99040149, -0.47213938,  1.66237809, -0.77064701,\n        0.68157399, -1.06772057,  0.246072  ,  0.54049679, -0.65035357])"
     },
     "execution_count": 180,
     "metadata": {},
     "output_type": "execute_result"
    }
   ],
   "source": [],
   "metadata": {
    "collapsed": false,
    "ExecuteTime": {
     "end_time": "2023-12-16T13:52:09.856323800Z",
     "start_time": "2023-12-16T13:52:09.767870500Z"
    }
   },
   "id": "718abd59f8970a9a"
  },
  {
   "cell_type": "markdown",
   "source": [
    "#### Confidence Interval"
   ],
   "metadata": {
    "collapsed": false
   },
   "id": "f4263bad95eb522d"
  },
  {
   "cell_type": "code",
   "execution_count": 183,
   "outputs": [],
   "source": [
    "data = np.random.randint(0,2,10)"
   ],
   "metadata": {
    "collapsed": false,
    "ExecuteTime": {
     "end_time": "2023-12-16T15:40:03.816494700Z",
     "start_time": "2023-12-16T15:40:03.775921400Z"
    }
   },
   "id": "139ffbfc3a277e5e"
  },
  {
   "cell_type": "code",
   "execution_count": 191,
   "outputs": [
    {
     "data": {
      "text/plain": "(0.194481177891061, 0.8055188221089389)"
     },
     "execution_count": 191,
     "metadata": {},
     "output_type": "execute_result"
    }
   ],
   "source": [
    "stats.t.interval(confidence=.9, df = len(data) -1, loc = data.mean(), scale = stats.sem(data))"
   ],
   "metadata": {
    "collapsed": false,
    "ExecuteTime": {
     "end_time": "2023-12-16T15:48:12.382253Z",
     "start_time": "2023-12-16T15:48:12.313109400Z"
    }
   },
   "id": "1d59ee950d0c94e7"
  },
  {
   "cell_type": "code",
   "execution_count": 200,
   "outputs": [
    {
     "data": {
      "text/plain": "(0.2399258060622212, 0.7600741939377786)"
     },
     "execution_count": 200,
     "metadata": {},
     "output_type": "execute_result"
    }
   ],
   "source": [
    "stats.norm.interval(confidence=.9, scale = data.std()/(len(data))**(1/2), loc = data.mean())"
   ],
   "metadata": {
    "collapsed": false,
    "ExecuteTime": {
     "end_time": "2023-12-16T15:57:11.141696100Z",
     "start_time": "2023-12-16T15:57:11.058478500Z"
    }
   },
   "id": "3207230e2c44b923"
  },
  {
   "cell_type": "markdown",
   "source": [
    "#### Hypothesis Testing"
   ],
   "metadata": {
    "collapsed": false
   },
   "id": "a04617711cd7e6d9"
  },
  {
   "cell_type": "markdown",
   "source": [
    "#### Z-TEST"
   ],
   "metadata": {
    "collapsed": false
   },
   "id": "1ffdb59f1a422339"
  },
  {
   "cell_type": "code",
   "execution_count": 203,
   "outputs": [],
   "source": [
    "import math\n",
    "import scipy"
   ],
   "metadata": {
    "collapsed": false,
    "ExecuteTime": {
     "end_time": "2023-12-26T13:43:07.104533500Z",
     "start_time": "2023-12-26T13:43:07.022556600Z"
    }
   },
   "id": "444ddeecee2b730c"
  },
  {
   "cell_type": "markdown",
   "source": [
    "A school claimed that the student's study is more intelligent than the average school. On calculating the IQ scores of 50 students, the average turns out to be 110. The mean of the population IQ is 100 and the standard deviation is 15. State whether the claim of principal is right or not at a 5% significance level."
   ],
   "metadata": {
    "collapsed": false
   },
   "id": "506de408ed4bb43d"
  },
  {
   "cell_type": "code",
   "execution_count": 214,
   "outputs": [],
   "source": [
    "def z_test(n, alpha, s_mean, p_mean, p_std, alternative):\n",
    "    z_score = (s_mean - p_mean)/(p_std/math.sqrt(n))\n",
    "    p_value = stats.norm.sf(z_score)\n",
    "    print(z_score)\n",
    "    print(p_value)\n",
    "    if alternative == 'one-sided':\n",
    "        if p_value > alpha:\n",
    "            print(\"Failed to reject the Null Hypothesis\")\n",
    "        else:\n",
    "            print(\"Rejected the Null Hypothesis\")\n",
    "    elif alternative == 'two-sided':\n",
    "        if p_value > (alpha/2):\n",
    "            print(\"Failed to reject the Null Hypothesis\")\n",
    "        else:\n",
    "            prnint(\"Rejected the Null Hypothesis\")"
   ],
   "metadata": {
    "collapsed": false,
    "ExecuteTime": {
     "end_time": "2023-12-27T05:11:12.528232900Z",
     "start_time": "2023-12-27T05:11:12.500597700Z"
    }
   },
   "id": "4e5e2e36d931a221"
  },
  {
   "cell_type": "code",
   "execution_count": 215,
   "outputs": [
    {
     "name": "stdout",
     "output_type": "stream",
     "text": [
      "4.714045207910317\n",
      "1.2142337364879197e-06\n",
      "Rejected the Null Hypothesis\n"
     ]
    }
   ],
   "source": [
    "z_test(50, 0.05, 110, 100, 15, 'one-sided')"
   ],
   "metadata": {
    "collapsed": false,
    "ExecuteTime": {
     "end_time": "2023-12-27T05:11:15.287805900Z",
     "start_time": "2023-12-27T05:11:15.258239700Z"
    }
   },
   "id": "84104b7d63f8bcc4"
  },
  {
   "cell_type": "code",
   "execution_count": 216,
   "outputs": [
    {
     "name": "stdout",
     "output_type": "stream",
     "text": [
      "3.5999999999999996\n",
      "0.00015910859015753396\n",
      "Rejected the Null Hypothesis\n"
     ]
    }
   ],
   "source": [
    "z_test(81, 0.05, 90, 82, 20, 'one-sided')"
   ],
   "metadata": {
    "collapsed": false,
    "ExecuteTime": {
     "end_time": "2023-12-27T05:14:58.060634900Z",
     "start_time": "2023-12-27T05:14:58.021554200Z"
    }
   },
   "id": "18938d011f1a2aa8"
  },
  {
   "cell_type": "markdown",
   "source": [
    "#### T-Test"
   ],
   "metadata": {
    "collapsed": false
   },
   "id": "207379df2ea37a01"
  },
  {
   "cell_type": "code",
   "execution_count": 217,
   "outputs": [],
   "source": [
    "import random"
   ],
   "metadata": {
    "collapsed": false,
    "ExecuteTime": {
     "end_time": "2023-12-27T05:33:42.180855300Z",
     "start_time": "2023-12-27T05:33:42.129166900Z"
    }
   },
   "id": "f0fc5f8daa1bc4c6"
  },
  {
   "cell_type": "code",
   "execution_count": 249,
   "outputs": [],
   "source": [
    "data2 = 20 * np.random.randn(30) + 140"
   ],
   "metadata": {
    "collapsed": false,
    "ExecuteTime": {
     "end_time": "2023-12-27T07:19:37.611765400Z",
     "start_time": "2023-12-27T07:19:37.584261900Z"
    }
   },
   "id": "24c23674698901c4"
  },
  {
   "cell_type": "code",
   "execution_count": 250,
   "outputs": [
    {
     "name": "stdout",
     "output_type": "stream",
     "text": [
      "138.723340937668\n",
      "20.031276924408036\n"
     ]
    }
   ],
   "source": [
    "print(data2.mean())\n",
    "print(data2.std())"
   ],
   "metadata": {
    "collapsed": false,
    "ExecuteTime": {
     "end_time": "2023-12-27T07:19:56.043977700Z",
     "start_time": "2023-12-27T07:19:55.983902800Z"
    }
   },
   "id": "cb27a2fe08ba56f9"
  },
  {
   "cell_type": "code",
   "execution_count": 251,
   "outputs": [],
   "source": [
    "t_statics, p_value2 = stats.ttest_1samp(a = data2, popmean = 100)"
   ],
   "metadata": {
    "collapsed": false,
    "ExecuteTime": {
     "end_time": "2023-12-27T07:20:01.467724800Z",
     "start_time": "2023-12-27T07:20:01.433218500Z"
    }
   },
   "id": "a1994558964d7e5f"
  },
  {
   "cell_type": "code",
   "execution_count": 252,
   "outputs": [
    {
     "name": "stdout",
     "output_type": "stream",
     "text": [
      "10.41029853559189 2.6299750429839904e-11\n"
     ]
    }
   ],
   "source": [
    "print(t_statics, p_value2)"
   ],
   "metadata": {
    "collapsed": false,
    "ExecuteTime": {
     "end_time": "2023-12-27T07:20:04.141890600Z",
     "start_time": "2023-12-27T07:20:04.110627Z"
    }
   },
   "id": "50fc37c7da24b5b9"
  },
  {
   "cell_type": "code",
   "execution_count": 240,
   "outputs": [],
   "source": [
    "alpha = 0.05"
   ],
   "metadata": {
    "collapsed": false,
    "ExecuteTime": {
     "end_time": "2023-12-27T05:41:51.821214600Z",
     "start_time": "2023-12-27T05:41:51.768145Z"
    }
   },
   "id": "6266688c4876f8fe"
  },
  {
   "cell_type": "code",
   "execution_count": 272,
   "outputs": [
    {
     "name": "stdout",
     "output_type": "stream",
     "text": [
      "Rejected the Null Hypothesis\n"
     ]
    }
   ],
   "source": [
    "if p_value2 > alpha:\n",
    "    print('Failed to reject the Null Hypothesis')\n",
    "else:\n",
    "    print('Rejected the Null Hypothesis')"
   ],
   "metadata": {
    "collapsed": false,
    "ExecuteTime": {
     "end_time": "2023-12-27T09:56:45.559714900Z",
     "start_time": "2023-12-27T09:56:45.498155400Z"
    }
   },
   "id": "3cb96dad8089cd9e"
  },
  {
   "cell_type": "code",
   "execution_count": 246,
   "outputs": [],
   "source": [
    "def t_test(n, alpha2, s_mean, s_std, p_mean):\n",
    "    t_score = (s_mean - p_mean)/(s_std/math.sqrt(n))\n",
    "    p_value3 = stats.t.sf(t_score, n-1)\n",
    "    \n",
    "    print(t_score)\n",
    "    print(p_value3)"
   ],
   "metadata": {
    "collapsed": false,
    "ExecuteTime": {
     "end_time": "2023-12-27T07:18:50.474842100Z",
     "start_time": "2023-12-27T07:18:50.445667600Z"
    }
   },
   "id": "3276cc5fe71b6ef9"
  },
  {
   "cell_type": "code",
   "execution_count": 253,
   "outputs": [
    {
     "name": "stdout",
     "output_type": "stream",
     "text": [
      "10.954451150103322\n",
      "4.010643570113305e-12\n"
     ]
    }
   ],
   "source": [
    "t_test(30, 0.05, 140, 20, 100)"
   ],
   "metadata": {
    "collapsed": false,
    "ExecuteTime": {
     "end_time": "2023-12-27T07:20:12.694551600Z",
     "start_time": "2023-12-27T07:20:12.624516800Z"
    }
   },
   "id": "7c7e4f7f8daeb4c3"
  },
  {
   "cell_type": "markdown",
   "source": [
    "#### Chi-Square Test"
   ],
   "metadata": {
    "collapsed": false
   },
   "id": "e68fd2ba6d65a038"
  },
  {
   "cell_type": "code",
   "execution_count": 266,
   "outputs": [],
   "source": [
    "chi_statistics , p_value = stats.chisquare([48, 24, 24], [32, 32, 32])"
   ],
   "metadata": {
    "collapsed": false,
    "ExecuteTime": {
     "end_time": "2023-12-27T09:52:03.552697100Z",
     "start_time": "2023-12-27T09:52:03.514922600Z"
    }
   },
   "id": "a54f6a70d0c4ae05"
  },
  {
   "cell_type": "code",
   "execution_count": 267,
   "outputs": [
    {
     "name": "stdout",
     "output_type": "stream",
     "text": [
      "Failed to reject the Null Hypothesis\n"
     ]
    }
   ],
   "source": [
    "alpha3 = 0.05\n",
    "if alpha > p_value : \n",
    "    print(\"Failed to reject the Null Hypothesis\")\n",
    "else:\n",
    "    print(\"Rejected the Null Hypothesis\")"
   ],
   "metadata": {
    "collapsed": false,
    "ExecuteTime": {
     "end_time": "2023-12-27T09:54:37.923184200Z",
     "start_time": "2023-12-27T09:54:37.875755800Z"
    }
   },
   "id": "8490db0f9efd8e07"
  },
  {
   "cell_type": "code",
   "execution_count": 268,
   "outputs": [],
   "source": [
    "chi_statistics2 , p_value3 = stats.chisquare([5, 9, 13, 7, 6])"
   ],
   "metadata": {
    "collapsed": false,
    "ExecuteTime": {
     "end_time": "2023-12-27T09:55:33.245041700Z",
     "start_time": "2023-12-27T09:55:33.191990400Z"
    }
   },
   "id": "302ea87024973c7d"
  },
  {
   "cell_type": "code",
   "execution_count": 270,
   "outputs": [
    {
     "name": "stdout",
     "output_type": "stream",
     "text": [
      "Failed to reject the Null Hypothesis\n"
     ]
    }
   ],
   "source": [
    "if alpha > p_value :\n",
    "    print(\"Failed to reject the Null Hypothesis\")\n",
    "else:\n",
    "    print(\"Rejected the Null Hypothesis\")"
   ],
   "metadata": {
    "collapsed": false,
    "ExecuteTime": {
     "end_time": "2023-12-27T09:56:26.040762100Z",
     "start_time": "2023-12-27T09:56:26.001104600Z"
    }
   },
   "id": "d46eae1fd9dcc72"
  },
  {
   "cell_type": "code",
   "execution_count": 273,
   "outputs": [
    {
     "data": {
      "text/plain": "Chi2ContingencyResult(statistic=4.542228269825232, pvalue=0.1031971404730939, dof=2, expected_freq=array([[223.87343533, 266.00834492, 240.11821975],\n       [217.12656467, 257.99165508, 232.88178025]]))"
     },
     "execution_count": 273,
     "metadata": {},
     "output_type": "execute_result"
    }
   ],
   "source": [
    "stats.chi2_contingency([[207, 282, 241], [234, 242, 232]])"
   ],
   "metadata": {
    "collapsed": false,
    "ExecuteTime": {
     "end_time": "2023-12-27T10:07:51.391940400Z",
     "start_time": "2023-12-27T10:07:51.292413Z"
    }
   },
   "id": "557016cebd74abb1"
  },
  {
   "cell_type": "code",
   "execution_count": null,
   "outputs": [],
   "source": [],
   "metadata": {
    "collapsed": false
   },
   "id": "de29b5617ce186b3"
  }
 ],
 "metadata": {
  "kernelspec": {
   "display_name": "Python 3",
   "language": "python",
   "name": "python3"
  },
  "language_info": {
   "codemirror_mode": {
    "name": "ipython",
    "version": 2
   },
   "file_extension": ".py",
   "mimetype": "text/x-python",
   "name": "python",
   "nbconvert_exporter": "python",
   "pygments_lexer": "ipython2",
   "version": "2.7.6"
  }
 },
 "nbformat": 4,
 "nbformat_minor": 5
}
