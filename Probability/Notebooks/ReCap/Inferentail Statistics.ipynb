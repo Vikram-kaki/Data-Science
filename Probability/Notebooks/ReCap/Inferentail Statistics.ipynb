{
 "cells": [
  {
   "cell_type": "code",
   "execution_count": 1,
   "id": "initial_id",
   "metadata": {
    "collapsed": true,
    "ExecuteTime": {
     "end_time": "2024-02-18T06:57:17.291950Z",
     "start_time": "2024-02-18T06:57:17.280083Z"
    }
   },
   "outputs": [],
   "source": [
    "import numpy as np\n",
    "import pandas as pd\n",
    "import matplotlib.pyplot as plt"
   ]
  },
  {
   "cell_type": "code",
   "outputs": [],
   "source": [
    "df1 = pd.read_csv(r\"C:\\Users\\Asus\\Downloads\\OECD PISA data.csv\")"
   ],
   "metadata": {
    "collapsed": false,
    "ExecuteTime": {
     "end_time": "2024-02-18T06:57:47.261382Z",
     "start_time": "2024-02-18T06:57:47.125952Z"
    }
   },
   "id": "48d97ef8d1826655",
   "execution_count": 2
  },
  {
   "cell_type": "code",
   "outputs": [
    {
     "data": {
      "text/plain": "      index LOCATION    INDICATOR SUBJECT  TIME    Value\n0         0      AUS     PISAMATH     BOY  2003  527.000\n1         1      AUS     PISAMATH     BOY  2006  527.000\n2         2      AUS     PISAMATH     BOY  2009  519.000\n3         3      AUS     PISAMATH     BOY  2012  510.115\n4         4      AUS     PISAMATH     BOY  2015  497.000\n...     ...      ...          ...     ...   ...      ...\n2082   2082      CRI  PISASCIENCE     BOY  2018  420.000\n2083   2083      CRI  PISASCIENCE    GIRL  2018  411.000\n2084   2084      LTU  PISASCIENCE     TOT  2018  482.000\n2085   2085      LTU  PISASCIENCE     BOY  2018  479.000\n2086   2086      LTU  PISASCIENCE    GIRL  2018  485.000\n\n[2087 rows x 6 columns]",
      "text/html": "<div>\n<style scoped>\n    .dataframe tbody tr th:only-of-type {\n        vertical-align: middle;\n    }\n\n    .dataframe tbody tr th {\n        vertical-align: top;\n    }\n\n    .dataframe thead th {\n        text-align: right;\n    }\n</style>\n<table border=\"1\" class=\"dataframe\">\n  <thead>\n    <tr style=\"text-align: right;\">\n      <th></th>\n      <th>index</th>\n      <th>LOCATION</th>\n      <th>INDICATOR</th>\n      <th>SUBJECT</th>\n      <th>TIME</th>\n      <th>Value</th>\n    </tr>\n  </thead>\n  <tbody>\n    <tr>\n      <th>0</th>\n      <td>0</td>\n      <td>AUS</td>\n      <td>PISAMATH</td>\n      <td>BOY</td>\n      <td>2003</td>\n      <td>527.000</td>\n    </tr>\n    <tr>\n      <th>1</th>\n      <td>1</td>\n      <td>AUS</td>\n      <td>PISAMATH</td>\n      <td>BOY</td>\n      <td>2006</td>\n      <td>527.000</td>\n    </tr>\n    <tr>\n      <th>2</th>\n      <td>2</td>\n      <td>AUS</td>\n      <td>PISAMATH</td>\n      <td>BOY</td>\n      <td>2009</td>\n      <td>519.000</td>\n    </tr>\n    <tr>\n      <th>3</th>\n      <td>3</td>\n      <td>AUS</td>\n      <td>PISAMATH</td>\n      <td>BOY</td>\n      <td>2012</td>\n      <td>510.115</td>\n    </tr>\n    <tr>\n      <th>4</th>\n      <td>4</td>\n      <td>AUS</td>\n      <td>PISAMATH</td>\n      <td>BOY</td>\n      <td>2015</td>\n      <td>497.000</td>\n    </tr>\n    <tr>\n      <th>...</th>\n      <td>...</td>\n      <td>...</td>\n      <td>...</td>\n      <td>...</td>\n      <td>...</td>\n      <td>...</td>\n    </tr>\n    <tr>\n      <th>2082</th>\n      <td>2082</td>\n      <td>CRI</td>\n      <td>PISASCIENCE</td>\n      <td>BOY</td>\n      <td>2018</td>\n      <td>420.000</td>\n    </tr>\n    <tr>\n      <th>2083</th>\n      <td>2083</td>\n      <td>CRI</td>\n      <td>PISASCIENCE</td>\n      <td>GIRL</td>\n      <td>2018</td>\n      <td>411.000</td>\n    </tr>\n    <tr>\n      <th>2084</th>\n      <td>2084</td>\n      <td>LTU</td>\n      <td>PISASCIENCE</td>\n      <td>TOT</td>\n      <td>2018</td>\n      <td>482.000</td>\n    </tr>\n    <tr>\n      <th>2085</th>\n      <td>2085</td>\n      <td>LTU</td>\n      <td>PISASCIENCE</td>\n      <td>BOY</td>\n      <td>2018</td>\n      <td>479.000</td>\n    </tr>\n    <tr>\n      <th>2086</th>\n      <td>2086</td>\n      <td>LTU</td>\n      <td>PISASCIENCE</td>\n      <td>GIRL</td>\n      <td>2018</td>\n      <td>485.000</td>\n    </tr>\n  </tbody>\n</table>\n<p>2087 rows × 6 columns</p>\n</div>"
     },
     "execution_count": 3,
     "metadata": {},
     "output_type": "execute_result"
    }
   ],
   "source": [
    "df1"
   ],
   "metadata": {
    "collapsed": false,
    "ExecuteTime": {
     "end_time": "2024-02-18T06:57:54.778384Z",
     "start_time": "2024-02-18T06:57:54.727645Z"
    }
   },
   "id": "be72d747045d3349",
   "execution_count": 3
  },
  {
   "cell_type": "code",
   "outputs": [
    {
     "data": {
      "text/plain": "   index LOCATION INDICATOR SUBJECT  TIME    Value\n0      0      AUS  PISAMATH     BOY  2003  527.000\n1      1      AUS  PISAMATH     BOY  2006  527.000\n2      2      AUS  PISAMATH     BOY  2009  519.000\n3      3      AUS  PISAMATH     BOY  2012  510.115\n4      4      AUS  PISAMATH     BOY  2015  497.000",
      "text/html": "<div>\n<style scoped>\n    .dataframe tbody tr th:only-of-type {\n        vertical-align: middle;\n    }\n\n    .dataframe tbody tr th {\n        vertical-align: top;\n    }\n\n    .dataframe thead th {\n        text-align: right;\n    }\n</style>\n<table border=\"1\" class=\"dataframe\">\n  <thead>\n    <tr style=\"text-align: right;\">\n      <th></th>\n      <th>index</th>\n      <th>LOCATION</th>\n      <th>INDICATOR</th>\n      <th>SUBJECT</th>\n      <th>TIME</th>\n      <th>Value</th>\n    </tr>\n  </thead>\n  <tbody>\n    <tr>\n      <th>0</th>\n      <td>0</td>\n      <td>AUS</td>\n      <td>PISAMATH</td>\n      <td>BOY</td>\n      <td>2003</td>\n      <td>527.000</td>\n    </tr>\n    <tr>\n      <th>1</th>\n      <td>1</td>\n      <td>AUS</td>\n      <td>PISAMATH</td>\n      <td>BOY</td>\n      <td>2006</td>\n      <td>527.000</td>\n    </tr>\n    <tr>\n      <th>2</th>\n      <td>2</td>\n      <td>AUS</td>\n      <td>PISAMATH</td>\n      <td>BOY</td>\n      <td>2009</td>\n      <td>519.000</td>\n    </tr>\n    <tr>\n      <th>3</th>\n      <td>3</td>\n      <td>AUS</td>\n      <td>PISAMATH</td>\n      <td>BOY</td>\n      <td>2012</td>\n      <td>510.115</td>\n    </tr>\n    <tr>\n      <th>4</th>\n      <td>4</td>\n      <td>AUS</td>\n      <td>PISAMATH</td>\n      <td>BOY</td>\n      <td>2015</td>\n      <td>497.000</td>\n    </tr>\n  </tbody>\n</table>\n</div>"
     },
     "execution_count": 4,
     "metadata": {},
     "output_type": "execute_result"
    }
   ],
   "source": [
    "df1.head()"
   ],
   "metadata": {
    "collapsed": false,
    "ExecuteTime": {
     "end_time": "2024-02-18T06:58:56.740080Z",
     "start_time": "2024-02-18T06:58:56.712834Z"
    }
   },
   "id": "31cedaeb1da17671",
   "execution_count": 4
  },
  {
   "cell_type": "code",
   "outputs": [
    {
     "name": "stdout",
     "output_type": "stream",
     "text": [
      "<class 'pandas.core.frame.DataFrame'>\n",
      "RangeIndex: 2087 entries, 0 to 2086\n",
      "Data columns (total 6 columns):\n",
      " #   Column     Non-Null Count  Dtype  \n",
      "---  ------     --------------  -----  \n",
      " 0   index      2087 non-null   int64  \n",
      " 1   LOCATION   2087 non-null   object \n",
      " 2   INDICATOR  2087 non-null   object \n",
      " 3   SUBJECT    2087 non-null   object \n",
      " 4   TIME       2087 non-null   int64  \n",
      " 5   Value      2087 non-null   float64\n",
      "dtypes: float64(1), int64(2), object(3)\n",
      "memory usage: 98.0+ KB\n"
     ]
    }
   ],
   "source": [
    "df1.info()"
   ],
   "metadata": {
    "collapsed": false,
    "ExecuteTime": {
     "end_time": "2024-02-18T06:59:11.589950Z",
     "start_time": "2024-02-18T06:59:11.562721Z"
    }
   },
   "id": "18ca14a0f86be8cf",
   "execution_count": 5
  },
  {
   "cell_type": "code",
   "outputs": [
    {
     "data": {
      "text/plain": "             index         TIME        Value\ncount  2087.000000  2087.000000  2087.000000\nmean   1043.000000  2010.814087   487.644684\nstd     602.609326     5.317975    38.644532\nmin       0.000000  2000.000000   348.000000\n25%     521.500000  2006.000000   475.000000\n50%    1043.000000  2012.000000   495.000000\n75%    1564.500000  2015.000000   512.000000\nmax    2086.000000  2018.000000   574.000000",
      "text/html": "<div>\n<style scoped>\n    .dataframe tbody tr th:only-of-type {\n        vertical-align: middle;\n    }\n\n    .dataframe tbody tr th {\n        vertical-align: top;\n    }\n\n    .dataframe thead th {\n        text-align: right;\n    }\n</style>\n<table border=\"1\" class=\"dataframe\">\n  <thead>\n    <tr style=\"text-align: right;\">\n      <th></th>\n      <th>index</th>\n      <th>TIME</th>\n      <th>Value</th>\n    </tr>\n  </thead>\n  <tbody>\n    <tr>\n      <th>count</th>\n      <td>2087.000000</td>\n      <td>2087.000000</td>\n      <td>2087.000000</td>\n    </tr>\n    <tr>\n      <th>mean</th>\n      <td>1043.000000</td>\n      <td>2010.814087</td>\n      <td>487.644684</td>\n    </tr>\n    <tr>\n      <th>std</th>\n      <td>602.609326</td>\n      <td>5.317975</td>\n      <td>38.644532</td>\n    </tr>\n    <tr>\n      <th>min</th>\n      <td>0.000000</td>\n      <td>2000.000000</td>\n      <td>348.000000</td>\n    </tr>\n    <tr>\n      <th>25%</th>\n      <td>521.500000</td>\n      <td>2006.000000</td>\n      <td>475.000000</td>\n    </tr>\n    <tr>\n      <th>50%</th>\n      <td>1043.000000</td>\n      <td>2012.000000</td>\n      <td>495.000000</td>\n    </tr>\n    <tr>\n      <th>75%</th>\n      <td>1564.500000</td>\n      <td>2015.000000</td>\n      <td>512.000000</td>\n    </tr>\n    <tr>\n      <th>max</th>\n      <td>2086.000000</td>\n      <td>2018.000000</td>\n      <td>574.000000</td>\n    </tr>\n  </tbody>\n</table>\n</div>"
     },
     "execution_count": 6,
     "metadata": {},
     "output_type": "execute_result"
    }
   ],
   "source": [
    "df1.describe()"
   ],
   "metadata": {
    "collapsed": false,
    "ExecuteTime": {
     "end_time": "2024-02-18T06:59:30.474780Z",
     "start_time": "2024-02-18T06:59:30.425613Z"
    }
   },
   "id": "db6a4076403b4336",
   "execution_count": 6
  },
  {
   "cell_type": "code",
   "outputs": [
    {
     "data": {
      "text/plain": "index    0.000000\nTIME    -0.270026\nValue   -1.091074\ndtype: float64"
     },
     "execution_count": 7,
     "metadata": {},
     "output_type": "execute_result"
    }
   ],
   "source": [
    "df1.skew(numeric_only = True)"
   ],
   "metadata": {
    "collapsed": false,
    "ExecuteTime": {
     "end_time": "2024-02-18T06:59:56.668205Z",
     "start_time": "2024-02-18T06:59:56.651668Z"
    }
   },
   "id": "be239d634374285f",
   "execution_count": 7
  },
  {
   "cell_type": "code",
   "outputs": [],
   "source": [
    "#Sampling Techniques"
   ],
   "metadata": {
    "collapsed": false
   },
   "id": "b82b57fedda25221"
  },
  {
   "cell_type": "code",
   "outputs": [
    {
     "name": "stdout",
     "output_type": "stream",
     "text": [
      "      index LOCATION    INDICATOR SUBJECT  TIME    Value\n",
      "1663   1663      MEX  PISASCIENCE    GIRL  2015  412.000\n",
      "1017   1017      PRT     PISAREAD    GIRL  2018  504.000\n",
      "1328   1328      MEX     PISAREAD     TOT  2015  423.000\n",
      "1987   1987      ESP  PISASCIENCE     TOT  2009  488.000\n",
      "260     260      POL     PISAMATH    GIRL  2015  499.000\n",
      "1837   1837      RUS  PISASCIENCE     BOY  2015  489.000\n",
      "1778   1778      USA  PISASCIENCE     BOY  2015  500.000\n",
      "1203   1203      LVA     PISAREAD     BOY  2018  462.000\n",
      "1927   1927      IRL  PISASCIENCE     TOT  2009  508.000\n",
      "1709   1709      PRT  PISASCIENCE     BOY  2018  494.000\n",
      "1705   1705      PRT  PISASCIENCE     BOY  2006  477.000\n",
      "1661   1661      MEX  PISASCIENCE    GIRL  2009  413.000\n",
      "1686   1686      NOR  PISASCIENCE     BOY  2009  498.000\n",
      "1641   1641      KOR  PISASCIENCE    GIRL  2009  539.000\n",
      "1806   1806      EST  PISASCIENCE     BOY  2009  527.000\n",
      "1434   1434      ISR     PISAREAD     TOT  2009  474.000\n",
      "216     216      NLD     PISAMATH     BOY  2009  534.000\n",
      "538     538      KOR     PISAMATH     TOT  2012  554.000\n",
      "306     306      SWE     PISAMATH    GIRL  2009  495.000\n",
      "758     758      CZE     PISAREAD     BOY  2012  473.983\n",
      "695     695      CRI     PISAMATH     BOY  2018  411.000\n",
      "1639   1639      KOR  PISASCIENCE     BOY  2018  521.000\n",
      "1344   1344      NOR     PISAREAD     TOT  2003  500.000\n",
      "805     805      FRA     PISAREAD    GIRL  2006  505.000\n",
      "1596   1596      ISL  PISASCIENCE     BOY  2009  496.000\n",
      "283     283      SVK     PISAMATH    GIRL  2012  476.712\n",
      "244     244      NOR     PISAMATH    GIRL  2003  492.000\n",
      "1333   1333      NLD     PISAREAD     TOT  2012  511.000\n",
      "1130   1130      EST     PISAREAD     BOY  2006  478.000\n",
      "2034   2034      IDN  PISASCIENCE     TOT  2015  403.000\n",
      "1313   1313      KOR     PISAREAD     TOT  2009  539.000\n",
      "350     350      USA     PISAMATH    GIRL  2003  480.000\n",
      "923     923      LUX     PISAREAD     BOY  2003  463.000\n",
      "1150   1150      IDN     PISAREAD    GIRL  2009  420.000\n",
      "1251   1251      FIN     PISAREAD     TOT  2012  524.000\n",
      "270     270      PRT     PISAMATH    GIRL  2009  481.000\n",
      "1799   1799      CHL  PISASCIENCE     BOY  2018  445.000\n",
      "1087   1087      GBR     PISAREAD    GIRL  2006  510.000\n",
      "524     524      ITA     PISAMATH     TOT  2006  462.000\n",
      "1378   1378      SWE     PISAREAD     TOT  2006  507.000\n",
      "1226   1226      CAN     PISAREAD     TOT  2000  534.000\n",
      "1012   1012      PRT     PISAREAD    GIRL  2003  495.000\n",
      "1080   1080      TUR     PISAREAD    GIRL  2015  442.000\n",
      "1719   1719      SVK  PISASCIENCE     BOY  2018  461.000\n",
      "863     863      ISL     PISAREAD    GIRL  2012  508.390\n",
      "665     665      SVN     PISAMATH     TOT  2006  504.000\n",
      "590     590      ESP     PISAMATH     TOT  2006  480.000\n",
      "608     608      TUR     PISAMATH     TOT  2006  424.000\n",
      "1482   1482      CRI     PISAREAD     BOY  2018  419.000\n",
      "292     292      ESP     PISAMATH    GIRL  2003  481.000\n"
     ]
    }
   ],
   "source": [
    "# Random Sampling.\n",
    "\n",
    "s1 = df1.sample(50)\n",
    "print(s1)"
   ],
   "metadata": {
    "collapsed": false,
    "ExecuteTime": {
     "end_time": "2024-02-18T07:00:56.503300Z",
     "start_time": "2024-02-18T07:00:56.477492Z"
    }
   },
   "id": "af2cec345570ea2",
   "execution_count": 9
  },
  {
   "cell_type": "code",
   "outputs": [
    {
     "name": "stdout",
     "output_type": "stream",
     "text": [
      "      index LOCATION    INDICATOR SUBJECT  TIME    Value\n",
      "1         1      AUS     PISAMATH     BOY  2006  527.000\n",
      "11       11      AUS     PISAMATH    GIRL  2018  488.000\n",
      "21       21      AUT     PISAMATH    GIRL  2018  492.000\n",
      "31       31      BEL     PISAMATH    GIRL  2012  508.935\n",
      "41       41      CAN     PISAMATH    GIRL  2006  520.000\n",
      "...     ...      ...          ...     ...   ...      ...\n",
      "2041   2041      LVA  PISASCIENCE     TOT  2006  490.000\n",
      "2051   2051      SGP  PISASCIENCE    GIRL  2015  552.000\n",
      "2061   2061     OAVG  PISASCIENCE     TOT  2018  489.000\n",
      "2071   2071      PER  PISASCIENCE     TOT  2015  397.000\n",
      "2081   2081      CRI  PISASCIENCE     TOT  2018  416.000\n",
      "\n",
      "[209 rows x 6 columns]\n"
     ]
    }
   ],
   "source": [
    "# Systemic Sampling\n",
    "\n",
    "samples = np.arange(1,len(df1),10)\n",
    "s2 = df1.loc[samples]\n",
    "print(s2)"
   ],
   "metadata": {
    "collapsed": false,
    "ExecuteTime": {
     "end_time": "2024-02-18T07:03:13.939028Z",
     "start_time": "2024-02-18T07:03:13.911542Z"
    }
   },
   "id": "e93a7fe9d819750f",
   "execution_count": 14
  },
  {
   "cell_type": "code",
   "outputs": [
    {
     "name": "stdout",
     "output_type": "stream",
     "text": [
      "               index LOCATION    INDICATOR SUBJECT  TIME    Value\n",
      "LOCATION                                                         \n",
      "AUS      1492   1492      AUS  PISASCIENCE    GIRL  2006  527.000\n",
      "         700     700      AUS     PISAREAD     BOY  2000  513.000\n",
      "         1495   1495      AUS  PISASCIENCE    GIRL  2015  509.000\n",
      "         1208   1208      AUS     PISAREAD     TOT  2006  513.000\n",
      "         1867   1867      AUS  PISASCIENCE     TOT  2006  527.000\n",
      "...              ...      ...          ...     ...   ...      ...\n",
      "USA      344     344      USA     PISAMATH     BOY  2003  486.000\n",
      "         1101   1101      USA     PISAREAD    GIRL  2012  513.269\n",
      "         1100   1100      USA     PISAREAD    GIRL  2009  513.000\n",
      "         1405   1405      USA     PISAREAD     TOT  2015  497.000\n",
      "         344     344      USA     PISAMATH     BOY  2003  486.000\n",
      "\n",
      "[470 rows x 6 columns]\n",
      "               index LOCATION    INDICATOR SUBJECT  TIME    Value\n",
      "LOCATION                                                         \n",
      "AUS      1212   1212      AUS     PISAREAD     TOT  2018  503.000\n",
      "         1489   1489      AUS  PISASCIENCE     BOY  2012  523.728\n",
      "         1211   1211      AUS     PISAREAD     TOT  2015  503.000\n",
      "         1869   1869      AUS  PISASCIENCE     TOT  2012  521.000\n",
      "         1492   1492      AUS  PISASCIENCE    GIRL  2006  527.000\n",
      "...              ...      ...          ...     ...   ...      ...\n",
      "USA      347     347      USA     PISAMATH     BOY  2012  483.647\n",
      "         1093   1093      USA     PISAREAD     BOY  2003  479.000\n",
      "         1783   1783      USA  PISASCIENCE    GIRL  2015  493.000\n",
      "         621     621      USA     PISAMATH     TOT  2012  481.000\n",
      "         1782   1782      USA  PISASCIENCE    GIRL  2012  498.325\n",
      "\n",
      "[1040 rows x 6 columns]\n",
      "LOCATION\n",
      "AUS     10\n",
      "OAVG    10\n",
      "KOR     10\n",
      "LTU     10\n",
      "LUX     10\n",
      "LVA     10\n",
      "MAC     10\n",
      "MEX     10\n",
      "NLD     10\n",
      "NOR     10\n",
      "NZL     10\n",
      "PER     10\n",
      "ITA     10\n",
      "POL     10\n",
      "PRT     10\n",
      "RUS     10\n",
      "SGP     10\n",
      "SVK     10\n",
      "SVN     10\n",
      "SWE     10\n",
      "TUR     10\n",
      "TWN     10\n",
      "JPN     10\n",
      "ISR     10\n",
      "AUT     10\n",
      "DNK     10\n",
      "BEL     10\n",
      "BRA     10\n",
      "CAN     10\n",
      "CHE     10\n",
      "CHL     10\n",
      "COL     10\n",
      "CRI     10\n",
      "CZE     10\n",
      "DEU     10\n",
      "ESP     10\n",
      "ISL     10\n",
      "EST     10\n",
      "FIN     10\n",
      "FRA     10\n",
      "GBR     10\n",
      "GRC     10\n",
      "HKG     10\n",
      "HUN     10\n",
      "IDN     10\n",
      "IRL     10\n",
      "USA     10\n",
      "Name: count, dtype: int64\n",
      "LOCATION\n",
      "AUS     27\n",
      "POL     27\n",
      "KOR     27\n",
      "JPN     27\n",
      "ITA     27\n",
      "ISL     27\n",
      "IRL     27\n",
      "IDN     27\n",
      "HUN     27\n",
      "NOR     27\n",
      "GRC     27\n",
      "NZL     27\n",
      "FRA     27\n",
      "FIN     27\n",
      "PRT     27\n",
      "DNK     27\n",
      "DEU     27\n",
      "CZE     27\n",
      "SWE     27\n",
      "CHE     27\n",
      "CAN     27\n",
      "BRA     27\n",
      "BEL     27\n",
      "MEX     27\n",
      "LUX     26\n",
      "SVK     26\n",
      "TUR     26\n",
      "NLD     26\n",
      "USA     26\n",
      "ESP     26\n",
      "OAVG    24\n",
      "CHL     24\n",
      "RUS     24\n",
      "ISR     24\n",
      "GBR     22\n",
      "EST     22\n",
      "AUT     22\n",
      "SVN     22\n",
      "LVA     15\n",
      "COL      9\n",
      "HKG      4\n",
      "PER      4\n",
      "MAC      4\n",
      "SGP      4\n",
      "CRI      4\n",
      "LTU      4\n",
      "TWN      4\n",
      "Name: count, dtype: int64\n"
     ]
    }
   ],
   "source": [
    "# Stratistic Sampling\n",
    "\n",
    "s3 = df1.groupby(['LOCATION']).apply(lambda x:x.sample(10, replace = True))\n",
    "s4 = df1.groupby([\"LOCATION\"]).apply(lambda x:x.sample(frac = .5))\n",
    "print(s3)\n",
    "print(s4)\n",
    "print(s3['LOCATION'].value_counts())\n",
    "print(s4['LOCATION'].value_counts())"
   ],
   "metadata": {
    "collapsed": false,
    "ExecuteTime": {
     "end_time": "2024-02-18T07:08:48.396065Z",
     "start_time": "2024-02-18T07:08:48.222916Z"
    }
   },
   "id": "9e9a960440cacd2",
   "execution_count": 23
  },
  {
   "cell_type": "code",
   "outputs": [],
   "source": [
    "# Central Limit Theorem"
   ],
   "metadata": {
    "collapsed": false
   },
   "id": "8f3e12f0b62ec9ac"
  },
  {
   "cell_type": "code",
   "outputs": [
    {
     "data": {
      "text/plain": "<Figure size 640x480 with 1 Axes>",
      "image/png": "[encoded data removed]"
     },
     "metadata": {},
     "output_type": "display_data"
    }
   ],
   "source": [
    "plt.hist(df1['Value'], bins=90)\n",
    "plt.show()"
   ],
   "metadata": {
    "collapsed": false,
    "ExecuteTime": {
     "end_time": "2024-02-18T07:12:04.457587Z",
     "start_time": "2024-02-18T07:12:03.571740Z"
    }
   },
   "id": "18d1271c9ecece99",
   "execution_count": 29
  },
  {
   "cell_type": "code",
   "outputs": [
    {
     "data": {
      "text/plain": "<Figure size 640x480 with 1 Axes>",
      "image/png": "[encoded data removed]"
     },
     "metadata": {},
     "output_type": "display_data"
    },
    {
     "name": "stdout",
     "output_type": "stream",
     "text": [
      "487.55910472\n",
      "487.6446842357451\n"
     ]
    }
   ],
   "source": [
    "me = []\n",
    "for i in range(500):\n",
    "    me.append(df1.Value.sample(50).mean())\n",
    "\n",
    "plt.hist(me, 100)\n",
    "plt.show()\n",
    "print(np.mean(me))\n",
    "print(df1.Value.mean())"
   ],
   "metadata": {
    "collapsed": false,
    "ExecuteTime": {
     "end_time": "2024-02-18T07:17:24.766484Z",
     "start_time": "2024-02-18T07:17:23.265647Z"
    }
   },
   "id": "bfd6fe33a2458646",
   "execution_count": 50
  },
  {
   "cell_type": "code",
   "outputs": [],
   "source": [
    "from scipy import stats"
   ],
   "metadata": {
    "collapsed": false,
    "ExecuteTime": {
     "end_time": "2024-02-18T07:21:55.952165Z",
     "start_time": "2024-02-18T07:21:55.942828Z"
    }
   },
   "id": "6519c4f2b9034cca",
   "execution_count": 51
  },
  {
   "cell_type": "code",
   "outputs": [],
   "source": [
    "# Confidence Intervals"
   ],
   "metadata": {
    "collapsed": false,
    "ExecuteTime": {
     "end_time": "2024-02-18T07:22:10.608077Z",
     "start_time": "2024-02-18T07:22:10.598925Z"
    }
   },
   "id": "a95f58cffff62194",
   "execution_count": 52
  },
  {
   "cell_type": "code",
   "outputs": [
    {
     "name": "stdout",
     "output_type": "stream",
     "text": [
      "401     451.000\n",
      "1621    490.000\n",
      "739     504.000\n",
      "1847    502.000\n",
      "1183    521.000\n",
      "1911    473.000\n",
      "696     394.000\n",
      "389     399.000\n",
      "1877    507.000\n",
      "752     540.000\n",
      "1125    451.000\n",
      "1924    473.000\n",
      "1402    495.000\n",
      "491     493.000\n",
      "1939    538.000\n",
      "1664    415.000\n",
      "2074    556.000\n",
      "531     529.000\n",
      "1555    497.000\n",
      "1254    505.000\n",
      "1859    500.824\n",
      "423     512.000\n",
      "1143    383.000\n",
      "1917    503.000\n",
      "1341    509.000\n",
      "311     536.000\n",
      "1011    482.000\n",
      "452     506.000\n",
      "107     462.000\n",
      "Name: Value, dtype: float64\n"
     ]
    }
   ],
   "source": [
    "# Using T Distribution\n",
    "\n",
    "s6 = df1.Value.sample(29)\n",
    "\n",
    "stats.t.interval(confidence=.9, df=len(s6)-1, loc = s6.mean(), scale = stats.sem(s6))\n",
    "print(s6)"
   ],
   "metadata": {
    "collapsed": false,
    "ExecuteTime": {
     "end_time": "2024-02-18T07:27:01.585994Z",
     "start_time": "2024-02-18T07:27:01.562878Z"
    }
   },
   "id": "3c56e4fe87cd7783",
   "execution_count": 59
  },
  {
   "cell_type": "code",
   "outputs": [
    {
     "data": {
      "text/plain": "(38.53823310602472, 38.75083079193098)"
     },
     "execution_count": 69,
     "metadata": {},
     "output_type": "execute_result"
    }
   ],
   "source": [
    "# Using Z Distribution\n",
    "\n",
    "stats.norm.interval(confidence=.1, loc = df1.Value.std(), scale = stats.sem(df1.Value))"
   ],
   "metadata": {
    "collapsed": false,
    "ExecuteTime": {
     "end_time": "2024-02-18T07:30:24.079822Z",
     "start_time": "2024-02-18T07:30:24.063932Z"
    }
   },
   "id": "e784201fcd986221",
   "execution_count": 69
  },
  {
   "cell_type": "code",
   "outputs": [
    {
     "name": "stdout",
     "output_type": "stream",
     "text": [
      "487.6446842357451\n",
      "38.64453194897785\n"
     ]
    }
   ],
   "source": [
    "print(df1.Value.mean())\n",
    "print(df1.Value.std())"
   ],
   "metadata": {
    "collapsed": false,
    "ExecuteTime": {
     "end_time": "2024-02-18T07:30:36.142352Z",
     "start_time": "2024-02-18T07:30:36.132567Z"
    }
   },
   "id": "e1f9e479b506f4dc",
   "execution_count": 70
  },
  {
   "cell_type": "code",
   "outputs": [],
   "source": [
    "# Hypothesis Testing"
   ],
   "metadata": {
    "collapsed": false,
    "ExecuteTime": {
     "end_time": "2024-02-18T07:31:54.792459Z",
     "start_time": "2024-02-18T07:31:54.784143Z"
    }
   },
   "id": "fd6a171066966915",
   "execution_count": 71
  },
  {
   "cell_type": "code",
   "outputs": [],
   "source": [
    "# Using Z-Test\n",
    "\n",
    "stats.norm.te"
   ],
   "metadata": {
    "collapsed": false
   },
   "id": "dcfda0c9100838c7"
  }
 ],
 "metadata": {
  "kernelspec": {
   "display_name": "Python 3",
   "language": "python",
   "name": "python3"
  },
  "language_info": {
   "codemirror_mode": {
    "name": "ipython",
    "version": 2
   },
   "file_extension": ".py",
   "mimetype": "text/x-python",
   "name": "python",
   "nbconvert_exporter": "python",
   "pygments_lexer": "ipython2",
   "version": "2.7.6"
  }
 },
 "nbformat": 4,
 "nbformat_minor": 5
}
